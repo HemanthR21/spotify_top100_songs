{
 "cells": [
  {
   "cell_type": "code",
   "execution_count": 1,
   "metadata": {
    "colab": {
     "base_uri": "https://localhost:8080/",
     "height": 17
    },
    "id": "4jwgjZBQ1i6e",
    "outputId": "e31a5ba6-6813-4ddd-f275-8ffc518e7e60"
   },
   "outputs": [
    {
     "data": {
      "text/html": [
       "        <script type=\"text/javascript\">\n",
       "        window.PlotlyConfig = {MathJaxConfig: 'local'};\n",
       "        if (window.MathJax && window.MathJax.Hub && window.MathJax.Hub.Config) {window.MathJax.Hub.Config({SVG: {font: \"STIX-Web\"}});}\n",
       "        if (typeof require !== 'undefined') {\n",
       "        require.undef(\"plotly\");\n",
       "        requirejs.config({\n",
       "            paths: {\n",
       "                'plotly': ['https://cdn.plot.ly/plotly-2.12.1.min']\n",
       "            }\n",
       "        });\n",
       "        require(['plotly'], function(Plotly) {\n",
       "            window._Plotly = Plotly;\n",
       "        });\n",
       "        }\n",
       "        </script>\n",
       "        "
      ]
     },
     "metadata": {},
     "output_type": "display_data"
    }
   ],
   "source": [
    "import plotly.express as px\n",
    "import pandas as pd\n",
    "\n",
    "from plotly.offline import init_notebook_mode, iplot\n",
    "init_notebook_mode(connected=True)"
   ]
  },
  {
   "cell_type": "code",
   "execution_count": 2,
   "metadata": {
    "id": "CfnuROHy10_4"
   },
   "outputs": [],
   "source": [
    "# Load the datasets\n",
    "features_df = pd.read_csv(\"/Users/user/project/github/spotify/Features.csv\")\n",
    "streams_df = pd.read_csv(\"/Users/user/project/github/spotify/Streams.csv\")"
   ]
  },
  {
   "cell_type": "code",
   "execution_count": 3,
   "metadata": {
    "colab": {
     "base_uri": "https://localhost:8080/",
     "height": 357
    },
    "id": "yV7q4N2m2JkH",
    "outputId": "05524774-011e-4ca4-f27d-6be96a9e2ef4"
   },
   "outputs": [
    {
     "data": {
      "text/html": [
       "<div>\n",
       "<style scoped>\n",
       "    .dataframe tbody tr th:only-of-type {\n",
       "        vertical-align: middle;\n",
       "    }\n",
       "\n",
       "    .dataframe tbody tr th {\n",
       "        vertical-align: top;\n",
       "    }\n",
       "\n",
       "    .dataframe thead th {\n",
       "        text-align: right;\n",
       "    }\n",
       "</style>\n",
       "<table border=\"1\" class=\"dataframe\">\n",
       "  <thead>\n",
       "    <tr style=\"text-align: right;\">\n",
       "      <th></th>\n",
       "      <th>id</th>\n",
       "      <th>name</th>\n",
       "      <th>duration</th>\n",
       "      <th>energy</th>\n",
       "      <th>key</th>\n",
       "      <th>loudness</th>\n",
       "      <th>mode</th>\n",
       "      <th>speechiness</th>\n",
       "      <th>acousticness</th>\n",
       "      <th>instrumentalness</th>\n",
       "      <th>liveness</th>\n",
       "      <th>valence</th>\n",
       "      <th>tempo</th>\n",
       "      <th>danceability</th>\n",
       "    </tr>\n",
       "  </thead>\n",
       "  <tbody>\n",
       "    <tr>\n",
       "      <th>0</th>\n",
       "      <td>0VjIjW4GlUZAMYd2vXMi3b</td>\n",
       "      <td>Blinding Lights</td>\n",
       "      <td>3.33</td>\n",
       "      <td>0.730</td>\n",
       "      <td>1</td>\n",
       "      <td>-5.934</td>\n",
       "      <td>1</td>\n",
       "      <td>0.0598</td>\n",
       "      <td>0.00146</td>\n",
       "      <td>0.000095</td>\n",
       "      <td>0.0897</td>\n",
       "      <td>0.334</td>\n",
       "      <td>171.005</td>\n",
       "      <td>0.514</td>\n",
       "    </tr>\n",
       "    <tr>\n",
       "      <th>1</th>\n",
       "      <td>7qiZfU4dY1lWllzX7mPBI3</td>\n",
       "      <td>Shape of You</td>\n",
       "      <td>3.90</td>\n",
       "      <td>0.652</td>\n",
       "      <td>1</td>\n",
       "      <td>-3.183</td>\n",
       "      <td>0</td>\n",
       "      <td>0.0802</td>\n",
       "      <td>0.58100</td>\n",
       "      <td>0.000000</td>\n",
       "      <td>0.0931</td>\n",
       "      <td>0.931</td>\n",
       "      <td>95.977</td>\n",
       "      <td>0.825</td>\n",
       "    </tr>\n",
       "    <tr>\n",
       "      <th>2</th>\n",
       "      <td>2XU0oxnq2qxCpomAAuJY8K</td>\n",
       "      <td>Dance Monkey</td>\n",
       "      <td>3.49</td>\n",
       "      <td>0.588</td>\n",
       "      <td>6</td>\n",
       "      <td>-6.400</td>\n",
       "      <td>0</td>\n",
       "      <td>0.0924</td>\n",
       "      <td>0.69200</td>\n",
       "      <td>0.000104</td>\n",
       "      <td>0.1490</td>\n",
       "      <td>0.513</td>\n",
       "      <td>98.027</td>\n",
       "      <td>0.824</td>\n",
       "    </tr>\n",
       "    <tr>\n",
       "      <th>3</th>\n",
       "      <td>7qEHsqek33rTcFNT9PFqLf</td>\n",
       "      <td>Someone You Loved</td>\n",
       "      <td>3.04</td>\n",
       "      <td>0.405</td>\n",
       "      <td>1</td>\n",
       "      <td>-5.679</td>\n",
       "      <td>1</td>\n",
       "      <td>0.0319</td>\n",
       "      <td>0.75100</td>\n",
       "      <td>0.000000</td>\n",
       "      <td>0.1050</td>\n",
       "      <td>0.446</td>\n",
       "      <td>109.891</td>\n",
       "      <td>0.501</td>\n",
       "    </tr>\n",
       "    <tr>\n",
       "      <th>4</th>\n",
       "      <td>0e7ipj03S05BNilyu5bRzt</td>\n",
       "      <td>Rockstar</td>\n",
       "      <td>3.64</td>\n",
       "      <td>0.520</td>\n",
       "      <td>5</td>\n",
       "      <td>-6.136</td>\n",
       "      <td>0</td>\n",
       "      <td>0.0712</td>\n",
       "      <td>0.12400</td>\n",
       "      <td>0.000070</td>\n",
       "      <td>0.1310</td>\n",
       "      <td>0.129</td>\n",
       "      <td>159.801</td>\n",
       "      <td>0.585</td>\n",
       "    </tr>\n",
       "  </tbody>\n",
       "</table>\n",
       "</div>"
      ],
      "text/plain": [
       "                       id               name  duration  energy  key  loudness  \\\n",
       "0  0VjIjW4GlUZAMYd2vXMi3b    Blinding Lights      3.33   0.730    1    -5.934   \n",
       "1  7qiZfU4dY1lWllzX7mPBI3       Shape of You      3.90   0.652    1    -3.183   \n",
       "2  2XU0oxnq2qxCpomAAuJY8K       Dance Monkey      3.49   0.588    6    -6.400   \n",
       "3  7qEHsqek33rTcFNT9PFqLf  Someone You Loved      3.04   0.405    1    -5.679   \n",
       "4  0e7ipj03S05BNilyu5bRzt           Rockstar      3.64   0.520    5    -6.136   \n",
       "\n",
       "   mode  speechiness  acousticness  instrumentalness  liveness  valence  \\\n",
       "0     1       0.0598       0.00146          0.000095    0.0897    0.334   \n",
       "1     0       0.0802       0.58100          0.000000    0.0931    0.931   \n",
       "2     0       0.0924       0.69200          0.000104    0.1490    0.513   \n",
       "3     1       0.0319       0.75100          0.000000    0.1050    0.446   \n",
       "4     0       0.0712       0.12400          0.000070    0.1310    0.129   \n",
       "\n",
       "     tempo  danceability  \n",
       "0  171.005         0.514  \n",
       "1   95.977         0.825  \n",
       "2   98.027         0.824  \n",
       "3  109.891         0.501  \n",
       "4  159.801         0.585  "
      ]
     },
     "execution_count": 3,
     "metadata": {},
     "output_type": "execute_result"
    }
   ],
   "source": [
    "features_df.head()"
   ]
  },
  {
   "cell_type": "code",
   "execution_count": 4,
   "metadata": {
    "colab": {
     "base_uri": "https://localhost:8080/",
     "height": 206
    },
    "id": "3k_4YJGH2PpO",
    "outputId": "9b5f286d-722a-4338-a613-8aaf04dea409"
   },
   "outputs": [
    {
     "data": {
      "text/html": [
       "<div>\n",
       "<style scoped>\n",
       "    .dataframe tbody tr th:only-of-type {\n",
       "        vertical-align: middle;\n",
       "    }\n",
       "\n",
       "    .dataframe tbody tr th {\n",
       "        vertical-align: top;\n",
       "    }\n",
       "\n",
       "    .dataframe thead th {\n",
       "        text-align: right;\n",
       "    }\n",
       "</style>\n",
       "<table border=\"1\" class=\"dataframe\">\n",
       "  <thead>\n",
       "    <tr style=\"text-align: right;\">\n",
       "      <th></th>\n",
       "      <th>Song</th>\n",
       "      <th>Artist</th>\n",
       "      <th>Streams (Billions)</th>\n",
       "      <th>Release Date</th>\n",
       "    </tr>\n",
       "  </thead>\n",
       "  <tbody>\n",
       "    <tr>\n",
       "      <th>0</th>\n",
       "      <td>Blinding Lights</td>\n",
       "      <td>The Weeknd</td>\n",
       "      <td>3.449</td>\n",
       "      <td>29-Nov-19</td>\n",
       "    </tr>\n",
       "    <tr>\n",
       "      <th>1</th>\n",
       "      <td>Shape of You</td>\n",
       "      <td>Ed Sheeran</td>\n",
       "      <td>3.398</td>\n",
       "      <td>06-Jan-17</td>\n",
       "    </tr>\n",
       "    <tr>\n",
       "      <th>2</th>\n",
       "      <td>Dance Monkey</td>\n",
       "      <td>Tones And I</td>\n",
       "      <td>2.770</td>\n",
       "      <td>10-May-19</td>\n",
       "    </tr>\n",
       "    <tr>\n",
       "      <th>3</th>\n",
       "      <td>Someone You Loved</td>\n",
       "      <td>Lewis Capaldi</td>\n",
       "      <td>2.680</td>\n",
       "      <td>08-Nov-18</td>\n",
       "    </tr>\n",
       "    <tr>\n",
       "      <th>4</th>\n",
       "      <td>Rockstar</td>\n",
       "      <td>Post Malone featuring 21 Savage</td>\n",
       "      <td>2.620</td>\n",
       "      <td>15-Sep-17</td>\n",
       "    </tr>\n",
       "  </tbody>\n",
       "</table>\n",
       "</div>"
      ],
      "text/plain": [
       "                Song                           Artist  Streams (Billions)  \\\n",
       "0    Blinding Lights                       The Weeknd               3.449   \n",
       "1       Shape of You                       Ed Sheeran               3.398   \n",
       "2       Dance Monkey                      Tones And I               2.770   \n",
       "3  Someone You Loved                    Lewis Capaldi               2.680   \n",
       "4           Rockstar  Post Malone featuring 21 Savage               2.620   \n",
       "\n",
       "  Release Date  \n",
       "0    29-Nov-19  \n",
       "1    06-Jan-17  \n",
       "2    10-May-19  \n",
       "3    08-Nov-18  \n",
       "4    15-Sep-17  "
      ]
     },
     "execution_count": 4,
     "metadata": {},
     "output_type": "execute_result"
    }
   ],
   "source": [
    "streams_df.head()"
   ]
  },
  {
   "cell_type": "code",
   "execution_count": 5,
   "metadata": {
    "colab": {
     "base_uri": "https://localhost:8080/"
    },
    "id": "FMaRcHIn2W07",
    "outputId": "58901571-e52a-43d7-d531-b812d739e75f"
   },
   "outputs": [
    {
     "data": {
      "text/plain": [
       "id                  0\n",
       "name                0\n",
       "duration            0\n",
       "energy              0\n",
       "key                 0\n",
       "loudness            0\n",
       "mode                0\n",
       "speechiness         0\n",
       "acousticness        0\n",
       "instrumentalness    0\n",
       "liveness            0\n",
       "valence             0\n",
       "tempo               0\n",
       "danceability        0\n",
       "dtype: int64"
      ]
     },
     "execution_count": 5,
     "metadata": {},
     "output_type": "execute_result"
    }
   ],
   "source": [
    "features_df.isna().sum()"
   ]
  },
  {
   "cell_type": "code",
   "execution_count": 6,
   "metadata": {
    "colab": {
     "base_uri": "https://localhost:8080/"
    },
    "id": "pDXgrrUj2cyW",
    "outputId": "1dc39e39-2834-46bc-b2af-c43cb72b58f7"
   },
   "outputs": [
    {
     "data": {
      "text/plain": [
       "Song                  0\n",
       "Artist                0\n",
       "Streams (Billions)    0\n",
       "Release Date          0\n",
       "dtype: int64"
      ]
     },
     "execution_count": 6,
     "metadata": {},
     "output_type": "execute_result"
    }
   ],
   "source": [
    "streams_df.isna().sum()"
   ]
  },
  {
   "cell_type": "markdown",
   "metadata": {
    "id": "uVQC08IF2mTT"
   },
   "source": [
    "# **PLOTS**"
   ]
  },
  {
   "cell_type": "code",
   "execution_count": 7,
   "metadata": {
    "colab": {
     "base_uri": "https://localhost:8080/",
     "height": 542
    },
    "id": "VVsaurWI2g0G",
    "outputId": "69ecdc88-a4c1-46cd-c729-ed0a9e6bd2d7"
   },
   "outputs": [
    {
     "data": {
      "application/vnd.plotly.v1+json": {
       "config": {
        "plotlyServerURL": "https://plot.ly"
       },
       "data": [
        {
         "customdata": [
          [
           "Blinding Lights",
           3.33
          ],
          [
           "Shape of You",
           3.9
          ],
          [
           "Dance Monkey",
           3.49
          ],
          [
           "Someone You Loved",
           3.04
          ],
          [
           "Rockstar",
           3.64
          ],
          [
           "Sunflower",
           2.63
          ],
          [
           "One Dance",
           2.9
          ],
          [
           "Closer",
           4.08
          ],
          [
           "Stay",
           4.01
          ],
          [
           "Believer",
           3.41
          ],
          [
           "Señorita",
           3.18
          ],
          [
           "Perfect",
           2.96
          ],
          [
           "Heat Waves",
           3.98
          ],
          [
           "Say You Won't Let Go",
           3.52
          ],
          [
           "Starboy",
           3.84
          ],
          [
           "Bad Guy",
           3.23
          ],
          [
           "Thinking Out Loud",
           4.69
          ],
          [
           "Lucid Dreams",
           4
          ],
          [
           "Don't Start Now",
           3.02
          ],
          [
           "Lovely",
           3.34
          ],
          [
           "Watermelon Sugar",
           2.9
          ],
          [
           "God's Plan",
           3.32
          ],
          [
           "Photograph",
           4.32
          ],
          [
           "Bohemian Rhapsody",
           5.91
          ],
          [
           "Something Just Like This",
           4.12
          ],
          [
           "Sweater Weather",
           4.01
          ],
          [
           "Shallow",
           3.6
          ],
          [
           "As It Was",
           2.79
          ],
          [
           "Love Yourself",
           3.9
          ],
          [
           "Circles",
           3.59
          ],
          [
           "Sad!",
           2.78
          ],
          [
           "Take Me to Church",
           4.03
          ],
          [
           "All of Me",
           4.49
          ],
          [
           "Thunder",
           4.88
          ],
          [
           "7 Rings",
           2.98
          ],
          [
           "Goosebumps",
           4.06
          ],
          [
           "Jocelyn Flores",
           1.99
          ],
          [
           "Havana",
           3.62
          ],
          [
           "Stressed Out",
           3.37
          ],
          [
           "XO Tour Llif3",
           3.05
          ],
          [
           "Counting Stars",
           4.3
          ],
          [
           "New Rules",
           3.49
          ],
          [
           "Wake Me Up",
           4.12
          ],
          [
           "Riptide",
           3.4
          ],
          [
           "Happier",
           3.21
          ],
          [
           "Humble",
           2.95
          ],
          [
           "Let Her Go",
           4.21
          ],
          [
           "The Hills",
           4.04
          ],
          [
           "Sicko Mode",
           5.21
          ],
          [
           "Can't Hold Us",
           1.52
          ],
          [
           "Good 4 U",
           2.97
          ],
          [
           "Sorry",
           3.1
          ],
          [
           "One Kiss",
           3.58
          ],
          [
           "Let Me Love You",
           3.43
          ],
          [
           "Drivers License",
           4.03
          ],
          [
           "Lean On",
           2.94
          ],
          [
           "Treat You Better",
           3.13
          ],
          [
           "Roses (Imanbek remix)",
           2.95
          ],
          [
           "Better Now",
           3.85
          ],
          [
           "Stay with Me",
           2.88
          ],
          [
           "Congratulations",
           3.67
          ],
          [
           "Faded",
           3.54
          ],
          [
           "Without Me",
           4.84
          ],
          [
           "Industry Baby",
           3.53
          ],
          [
           "Lose Yourself",
           5.44
          ],
          [
           "Memories",
           4.15
          ],
          [
           "Demons",
           2.92
          ],
          [
           "Mr. Brightside",
           3.72
          ],
          [
           "Uptown Funk",
           4.49
          ],
          [
           "Too Good at Goodbyes",
           3.35
          ],
          [
           "Levitating",
           3.38
          ],
          [
           "I Took a Pill in Ibiza (Seeb Remix)",
           3.3
          ],
          [
           "Don't Let Me Down",
           3.49
          ],
          [
           "Thank U, Next",
           3.46
          ],
          [
           "I Don't Care",
           3.67
          ],
          [
           "Dakiti",
           3.42
          ],
          [
           "Montero (Call Me by Your Name)",
           2.3
          ],
          [
           "Mood",
           2.16
          ],
          [
           "Do I Wanna Know?",
           4.54
          ],
          [
           "Unforgettable",
           3.9
          ],
          [
           "Dynamite",
           3.38
          ],
          [
           "Despacito (remix)",
           3.81
          ],
          [
           "Moonlight",
           2.25
          ],
          [
           "Wonderwall",
           4.31
          ],
          [
           "No Role Modelz",
           4.88
          ],
          [
           "That's What I Like",
           3.44
          ],
          [
           "The Box",
           3.28
          ],
          [
           "'Till I Collapse",
           4.96
          ],
          [
           "There's Nothing Holdin' Me Back",
           3.32
          ],
          [
           "Stitches",
           3.45
          ],
          [
           "Cheap Thrills",
           3.53
          ],
          [
           "Smells Like Teen Spirit",
           5.03
          ],
          [
           "See You Again",
           3.01
          ],
          [
           "I'm Yours",
           2.93
          ],
          [
           "I Like Me Better",
           3.29
          ],
          [
           "7 Years",
           3.96
          ],
          [
           "Yellow",
           4.45
          ],
          [
           "Sugar",
           2.9
          ],
          [
           "Despacito",
           3.82
          ],
          [
           "Don't Stop Me Now",
           7.05
          ]
         ],
         "hovertemplate": "loudness=%{x}<br>energy=%{y}<br>name=%{customdata[0]}<br>duration=%{customdata[1]}<extra></extra>",
         "legendgroup": "",
         "marker": {
          "color": "#636efa",
          "symbol": "circle"
         },
         "mode": "markers",
         "name": "",
         "orientation": "v",
         "showlegend": false,
         "type": "scatter",
         "x": [
          -5.934,
          -3.183,
          -6.4,
          -5.679,
          -6.136,
          -5.574,
          -5.609,
          -5.599,
          -10.164,
          -4.374,
          -6.049,
          -6.818,
          -6.9,
          -7.398,
          -7.015,
          -10.965,
          -6.061,
          -7.23,
          -12.205,
          -10.109,
          -4.209,
          -9.211,
          -10.48,
          -9.961,
          -6.769,
          -2.81,
          -6.362,
          -5.338,
          -9.828,
          -3.497,
          -4.88,
          -5.303,
          -7.064,
          -5.175,
          -10.732,
          -3.37,
          -9.144,
          -4.333,
          -5.677,
          -6.366,
          -4.972,
          -6.021,
          -5.697,
          -6.694,
          -6.009,
          -6.638,
          -7.346,
          -7.063,
          -3.714,
          -6.351,
          -5.044,
          -7.811,
          -3.24,
          -5.371,
          -8.81,
          -3.081,
          -4.078,
          -5.472,
          -5.804,
          -6.444,
          -4.183,
          -5.085,
          -2.827,
          -7.409,
          -4.565,
          -6.306,
          -3.015,
          -5.23,
          -7.223,
          -8.237,
          -3.787,
          -6.645,
          -7.539,
          -5.634,
          -5.041,
          -10.059,
          -6.725,
          -6.595,
          -7.596,
          -5.043,
          -3.724,
          -4.353,
          -5.723,
          -4.097,
          -8.492,
          -4.961,
          -6.687,
          -3.237,
          -4.063,
          -6.684,
          -5.608,
          -4.556,
          -9.222,
          -6.726,
          -7.621,
          -5.829,
          -7.227,
          -4.209,
          -4.787,
          -5.51
         ],
         "xaxis": "x",
         "y": [
          0.73,
          0.652,
          0.588,
          0.405,
          0.52,
          0.479,
          0.625,
          0.524,
          0.31,
          0.78,
          0.548,
          0.663,
          0.525,
          0.557,
          0.587,
          0.425,
          0.445,
          0.566,
          0.185,
          0.296,
          0.816,
          0.449,
          0.379,
          0.402,
          0.635,
          0.807,
          0.385,
          0.731,
          0.378,
          0.762,
          0.613,
          0.664,
          0.264,
          0.89,
          0.317,
          0.728,
          0.391,
          0.523,
          0.637,
          0.75,
          0.705,
          0.7,
          0.783,
          0.731,
          0.67,
          0.621,
          0.545,
          0.564,
          0.73,
          0.871,
          0.664,
          0.643,
          0.862,
          0.716,
          0.431,
          0.809,
          0.819,
          0.719,
          0.578,
          0.42,
          0.804,
          0.627,
          0.669,
          0.704,
          0.744,
          0.684,
          0.71,
          0.911,
          0.609,
          0.372,
          0.825,
          0.714,
          0.502,
          0.653,
          0.676,
          0.573,
          0.503,
          0.74,
          0.532,
          0.769,
          0.783,
          0.816,
          0.537,
          0.893,
          0.521,
          0.56,
          0.586,
          0.847,
          0.813,
          0.754,
          0.698,
          0.912,
          0.559,
          0.633,
          0.505,
          0.473,
          0.661,
          0.816,
          0.797,
          0.553
         ],
         "yaxis": "y"
        }
       ],
       "layout": {
        "legend": {
         "tracegroupgap": 0
        },
        "margin": {
         "t": 60
        },
        "template": {
         "data": {
          "bar": [
           {
            "error_x": {
             "color": "#2a3f5f"
            },
            "error_y": {
             "color": "#2a3f5f"
            },
            "marker": {
             "line": {
              "color": "#E5ECF6",
              "width": 0.5
             },
             "pattern": {
              "fillmode": "overlay",
              "size": 10,
              "solidity": 0.2
             }
            },
            "type": "bar"
           }
          ],
          "barpolar": [
           {
            "marker": {
             "line": {
              "color": "#E5ECF6",
              "width": 0.5
             },
             "pattern": {
              "fillmode": "overlay",
              "size": 10,
              "solidity": 0.2
             }
            },
            "type": "barpolar"
           }
          ],
          "carpet": [
           {
            "aaxis": {
             "endlinecolor": "#2a3f5f",
             "gridcolor": "white",
             "linecolor": "white",
             "minorgridcolor": "white",
             "startlinecolor": "#2a3f5f"
            },
            "baxis": {
             "endlinecolor": "#2a3f5f",
             "gridcolor": "white",
             "linecolor": "white",
             "minorgridcolor": "white",
             "startlinecolor": "#2a3f5f"
            },
            "type": "carpet"
           }
          ],
          "choropleth": [
           {
            "colorbar": {
             "outlinewidth": 0,
             "ticks": ""
            },
            "type": "choropleth"
           }
          ],
          "contour": [
           {
            "colorbar": {
             "outlinewidth": 0,
             "ticks": ""
            },
            "colorscale": [
             [
              0,
              "#0d0887"
             ],
             [
              0.1111111111111111,
              "#46039f"
             ],
             [
              0.2222222222222222,
              "#7201a8"
             ],
             [
              0.3333333333333333,
              "#9c179e"
             ],
             [
              0.4444444444444444,
              "#bd3786"
             ],
             [
              0.5555555555555556,
              "#d8576b"
             ],
             [
              0.6666666666666666,
              "#ed7953"
             ],
             [
              0.7777777777777778,
              "#fb9f3a"
             ],
             [
              0.8888888888888888,
              "#fdca26"
             ],
             [
              1,
              "#f0f921"
             ]
            ],
            "type": "contour"
           }
          ],
          "contourcarpet": [
           {
            "colorbar": {
             "outlinewidth": 0,
             "ticks": ""
            },
            "type": "contourcarpet"
           }
          ],
          "heatmap": [
           {
            "colorbar": {
             "outlinewidth": 0,
             "ticks": ""
            },
            "colorscale": [
             [
              0,
              "#0d0887"
             ],
             [
              0.1111111111111111,
              "#46039f"
             ],
             [
              0.2222222222222222,
              "#7201a8"
             ],
             [
              0.3333333333333333,
              "#9c179e"
             ],
             [
              0.4444444444444444,
              "#bd3786"
             ],
             [
              0.5555555555555556,
              "#d8576b"
             ],
             [
              0.6666666666666666,
              "#ed7953"
             ],
             [
              0.7777777777777778,
              "#fb9f3a"
             ],
             [
              0.8888888888888888,
              "#fdca26"
             ],
             [
              1,
              "#f0f921"
             ]
            ],
            "type": "heatmap"
           }
          ],
          "heatmapgl": [
           {
            "colorbar": {
             "outlinewidth": 0,
             "ticks": ""
            },
            "colorscale": [
             [
              0,
              "#0d0887"
             ],
             [
              0.1111111111111111,
              "#46039f"
             ],
             [
              0.2222222222222222,
              "#7201a8"
             ],
             [
              0.3333333333333333,
              "#9c179e"
             ],
             [
              0.4444444444444444,
              "#bd3786"
             ],
             [
              0.5555555555555556,
              "#d8576b"
             ],
             [
              0.6666666666666666,
              "#ed7953"
             ],
             [
              0.7777777777777778,
              "#fb9f3a"
             ],
             [
              0.8888888888888888,
              "#fdca26"
             ],
             [
              1,
              "#f0f921"
             ]
            ],
            "type": "heatmapgl"
           }
          ],
          "histogram": [
           {
            "marker": {
             "pattern": {
              "fillmode": "overlay",
              "size": 10,
              "solidity": 0.2
             }
            },
            "type": "histogram"
           }
          ],
          "histogram2d": [
           {
            "colorbar": {
             "outlinewidth": 0,
             "ticks": ""
            },
            "colorscale": [
             [
              0,
              "#0d0887"
             ],
             [
              0.1111111111111111,
              "#46039f"
             ],
             [
              0.2222222222222222,
              "#7201a8"
             ],
             [
              0.3333333333333333,
              "#9c179e"
             ],
             [
              0.4444444444444444,
              "#bd3786"
             ],
             [
              0.5555555555555556,
              "#d8576b"
             ],
             [
              0.6666666666666666,
              "#ed7953"
             ],
             [
              0.7777777777777778,
              "#fb9f3a"
             ],
             [
              0.8888888888888888,
              "#fdca26"
             ],
             [
              1,
              "#f0f921"
             ]
            ],
            "type": "histogram2d"
           }
          ],
          "histogram2dcontour": [
           {
            "colorbar": {
             "outlinewidth": 0,
             "ticks": ""
            },
            "colorscale": [
             [
              0,
              "#0d0887"
             ],
             [
              0.1111111111111111,
              "#46039f"
             ],
             [
              0.2222222222222222,
              "#7201a8"
             ],
             [
              0.3333333333333333,
              "#9c179e"
             ],
             [
              0.4444444444444444,
              "#bd3786"
             ],
             [
              0.5555555555555556,
              "#d8576b"
             ],
             [
              0.6666666666666666,
              "#ed7953"
             ],
             [
              0.7777777777777778,
              "#fb9f3a"
             ],
             [
              0.8888888888888888,
              "#fdca26"
             ],
             [
              1,
              "#f0f921"
             ]
            ],
            "type": "histogram2dcontour"
           }
          ],
          "mesh3d": [
           {
            "colorbar": {
             "outlinewidth": 0,
             "ticks": ""
            },
            "type": "mesh3d"
           }
          ],
          "parcoords": [
           {
            "line": {
             "colorbar": {
              "outlinewidth": 0,
              "ticks": ""
             }
            },
            "type": "parcoords"
           }
          ],
          "pie": [
           {
            "automargin": true,
            "type": "pie"
           }
          ],
          "scatter": [
           {
            "fillpattern": {
             "fillmode": "overlay",
             "size": 10,
             "solidity": 0.2
            },
            "type": "scatter"
           }
          ],
          "scatter3d": [
           {
            "line": {
             "colorbar": {
              "outlinewidth": 0,
              "ticks": ""
             }
            },
            "marker": {
             "colorbar": {
              "outlinewidth": 0,
              "ticks": ""
             }
            },
            "type": "scatter3d"
           }
          ],
          "scattercarpet": [
           {
            "marker": {
             "colorbar": {
              "outlinewidth": 0,
              "ticks": ""
             }
            },
            "type": "scattercarpet"
           }
          ],
          "scattergeo": [
           {
            "marker": {
             "colorbar": {
              "outlinewidth": 0,
              "ticks": ""
             }
            },
            "type": "scattergeo"
           }
          ],
          "scattergl": [
           {
            "marker": {
             "colorbar": {
              "outlinewidth": 0,
              "ticks": ""
             }
            },
            "type": "scattergl"
           }
          ],
          "scattermapbox": [
           {
            "marker": {
             "colorbar": {
              "outlinewidth": 0,
              "ticks": ""
             }
            },
            "type": "scattermapbox"
           }
          ],
          "scatterpolar": [
           {
            "marker": {
             "colorbar": {
              "outlinewidth": 0,
              "ticks": ""
             }
            },
            "type": "scatterpolar"
           }
          ],
          "scatterpolargl": [
           {
            "marker": {
             "colorbar": {
              "outlinewidth": 0,
              "ticks": ""
             }
            },
            "type": "scatterpolargl"
           }
          ],
          "scatterternary": [
           {
            "marker": {
             "colorbar": {
              "outlinewidth": 0,
              "ticks": ""
             }
            },
            "type": "scatterternary"
           }
          ],
          "surface": [
           {
            "colorbar": {
             "outlinewidth": 0,
             "ticks": ""
            },
            "colorscale": [
             [
              0,
              "#0d0887"
             ],
             [
              0.1111111111111111,
              "#46039f"
             ],
             [
              0.2222222222222222,
              "#7201a8"
             ],
             [
              0.3333333333333333,
              "#9c179e"
             ],
             [
              0.4444444444444444,
              "#bd3786"
             ],
             [
              0.5555555555555556,
              "#d8576b"
             ],
             [
              0.6666666666666666,
              "#ed7953"
             ],
             [
              0.7777777777777778,
              "#fb9f3a"
             ],
             [
              0.8888888888888888,
              "#fdca26"
             ],
             [
              1,
              "#f0f921"
             ]
            ],
            "type": "surface"
           }
          ],
          "table": [
           {
            "cells": {
             "fill": {
              "color": "#EBF0F8"
             },
             "line": {
              "color": "white"
             }
            },
            "header": {
             "fill": {
              "color": "#C8D4E3"
             },
             "line": {
              "color": "white"
             }
            },
            "type": "table"
           }
          ]
         },
         "layout": {
          "annotationdefaults": {
           "arrowcolor": "#2a3f5f",
           "arrowhead": 0,
           "arrowwidth": 1
          },
          "autotypenumbers": "strict",
          "coloraxis": {
           "colorbar": {
            "outlinewidth": 0,
            "ticks": ""
           }
          },
          "colorscale": {
           "diverging": [
            [
             0,
             "#8e0152"
            ],
            [
             0.1,
             "#c51b7d"
            ],
            [
             0.2,
             "#de77ae"
            ],
            [
             0.3,
             "#f1b6da"
            ],
            [
             0.4,
             "#fde0ef"
            ],
            [
             0.5,
             "#f7f7f7"
            ],
            [
             0.6,
             "#e6f5d0"
            ],
            [
             0.7,
             "#b8e186"
            ],
            [
             0.8,
             "#7fbc41"
            ],
            [
             0.9,
             "#4d9221"
            ],
            [
             1,
             "#276419"
            ]
           ],
           "sequential": [
            [
             0,
             "#0d0887"
            ],
            [
             0.1111111111111111,
             "#46039f"
            ],
            [
             0.2222222222222222,
             "#7201a8"
            ],
            [
             0.3333333333333333,
             "#9c179e"
            ],
            [
             0.4444444444444444,
             "#bd3786"
            ],
            [
             0.5555555555555556,
             "#d8576b"
            ],
            [
             0.6666666666666666,
             "#ed7953"
            ],
            [
             0.7777777777777778,
             "#fb9f3a"
            ],
            [
             0.8888888888888888,
             "#fdca26"
            ],
            [
             1,
             "#f0f921"
            ]
           ],
           "sequentialminus": [
            [
             0,
             "#0d0887"
            ],
            [
             0.1111111111111111,
             "#46039f"
            ],
            [
             0.2222222222222222,
             "#7201a8"
            ],
            [
             0.3333333333333333,
             "#9c179e"
            ],
            [
             0.4444444444444444,
             "#bd3786"
            ],
            [
             0.5555555555555556,
             "#d8576b"
            ],
            [
             0.6666666666666666,
             "#ed7953"
            ],
            [
             0.7777777777777778,
             "#fb9f3a"
            ],
            [
             0.8888888888888888,
             "#fdca26"
            ],
            [
             1,
             "#f0f921"
            ]
           ]
          },
          "colorway": [
           "#636efa",
           "#EF553B",
           "#00cc96",
           "#ab63fa",
           "#FFA15A",
           "#19d3f3",
           "#FF6692",
           "#B6E880",
           "#FF97FF",
           "#FECB52"
          ],
          "font": {
           "color": "#2a3f5f"
          },
          "geo": {
           "bgcolor": "white",
           "lakecolor": "white",
           "landcolor": "#E5ECF6",
           "showlakes": true,
           "showland": true,
           "subunitcolor": "white"
          },
          "hoverlabel": {
           "align": "left"
          },
          "hovermode": "closest",
          "mapbox": {
           "style": "light"
          },
          "paper_bgcolor": "white",
          "plot_bgcolor": "#E5ECF6",
          "polar": {
           "angularaxis": {
            "gridcolor": "white",
            "linecolor": "white",
            "ticks": ""
           },
           "bgcolor": "#E5ECF6",
           "radialaxis": {
            "gridcolor": "white",
            "linecolor": "white",
            "ticks": ""
           }
          },
          "scene": {
           "xaxis": {
            "backgroundcolor": "#E5ECF6",
            "gridcolor": "white",
            "gridwidth": 2,
            "linecolor": "white",
            "showbackground": true,
            "ticks": "",
            "zerolinecolor": "white"
           },
           "yaxis": {
            "backgroundcolor": "#E5ECF6",
            "gridcolor": "white",
            "gridwidth": 2,
            "linecolor": "white",
            "showbackground": true,
            "ticks": "",
            "zerolinecolor": "white"
           },
           "zaxis": {
            "backgroundcolor": "#E5ECF6",
            "gridcolor": "white",
            "gridwidth": 2,
            "linecolor": "white",
            "showbackground": true,
            "ticks": "",
            "zerolinecolor": "white"
           }
          },
          "shapedefaults": {
           "line": {
            "color": "#2a3f5f"
           }
          },
          "ternary": {
           "aaxis": {
            "gridcolor": "white",
            "linecolor": "white",
            "ticks": ""
           },
           "baxis": {
            "gridcolor": "white",
            "linecolor": "white",
            "ticks": ""
           },
           "bgcolor": "#E5ECF6",
           "caxis": {
            "gridcolor": "white",
            "linecolor": "white",
            "ticks": ""
           }
          },
          "title": {
           "x": 0.05
          },
          "xaxis": {
           "automargin": true,
           "gridcolor": "white",
           "linecolor": "white",
           "ticks": "",
           "title": {
            "standoff": 15
           },
           "zerolinecolor": "white",
           "zerolinewidth": 2
          },
          "yaxis": {
           "automargin": true,
           "gridcolor": "white",
           "linecolor": "white",
           "ticks": "",
           "title": {
            "standoff": 15
           },
           "zerolinecolor": "white",
           "zerolinewidth": 2
          }
         }
        },
        "title": {
         "text": "Relationship between loudness and energy"
        },
        "xaxis": {
         "anchor": "y",
         "domain": [
          0,
          1
         ],
         "title": {
          "text": "Loudness"
         }
        },
        "yaxis": {
         "anchor": "x",
         "domain": [
          0,
          1
         ],
         "title": {
          "text": "Energy"
         }
        }
       }
      },
      "text/html": [
       "<div>                            <div id=\"e8d4a12c-0f97-4887-a8f1-d8af5d4de1d1\" class=\"plotly-graph-div\" style=\"height:525px; width:100%;\"></div>            <script type=\"text/javascript\">                require([\"plotly\"], function(Plotly) {                    window.PLOTLYENV=window.PLOTLYENV || {};                                    if (document.getElementById(\"e8d4a12c-0f97-4887-a8f1-d8af5d4de1d1\")) {                    Plotly.newPlot(                        \"e8d4a12c-0f97-4887-a8f1-d8af5d4de1d1\",                        [{\"customdata\":[[\"Blinding Lights\",3.33],[\"Shape of You\",3.9],[\"Dance Monkey\",3.49],[\"Someone You Loved\",3.04],[\"Rockstar\",3.64],[\"Sunflower\",2.63],[\"One Dance\",2.9],[\"Closer\",4.08],[\"Stay\",4.01],[\"Believer\",3.41],[\"Se\\u00f1orita\",3.18],[\"Perfect\",2.96],[\"Heat Waves\",3.98],[\"Say You Won't Let Go\",3.52],[\"Starboy\",3.84],[\"Bad Guy\",3.23],[\"Thinking Out Loud\",4.69],[\"Lucid Dreams\",4.0],[\"Don't Start Now\",3.02],[\"Lovely\",3.34],[\"Watermelon Sugar\",2.9],[\"God's Plan\",3.32],[\"Photograph\",4.32],[\"Bohemian Rhapsody\",5.91],[\"Something Just Like This\",4.12],[\"Sweater Weather\",4.01],[\"Shallow\",3.6],[\"As It Was\",2.79],[\"Love Yourself\",3.9],[\"Circles\",3.59],[\"Sad!\",2.78],[\"Take Me to Church\",4.03],[\"All of Me\",4.49],[\"Thunder\",4.88],[\"7 Rings\",2.98],[\"Goosebumps\",4.06],[\"Jocelyn Flores\",1.99],[\"Havana\",3.62],[\"Stressed Out\",3.37],[\"XO Tour Llif3\",3.05],[\"Counting Stars\",4.3],[\"New Rules\",3.49],[\"Wake Me Up\",4.12],[\"Riptide\",3.4],[\"Happier\",3.21],[\"Humble\",2.95],[\"Let Her Go\",4.21],[\"The Hills\",4.04],[\"Sicko Mode\",5.21],[\"Can't Hold Us\",1.52],[\"Good 4 U\",2.97],[\"Sorry\",3.1],[\"One Kiss\",3.58],[\"Let Me Love You\",3.43],[\"Drivers License\",4.03],[\"Lean On\",2.94],[\"Treat You Better\",3.13],[\"Roses (Imanbek remix)\",2.95],[\"Better Now\",3.85],[\"Stay with Me\",2.88],[\"Congratulations\",3.67],[\"Faded\",3.54],[\"Without Me\",4.84],[\"Industry Baby\",3.53],[\"Lose Yourself\",5.44],[\"Memories\",4.15],[\"Demons\",2.92],[\"Mr. Brightside\",3.72],[\"Uptown Funk\",4.49],[\"Too Good at Goodbyes\",3.35],[\"Levitating\",3.38],[\"I Took a Pill in Ibiza\\u00a0(Seeb\\u00a0Remix)\",3.3],[\"Don't Let Me Down\",3.49],[\"Thank U, Next\",3.46],[\"I Don't Care\",3.67],[\"Dakiti\",3.42],[\"Montero (Call Me by Your Name)\",2.3],[\"Mood\",2.16],[\"Do I Wanna Know?\",4.54],[\"Unforgettable\",3.9],[\"Dynamite\",3.38],[\"Despacito (remix)\",3.81],[\"Moonlight\",2.25],[\"Wonderwall\",4.31],[\"No Role Modelz\",4.88],[\"That's What I Like\",3.44],[\"The Box\",3.28],[\"'Till I Collapse\",4.96],[\"There's Nothing Holdin' Me Back\",3.32],[\"Stitches\",3.45],[\"Cheap Thrills\",3.53],[\"Smells Like Teen Spirit\",5.03],[\"See You Again\",3.01],[\"I'm Yours\",2.93],[\"I Like Me Better\",3.29],[\"7 Years\",3.96],[\"Yellow\",4.45],[\"Sugar\",2.9],[\"Despacito\",3.82],[\"Don't Stop Me Now\",7.05]],\"hovertemplate\":\"loudness=%{x}<br>energy=%{y}<br>name=%{customdata[0]}<br>duration=%{customdata[1]}<extra></extra>\",\"legendgroup\":\"\",\"marker\":{\"color\":\"#636efa\",\"symbol\":\"circle\"},\"mode\":\"markers\",\"name\":\"\",\"orientation\":\"v\",\"showlegend\":false,\"x\":[-5.934,-3.183,-6.4,-5.679,-6.136,-5.574,-5.609,-5.599,-10.164,-4.374,-6.049,-6.818,-6.9,-7.398,-7.015,-10.965,-6.061,-7.23,-12.205,-10.109,-4.209,-9.211,-10.48,-9.961,-6.769,-2.81,-6.362,-5.338,-9.828,-3.497,-4.88,-5.303,-7.064,-5.175,-10.732,-3.37,-9.144,-4.333,-5.677,-6.366,-4.972,-6.021,-5.697,-6.694,-6.009,-6.638,-7.346,-7.063,-3.714,-6.351,-5.044,-7.811,-3.24,-5.371,-8.81,-3.081,-4.078,-5.472,-5.804,-6.444,-4.183,-5.085,-2.827,-7.409,-4.565,-6.306,-3.015,-5.23,-7.223,-8.237,-3.787,-6.645,-7.539,-5.634,-5.041,-10.059,-6.725,-6.595,-7.596,-5.043,-3.724,-4.353,-5.723,-4.097,-8.492,-4.961,-6.687,-3.237,-4.063,-6.684,-5.608,-4.556,-9.222,-6.726,-7.621,-5.829,-7.227,-4.209,-4.787,-5.51],\"xaxis\":\"x\",\"y\":[0.73,0.652,0.588,0.405,0.52,0.479,0.625,0.524,0.31,0.78,0.548,0.663,0.525,0.557,0.587,0.425,0.445,0.566,0.185,0.296,0.816,0.449,0.379,0.402,0.635,0.807,0.385,0.731,0.378,0.762,0.613,0.664,0.264,0.89,0.317,0.728,0.391,0.523,0.637,0.75,0.705,0.7,0.783,0.731,0.67,0.621,0.545,0.564,0.73,0.871,0.664,0.643,0.862,0.716,0.431,0.809,0.819,0.719,0.578,0.42,0.804,0.627,0.669,0.704,0.744,0.684,0.71,0.911,0.609,0.372,0.825,0.714,0.502,0.653,0.676,0.573,0.503,0.74,0.532,0.769,0.783,0.816,0.537,0.893,0.521,0.56,0.586,0.847,0.813,0.754,0.698,0.912,0.559,0.633,0.505,0.473,0.661,0.816,0.797,0.553],\"yaxis\":\"y\",\"type\":\"scatter\"}],                        {\"template\":{\"data\":{\"histogram2dcontour\":[{\"type\":\"histogram2dcontour\",\"colorbar\":{\"outlinewidth\":0,\"ticks\":\"\"},\"colorscale\":[[0.0,\"#0d0887\"],[0.1111111111111111,\"#46039f\"],[0.2222222222222222,\"#7201a8\"],[0.3333333333333333,\"#9c179e\"],[0.4444444444444444,\"#bd3786\"],[0.5555555555555556,\"#d8576b\"],[0.6666666666666666,\"#ed7953\"],[0.7777777777777778,\"#fb9f3a\"],[0.8888888888888888,\"#fdca26\"],[1.0,\"#f0f921\"]]}],\"choropleth\":[{\"type\":\"choropleth\",\"colorbar\":{\"outlinewidth\":0,\"ticks\":\"\"}}],\"histogram2d\":[{\"type\":\"histogram2d\",\"colorbar\":{\"outlinewidth\":0,\"ticks\":\"\"},\"colorscale\":[[0.0,\"#0d0887\"],[0.1111111111111111,\"#46039f\"],[0.2222222222222222,\"#7201a8\"],[0.3333333333333333,\"#9c179e\"],[0.4444444444444444,\"#bd3786\"],[0.5555555555555556,\"#d8576b\"],[0.6666666666666666,\"#ed7953\"],[0.7777777777777778,\"#fb9f3a\"],[0.8888888888888888,\"#fdca26\"],[1.0,\"#f0f921\"]]}],\"heatmap\":[{\"type\":\"heatmap\",\"colorbar\":{\"outlinewidth\":0,\"ticks\":\"\"},\"colorscale\":[[0.0,\"#0d0887\"],[0.1111111111111111,\"#46039f\"],[0.2222222222222222,\"#7201a8\"],[0.3333333333333333,\"#9c179e\"],[0.4444444444444444,\"#bd3786\"],[0.5555555555555556,\"#d8576b\"],[0.6666666666666666,\"#ed7953\"],[0.7777777777777778,\"#fb9f3a\"],[0.8888888888888888,\"#fdca26\"],[1.0,\"#f0f921\"]]}],\"heatmapgl\":[{\"type\":\"heatmapgl\",\"colorbar\":{\"outlinewidth\":0,\"ticks\":\"\"},\"colorscale\":[[0.0,\"#0d0887\"],[0.1111111111111111,\"#46039f\"],[0.2222222222222222,\"#7201a8\"],[0.3333333333333333,\"#9c179e\"],[0.4444444444444444,\"#bd3786\"],[0.5555555555555556,\"#d8576b\"],[0.6666666666666666,\"#ed7953\"],[0.7777777777777778,\"#fb9f3a\"],[0.8888888888888888,\"#fdca26\"],[1.0,\"#f0f921\"]]}],\"contourcarpet\":[{\"type\":\"contourcarpet\",\"colorbar\":{\"outlinewidth\":0,\"ticks\":\"\"}}],\"contour\":[{\"type\":\"contour\",\"colorbar\":{\"outlinewidth\":0,\"ticks\":\"\"},\"colorscale\":[[0.0,\"#0d0887\"],[0.1111111111111111,\"#46039f\"],[0.2222222222222222,\"#7201a8\"],[0.3333333333333333,\"#9c179e\"],[0.4444444444444444,\"#bd3786\"],[0.5555555555555556,\"#d8576b\"],[0.6666666666666666,\"#ed7953\"],[0.7777777777777778,\"#fb9f3a\"],[0.8888888888888888,\"#fdca26\"],[1.0,\"#f0f921\"]]}],\"surface\":[{\"type\":\"surface\",\"colorbar\":{\"outlinewidth\":0,\"ticks\":\"\"},\"colorscale\":[[0.0,\"#0d0887\"],[0.1111111111111111,\"#46039f\"],[0.2222222222222222,\"#7201a8\"],[0.3333333333333333,\"#9c179e\"],[0.4444444444444444,\"#bd3786\"],[0.5555555555555556,\"#d8576b\"],[0.6666666666666666,\"#ed7953\"],[0.7777777777777778,\"#fb9f3a\"],[0.8888888888888888,\"#fdca26\"],[1.0,\"#f0f921\"]]}],\"mesh3d\":[{\"type\":\"mesh3d\",\"colorbar\":{\"outlinewidth\":0,\"ticks\":\"\"}}],\"scatter\":[{\"fillpattern\":{\"fillmode\":\"overlay\",\"size\":10,\"solidity\":0.2},\"type\":\"scatter\"}],\"parcoords\":[{\"type\":\"parcoords\",\"line\":{\"colorbar\":{\"outlinewidth\":0,\"ticks\":\"\"}}}],\"scatterpolargl\":[{\"type\":\"scatterpolargl\",\"marker\":{\"colorbar\":{\"outlinewidth\":0,\"ticks\":\"\"}}}],\"bar\":[{\"error_x\":{\"color\":\"#2a3f5f\"},\"error_y\":{\"color\":\"#2a3f5f\"},\"marker\":{\"line\":{\"color\":\"#E5ECF6\",\"width\":0.5},\"pattern\":{\"fillmode\":\"overlay\",\"size\":10,\"solidity\":0.2}},\"type\":\"bar\"}],\"scattergeo\":[{\"type\":\"scattergeo\",\"marker\":{\"colorbar\":{\"outlinewidth\":0,\"ticks\":\"\"}}}],\"scatterpolar\":[{\"type\":\"scatterpolar\",\"marker\":{\"colorbar\":{\"outlinewidth\":0,\"ticks\":\"\"}}}],\"histogram\":[{\"marker\":{\"pattern\":{\"fillmode\":\"overlay\",\"size\":10,\"solidity\":0.2}},\"type\":\"histogram\"}],\"scattergl\":[{\"type\":\"scattergl\",\"marker\":{\"colorbar\":{\"outlinewidth\":0,\"ticks\":\"\"}}}],\"scatter3d\":[{\"type\":\"scatter3d\",\"line\":{\"colorbar\":{\"outlinewidth\":0,\"ticks\":\"\"}},\"marker\":{\"colorbar\":{\"outlinewidth\":0,\"ticks\":\"\"}}}],\"scattermapbox\":[{\"type\":\"scattermapbox\",\"marker\":{\"colorbar\":{\"outlinewidth\":0,\"ticks\":\"\"}}}],\"scatterternary\":[{\"type\":\"scatterternary\",\"marker\":{\"colorbar\":{\"outlinewidth\":0,\"ticks\":\"\"}}}],\"scattercarpet\":[{\"type\":\"scattercarpet\",\"marker\":{\"colorbar\":{\"outlinewidth\":0,\"ticks\":\"\"}}}],\"carpet\":[{\"aaxis\":{\"endlinecolor\":\"#2a3f5f\",\"gridcolor\":\"white\",\"linecolor\":\"white\",\"minorgridcolor\":\"white\",\"startlinecolor\":\"#2a3f5f\"},\"baxis\":{\"endlinecolor\":\"#2a3f5f\",\"gridcolor\":\"white\",\"linecolor\":\"white\",\"minorgridcolor\":\"white\",\"startlinecolor\":\"#2a3f5f\"},\"type\":\"carpet\"}],\"table\":[{\"cells\":{\"fill\":{\"color\":\"#EBF0F8\"},\"line\":{\"color\":\"white\"}},\"header\":{\"fill\":{\"color\":\"#C8D4E3\"},\"line\":{\"color\":\"white\"}},\"type\":\"table\"}],\"barpolar\":[{\"marker\":{\"line\":{\"color\":\"#E5ECF6\",\"width\":0.5},\"pattern\":{\"fillmode\":\"overlay\",\"size\":10,\"solidity\":0.2}},\"type\":\"barpolar\"}],\"pie\":[{\"automargin\":true,\"type\":\"pie\"}]},\"layout\":{\"autotypenumbers\":\"strict\",\"colorway\":[\"#636efa\",\"#EF553B\",\"#00cc96\",\"#ab63fa\",\"#FFA15A\",\"#19d3f3\",\"#FF6692\",\"#B6E880\",\"#FF97FF\",\"#FECB52\"],\"font\":{\"color\":\"#2a3f5f\"},\"hovermode\":\"closest\",\"hoverlabel\":{\"align\":\"left\"},\"paper_bgcolor\":\"white\",\"plot_bgcolor\":\"#E5ECF6\",\"polar\":{\"bgcolor\":\"#E5ECF6\",\"angularaxis\":{\"gridcolor\":\"white\",\"linecolor\":\"white\",\"ticks\":\"\"},\"radialaxis\":{\"gridcolor\":\"white\",\"linecolor\":\"white\",\"ticks\":\"\"}},\"ternary\":{\"bgcolor\":\"#E5ECF6\",\"aaxis\":{\"gridcolor\":\"white\",\"linecolor\":\"white\",\"ticks\":\"\"},\"baxis\":{\"gridcolor\":\"white\",\"linecolor\":\"white\",\"ticks\":\"\"},\"caxis\":{\"gridcolor\":\"white\",\"linecolor\":\"white\",\"ticks\":\"\"}},\"coloraxis\":{\"colorbar\":{\"outlinewidth\":0,\"ticks\":\"\"}},\"colorscale\":{\"sequential\":[[0.0,\"#0d0887\"],[0.1111111111111111,\"#46039f\"],[0.2222222222222222,\"#7201a8\"],[0.3333333333333333,\"#9c179e\"],[0.4444444444444444,\"#bd3786\"],[0.5555555555555556,\"#d8576b\"],[0.6666666666666666,\"#ed7953\"],[0.7777777777777778,\"#fb9f3a\"],[0.8888888888888888,\"#fdca26\"],[1.0,\"#f0f921\"]],\"sequentialminus\":[[0.0,\"#0d0887\"],[0.1111111111111111,\"#46039f\"],[0.2222222222222222,\"#7201a8\"],[0.3333333333333333,\"#9c179e\"],[0.4444444444444444,\"#bd3786\"],[0.5555555555555556,\"#d8576b\"],[0.6666666666666666,\"#ed7953\"],[0.7777777777777778,\"#fb9f3a\"],[0.8888888888888888,\"#fdca26\"],[1.0,\"#f0f921\"]],\"diverging\":[[0,\"#8e0152\"],[0.1,\"#c51b7d\"],[0.2,\"#de77ae\"],[0.3,\"#f1b6da\"],[0.4,\"#fde0ef\"],[0.5,\"#f7f7f7\"],[0.6,\"#e6f5d0\"],[0.7,\"#b8e186\"],[0.8,\"#7fbc41\"],[0.9,\"#4d9221\"],[1,\"#276419\"]]},\"xaxis\":{\"gridcolor\":\"white\",\"linecolor\":\"white\",\"ticks\":\"\",\"title\":{\"standoff\":15},\"zerolinecolor\":\"white\",\"automargin\":true,\"zerolinewidth\":2},\"yaxis\":{\"gridcolor\":\"white\",\"linecolor\":\"white\",\"ticks\":\"\",\"title\":{\"standoff\":15},\"zerolinecolor\":\"white\",\"automargin\":true,\"zerolinewidth\":2},\"scene\":{\"xaxis\":{\"backgroundcolor\":\"#E5ECF6\",\"gridcolor\":\"white\",\"linecolor\":\"white\",\"showbackground\":true,\"ticks\":\"\",\"zerolinecolor\":\"white\",\"gridwidth\":2},\"yaxis\":{\"backgroundcolor\":\"#E5ECF6\",\"gridcolor\":\"white\",\"linecolor\":\"white\",\"showbackground\":true,\"ticks\":\"\",\"zerolinecolor\":\"white\",\"gridwidth\":2},\"zaxis\":{\"backgroundcolor\":\"#E5ECF6\",\"gridcolor\":\"white\",\"linecolor\":\"white\",\"showbackground\":true,\"ticks\":\"\",\"zerolinecolor\":\"white\",\"gridwidth\":2}},\"shapedefaults\":{\"line\":{\"color\":\"#2a3f5f\"}},\"annotationdefaults\":{\"arrowcolor\":\"#2a3f5f\",\"arrowhead\":0,\"arrowwidth\":1},\"geo\":{\"bgcolor\":\"white\",\"landcolor\":\"#E5ECF6\",\"subunitcolor\":\"white\",\"showland\":true,\"showlakes\":true,\"lakecolor\":\"white\"},\"title\":{\"x\":0.05},\"mapbox\":{\"style\":\"light\"}}},\"xaxis\":{\"anchor\":\"y\",\"domain\":[0.0,1.0],\"title\":{\"text\":\"Loudness\"}},\"yaxis\":{\"anchor\":\"x\",\"domain\":[0.0,1.0],\"title\":{\"text\":\"Energy\"}},\"legend\":{\"tracegroupgap\":0},\"margin\":{\"t\":60},\"title\":{\"text\":\"Relationship between loudness and energy\"}},                        {\"responsive\": true}                    ).then(function(){\n",
       "                            \n",
       "var gd = document.getElementById('e8d4a12c-0f97-4887-a8f1-d8af5d4de1d1');\n",
       "var x = new MutationObserver(function (mutations, observer) {{\n",
       "        var display = window.getComputedStyle(gd).display;\n",
       "        if (!display || display === 'none') {{\n",
       "            console.log([gd, 'removed!']);\n",
       "            Plotly.purge(gd);\n",
       "            observer.disconnect();\n",
       "        }}\n",
       "}});\n",
       "\n",
       "// Listen for the removal of the full notebook cells\n",
       "var notebookContainer = gd.closest('#notebook-container');\n",
       "if (notebookContainer) {{\n",
       "    x.observe(notebookContainer, {childList: true});\n",
       "}}\n",
       "\n",
       "// Listen for the clearing of the current output cell\n",
       "var outputEl = gd.closest('.output');\n",
       "if (outputEl) {{\n",
       "    x.observe(outputEl, {childList: true});\n",
       "}}\n",
       "\n",
       "                        })                };                });            </script>        </div>"
      ]
     },
     "metadata": {},
     "output_type": "display_data"
    }
   ],
   "source": [
    "fig = px.scatter(features_df, x=\"loudness\", y=\"energy\", hover_data=[\"name\", \"duration\"])\n",
    "\n",
    "# Add title and axis labels\n",
    "fig.update_layout(title='Relationship between loudness and energy', \n",
    "                  xaxis_title='Loudness', yaxis_title='Energy')\n",
    "fig.show()\n",
    "\n",
    "\n"
   ]
  },
  {
   "cell_type": "code",
   "execution_count": 8,
   "metadata": {
    "colab": {
     "base_uri": "https://localhost:8080/",
     "height": 542
    },
    "id": "xEbpex162_z9",
    "outputId": "4d886d09-7d97-49c2-d8ac-57a1c3fa61f7"
   },
   "outputs": [
    {
     "data": {
      "application/vnd.plotly.v1+json": {
       "config": {
        "plotlyServerURL": "https://plot.ly"
       },
       "data": [
        {
         "customdata": [
          [
           "Blinding Lights"
          ],
          [
           "Shape of You"
          ],
          [
           "Dance Monkey"
          ],
          [
           "Someone You Loved"
          ],
          [
           "Rockstar"
          ],
          [
           "Sunflower"
          ],
          [
           "One Dance"
          ],
          [
           "Closer"
          ],
          [
           "Stay"
          ],
          [
           "Believer"
          ],
          [
           "Señorita"
          ],
          [
           "Perfect"
          ],
          [
           "Heat Waves"
          ],
          [
           "Say You Won't Let Go"
          ],
          [
           "Starboy"
          ],
          [
           "Bad Guy"
          ],
          [
           "Thinking Out Loud"
          ],
          [
           "Lucid Dreams"
          ],
          [
           "Don't Start Now"
          ],
          [
           "Lovely"
          ],
          [
           "Watermelon Sugar"
          ],
          [
           "God's Plan"
          ],
          [
           "Photograph"
          ],
          [
           "Bohemian Rhapsody"
          ],
          [
           "Something Just Like This"
          ],
          [
           "Sweater Weather"
          ],
          [
           "Shallow"
          ],
          [
           "As It Was"
          ],
          [
           "Love Yourself"
          ],
          [
           "Circles"
          ],
          [
           "Sad!"
          ],
          [
           "Take Me to Church"
          ],
          [
           "All of Me"
          ],
          [
           "Thunder"
          ],
          [
           "7 Rings"
          ],
          [
           "Goosebumps"
          ],
          [
           "Jocelyn Flores"
          ],
          [
           "Havana"
          ],
          [
           "Stressed Out"
          ],
          [
           "XO Tour Llif3"
          ],
          [
           "Counting Stars"
          ],
          [
           "New Rules"
          ],
          [
           "Wake Me Up"
          ],
          [
           "Riptide"
          ],
          [
           "Happier"
          ],
          [
           "Humble"
          ],
          [
           "Let Her Go"
          ],
          [
           "The Hills"
          ],
          [
           "Sicko Mode"
          ],
          [
           "Can't Hold Us"
          ],
          [
           "Good 4 U"
          ],
          [
           "Sorry"
          ],
          [
           "One Kiss"
          ],
          [
           "Let Me Love You"
          ],
          [
           "Drivers License"
          ],
          [
           "Lean On"
          ],
          [
           "Treat You Better"
          ],
          [
           "Roses (Imanbek remix)"
          ],
          [
           "Better Now"
          ],
          [
           "Stay with Me"
          ],
          [
           "Congratulations"
          ],
          [
           "Faded"
          ],
          [
           "Without Me"
          ],
          [
           "Industry Baby"
          ],
          [
           "Lose Yourself"
          ],
          [
           "Memories"
          ],
          [
           "Demons"
          ],
          [
           "Mr. Brightside"
          ],
          [
           "Uptown Funk"
          ],
          [
           "Too Good at Goodbyes"
          ],
          [
           "Levitating"
          ],
          [
           "I Took a Pill in Ibiza (Seeb Remix)"
          ],
          [
           "Don't Let Me Down"
          ],
          [
           "Thank U, Next"
          ],
          [
           "I Don't Care"
          ],
          [
           "Dakiti"
          ],
          [
           "Montero (Call Me by Your Name)"
          ],
          [
           "Mood"
          ],
          [
           "Do I Wanna Know?"
          ],
          [
           "Unforgettable"
          ],
          [
           "Dynamite"
          ],
          [
           "Despacito (remix)"
          ],
          [
           "Moonlight"
          ],
          [
           "Wonderwall"
          ],
          [
           "No Role Modelz"
          ],
          [
           "That's What I Like"
          ],
          [
           "The Box"
          ],
          [
           "'Till I Collapse"
          ],
          [
           "There's Nothing Holdin' Me Back"
          ],
          [
           "Stitches"
          ],
          [
           "Cheap Thrills"
          ],
          [
           "Smells Like Teen Spirit"
          ],
          [
           "See You Again"
          ],
          [
           "I'm Yours"
          ],
          [
           "I Like Me Better"
          ],
          [
           "7 Years"
          ],
          [
           "Yellow"
          ],
          [
           "Sugar"
          ],
          [
           "Despacito"
          ],
          [
           "Don't Stop Me Now"
          ]
         ],
         "hovertemplate": "energy=%{x}<br>speechiness=%{y}<br>name=%{customdata[0]}<extra></extra>",
         "legendgroup": "",
         "marker": {
          "color": "#636efa",
          "symbol": "circle"
         },
         "mode": "markers",
         "name": "",
         "orientation": "v",
         "showlegend": false,
         "type": "scatter",
         "x": [
          0.73,
          0.652,
          0.588,
          0.405,
          0.52,
          0.479,
          0.625,
          0.524,
          0.31,
          0.78,
          0.548,
          0.663,
          0.525,
          0.557,
          0.587,
          0.425,
          0.445,
          0.566,
          0.185,
          0.296,
          0.816,
          0.449,
          0.379,
          0.402,
          0.635,
          0.807,
          0.385,
          0.731,
          0.378,
          0.762,
          0.613,
          0.664,
          0.264,
          0.89,
          0.317,
          0.728,
          0.391,
          0.523,
          0.637,
          0.75,
          0.705,
          0.7,
          0.783,
          0.731,
          0.67,
          0.621,
          0.545,
          0.564,
          0.73,
          0.871,
          0.664,
          0.643,
          0.862,
          0.716,
          0.431,
          0.809,
          0.819,
          0.719,
          0.578,
          0.42,
          0.804,
          0.627,
          0.669,
          0.704,
          0.744,
          0.684,
          0.71,
          0.911,
          0.609,
          0.372,
          0.825,
          0.714,
          0.502,
          0.653,
          0.676,
          0.573,
          0.503,
          0.74,
          0.532,
          0.769,
          0.783,
          0.816,
          0.537,
          0.893,
          0.521,
          0.56,
          0.586,
          0.847,
          0.813,
          0.754,
          0.698,
          0.912,
          0.559,
          0.633,
          0.505,
          0.473,
          0.661,
          0.816,
          0.797,
          0.553
         ],
         "xaxis": "x",
         "y": [
          0.0598,
          0.0802,
          0.0924,
          0.0319,
          0.0712,
          0.0466,
          0.0536,
          0.0338,
          0.0283,
          0.128,
          0.029,
          0.0331,
          0.0944,
          0.059,
          0.276,
          0.375,
          0.0296,
          0.2,
          0.0484,
          0.0333,
          0.0465,
          0.109,
          0.0359,
          0.0536,
          0.0317,
          0.0336,
          0.0308,
          0.0557,
          0.438,
          0.0395,
          0.145,
          0.0464,
          0.0322,
          0.0364,
          0.334,
          0.0484,
          0.242,
          0.03,
          0.141,
          0.231,
          0.0382,
          0.0694,
          0.0523,
          0.0379,
          0.0751,
          0.102,
          0.0688,
          0.0515,
          0.222,
          0.0752,
          0.154,
          0.0984,
          0.11,
          0.0349,
          0.0578,
          0.0625,
          0.341,
          0.0474,
          0.04,
          0.0414,
          0.0363,
          0.0476,
          0.0738,
          0.0615,
          0.257,
          0.044,
          0.0321,
          0.0747,
          0.0824,
          0.0432,
          0.0601,
          0.111,
          0.0493,
          0.0658,
          0.0442,
          0.0544,
          0.22,
          0.336,
          0.0323,
          0.123,
          0.0859,
          0.167,
          0.0804,
          0.0406,
          0.339,
          0.0406,
          0.0559,
          0.186,
          0.0554,
          0.0615,
          0.105,
          0.0564,
          0.0959,
          0.0711,
          0.255,
          0.0514,
          0.0281,
          0.0465,
          0.153,
          0.0773
         ],
         "yaxis": "y"
        }
       ],
       "layout": {
        "legend": {
         "tracegroupgap": 0
        },
        "template": {
         "data": {
          "bar": [
           {
            "error_x": {
             "color": "#2a3f5f"
            },
            "error_y": {
             "color": "#2a3f5f"
            },
            "marker": {
             "line": {
              "color": "#E5ECF6",
              "width": 0.5
             },
             "pattern": {
              "fillmode": "overlay",
              "size": 10,
              "solidity": 0.2
             }
            },
            "type": "bar"
           }
          ],
          "barpolar": [
           {
            "marker": {
             "line": {
              "color": "#E5ECF6",
              "width": 0.5
             },
             "pattern": {
              "fillmode": "overlay",
              "size": 10,
              "solidity": 0.2
             }
            },
            "type": "barpolar"
           }
          ],
          "carpet": [
           {
            "aaxis": {
             "endlinecolor": "#2a3f5f",
             "gridcolor": "white",
             "linecolor": "white",
             "minorgridcolor": "white",
             "startlinecolor": "#2a3f5f"
            },
            "baxis": {
             "endlinecolor": "#2a3f5f",
             "gridcolor": "white",
             "linecolor": "white",
             "minorgridcolor": "white",
             "startlinecolor": "#2a3f5f"
            },
            "type": "carpet"
           }
          ],
          "choropleth": [
           {
            "colorbar": {
             "outlinewidth": 0,
             "ticks": ""
            },
            "type": "choropleth"
           }
          ],
          "contour": [
           {
            "colorbar": {
             "outlinewidth": 0,
             "ticks": ""
            },
            "colorscale": [
             [
              0,
              "#0d0887"
             ],
             [
              0.1111111111111111,
              "#46039f"
             ],
             [
              0.2222222222222222,
              "#7201a8"
             ],
             [
              0.3333333333333333,
              "#9c179e"
             ],
             [
              0.4444444444444444,
              "#bd3786"
             ],
             [
              0.5555555555555556,
              "#d8576b"
             ],
             [
              0.6666666666666666,
              "#ed7953"
             ],
             [
              0.7777777777777778,
              "#fb9f3a"
             ],
             [
              0.8888888888888888,
              "#fdca26"
             ],
             [
              1,
              "#f0f921"
             ]
            ],
            "type": "contour"
           }
          ],
          "contourcarpet": [
           {
            "colorbar": {
             "outlinewidth": 0,
             "ticks": ""
            },
            "type": "contourcarpet"
           }
          ],
          "heatmap": [
           {
            "colorbar": {
             "outlinewidth": 0,
             "ticks": ""
            },
            "colorscale": [
             [
              0,
              "#0d0887"
             ],
             [
              0.1111111111111111,
              "#46039f"
             ],
             [
              0.2222222222222222,
              "#7201a8"
             ],
             [
              0.3333333333333333,
              "#9c179e"
             ],
             [
              0.4444444444444444,
              "#bd3786"
             ],
             [
              0.5555555555555556,
              "#d8576b"
             ],
             [
              0.6666666666666666,
              "#ed7953"
             ],
             [
              0.7777777777777778,
              "#fb9f3a"
             ],
             [
              0.8888888888888888,
              "#fdca26"
             ],
             [
              1,
              "#f0f921"
             ]
            ],
            "type": "heatmap"
           }
          ],
          "heatmapgl": [
           {
            "colorbar": {
             "outlinewidth": 0,
             "ticks": ""
            },
            "colorscale": [
             [
              0,
              "#0d0887"
             ],
             [
              0.1111111111111111,
              "#46039f"
             ],
             [
              0.2222222222222222,
              "#7201a8"
             ],
             [
              0.3333333333333333,
              "#9c179e"
             ],
             [
              0.4444444444444444,
              "#bd3786"
             ],
             [
              0.5555555555555556,
              "#d8576b"
             ],
             [
              0.6666666666666666,
              "#ed7953"
             ],
             [
              0.7777777777777778,
              "#fb9f3a"
             ],
             [
              0.8888888888888888,
              "#fdca26"
             ],
             [
              1,
              "#f0f921"
             ]
            ],
            "type": "heatmapgl"
           }
          ],
          "histogram": [
           {
            "marker": {
             "pattern": {
              "fillmode": "overlay",
              "size": 10,
              "solidity": 0.2
             }
            },
            "type": "histogram"
           }
          ],
          "histogram2d": [
           {
            "colorbar": {
             "outlinewidth": 0,
             "ticks": ""
            },
            "colorscale": [
             [
              0,
              "#0d0887"
             ],
             [
              0.1111111111111111,
              "#46039f"
             ],
             [
              0.2222222222222222,
              "#7201a8"
             ],
             [
              0.3333333333333333,
              "#9c179e"
             ],
             [
              0.4444444444444444,
              "#bd3786"
             ],
             [
              0.5555555555555556,
              "#d8576b"
             ],
             [
              0.6666666666666666,
              "#ed7953"
             ],
             [
              0.7777777777777778,
              "#fb9f3a"
             ],
             [
              0.8888888888888888,
              "#fdca26"
             ],
             [
              1,
              "#f0f921"
             ]
            ],
            "type": "histogram2d"
           }
          ],
          "histogram2dcontour": [
           {
            "colorbar": {
             "outlinewidth": 0,
             "ticks": ""
            },
            "colorscale": [
             [
              0,
              "#0d0887"
             ],
             [
              0.1111111111111111,
              "#46039f"
             ],
             [
              0.2222222222222222,
              "#7201a8"
             ],
             [
              0.3333333333333333,
              "#9c179e"
             ],
             [
              0.4444444444444444,
              "#bd3786"
             ],
             [
              0.5555555555555556,
              "#d8576b"
             ],
             [
              0.6666666666666666,
              "#ed7953"
             ],
             [
              0.7777777777777778,
              "#fb9f3a"
             ],
             [
              0.8888888888888888,
              "#fdca26"
             ],
             [
              1,
              "#f0f921"
             ]
            ],
            "type": "histogram2dcontour"
           }
          ],
          "mesh3d": [
           {
            "colorbar": {
             "outlinewidth": 0,
             "ticks": ""
            },
            "type": "mesh3d"
           }
          ],
          "parcoords": [
           {
            "line": {
             "colorbar": {
              "outlinewidth": 0,
              "ticks": ""
             }
            },
            "type": "parcoords"
           }
          ],
          "pie": [
           {
            "automargin": true,
            "type": "pie"
           }
          ],
          "scatter": [
           {
            "fillpattern": {
             "fillmode": "overlay",
             "size": 10,
             "solidity": 0.2
            },
            "type": "scatter"
           }
          ],
          "scatter3d": [
           {
            "line": {
             "colorbar": {
              "outlinewidth": 0,
              "ticks": ""
             }
            },
            "marker": {
             "colorbar": {
              "outlinewidth": 0,
              "ticks": ""
             }
            },
            "type": "scatter3d"
           }
          ],
          "scattercarpet": [
           {
            "marker": {
             "colorbar": {
              "outlinewidth": 0,
              "ticks": ""
             }
            },
            "type": "scattercarpet"
           }
          ],
          "scattergeo": [
           {
            "marker": {
             "colorbar": {
              "outlinewidth": 0,
              "ticks": ""
             }
            },
            "type": "scattergeo"
           }
          ],
          "scattergl": [
           {
            "marker": {
             "colorbar": {
              "outlinewidth": 0,
              "ticks": ""
             }
            },
            "type": "scattergl"
           }
          ],
          "scattermapbox": [
           {
            "marker": {
             "colorbar": {
              "outlinewidth": 0,
              "ticks": ""
             }
            },
            "type": "scattermapbox"
           }
          ],
          "scatterpolar": [
           {
            "marker": {
             "colorbar": {
              "outlinewidth": 0,
              "ticks": ""
             }
            },
            "type": "scatterpolar"
           }
          ],
          "scatterpolargl": [
           {
            "marker": {
             "colorbar": {
              "outlinewidth": 0,
              "ticks": ""
             }
            },
            "type": "scatterpolargl"
           }
          ],
          "scatterternary": [
           {
            "marker": {
             "colorbar": {
              "outlinewidth": 0,
              "ticks": ""
             }
            },
            "type": "scatterternary"
           }
          ],
          "surface": [
           {
            "colorbar": {
             "outlinewidth": 0,
             "ticks": ""
            },
            "colorscale": [
             [
              0,
              "#0d0887"
             ],
             [
              0.1111111111111111,
              "#46039f"
             ],
             [
              0.2222222222222222,
              "#7201a8"
             ],
             [
              0.3333333333333333,
              "#9c179e"
             ],
             [
              0.4444444444444444,
              "#bd3786"
             ],
             [
              0.5555555555555556,
              "#d8576b"
             ],
             [
              0.6666666666666666,
              "#ed7953"
             ],
             [
              0.7777777777777778,
              "#fb9f3a"
             ],
             [
              0.8888888888888888,
              "#fdca26"
             ],
             [
              1,
              "#f0f921"
             ]
            ],
            "type": "surface"
           }
          ],
          "table": [
           {
            "cells": {
             "fill": {
              "color": "#EBF0F8"
             },
             "line": {
              "color": "white"
             }
            },
            "header": {
             "fill": {
              "color": "#C8D4E3"
             },
             "line": {
              "color": "white"
             }
            },
            "type": "table"
           }
          ]
         },
         "layout": {
          "annotationdefaults": {
           "arrowcolor": "#2a3f5f",
           "arrowhead": 0,
           "arrowwidth": 1
          },
          "autotypenumbers": "strict",
          "coloraxis": {
           "colorbar": {
            "outlinewidth": 0,
            "ticks": ""
           }
          },
          "colorscale": {
           "diverging": [
            [
             0,
             "#8e0152"
            ],
            [
             0.1,
             "#c51b7d"
            ],
            [
             0.2,
             "#de77ae"
            ],
            [
             0.3,
             "#f1b6da"
            ],
            [
             0.4,
             "#fde0ef"
            ],
            [
             0.5,
             "#f7f7f7"
            ],
            [
             0.6,
             "#e6f5d0"
            ],
            [
             0.7,
             "#b8e186"
            ],
            [
             0.8,
             "#7fbc41"
            ],
            [
             0.9,
             "#4d9221"
            ],
            [
             1,
             "#276419"
            ]
           ],
           "sequential": [
            [
             0,
             "#0d0887"
            ],
            [
             0.1111111111111111,
             "#46039f"
            ],
            [
             0.2222222222222222,
             "#7201a8"
            ],
            [
             0.3333333333333333,
             "#9c179e"
            ],
            [
             0.4444444444444444,
             "#bd3786"
            ],
            [
             0.5555555555555556,
             "#d8576b"
            ],
            [
             0.6666666666666666,
             "#ed7953"
            ],
            [
             0.7777777777777778,
             "#fb9f3a"
            ],
            [
             0.8888888888888888,
             "#fdca26"
            ],
            [
             1,
             "#f0f921"
            ]
           ],
           "sequentialminus": [
            [
             0,
             "#0d0887"
            ],
            [
             0.1111111111111111,
             "#46039f"
            ],
            [
             0.2222222222222222,
             "#7201a8"
            ],
            [
             0.3333333333333333,
             "#9c179e"
            ],
            [
             0.4444444444444444,
             "#bd3786"
            ],
            [
             0.5555555555555556,
             "#d8576b"
            ],
            [
             0.6666666666666666,
             "#ed7953"
            ],
            [
             0.7777777777777778,
             "#fb9f3a"
            ],
            [
             0.8888888888888888,
             "#fdca26"
            ],
            [
             1,
             "#f0f921"
            ]
           ]
          },
          "colorway": [
           "#636efa",
           "#EF553B",
           "#00cc96",
           "#ab63fa",
           "#FFA15A",
           "#19d3f3",
           "#FF6692",
           "#B6E880",
           "#FF97FF",
           "#FECB52"
          ],
          "font": {
           "color": "#2a3f5f"
          },
          "geo": {
           "bgcolor": "white",
           "lakecolor": "white",
           "landcolor": "#E5ECF6",
           "showlakes": true,
           "showland": true,
           "subunitcolor": "white"
          },
          "hoverlabel": {
           "align": "left"
          },
          "hovermode": "closest",
          "mapbox": {
           "style": "light"
          },
          "paper_bgcolor": "white",
          "plot_bgcolor": "#E5ECF6",
          "polar": {
           "angularaxis": {
            "gridcolor": "white",
            "linecolor": "white",
            "ticks": ""
           },
           "bgcolor": "#E5ECF6",
           "radialaxis": {
            "gridcolor": "white",
            "linecolor": "white",
            "ticks": ""
           }
          },
          "scene": {
           "xaxis": {
            "backgroundcolor": "#E5ECF6",
            "gridcolor": "white",
            "gridwidth": 2,
            "linecolor": "white",
            "showbackground": true,
            "ticks": "",
            "zerolinecolor": "white"
           },
           "yaxis": {
            "backgroundcolor": "#E5ECF6",
            "gridcolor": "white",
            "gridwidth": 2,
            "linecolor": "white",
            "showbackground": true,
            "ticks": "",
            "zerolinecolor": "white"
           },
           "zaxis": {
            "backgroundcolor": "#E5ECF6",
            "gridcolor": "white",
            "gridwidth": 2,
            "linecolor": "white",
            "showbackground": true,
            "ticks": "",
            "zerolinecolor": "white"
           }
          },
          "shapedefaults": {
           "line": {
            "color": "#2a3f5f"
           }
          },
          "ternary": {
           "aaxis": {
            "gridcolor": "white",
            "linecolor": "white",
            "ticks": ""
           },
           "baxis": {
            "gridcolor": "white",
            "linecolor": "white",
            "ticks": ""
           },
           "bgcolor": "#E5ECF6",
           "caxis": {
            "gridcolor": "white",
            "linecolor": "white",
            "ticks": ""
           }
          },
          "title": {
           "x": 0.05
          },
          "xaxis": {
           "automargin": true,
           "gridcolor": "white",
           "linecolor": "white",
           "ticks": "",
           "title": {
            "standoff": 15
           },
           "zerolinecolor": "white",
           "zerolinewidth": 2
          },
          "yaxis": {
           "automargin": true,
           "gridcolor": "white",
           "linecolor": "white",
           "ticks": "",
           "title": {
            "standoff": 15
           },
           "zerolinecolor": "white",
           "zerolinewidth": 2
          }
         }
        },
        "title": {
         "text": "Energy vs. Speechiness"
        },
        "xaxis": {
         "anchor": "y",
         "domain": [
          0,
          1
         ],
         "title": {
          "text": "energy"
         }
        },
        "yaxis": {
         "anchor": "x",
         "domain": [
          0,
          1
         ],
         "title": {
          "text": "speechiness"
         }
        }
       }
      },
      "text/html": [
       "<div>                            <div id=\"125f1d36-ed84-4623-835b-2c627eb963bb\" class=\"plotly-graph-div\" style=\"height:525px; width:100%;\"></div>            <script type=\"text/javascript\">                require([\"plotly\"], function(Plotly) {                    window.PLOTLYENV=window.PLOTLYENV || {};                                    if (document.getElementById(\"125f1d36-ed84-4623-835b-2c627eb963bb\")) {                    Plotly.newPlot(                        \"125f1d36-ed84-4623-835b-2c627eb963bb\",                        [{\"customdata\":[[\"Blinding Lights\"],[\"Shape of You\"],[\"Dance Monkey\"],[\"Someone You Loved\"],[\"Rockstar\"],[\"Sunflower\"],[\"One Dance\"],[\"Closer\"],[\"Stay\"],[\"Believer\"],[\"Se\\u00f1orita\"],[\"Perfect\"],[\"Heat Waves\"],[\"Say You Won't Let Go\"],[\"Starboy\"],[\"Bad Guy\"],[\"Thinking Out Loud\"],[\"Lucid Dreams\"],[\"Don't Start Now\"],[\"Lovely\"],[\"Watermelon Sugar\"],[\"God's Plan\"],[\"Photograph\"],[\"Bohemian Rhapsody\"],[\"Something Just Like This\"],[\"Sweater Weather\"],[\"Shallow\"],[\"As It Was\"],[\"Love Yourself\"],[\"Circles\"],[\"Sad!\"],[\"Take Me to Church\"],[\"All of Me\"],[\"Thunder\"],[\"7 Rings\"],[\"Goosebumps\"],[\"Jocelyn Flores\"],[\"Havana\"],[\"Stressed Out\"],[\"XO Tour Llif3\"],[\"Counting Stars\"],[\"New Rules\"],[\"Wake Me Up\"],[\"Riptide\"],[\"Happier\"],[\"Humble\"],[\"Let Her Go\"],[\"The Hills\"],[\"Sicko Mode\"],[\"Can't Hold Us\"],[\"Good 4 U\"],[\"Sorry\"],[\"One Kiss\"],[\"Let Me Love You\"],[\"Drivers License\"],[\"Lean On\"],[\"Treat You Better\"],[\"Roses (Imanbek remix)\"],[\"Better Now\"],[\"Stay with Me\"],[\"Congratulations\"],[\"Faded\"],[\"Without Me\"],[\"Industry Baby\"],[\"Lose Yourself\"],[\"Memories\"],[\"Demons\"],[\"Mr. Brightside\"],[\"Uptown Funk\"],[\"Too Good at Goodbyes\"],[\"Levitating\"],[\"I Took a Pill in Ibiza\\u00a0(Seeb\\u00a0Remix)\"],[\"Don't Let Me Down\"],[\"Thank U, Next\"],[\"I Don't Care\"],[\"Dakiti\"],[\"Montero (Call Me by Your Name)\"],[\"Mood\"],[\"Do I Wanna Know?\"],[\"Unforgettable\"],[\"Dynamite\"],[\"Despacito (remix)\"],[\"Moonlight\"],[\"Wonderwall\"],[\"No Role Modelz\"],[\"That's What I Like\"],[\"The Box\"],[\"'Till I Collapse\"],[\"There's Nothing Holdin' Me Back\"],[\"Stitches\"],[\"Cheap Thrills\"],[\"Smells Like Teen Spirit\"],[\"See You Again\"],[\"I'm Yours\"],[\"I Like Me Better\"],[\"7 Years\"],[\"Yellow\"],[\"Sugar\"],[\"Despacito\"],[\"Don't Stop Me Now\"]],\"hovertemplate\":\"energy=%{x}<br>speechiness=%{y}<br>name=%{customdata[0]}<extra></extra>\",\"legendgroup\":\"\",\"marker\":{\"color\":\"#636efa\",\"symbol\":\"circle\"},\"mode\":\"markers\",\"name\":\"\",\"orientation\":\"v\",\"showlegend\":false,\"x\":[0.73,0.652,0.588,0.405,0.52,0.479,0.625,0.524,0.31,0.78,0.548,0.663,0.525,0.557,0.587,0.425,0.445,0.566,0.185,0.296,0.816,0.449,0.379,0.402,0.635,0.807,0.385,0.731,0.378,0.762,0.613,0.664,0.264,0.89,0.317,0.728,0.391,0.523,0.637,0.75,0.705,0.7,0.783,0.731,0.67,0.621,0.545,0.564,0.73,0.871,0.664,0.643,0.862,0.716,0.431,0.809,0.819,0.719,0.578,0.42,0.804,0.627,0.669,0.704,0.744,0.684,0.71,0.911,0.609,0.372,0.825,0.714,0.502,0.653,0.676,0.573,0.503,0.74,0.532,0.769,0.783,0.816,0.537,0.893,0.521,0.56,0.586,0.847,0.813,0.754,0.698,0.912,0.559,0.633,0.505,0.473,0.661,0.816,0.797,0.553],\"xaxis\":\"x\",\"y\":[0.0598,0.0802,0.0924,0.0319,0.0712,0.0466,0.0536,0.0338,0.0283,0.128,0.029,0.0331,0.0944,0.059,0.276,0.375,0.0296,0.2,0.0484,0.0333,0.0465,0.109,0.0359,0.0536,0.0317,0.0336,0.0308,0.0557,0.438,0.0395,0.145,0.0464,0.0322,0.0364,0.334,0.0484,0.242,0.03,0.141,0.231,0.0382,0.0694,0.0523,0.0379,0.0751,0.102,0.0688,0.0515,0.222,0.0752,0.154,0.0984,0.11,0.0349,0.0578,0.0625,0.341,0.0474,0.04,0.0414,0.0363,0.0476,0.0738,0.0615,0.257,0.044,0.0321,0.0747,0.0824,0.0432,0.0601,0.111,0.0493,0.0658,0.0442,0.0544,0.22,0.336,0.0323,0.123,0.0859,0.167,0.0804,0.0406,0.339,0.0406,0.0559,0.186,0.0554,0.0615,0.105,0.0564,0.0959,0.0711,0.255,0.0514,0.0281,0.0465,0.153,0.0773],\"yaxis\":\"y\",\"type\":\"scatter\"}],                        {\"template\":{\"data\":{\"histogram2dcontour\":[{\"type\":\"histogram2dcontour\",\"colorbar\":{\"outlinewidth\":0,\"ticks\":\"\"},\"colorscale\":[[0.0,\"#0d0887\"],[0.1111111111111111,\"#46039f\"],[0.2222222222222222,\"#7201a8\"],[0.3333333333333333,\"#9c179e\"],[0.4444444444444444,\"#bd3786\"],[0.5555555555555556,\"#d8576b\"],[0.6666666666666666,\"#ed7953\"],[0.7777777777777778,\"#fb9f3a\"],[0.8888888888888888,\"#fdca26\"],[1.0,\"#f0f921\"]]}],\"choropleth\":[{\"type\":\"choropleth\",\"colorbar\":{\"outlinewidth\":0,\"ticks\":\"\"}}],\"histogram2d\":[{\"type\":\"histogram2d\",\"colorbar\":{\"outlinewidth\":0,\"ticks\":\"\"},\"colorscale\":[[0.0,\"#0d0887\"],[0.1111111111111111,\"#46039f\"],[0.2222222222222222,\"#7201a8\"],[0.3333333333333333,\"#9c179e\"],[0.4444444444444444,\"#bd3786\"],[0.5555555555555556,\"#d8576b\"],[0.6666666666666666,\"#ed7953\"],[0.7777777777777778,\"#fb9f3a\"],[0.8888888888888888,\"#fdca26\"],[1.0,\"#f0f921\"]]}],\"heatmap\":[{\"type\":\"heatmap\",\"colorbar\":{\"outlinewidth\":0,\"ticks\":\"\"},\"colorscale\":[[0.0,\"#0d0887\"],[0.1111111111111111,\"#46039f\"],[0.2222222222222222,\"#7201a8\"],[0.3333333333333333,\"#9c179e\"],[0.4444444444444444,\"#bd3786\"],[0.5555555555555556,\"#d8576b\"],[0.6666666666666666,\"#ed7953\"],[0.7777777777777778,\"#fb9f3a\"],[0.8888888888888888,\"#fdca26\"],[1.0,\"#f0f921\"]]}],\"heatmapgl\":[{\"type\":\"heatmapgl\",\"colorbar\":{\"outlinewidth\":0,\"ticks\":\"\"},\"colorscale\":[[0.0,\"#0d0887\"],[0.1111111111111111,\"#46039f\"],[0.2222222222222222,\"#7201a8\"],[0.3333333333333333,\"#9c179e\"],[0.4444444444444444,\"#bd3786\"],[0.5555555555555556,\"#d8576b\"],[0.6666666666666666,\"#ed7953\"],[0.7777777777777778,\"#fb9f3a\"],[0.8888888888888888,\"#fdca26\"],[1.0,\"#f0f921\"]]}],\"contourcarpet\":[{\"type\":\"contourcarpet\",\"colorbar\":{\"outlinewidth\":0,\"ticks\":\"\"}}],\"contour\":[{\"type\":\"contour\",\"colorbar\":{\"outlinewidth\":0,\"ticks\":\"\"},\"colorscale\":[[0.0,\"#0d0887\"],[0.1111111111111111,\"#46039f\"],[0.2222222222222222,\"#7201a8\"],[0.3333333333333333,\"#9c179e\"],[0.4444444444444444,\"#bd3786\"],[0.5555555555555556,\"#d8576b\"],[0.6666666666666666,\"#ed7953\"],[0.7777777777777778,\"#fb9f3a\"],[0.8888888888888888,\"#fdca26\"],[1.0,\"#f0f921\"]]}],\"surface\":[{\"type\":\"surface\",\"colorbar\":{\"outlinewidth\":0,\"ticks\":\"\"},\"colorscale\":[[0.0,\"#0d0887\"],[0.1111111111111111,\"#46039f\"],[0.2222222222222222,\"#7201a8\"],[0.3333333333333333,\"#9c179e\"],[0.4444444444444444,\"#bd3786\"],[0.5555555555555556,\"#d8576b\"],[0.6666666666666666,\"#ed7953\"],[0.7777777777777778,\"#fb9f3a\"],[0.8888888888888888,\"#fdca26\"],[1.0,\"#f0f921\"]]}],\"mesh3d\":[{\"type\":\"mesh3d\",\"colorbar\":{\"outlinewidth\":0,\"ticks\":\"\"}}],\"scatter\":[{\"fillpattern\":{\"fillmode\":\"overlay\",\"size\":10,\"solidity\":0.2},\"type\":\"scatter\"}],\"parcoords\":[{\"type\":\"parcoords\",\"line\":{\"colorbar\":{\"outlinewidth\":0,\"ticks\":\"\"}}}],\"scatterpolargl\":[{\"type\":\"scatterpolargl\",\"marker\":{\"colorbar\":{\"outlinewidth\":0,\"ticks\":\"\"}}}],\"bar\":[{\"error_x\":{\"color\":\"#2a3f5f\"},\"error_y\":{\"color\":\"#2a3f5f\"},\"marker\":{\"line\":{\"color\":\"#E5ECF6\",\"width\":0.5},\"pattern\":{\"fillmode\":\"overlay\",\"size\":10,\"solidity\":0.2}},\"type\":\"bar\"}],\"scattergeo\":[{\"type\":\"scattergeo\",\"marker\":{\"colorbar\":{\"outlinewidth\":0,\"ticks\":\"\"}}}],\"scatterpolar\":[{\"type\":\"scatterpolar\",\"marker\":{\"colorbar\":{\"outlinewidth\":0,\"ticks\":\"\"}}}],\"histogram\":[{\"marker\":{\"pattern\":{\"fillmode\":\"overlay\",\"size\":10,\"solidity\":0.2}},\"type\":\"histogram\"}],\"scattergl\":[{\"type\":\"scattergl\",\"marker\":{\"colorbar\":{\"outlinewidth\":0,\"ticks\":\"\"}}}],\"scatter3d\":[{\"type\":\"scatter3d\",\"line\":{\"colorbar\":{\"outlinewidth\":0,\"ticks\":\"\"}},\"marker\":{\"colorbar\":{\"outlinewidth\":0,\"ticks\":\"\"}}}],\"scattermapbox\":[{\"type\":\"scattermapbox\",\"marker\":{\"colorbar\":{\"outlinewidth\":0,\"ticks\":\"\"}}}],\"scatterternary\":[{\"type\":\"scatterternary\",\"marker\":{\"colorbar\":{\"outlinewidth\":0,\"ticks\":\"\"}}}],\"scattercarpet\":[{\"type\":\"scattercarpet\",\"marker\":{\"colorbar\":{\"outlinewidth\":0,\"ticks\":\"\"}}}],\"carpet\":[{\"aaxis\":{\"endlinecolor\":\"#2a3f5f\",\"gridcolor\":\"white\",\"linecolor\":\"white\",\"minorgridcolor\":\"white\",\"startlinecolor\":\"#2a3f5f\"},\"baxis\":{\"endlinecolor\":\"#2a3f5f\",\"gridcolor\":\"white\",\"linecolor\":\"white\",\"minorgridcolor\":\"white\",\"startlinecolor\":\"#2a3f5f\"},\"type\":\"carpet\"}],\"table\":[{\"cells\":{\"fill\":{\"color\":\"#EBF0F8\"},\"line\":{\"color\":\"white\"}},\"header\":{\"fill\":{\"color\":\"#C8D4E3\"},\"line\":{\"color\":\"white\"}},\"type\":\"table\"}],\"barpolar\":[{\"marker\":{\"line\":{\"color\":\"#E5ECF6\",\"width\":0.5},\"pattern\":{\"fillmode\":\"overlay\",\"size\":10,\"solidity\":0.2}},\"type\":\"barpolar\"}],\"pie\":[{\"automargin\":true,\"type\":\"pie\"}]},\"layout\":{\"autotypenumbers\":\"strict\",\"colorway\":[\"#636efa\",\"#EF553B\",\"#00cc96\",\"#ab63fa\",\"#FFA15A\",\"#19d3f3\",\"#FF6692\",\"#B6E880\",\"#FF97FF\",\"#FECB52\"],\"font\":{\"color\":\"#2a3f5f\"},\"hovermode\":\"closest\",\"hoverlabel\":{\"align\":\"left\"},\"paper_bgcolor\":\"white\",\"plot_bgcolor\":\"#E5ECF6\",\"polar\":{\"bgcolor\":\"#E5ECF6\",\"angularaxis\":{\"gridcolor\":\"white\",\"linecolor\":\"white\",\"ticks\":\"\"},\"radialaxis\":{\"gridcolor\":\"white\",\"linecolor\":\"white\",\"ticks\":\"\"}},\"ternary\":{\"bgcolor\":\"#E5ECF6\",\"aaxis\":{\"gridcolor\":\"white\",\"linecolor\":\"white\",\"ticks\":\"\"},\"baxis\":{\"gridcolor\":\"white\",\"linecolor\":\"white\",\"ticks\":\"\"},\"caxis\":{\"gridcolor\":\"white\",\"linecolor\":\"white\",\"ticks\":\"\"}},\"coloraxis\":{\"colorbar\":{\"outlinewidth\":0,\"ticks\":\"\"}},\"colorscale\":{\"sequential\":[[0.0,\"#0d0887\"],[0.1111111111111111,\"#46039f\"],[0.2222222222222222,\"#7201a8\"],[0.3333333333333333,\"#9c179e\"],[0.4444444444444444,\"#bd3786\"],[0.5555555555555556,\"#d8576b\"],[0.6666666666666666,\"#ed7953\"],[0.7777777777777778,\"#fb9f3a\"],[0.8888888888888888,\"#fdca26\"],[1.0,\"#f0f921\"]],\"sequentialminus\":[[0.0,\"#0d0887\"],[0.1111111111111111,\"#46039f\"],[0.2222222222222222,\"#7201a8\"],[0.3333333333333333,\"#9c179e\"],[0.4444444444444444,\"#bd3786\"],[0.5555555555555556,\"#d8576b\"],[0.6666666666666666,\"#ed7953\"],[0.7777777777777778,\"#fb9f3a\"],[0.8888888888888888,\"#fdca26\"],[1.0,\"#f0f921\"]],\"diverging\":[[0,\"#8e0152\"],[0.1,\"#c51b7d\"],[0.2,\"#de77ae\"],[0.3,\"#f1b6da\"],[0.4,\"#fde0ef\"],[0.5,\"#f7f7f7\"],[0.6,\"#e6f5d0\"],[0.7,\"#b8e186\"],[0.8,\"#7fbc41\"],[0.9,\"#4d9221\"],[1,\"#276419\"]]},\"xaxis\":{\"gridcolor\":\"white\",\"linecolor\":\"white\",\"ticks\":\"\",\"title\":{\"standoff\":15},\"zerolinecolor\":\"white\",\"automargin\":true,\"zerolinewidth\":2},\"yaxis\":{\"gridcolor\":\"white\",\"linecolor\":\"white\",\"ticks\":\"\",\"title\":{\"standoff\":15},\"zerolinecolor\":\"white\",\"automargin\":true,\"zerolinewidth\":2},\"scene\":{\"xaxis\":{\"backgroundcolor\":\"#E5ECF6\",\"gridcolor\":\"white\",\"linecolor\":\"white\",\"showbackground\":true,\"ticks\":\"\",\"zerolinecolor\":\"white\",\"gridwidth\":2},\"yaxis\":{\"backgroundcolor\":\"#E5ECF6\",\"gridcolor\":\"white\",\"linecolor\":\"white\",\"showbackground\":true,\"ticks\":\"\",\"zerolinecolor\":\"white\",\"gridwidth\":2},\"zaxis\":{\"backgroundcolor\":\"#E5ECF6\",\"gridcolor\":\"white\",\"linecolor\":\"white\",\"showbackground\":true,\"ticks\":\"\",\"zerolinecolor\":\"white\",\"gridwidth\":2}},\"shapedefaults\":{\"line\":{\"color\":\"#2a3f5f\"}},\"annotationdefaults\":{\"arrowcolor\":\"#2a3f5f\",\"arrowhead\":0,\"arrowwidth\":1},\"geo\":{\"bgcolor\":\"white\",\"landcolor\":\"#E5ECF6\",\"subunitcolor\":\"white\",\"showland\":true,\"showlakes\":true,\"lakecolor\":\"white\"},\"title\":{\"x\":0.05},\"mapbox\":{\"style\":\"light\"}}},\"xaxis\":{\"anchor\":\"y\",\"domain\":[0.0,1.0],\"title\":{\"text\":\"energy\"}},\"yaxis\":{\"anchor\":\"x\",\"domain\":[0.0,1.0],\"title\":{\"text\":\"speechiness\"}},\"legend\":{\"tracegroupgap\":0},\"title\":{\"text\":\"Energy vs. Speechiness\"}},                        {\"responsive\": true}                    ).then(function(){\n",
       "                            \n",
       "var gd = document.getElementById('125f1d36-ed84-4623-835b-2c627eb963bb');\n",
       "var x = new MutationObserver(function (mutations, observer) {{\n",
       "        var display = window.getComputedStyle(gd).display;\n",
       "        if (!display || display === 'none') {{\n",
       "            console.log([gd, 'removed!']);\n",
       "            Plotly.purge(gd);\n",
       "            observer.disconnect();\n",
       "        }}\n",
       "}});\n",
       "\n",
       "// Listen for the removal of the full notebook cells\n",
       "var notebookContainer = gd.closest('#notebook-container');\n",
       "if (notebookContainer) {{\n",
       "    x.observe(notebookContainer, {childList: true});\n",
       "}}\n",
       "\n",
       "// Listen for the clearing of the current output cell\n",
       "var outputEl = gd.closest('.output');\n",
       "if (outputEl) {{\n",
       "    x.observe(outputEl, {childList: true});\n",
       "}}\n",
       "\n",
       "                        })                };                });            </script>        </div>"
      ]
     },
     "metadata": {},
     "output_type": "display_data"
    }
   ],
   "source": [
    "fig = px.scatter(features_df, x=\"energy\", y=\"speechiness\", title=\"Energy vs. Speechiness\",\n",
    "                 hover_data=['energy', 'speechiness','name'])\n",
    "fig.show()"
   ]
  },
  {
   "cell_type": "code",
   "execution_count": 9,
   "metadata": {
    "colab": {
     "base_uri": "https://localhost:8080/",
     "height": 542
    },
    "id": "ATDRikiH3EOo",
    "outputId": "dcadb055-1b8d-4d1e-ee5b-8644b01a3c8e"
   },
   "outputs": [
    {
     "data": {
      "application/vnd.plotly.v1+json": {
       "config": {
        "plotlyServerURL": "https://plot.ly"
       },
       "data": [
        {
         "dimensions": [
          {
           "axis": {
            "matches": true
           },
           "label": "duration",
           "values": [
            3.33,
            3.9,
            3.49,
            3.04,
            3.64,
            2.63,
            2.9,
            4.08,
            4.01,
            3.41,
            3.18,
            2.96,
            3.98,
            3.52,
            3.84,
            3.23,
            4.69,
            4,
            3.02,
            3.34,
            2.9,
            3.32,
            4.32,
            5.91,
            4.12,
            4.01,
            3.6,
            2.79,
            3.9,
            3.59,
            2.78,
            4.03,
            4.49,
            4.88,
            2.98,
            4.06,
            1.99,
            3.62,
            3.37,
            3.05,
            4.3,
            3.49,
            4.12,
            3.4,
            3.21,
            2.95,
            4.21,
            4.04,
            5.21,
            1.52,
            2.97,
            3.1,
            3.58,
            3.43,
            4.03,
            2.94,
            3.13,
            2.95,
            3.85,
            2.88,
            3.67,
            3.54,
            4.84,
            3.53,
            5.44,
            4.15,
            2.92,
            3.72,
            4.49,
            3.35,
            3.38,
            3.3,
            3.49,
            3.46,
            3.67,
            3.42,
            2.3,
            2.16,
            4.54,
            3.9,
            3.38,
            3.81,
            2.25,
            4.31,
            4.88,
            3.44,
            3.28,
            4.96,
            3.32,
            3.45,
            3.53,
            5.03,
            3.01,
            2.93,
            3.29,
            3.96,
            4.45,
            2.9,
            3.82,
            7.05
           ]
          },
          {
           "axis": {
            "matches": true
           },
           "label": "loudness",
           "values": [
            -5.934,
            -3.183,
            -6.4,
            -5.679,
            -6.136,
            -5.574,
            -5.609,
            -5.599,
            -10.164,
            -4.374,
            -6.049,
            -6.818,
            -6.9,
            -7.398,
            -7.015,
            -10.965,
            -6.061,
            -7.23,
            -12.205,
            -10.109,
            -4.209,
            -9.211,
            -10.48,
            -9.961,
            -6.769,
            -2.81,
            -6.362,
            -5.338,
            -9.828,
            -3.497,
            -4.88,
            -5.303,
            -7.064,
            -5.175,
            -10.732,
            -3.37,
            -9.144,
            -4.333,
            -5.677,
            -6.366,
            -4.972,
            -6.021,
            -5.697,
            -6.694,
            -6.009,
            -6.638,
            -7.346,
            -7.063,
            -3.714,
            -6.351,
            -5.044,
            -7.811,
            -3.24,
            -5.371,
            -8.81,
            -3.081,
            -4.078,
            -5.472,
            -5.804,
            -6.444,
            -4.183,
            -5.085,
            -2.827,
            -7.409,
            -4.565,
            -6.306,
            -3.015,
            -5.23,
            -7.223,
            -8.237,
            -3.787,
            -6.645,
            -7.539,
            -5.634,
            -5.041,
            -10.059,
            -6.725,
            -6.595,
            -7.596,
            -5.043,
            -3.724,
            -4.353,
            -5.723,
            -4.097,
            -8.492,
            -4.961,
            -6.687,
            -3.237,
            -4.063,
            -6.684,
            -5.608,
            -4.556,
            -9.222,
            -6.726,
            -7.621,
            -5.829,
            -7.227,
            -4.209,
            -4.787,
            -5.51
           ]
          },
          {
           "axis": {
            "matches": true
           },
           "label": "energy",
           "values": [
            0.73,
            0.652,
            0.588,
            0.405,
            0.52,
            0.479,
            0.625,
            0.524,
            0.31,
            0.78,
            0.548,
            0.663,
            0.525,
            0.557,
            0.587,
            0.425,
            0.445,
            0.566,
            0.185,
            0.296,
            0.816,
            0.449,
            0.379,
            0.402,
            0.635,
            0.807,
            0.385,
            0.731,
            0.378,
            0.762,
            0.613,
            0.664,
            0.264,
            0.89,
            0.317,
            0.728,
            0.391,
            0.523,
            0.637,
            0.75,
            0.705,
            0.7,
            0.783,
            0.731,
            0.67,
            0.621,
            0.545,
            0.564,
            0.73,
            0.871,
            0.664,
            0.643,
            0.862,
            0.716,
            0.431,
            0.809,
            0.819,
            0.719,
            0.578,
            0.42,
            0.804,
            0.627,
            0.669,
            0.704,
            0.744,
            0.684,
            0.71,
            0.911,
            0.609,
            0.372,
            0.825,
            0.714,
            0.502,
            0.653,
            0.676,
            0.573,
            0.503,
            0.74,
            0.532,
            0.769,
            0.783,
            0.816,
            0.537,
            0.893,
            0.521,
            0.56,
            0.586,
            0.847,
            0.813,
            0.754,
            0.698,
            0.912,
            0.559,
            0.633,
            0.505,
            0.473,
            0.661,
            0.816,
            0.797,
            0.553
           ]
          }
         ],
         "hovertemplate": "%{xaxis.title.text}=%{x}<br>%{yaxis.title.text}=%{y}<br>mode=%{marker.color}<extra></extra>",
         "legendgroup": "",
         "marker": {
          "color": [
           1,
           0,
           0,
           1,
           0,
           1,
           1,
           1,
           0,
           0,
           0,
           1,
           1,
           1,
           1,
           1,
           1,
           0,
           0,
           0,
           1,
           1,
           1,
           0,
           0,
           1,
           1,
           0,
           1,
           1,
           1,
           0,
           1,
           1,
           0,
           1,
           0,
           1,
           0,
           0,
           0,
           0,
           1,
           1,
           1,
           0,
           1,
           0,
           1,
           1,
           1,
           0,
           0,
           1,
           1,
           0,
           0,
           1,
           1,
           1,
           1,
           1,
           1,
           0,
           1,
           1,
           1,
           1,
           1,
           1,
           0,
           0,
           1,
           1,
           1,
           0,
           0,
           1,
           1,
           1,
           1,
           1,
           0,
           1,
           0,
           1,
           0,
           1,
           0,
           1,
           0,
           1,
           1,
           1,
           1,
           1,
           1,
           1,
           1,
           1
          ],
          "coloraxis": "coloraxis",
          "symbol": "circle"
         },
         "name": "",
         "showlegend": false,
         "type": "splom"
        }
       ],
       "layout": {
        "coloraxis": {
         "colorbar": {
          "title": {
           "text": "mode"
          }
         },
         "colorscale": [
          [
           0,
           "#0d0887"
          ],
          [
           0.1111111111111111,
           "#46039f"
          ],
          [
           0.2222222222222222,
           "#7201a8"
          ],
          [
           0.3333333333333333,
           "#9c179e"
          ],
          [
           0.4444444444444444,
           "#bd3786"
          ],
          [
           0.5555555555555556,
           "#d8576b"
          ],
          [
           0.6666666666666666,
           "#ed7953"
          ],
          [
           0.7777777777777778,
           "#fb9f3a"
          ],
          [
           0.8888888888888888,
           "#fdca26"
          ],
          [
           1,
           "#f0f921"
          ]
         ]
        },
        "dragmode": "select",
        "legend": {
         "tracegroupgap": 0
        },
        "margin": {
         "t": 60
        },
        "template": {
         "data": {
          "bar": [
           {
            "error_x": {
             "color": "#2a3f5f"
            },
            "error_y": {
             "color": "#2a3f5f"
            },
            "marker": {
             "line": {
              "color": "#E5ECF6",
              "width": 0.5
             },
             "pattern": {
              "fillmode": "overlay",
              "size": 10,
              "solidity": 0.2
             }
            },
            "type": "bar"
           }
          ],
          "barpolar": [
           {
            "marker": {
             "line": {
              "color": "#E5ECF6",
              "width": 0.5
             },
             "pattern": {
              "fillmode": "overlay",
              "size": 10,
              "solidity": 0.2
             }
            },
            "type": "barpolar"
           }
          ],
          "carpet": [
           {
            "aaxis": {
             "endlinecolor": "#2a3f5f",
             "gridcolor": "white",
             "linecolor": "white",
             "minorgridcolor": "white",
             "startlinecolor": "#2a3f5f"
            },
            "baxis": {
             "endlinecolor": "#2a3f5f",
             "gridcolor": "white",
             "linecolor": "white",
             "minorgridcolor": "white",
             "startlinecolor": "#2a3f5f"
            },
            "type": "carpet"
           }
          ],
          "choropleth": [
           {
            "colorbar": {
             "outlinewidth": 0,
             "ticks": ""
            },
            "type": "choropleth"
           }
          ],
          "contour": [
           {
            "colorbar": {
             "outlinewidth": 0,
             "ticks": ""
            },
            "colorscale": [
             [
              0,
              "#0d0887"
             ],
             [
              0.1111111111111111,
              "#46039f"
             ],
             [
              0.2222222222222222,
              "#7201a8"
             ],
             [
              0.3333333333333333,
              "#9c179e"
             ],
             [
              0.4444444444444444,
              "#bd3786"
             ],
             [
              0.5555555555555556,
              "#d8576b"
             ],
             [
              0.6666666666666666,
              "#ed7953"
             ],
             [
              0.7777777777777778,
              "#fb9f3a"
             ],
             [
              0.8888888888888888,
              "#fdca26"
             ],
             [
              1,
              "#f0f921"
             ]
            ],
            "type": "contour"
           }
          ],
          "contourcarpet": [
           {
            "colorbar": {
             "outlinewidth": 0,
             "ticks": ""
            },
            "type": "contourcarpet"
           }
          ],
          "heatmap": [
           {
            "colorbar": {
             "outlinewidth": 0,
             "ticks": ""
            },
            "colorscale": [
             [
              0,
              "#0d0887"
             ],
             [
              0.1111111111111111,
              "#46039f"
             ],
             [
              0.2222222222222222,
              "#7201a8"
             ],
             [
              0.3333333333333333,
              "#9c179e"
             ],
             [
              0.4444444444444444,
              "#bd3786"
             ],
             [
              0.5555555555555556,
              "#d8576b"
             ],
             [
              0.6666666666666666,
              "#ed7953"
             ],
             [
              0.7777777777777778,
              "#fb9f3a"
             ],
             [
              0.8888888888888888,
              "#fdca26"
             ],
             [
              1,
              "#f0f921"
             ]
            ],
            "type": "heatmap"
           }
          ],
          "heatmapgl": [
           {
            "colorbar": {
             "outlinewidth": 0,
             "ticks": ""
            },
            "colorscale": [
             [
              0,
              "#0d0887"
             ],
             [
              0.1111111111111111,
              "#46039f"
             ],
             [
              0.2222222222222222,
              "#7201a8"
             ],
             [
              0.3333333333333333,
              "#9c179e"
             ],
             [
              0.4444444444444444,
              "#bd3786"
             ],
             [
              0.5555555555555556,
              "#d8576b"
             ],
             [
              0.6666666666666666,
              "#ed7953"
             ],
             [
              0.7777777777777778,
              "#fb9f3a"
             ],
             [
              0.8888888888888888,
              "#fdca26"
             ],
             [
              1,
              "#f0f921"
             ]
            ],
            "type": "heatmapgl"
           }
          ],
          "histogram": [
           {
            "marker": {
             "pattern": {
              "fillmode": "overlay",
              "size": 10,
              "solidity": 0.2
             }
            },
            "type": "histogram"
           }
          ],
          "histogram2d": [
           {
            "colorbar": {
             "outlinewidth": 0,
             "ticks": ""
            },
            "colorscale": [
             [
              0,
              "#0d0887"
             ],
             [
              0.1111111111111111,
              "#46039f"
             ],
             [
              0.2222222222222222,
              "#7201a8"
             ],
             [
              0.3333333333333333,
              "#9c179e"
             ],
             [
              0.4444444444444444,
              "#bd3786"
             ],
             [
              0.5555555555555556,
              "#d8576b"
             ],
             [
              0.6666666666666666,
              "#ed7953"
             ],
             [
              0.7777777777777778,
              "#fb9f3a"
             ],
             [
              0.8888888888888888,
              "#fdca26"
             ],
             [
              1,
              "#f0f921"
             ]
            ],
            "type": "histogram2d"
           }
          ],
          "histogram2dcontour": [
           {
            "colorbar": {
             "outlinewidth": 0,
             "ticks": ""
            },
            "colorscale": [
             [
              0,
              "#0d0887"
             ],
             [
              0.1111111111111111,
              "#46039f"
             ],
             [
              0.2222222222222222,
              "#7201a8"
             ],
             [
              0.3333333333333333,
              "#9c179e"
             ],
             [
              0.4444444444444444,
              "#bd3786"
             ],
             [
              0.5555555555555556,
              "#d8576b"
             ],
             [
              0.6666666666666666,
              "#ed7953"
             ],
             [
              0.7777777777777778,
              "#fb9f3a"
             ],
             [
              0.8888888888888888,
              "#fdca26"
             ],
             [
              1,
              "#f0f921"
             ]
            ],
            "type": "histogram2dcontour"
           }
          ],
          "mesh3d": [
           {
            "colorbar": {
             "outlinewidth": 0,
             "ticks": ""
            },
            "type": "mesh3d"
           }
          ],
          "parcoords": [
           {
            "line": {
             "colorbar": {
              "outlinewidth": 0,
              "ticks": ""
             }
            },
            "type": "parcoords"
           }
          ],
          "pie": [
           {
            "automargin": true,
            "type": "pie"
           }
          ],
          "scatter": [
           {
            "fillpattern": {
             "fillmode": "overlay",
             "size": 10,
             "solidity": 0.2
            },
            "type": "scatter"
           }
          ],
          "scatter3d": [
           {
            "line": {
             "colorbar": {
              "outlinewidth": 0,
              "ticks": ""
             }
            },
            "marker": {
             "colorbar": {
              "outlinewidth": 0,
              "ticks": ""
             }
            },
            "type": "scatter3d"
           }
          ],
          "scattercarpet": [
           {
            "marker": {
             "colorbar": {
              "outlinewidth": 0,
              "ticks": ""
             }
            },
            "type": "scattercarpet"
           }
          ],
          "scattergeo": [
           {
            "marker": {
             "colorbar": {
              "outlinewidth": 0,
              "ticks": ""
             }
            },
            "type": "scattergeo"
           }
          ],
          "scattergl": [
           {
            "marker": {
             "colorbar": {
              "outlinewidth": 0,
              "ticks": ""
             }
            },
            "type": "scattergl"
           }
          ],
          "scattermapbox": [
           {
            "marker": {
             "colorbar": {
              "outlinewidth": 0,
              "ticks": ""
             }
            },
            "type": "scattermapbox"
           }
          ],
          "scatterpolar": [
           {
            "marker": {
             "colorbar": {
              "outlinewidth": 0,
              "ticks": ""
             }
            },
            "type": "scatterpolar"
           }
          ],
          "scatterpolargl": [
           {
            "marker": {
             "colorbar": {
              "outlinewidth": 0,
              "ticks": ""
             }
            },
            "type": "scatterpolargl"
           }
          ],
          "scatterternary": [
           {
            "marker": {
             "colorbar": {
              "outlinewidth": 0,
              "ticks": ""
             }
            },
            "type": "scatterternary"
           }
          ],
          "surface": [
           {
            "colorbar": {
             "outlinewidth": 0,
             "ticks": ""
            },
            "colorscale": [
             [
              0,
              "#0d0887"
             ],
             [
              0.1111111111111111,
              "#46039f"
             ],
             [
              0.2222222222222222,
              "#7201a8"
             ],
             [
              0.3333333333333333,
              "#9c179e"
             ],
             [
              0.4444444444444444,
              "#bd3786"
             ],
             [
              0.5555555555555556,
              "#d8576b"
             ],
             [
              0.6666666666666666,
              "#ed7953"
             ],
             [
              0.7777777777777778,
              "#fb9f3a"
             ],
             [
              0.8888888888888888,
              "#fdca26"
             ],
             [
              1,
              "#f0f921"
             ]
            ],
            "type": "surface"
           }
          ],
          "table": [
           {
            "cells": {
             "fill": {
              "color": "#EBF0F8"
             },
             "line": {
              "color": "white"
             }
            },
            "header": {
             "fill": {
              "color": "#C8D4E3"
             },
             "line": {
              "color": "white"
             }
            },
            "type": "table"
           }
          ]
         },
         "layout": {
          "annotationdefaults": {
           "arrowcolor": "#2a3f5f",
           "arrowhead": 0,
           "arrowwidth": 1
          },
          "autotypenumbers": "strict",
          "coloraxis": {
           "colorbar": {
            "outlinewidth": 0,
            "ticks": ""
           }
          },
          "colorscale": {
           "diverging": [
            [
             0,
             "#8e0152"
            ],
            [
             0.1,
             "#c51b7d"
            ],
            [
             0.2,
             "#de77ae"
            ],
            [
             0.3,
             "#f1b6da"
            ],
            [
             0.4,
             "#fde0ef"
            ],
            [
             0.5,
             "#f7f7f7"
            ],
            [
             0.6,
             "#e6f5d0"
            ],
            [
             0.7,
             "#b8e186"
            ],
            [
             0.8,
             "#7fbc41"
            ],
            [
             0.9,
             "#4d9221"
            ],
            [
             1,
             "#276419"
            ]
           ],
           "sequential": [
            [
             0,
             "#0d0887"
            ],
            [
             0.1111111111111111,
             "#46039f"
            ],
            [
             0.2222222222222222,
             "#7201a8"
            ],
            [
             0.3333333333333333,
             "#9c179e"
            ],
            [
             0.4444444444444444,
             "#bd3786"
            ],
            [
             0.5555555555555556,
             "#d8576b"
            ],
            [
             0.6666666666666666,
             "#ed7953"
            ],
            [
             0.7777777777777778,
             "#fb9f3a"
            ],
            [
             0.8888888888888888,
             "#fdca26"
            ],
            [
             1,
             "#f0f921"
            ]
           ],
           "sequentialminus": [
            [
             0,
             "#0d0887"
            ],
            [
             0.1111111111111111,
             "#46039f"
            ],
            [
             0.2222222222222222,
             "#7201a8"
            ],
            [
             0.3333333333333333,
             "#9c179e"
            ],
            [
             0.4444444444444444,
             "#bd3786"
            ],
            [
             0.5555555555555556,
             "#d8576b"
            ],
            [
             0.6666666666666666,
             "#ed7953"
            ],
            [
             0.7777777777777778,
             "#fb9f3a"
            ],
            [
             0.8888888888888888,
             "#fdca26"
            ],
            [
             1,
             "#f0f921"
            ]
           ]
          },
          "colorway": [
           "#636efa",
           "#EF553B",
           "#00cc96",
           "#ab63fa",
           "#FFA15A",
           "#19d3f3",
           "#FF6692",
           "#B6E880",
           "#FF97FF",
           "#FECB52"
          ],
          "font": {
           "color": "#2a3f5f"
          },
          "geo": {
           "bgcolor": "white",
           "lakecolor": "white",
           "landcolor": "#E5ECF6",
           "showlakes": true,
           "showland": true,
           "subunitcolor": "white"
          },
          "hoverlabel": {
           "align": "left"
          },
          "hovermode": "closest",
          "mapbox": {
           "style": "light"
          },
          "paper_bgcolor": "white",
          "plot_bgcolor": "#E5ECF6",
          "polar": {
           "angularaxis": {
            "gridcolor": "white",
            "linecolor": "white",
            "ticks": ""
           },
           "bgcolor": "#E5ECF6",
           "radialaxis": {
            "gridcolor": "white",
            "linecolor": "white",
            "ticks": ""
           }
          },
          "scene": {
           "xaxis": {
            "backgroundcolor": "#E5ECF6",
            "gridcolor": "white",
            "gridwidth": 2,
            "linecolor": "white",
            "showbackground": true,
            "ticks": "",
            "zerolinecolor": "white"
           },
           "yaxis": {
            "backgroundcolor": "#E5ECF6",
            "gridcolor": "white",
            "gridwidth": 2,
            "linecolor": "white",
            "showbackground": true,
            "ticks": "",
            "zerolinecolor": "white"
           },
           "zaxis": {
            "backgroundcolor": "#E5ECF6",
            "gridcolor": "white",
            "gridwidth": 2,
            "linecolor": "white",
            "showbackground": true,
            "ticks": "",
            "zerolinecolor": "white"
           }
          },
          "shapedefaults": {
           "line": {
            "color": "#2a3f5f"
           }
          },
          "ternary": {
           "aaxis": {
            "gridcolor": "white",
            "linecolor": "white",
            "ticks": ""
           },
           "baxis": {
            "gridcolor": "white",
            "linecolor": "white",
            "ticks": ""
           },
           "bgcolor": "#E5ECF6",
           "caxis": {
            "gridcolor": "white",
            "linecolor": "white",
            "ticks": ""
           }
          },
          "title": {
           "x": 0.05
          },
          "xaxis": {
           "automargin": true,
           "gridcolor": "white",
           "linecolor": "white",
           "ticks": "",
           "title": {
            "standoff": 15
           },
           "zerolinecolor": "white",
           "zerolinewidth": 2
          },
          "yaxis": {
           "automargin": true,
           "gridcolor": "white",
           "linecolor": "white",
           "ticks": "",
           "title": {
            "standoff": 15
           },
           "zerolinecolor": "white",
           "zerolinewidth": 2
          }
         }
        },
        "title": {
         "text": "Relationship between loudness, energy, and duration"
        }
       }
      },
      "text/html": [
       "<div>                            <div id=\"3934197a-d4ad-4897-88ac-62a8c7978d52\" class=\"plotly-graph-div\" style=\"height:525px; width:100%;\"></div>            <script type=\"text/javascript\">                require([\"plotly\"], function(Plotly) {                    window.PLOTLYENV=window.PLOTLYENV || {};                                    if (document.getElementById(\"3934197a-d4ad-4897-88ac-62a8c7978d52\")) {                    Plotly.newPlot(                        \"3934197a-d4ad-4897-88ac-62a8c7978d52\",                        [{\"dimensions\":[{\"axis\":{\"matches\":true},\"label\":\"duration\",\"values\":[3.33,3.9,3.49,3.04,3.64,2.63,2.9,4.08,4.01,3.41,3.18,2.96,3.98,3.52,3.84,3.23,4.69,4.0,3.02,3.34,2.9,3.32,4.32,5.91,4.12,4.01,3.6,2.79,3.9,3.59,2.78,4.03,4.49,4.88,2.98,4.06,1.99,3.62,3.37,3.05,4.3,3.49,4.12,3.4,3.21,2.95,4.21,4.04,5.21,1.52,2.97,3.1,3.58,3.43,4.03,2.94,3.13,2.95,3.85,2.88,3.67,3.54,4.84,3.53,5.44,4.15,2.92,3.72,4.49,3.35,3.38,3.3,3.49,3.46,3.67,3.42,2.3,2.16,4.54,3.9,3.38,3.81,2.25,4.31,4.88,3.44,3.28,4.96,3.32,3.45,3.53,5.03,3.01,2.93,3.29,3.96,4.45,2.9,3.82,7.05]},{\"axis\":{\"matches\":true},\"label\":\"loudness\",\"values\":[-5.934,-3.183,-6.4,-5.679,-6.136,-5.574,-5.609,-5.599,-10.164,-4.374,-6.049,-6.818,-6.9,-7.398,-7.015,-10.965,-6.061,-7.23,-12.205,-10.109,-4.209,-9.211,-10.48,-9.961,-6.769,-2.81,-6.362,-5.338,-9.828,-3.497,-4.88,-5.303,-7.064,-5.175,-10.732,-3.37,-9.144,-4.333,-5.677,-6.366,-4.972,-6.021,-5.697,-6.694,-6.009,-6.638,-7.346,-7.063,-3.714,-6.351,-5.044,-7.811,-3.24,-5.371,-8.81,-3.081,-4.078,-5.472,-5.804,-6.444,-4.183,-5.085,-2.827,-7.409,-4.565,-6.306,-3.015,-5.23,-7.223,-8.237,-3.787,-6.645,-7.539,-5.634,-5.041,-10.059,-6.725,-6.595,-7.596,-5.043,-3.724,-4.353,-5.723,-4.097,-8.492,-4.961,-6.687,-3.237,-4.063,-6.684,-5.608,-4.556,-9.222,-6.726,-7.621,-5.829,-7.227,-4.209,-4.787,-5.51]},{\"axis\":{\"matches\":true},\"label\":\"energy\",\"values\":[0.73,0.652,0.588,0.405,0.52,0.479,0.625,0.524,0.31,0.78,0.548,0.663,0.525,0.557,0.587,0.425,0.445,0.566,0.185,0.296,0.816,0.449,0.379,0.402,0.635,0.807,0.385,0.731,0.378,0.762,0.613,0.664,0.264,0.89,0.317,0.728,0.391,0.523,0.637,0.75,0.705,0.7,0.783,0.731,0.67,0.621,0.545,0.564,0.73,0.871,0.664,0.643,0.862,0.716,0.431,0.809,0.819,0.719,0.578,0.42,0.804,0.627,0.669,0.704,0.744,0.684,0.71,0.911,0.609,0.372,0.825,0.714,0.502,0.653,0.676,0.573,0.503,0.74,0.532,0.769,0.783,0.816,0.537,0.893,0.521,0.56,0.586,0.847,0.813,0.754,0.698,0.912,0.559,0.633,0.505,0.473,0.661,0.816,0.797,0.553]}],\"hovertemplate\":\"%{xaxis.title.text}=%{x}<br>%{yaxis.title.text}=%{y}<br>mode=%{marker.color}<extra></extra>\",\"legendgroup\":\"\",\"marker\":{\"color\":[1,0,0,1,0,1,1,1,0,0,0,1,1,1,1,1,1,0,0,0,1,1,1,0,0,1,1,0,1,1,1,0,1,1,0,1,0,1,0,0,0,0,1,1,1,0,1,0,1,1,1,0,0,1,1,0,0,1,1,1,1,1,1,0,1,1,1,1,1,1,0,0,1,1,1,0,0,1,1,1,1,1,0,1,0,1,0,1,0,1,0,1,1,1,1,1,1,1,1,1],\"coloraxis\":\"coloraxis\",\"symbol\":\"circle\"},\"name\":\"\",\"showlegend\":false,\"type\":\"splom\"}],                        {\"template\":{\"data\":{\"histogram2dcontour\":[{\"type\":\"histogram2dcontour\",\"colorbar\":{\"outlinewidth\":0,\"ticks\":\"\"},\"colorscale\":[[0.0,\"#0d0887\"],[0.1111111111111111,\"#46039f\"],[0.2222222222222222,\"#7201a8\"],[0.3333333333333333,\"#9c179e\"],[0.4444444444444444,\"#bd3786\"],[0.5555555555555556,\"#d8576b\"],[0.6666666666666666,\"#ed7953\"],[0.7777777777777778,\"#fb9f3a\"],[0.8888888888888888,\"#fdca26\"],[1.0,\"#f0f921\"]]}],\"choropleth\":[{\"type\":\"choropleth\",\"colorbar\":{\"outlinewidth\":0,\"ticks\":\"\"}}],\"histogram2d\":[{\"type\":\"histogram2d\",\"colorbar\":{\"outlinewidth\":0,\"ticks\":\"\"},\"colorscale\":[[0.0,\"#0d0887\"],[0.1111111111111111,\"#46039f\"],[0.2222222222222222,\"#7201a8\"],[0.3333333333333333,\"#9c179e\"],[0.4444444444444444,\"#bd3786\"],[0.5555555555555556,\"#d8576b\"],[0.6666666666666666,\"#ed7953\"],[0.7777777777777778,\"#fb9f3a\"],[0.8888888888888888,\"#fdca26\"],[1.0,\"#f0f921\"]]}],\"heatmap\":[{\"type\":\"heatmap\",\"colorbar\":{\"outlinewidth\":0,\"ticks\":\"\"},\"colorscale\":[[0.0,\"#0d0887\"],[0.1111111111111111,\"#46039f\"],[0.2222222222222222,\"#7201a8\"],[0.3333333333333333,\"#9c179e\"],[0.4444444444444444,\"#bd3786\"],[0.5555555555555556,\"#d8576b\"],[0.6666666666666666,\"#ed7953\"],[0.7777777777777778,\"#fb9f3a\"],[0.8888888888888888,\"#fdca26\"],[1.0,\"#f0f921\"]]}],\"heatmapgl\":[{\"type\":\"heatmapgl\",\"colorbar\":{\"outlinewidth\":0,\"ticks\":\"\"},\"colorscale\":[[0.0,\"#0d0887\"],[0.1111111111111111,\"#46039f\"],[0.2222222222222222,\"#7201a8\"],[0.3333333333333333,\"#9c179e\"],[0.4444444444444444,\"#bd3786\"],[0.5555555555555556,\"#d8576b\"],[0.6666666666666666,\"#ed7953\"],[0.7777777777777778,\"#fb9f3a\"],[0.8888888888888888,\"#fdca26\"],[1.0,\"#f0f921\"]]}],\"contourcarpet\":[{\"type\":\"contourcarpet\",\"colorbar\":{\"outlinewidth\":0,\"ticks\":\"\"}}],\"contour\":[{\"type\":\"contour\",\"colorbar\":{\"outlinewidth\":0,\"ticks\":\"\"},\"colorscale\":[[0.0,\"#0d0887\"],[0.1111111111111111,\"#46039f\"],[0.2222222222222222,\"#7201a8\"],[0.3333333333333333,\"#9c179e\"],[0.4444444444444444,\"#bd3786\"],[0.5555555555555556,\"#d8576b\"],[0.6666666666666666,\"#ed7953\"],[0.7777777777777778,\"#fb9f3a\"],[0.8888888888888888,\"#fdca26\"],[1.0,\"#f0f921\"]]}],\"surface\":[{\"type\":\"surface\",\"colorbar\":{\"outlinewidth\":0,\"ticks\":\"\"},\"colorscale\":[[0.0,\"#0d0887\"],[0.1111111111111111,\"#46039f\"],[0.2222222222222222,\"#7201a8\"],[0.3333333333333333,\"#9c179e\"],[0.4444444444444444,\"#bd3786\"],[0.5555555555555556,\"#d8576b\"],[0.6666666666666666,\"#ed7953\"],[0.7777777777777778,\"#fb9f3a\"],[0.8888888888888888,\"#fdca26\"],[1.0,\"#f0f921\"]]}],\"mesh3d\":[{\"type\":\"mesh3d\",\"colorbar\":{\"outlinewidth\":0,\"ticks\":\"\"}}],\"scatter\":[{\"fillpattern\":{\"fillmode\":\"overlay\",\"size\":10,\"solidity\":0.2},\"type\":\"scatter\"}],\"parcoords\":[{\"type\":\"parcoords\",\"line\":{\"colorbar\":{\"outlinewidth\":0,\"ticks\":\"\"}}}],\"scatterpolargl\":[{\"type\":\"scatterpolargl\",\"marker\":{\"colorbar\":{\"outlinewidth\":0,\"ticks\":\"\"}}}],\"bar\":[{\"error_x\":{\"color\":\"#2a3f5f\"},\"error_y\":{\"color\":\"#2a3f5f\"},\"marker\":{\"line\":{\"color\":\"#E5ECF6\",\"width\":0.5},\"pattern\":{\"fillmode\":\"overlay\",\"size\":10,\"solidity\":0.2}},\"type\":\"bar\"}],\"scattergeo\":[{\"type\":\"scattergeo\",\"marker\":{\"colorbar\":{\"outlinewidth\":0,\"ticks\":\"\"}}}],\"scatterpolar\":[{\"type\":\"scatterpolar\",\"marker\":{\"colorbar\":{\"outlinewidth\":0,\"ticks\":\"\"}}}],\"histogram\":[{\"marker\":{\"pattern\":{\"fillmode\":\"overlay\",\"size\":10,\"solidity\":0.2}},\"type\":\"histogram\"}],\"scattergl\":[{\"type\":\"scattergl\",\"marker\":{\"colorbar\":{\"outlinewidth\":0,\"ticks\":\"\"}}}],\"scatter3d\":[{\"type\":\"scatter3d\",\"line\":{\"colorbar\":{\"outlinewidth\":0,\"ticks\":\"\"}},\"marker\":{\"colorbar\":{\"outlinewidth\":0,\"ticks\":\"\"}}}],\"scattermapbox\":[{\"type\":\"scattermapbox\",\"marker\":{\"colorbar\":{\"outlinewidth\":0,\"ticks\":\"\"}}}],\"scatterternary\":[{\"type\":\"scatterternary\",\"marker\":{\"colorbar\":{\"outlinewidth\":0,\"ticks\":\"\"}}}],\"scattercarpet\":[{\"type\":\"scattercarpet\",\"marker\":{\"colorbar\":{\"outlinewidth\":0,\"ticks\":\"\"}}}],\"carpet\":[{\"aaxis\":{\"endlinecolor\":\"#2a3f5f\",\"gridcolor\":\"white\",\"linecolor\":\"white\",\"minorgridcolor\":\"white\",\"startlinecolor\":\"#2a3f5f\"},\"baxis\":{\"endlinecolor\":\"#2a3f5f\",\"gridcolor\":\"white\",\"linecolor\":\"white\",\"minorgridcolor\":\"white\",\"startlinecolor\":\"#2a3f5f\"},\"type\":\"carpet\"}],\"table\":[{\"cells\":{\"fill\":{\"color\":\"#EBF0F8\"},\"line\":{\"color\":\"white\"}},\"header\":{\"fill\":{\"color\":\"#C8D4E3\"},\"line\":{\"color\":\"white\"}},\"type\":\"table\"}],\"barpolar\":[{\"marker\":{\"line\":{\"color\":\"#E5ECF6\",\"width\":0.5},\"pattern\":{\"fillmode\":\"overlay\",\"size\":10,\"solidity\":0.2}},\"type\":\"barpolar\"}],\"pie\":[{\"automargin\":true,\"type\":\"pie\"}]},\"layout\":{\"autotypenumbers\":\"strict\",\"colorway\":[\"#636efa\",\"#EF553B\",\"#00cc96\",\"#ab63fa\",\"#FFA15A\",\"#19d3f3\",\"#FF6692\",\"#B6E880\",\"#FF97FF\",\"#FECB52\"],\"font\":{\"color\":\"#2a3f5f\"},\"hovermode\":\"closest\",\"hoverlabel\":{\"align\":\"left\"},\"paper_bgcolor\":\"white\",\"plot_bgcolor\":\"#E5ECF6\",\"polar\":{\"bgcolor\":\"#E5ECF6\",\"angularaxis\":{\"gridcolor\":\"white\",\"linecolor\":\"white\",\"ticks\":\"\"},\"radialaxis\":{\"gridcolor\":\"white\",\"linecolor\":\"white\",\"ticks\":\"\"}},\"ternary\":{\"bgcolor\":\"#E5ECF6\",\"aaxis\":{\"gridcolor\":\"white\",\"linecolor\":\"white\",\"ticks\":\"\"},\"baxis\":{\"gridcolor\":\"white\",\"linecolor\":\"white\",\"ticks\":\"\"},\"caxis\":{\"gridcolor\":\"white\",\"linecolor\":\"white\",\"ticks\":\"\"}},\"coloraxis\":{\"colorbar\":{\"outlinewidth\":0,\"ticks\":\"\"}},\"colorscale\":{\"sequential\":[[0.0,\"#0d0887\"],[0.1111111111111111,\"#46039f\"],[0.2222222222222222,\"#7201a8\"],[0.3333333333333333,\"#9c179e\"],[0.4444444444444444,\"#bd3786\"],[0.5555555555555556,\"#d8576b\"],[0.6666666666666666,\"#ed7953\"],[0.7777777777777778,\"#fb9f3a\"],[0.8888888888888888,\"#fdca26\"],[1.0,\"#f0f921\"]],\"sequentialminus\":[[0.0,\"#0d0887\"],[0.1111111111111111,\"#46039f\"],[0.2222222222222222,\"#7201a8\"],[0.3333333333333333,\"#9c179e\"],[0.4444444444444444,\"#bd3786\"],[0.5555555555555556,\"#d8576b\"],[0.6666666666666666,\"#ed7953\"],[0.7777777777777778,\"#fb9f3a\"],[0.8888888888888888,\"#fdca26\"],[1.0,\"#f0f921\"]],\"diverging\":[[0,\"#8e0152\"],[0.1,\"#c51b7d\"],[0.2,\"#de77ae\"],[0.3,\"#f1b6da\"],[0.4,\"#fde0ef\"],[0.5,\"#f7f7f7\"],[0.6,\"#e6f5d0\"],[0.7,\"#b8e186\"],[0.8,\"#7fbc41\"],[0.9,\"#4d9221\"],[1,\"#276419\"]]},\"xaxis\":{\"gridcolor\":\"white\",\"linecolor\":\"white\",\"ticks\":\"\",\"title\":{\"standoff\":15},\"zerolinecolor\":\"white\",\"automargin\":true,\"zerolinewidth\":2},\"yaxis\":{\"gridcolor\":\"white\",\"linecolor\":\"white\",\"ticks\":\"\",\"title\":{\"standoff\":15},\"zerolinecolor\":\"white\",\"automargin\":true,\"zerolinewidth\":2},\"scene\":{\"xaxis\":{\"backgroundcolor\":\"#E5ECF6\",\"gridcolor\":\"white\",\"linecolor\":\"white\",\"showbackground\":true,\"ticks\":\"\",\"zerolinecolor\":\"white\",\"gridwidth\":2},\"yaxis\":{\"backgroundcolor\":\"#E5ECF6\",\"gridcolor\":\"white\",\"linecolor\":\"white\",\"showbackground\":true,\"ticks\":\"\",\"zerolinecolor\":\"white\",\"gridwidth\":2},\"zaxis\":{\"backgroundcolor\":\"#E5ECF6\",\"gridcolor\":\"white\",\"linecolor\":\"white\",\"showbackground\":true,\"ticks\":\"\",\"zerolinecolor\":\"white\",\"gridwidth\":2}},\"shapedefaults\":{\"line\":{\"color\":\"#2a3f5f\"}},\"annotationdefaults\":{\"arrowcolor\":\"#2a3f5f\",\"arrowhead\":0,\"arrowwidth\":1},\"geo\":{\"bgcolor\":\"white\",\"landcolor\":\"#E5ECF6\",\"subunitcolor\":\"white\",\"showland\":true,\"showlakes\":true,\"lakecolor\":\"white\"},\"title\":{\"x\":0.05},\"mapbox\":{\"style\":\"light\"}}},\"coloraxis\":{\"colorbar\":{\"title\":{\"text\":\"mode\"}},\"colorscale\":[[0.0,\"#0d0887\"],[0.1111111111111111,\"#46039f\"],[0.2222222222222222,\"#7201a8\"],[0.3333333333333333,\"#9c179e\"],[0.4444444444444444,\"#bd3786\"],[0.5555555555555556,\"#d8576b\"],[0.6666666666666666,\"#ed7953\"],[0.7777777777777778,\"#fb9f3a\"],[0.8888888888888888,\"#fdca26\"],[1.0,\"#f0f921\"]]},\"legend\":{\"tracegroupgap\":0},\"margin\":{\"t\":60},\"dragmode\":\"select\",\"title\":{\"text\":\"Relationship between loudness, energy, and duration\"}},                        {\"responsive\": true}                    ).then(function(){\n",
       "                            \n",
       "var gd = document.getElementById('3934197a-d4ad-4897-88ac-62a8c7978d52');\n",
       "var x = new MutationObserver(function (mutations, observer) {{\n",
       "        var display = window.getComputedStyle(gd).display;\n",
       "        if (!display || display === 'none') {{\n",
       "            console.log([gd, 'removed!']);\n",
       "            Plotly.purge(gd);\n",
       "            observer.disconnect();\n",
       "        }}\n",
       "}});\n",
       "\n",
       "// Listen for the removal of the full notebook cells\n",
       "var notebookContainer = gd.closest('#notebook-container');\n",
       "if (notebookContainer) {{\n",
       "    x.observe(notebookContainer, {childList: true});\n",
       "}}\n",
       "\n",
       "// Listen for the clearing of the current output cell\n",
       "var outputEl = gd.closest('.output');\n",
       "if (outputEl) {{\n",
       "    x.observe(outputEl, {childList: true});\n",
       "}}\n",
       "\n",
       "                        })                };                });            </script>        </div>"
      ]
     },
     "metadata": {},
     "output_type": "display_data"
    }
   ],
   "source": [
    "fig = px.scatter_matrix(features_df, dimensions=[\"duration\",\"loudness\", \"energy\"], color=\"mode\")\n",
    "\n",
    "# Add title and axis labels\n",
    "fig.update_layout(title='Relationship between loudness, energy, and duration')\n",
    "\n",
    "fig.show()"
   ]
  },
  {
   "cell_type": "code",
   "execution_count": 10,
   "metadata": {
    "colab": {
     "base_uri": "https://localhost:8080/",
     "height": 542
    },
    "id": "dpDUh4UD3Jx2",
    "outputId": "f59f4a4c-e830-4aa9-b9ca-242695b71fa3"
   },
   "outputs": [
    {
     "data": {
      "application/vnd.plotly.v1+json": {
       "config": {
        "plotlyServerURL": "https://plot.ly"
       },
       "data": [
        {
         "dimensions": [
          {
           "axis": {
            "matches": true
           },
           "label": "speechiness",
           "values": [
            0.0598,
            0.0802,
            0.0924,
            0.0319,
            0.0712,
            0.0466,
            0.0536,
            0.0338,
            0.0283,
            0.128,
            0.029,
            0.0331,
            0.0944,
            0.059,
            0.276,
            0.375,
            0.0296,
            0.2,
            0.0484,
            0.0333,
            0.0465,
            0.109,
            0.0359,
            0.0536,
            0.0317,
            0.0336,
            0.0308,
            0.0557,
            0.438,
            0.0395,
            0.145,
            0.0464,
            0.0322,
            0.0364,
            0.334,
            0.0484,
            0.242,
            0.03,
            0.141,
            0.231,
            0.0382,
            0.0694,
            0.0523,
            0.0379,
            0.0751,
            0.102,
            0.0688,
            0.0515,
            0.222,
            0.0752,
            0.154,
            0.0984,
            0.11,
            0.0349,
            0.0578,
            0.0625,
            0.341,
            0.0474,
            0.04,
            0.0414,
            0.0363,
            0.0476,
            0.0738,
            0.0615,
            0.257,
            0.044,
            0.0321,
            0.0747,
            0.0824,
            0.0432,
            0.0601,
            0.111,
            0.0493,
            0.0658,
            0.0442,
            0.0544,
            0.22,
            0.336,
            0.0323,
            0.123,
            0.0859,
            0.167,
            0.0804,
            0.0406,
            0.339,
            0.0406,
            0.0559,
            0.186,
            0.0554,
            0.0615,
            0.105,
            0.0564,
            0.0959,
            0.0711,
            0.255,
            0.0514,
            0.0281,
            0.0465,
            0.153,
            0.0773
           ]
          },
          {
           "axis": {
            "matches": true
           },
           "label": "acousticness",
           "values": [
            0.00146,
            0.581,
            0.692,
            0.751,
            0.124,
            0.556,
            0.00776,
            0.414,
            0.945,
            0.0622,
            0.0392,
            0.433,
            0.44,
            0.695,
            0.141,
            0.328,
            0.474,
            0.349,
            0.876,
            0.934,
            0.122,
            0.0332,
            0.607,
            0.288,
            0.0498,
            0.0495,
            0.371,
            0.342,
            0.835,
            0.192,
            0.258,
            0.634,
            0.922,
            0.000147,
            0.592,
            0.0847,
            0.469,
            0.184,
            0.0462,
            0.00264,
            0.0654,
            0.00265,
            0.0038,
            0.431,
            0.121,
            0.000282,
            0.365,
            0.0671,
            0.00513,
            0.000744,
            0.335,
            8.47e-05,
            0.037,
            0.0863,
            0.768,
            0.00346,
            0.106,
            0.0143,
            0.331,
            0.588,
            0.215,
            0.0281,
            0.00286,
            0.0203,
            0.00868,
            0.00979,
            0.19,
            0.00121,
            0.00801,
            0.64,
            0.00883,
            0.0353,
            0.699,
            0.229,
            0.0902,
            0.401,
            0.293,
            0.696,
            0.186,
            0.0293,
            0.00379,
            0.228,
            0.556,
            0.000509,
            0.324,
            0.013,
            0.104,
            0.0622,
            0.38,
            0.0151,
            0.0472,
            2.55e-05,
            0.371,
            0.0886,
            0.534,
            0.287,
            0.00239,
            0.122,
            0.198,
            0.71
           ]
          },
          {
           "axis": {
            "matches": true
           },
           "label": "instrumentalness",
           "values": [
            9.54e-05,
            0,
            0.000104,
            0,
            7.01e-05,
            0,
            0.0018,
            0,
            6.12e-05,
            0,
            0,
            0.124,
            6.7e-06,
            0,
            6.35e-06,
            0.13,
            0,
            0,
            0.459,
            0,
            0,
            8.29e-05,
            0.000472,
            0,
            1.44e-05,
            0.0177,
            0,
            0.00101,
            0,
            0.00244,
            0.00372,
            0,
            0,
            0.0117,
            0,
            0,
            4.13e-06,
            3.56e-05,
            2.29e-05,
            0,
            0,
            1.55e-05,
            0.0012,
            0,
            0,
            5.39e-05,
            0,
            0,
            0,
            0.00498,
            0,
            0,
            2.19e-05,
            2.63e-05,
            1.42e-05,
            0.00123,
            0,
            0.00777,
            0,
            6.39e-05,
            0,
            7.97e-06,
            0,
            0,
            0.000423,
            0,
            0.00025,
            0,
            8.15e-05,
            0,
            0,
            8.42e-06,
            0.000156,
            0,
            0,
            5.22e-05,
            0,
            6.81e-06,
            0.000263,
            0.0101,
            0,
            0,
            0.00404,
            0,
            0,
            0,
            0,
            0,
            0,
            0,
            0.00143,
            0.000173,
            7.49e-06,
            0,
            2.58e-06,
            0,
            0.000121,
            0,
            0,
            0
           ]
          }
         ],
         "hovertemplate": "%{xaxis.title.text}=%{x}<br>%{yaxis.title.text}=%{y}<br>mode=%{marker.color}<extra></extra>",
         "legendgroup": "",
         "marker": {
          "color": [
           1,
           0,
           0,
           1,
           0,
           1,
           1,
           1,
           0,
           0,
           0,
           1,
           1,
           1,
           1,
           1,
           1,
           0,
           0,
           0,
           1,
           1,
           1,
           0,
           0,
           1,
           1,
           0,
           1,
           1,
           1,
           0,
           1,
           1,
           0,
           1,
           0,
           1,
           0,
           0,
           0,
           0,
           1,
           1,
           1,
           0,
           1,
           0,
           1,
           1,
           1,
           0,
           0,
           1,
           1,
           0,
           0,
           1,
           1,
           1,
           1,
           1,
           1,
           0,
           1,
           1,
           1,
           1,
           1,
           1,
           0,
           0,
           1,
           1,
           1,
           0,
           0,
           1,
           1,
           1,
           1,
           1,
           0,
           1,
           0,
           1,
           0,
           1,
           0,
           1,
           0,
           1,
           1,
           1,
           1,
           1,
           1,
           1,
           1,
           1
          ],
          "coloraxis": "coloraxis",
          "symbol": "circle"
         },
         "name": "",
         "showlegend": false,
         "type": "splom"
        }
       ],
       "layout": {
        "coloraxis": {
         "colorbar": {
          "title": {
           "text": "mode"
          }
         },
         "colorscale": [
          [
           0,
           "#0d0887"
          ],
          [
           0.1111111111111111,
           "#46039f"
          ],
          [
           0.2222222222222222,
           "#7201a8"
          ],
          [
           0.3333333333333333,
           "#9c179e"
          ],
          [
           0.4444444444444444,
           "#bd3786"
          ],
          [
           0.5555555555555556,
           "#d8576b"
          ],
          [
           0.6666666666666666,
           "#ed7953"
          ],
          [
           0.7777777777777778,
           "#fb9f3a"
          ],
          [
           0.8888888888888888,
           "#fdca26"
          ],
          [
           1,
           "#f0f921"
          ]
         ]
        },
        "dragmode": "select",
        "legend": {
         "tracegroupgap": 0
        },
        "margin": {
         "t": 60
        },
        "template": {
         "data": {
          "bar": [
           {
            "error_x": {
             "color": "#2a3f5f"
            },
            "error_y": {
             "color": "#2a3f5f"
            },
            "marker": {
             "line": {
              "color": "#E5ECF6",
              "width": 0.5
             },
             "pattern": {
              "fillmode": "overlay",
              "size": 10,
              "solidity": 0.2
             }
            },
            "type": "bar"
           }
          ],
          "barpolar": [
           {
            "marker": {
             "line": {
              "color": "#E5ECF6",
              "width": 0.5
             },
             "pattern": {
              "fillmode": "overlay",
              "size": 10,
              "solidity": 0.2
             }
            },
            "type": "barpolar"
           }
          ],
          "carpet": [
           {
            "aaxis": {
             "endlinecolor": "#2a3f5f",
             "gridcolor": "white",
             "linecolor": "white",
             "minorgridcolor": "white",
             "startlinecolor": "#2a3f5f"
            },
            "baxis": {
             "endlinecolor": "#2a3f5f",
             "gridcolor": "white",
             "linecolor": "white",
             "minorgridcolor": "white",
             "startlinecolor": "#2a3f5f"
            },
            "type": "carpet"
           }
          ],
          "choropleth": [
           {
            "colorbar": {
             "outlinewidth": 0,
             "ticks": ""
            },
            "type": "choropleth"
           }
          ],
          "contour": [
           {
            "colorbar": {
             "outlinewidth": 0,
             "ticks": ""
            },
            "colorscale": [
             [
              0,
              "#0d0887"
             ],
             [
              0.1111111111111111,
              "#46039f"
             ],
             [
              0.2222222222222222,
              "#7201a8"
             ],
             [
              0.3333333333333333,
              "#9c179e"
             ],
             [
              0.4444444444444444,
              "#bd3786"
             ],
             [
              0.5555555555555556,
              "#d8576b"
             ],
             [
              0.6666666666666666,
              "#ed7953"
             ],
             [
              0.7777777777777778,
              "#fb9f3a"
             ],
             [
              0.8888888888888888,
              "#fdca26"
             ],
             [
              1,
              "#f0f921"
             ]
            ],
            "type": "contour"
           }
          ],
          "contourcarpet": [
           {
            "colorbar": {
             "outlinewidth": 0,
             "ticks": ""
            },
            "type": "contourcarpet"
           }
          ],
          "heatmap": [
           {
            "colorbar": {
             "outlinewidth": 0,
             "ticks": ""
            },
            "colorscale": [
             [
              0,
              "#0d0887"
             ],
             [
              0.1111111111111111,
              "#46039f"
             ],
             [
              0.2222222222222222,
              "#7201a8"
             ],
             [
              0.3333333333333333,
              "#9c179e"
             ],
             [
              0.4444444444444444,
              "#bd3786"
             ],
             [
              0.5555555555555556,
              "#d8576b"
             ],
             [
              0.6666666666666666,
              "#ed7953"
             ],
             [
              0.7777777777777778,
              "#fb9f3a"
             ],
             [
              0.8888888888888888,
              "#fdca26"
             ],
             [
              1,
              "#f0f921"
             ]
            ],
            "type": "heatmap"
           }
          ],
          "heatmapgl": [
           {
            "colorbar": {
             "outlinewidth": 0,
             "ticks": ""
            },
            "colorscale": [
             [
              0,
              "#0d0887"
             ],
             [
              0.1111111111111111,
              "#46039f"
             ],
             [
              0.2222222222222222,
              "#7201a8"
             ],
             [
              0.3333333333333333,
              "#9c179e"
             ],
             [
              0.4444444444444444,
              "#bd3786"
             ],
             [
              0.5555555555555556,
              "#d8576b"
             ],
             [
              0.6666666666666666,
              "#ed7953"
             ],
             [
              0.7777777777777778,
              "#fb9f3a"
             ],
             [
              0.8888888888888888,
              "#fdca26"
             ],
             [
              1,
              "#f0f921"
             ]
            ],
            "type": "heatmapgl"
           }
          ],
          "histogram": [
           {
            "marker": {
             "pattern": {
              "fillmode": "overlay",
              "size": 10,
              "solidity": 0.2
             }
            },
            "type": "histogram"
           }
          ],
          "histogram2d": [
           {
            "colorbar": {
             "outlinewidth": 0,
             "ticks": ""
            },
            "colorscale": [
             [
              0,
              "#0d0887"
             ],
             [
              0.1111111111111111,
              "#46039f"
             ],
             [
              0.2222222222222222,
              "#7201a8"
             ],
             [
              0.3333333333333333,
              "#9c179e"
             ],
             [
              0.4444444444444444,
              "#bd3786"
             ],
             [
              0.5555555555555556,
              "#d8576b"
             ],
             [
              0.6666666666666666,
              "#ed7953"
             ],
             [
              0.7777777777777778,
              "#fb9f3a"
             ],
             [
              0.8888888888888888,
              "#fdca26"
             ],
             [
              1,
              "#f0f921"
             ]
            ],
            "type": "histogram2d"
           }
          ],
          "histogram2dcontour": [
           {
            "colorbar": {
             "outlinewidth": 0,
             "ticks": ""
            },
            "colorscale": [
             [
              0,
              "#0d0887"
             ],
             [
              0.1111111111111111,
              "#46039f"
             ],
             [
              0.2222222222222222,
              "#7201a8"
             ],
             [
              0.3333333333333333,
              "#9c179e"
             ],
             [
              0.4444444444444444,
              "#bd3786"
             ],
             [
              0.5555555555555556,
              "#d8576b"
             ],
             [
              0.6666666666666666,
              "#ed7953"
             ],
             [
              0.7777777777777778,
              "#fb9f3a"
             ],
             [
              0.8888888888888888,
              "#fdca26"
             ],
             [
              1,
              "#f0f921"
             ]
            ],
            "type": "histogram2dcontour"
           }
          ],
          "mesh3d": [
           {
            "colorbar": {
             "outlinewidth": 0,
             "ticks": ""
            },
            "type": "mesh3d"
           }
          ],
          "parcoords": [
           {
            "line": {
             "colorbar": {
              "outlinewidth": 0,
              "ticks": ""
             }
            },
            "type": "parcoords"
           }
          ],
          "pie": [
           {
            "automargin": true,
            "type": "pie"
           }
          ],
          "scatter": [
           {
            "fillpattern": {
             "fillmode": "overlay",
             "size": 10,
             "solidity": 0.2
            },
            "type": "scatter"
           }
          ],
          "scatter3d": [
           {
            "line": {
             "colorbar": {
              "outlinewidth": 0,
              "ticks": ""
             }
            },
            "marker": {
             "colorbar": {
              "outlinewidth": 0,
              "ticks": ""
             }
            },
            "type": "scatter3d"
           }
          ],
          "scattercarpet": [
           {
            "marker": {
             "colorbar": {
              "outlinewidth": 0,
              "ticks": ""
             }
            },
            "type": "scattercarpet"
           }
          ],
          "scattergeo": [
           {
            "marker": {
             "colorbar": {
              "outlinewidth": 0,
              "ticks": ""
             }
            },
            "type": "scattergeo"
           }
          ],
          "scattergl": [
           {
            "marker": {
             "colorbar": {
              "outlinewidth": 0,
              "ticks": ""
             }
            },
            "type": "scattergl"
           }
          ],
          "scattermapbox": [
           {
            "marker": {
             "colorbar": {
              "outlinewidth": 0,
              "ticks": ""
             }
            },
            "type": "scattermapbox"
           }
          ],
          "scatterpolar": [
           {
            "marker": {
             "colorbar": {
              "outlinewidth": 0,
              "ticks": ""
             }
            },
            "type": "scatterpolar"
           }
          ],
          "scatterpolargl": [
           {
            "marker": {
             "colorbar": {
              "outlinewidth": 0,
              "ticks": ""
             }
            },
            "type": "scatterpolargl"
           }
          ],
          "scatterternary": [
           {
            "marker": {
             "colorbar": {
              "outlinewidth": 0,
              "ticks": ""
             }
            },
            "type": "scatterternary"
           }
          ],
          "surface": [
           {
            "colorbar": {
             "outlinewidth": 0,
             "ticks": ""
            },
            "colorscale": [
             [
              0,
              "#0d0887"
             ],
             [
              0.1111111111111111,
              "#46039f"
             ],
             [
              0.2222222222222222,
              "#7201a8"
             ],
             [
              0.3333333333333333,
              "#9c179e"
             ],
             [
              0.4444444444444444,
              "#bd3786"
             ],
             [
              0.5555555555555556,
              "#d8576b"
             ],
             [
              0.6666666666666666,
              "#ed7953"
             ],
             [
              0.7777777777777778,
              "#fb9f3a"
             ],
             [
              0.8888888888888888,
              "#fdca26"
             ],
             [
              1,
              "#f0f921"
             ]
            ],
            "type": "surface"
           }
          ],
          "table": [
           {
            "cells": {
             "fill": {
              "color": "#EBF0F8"
             },
             "line": {
              "color": "white"
             }
            },
            "header": {
             "fill": {
              "color": "#C8D4E3"
             },
             "line": {
              "color": "white"
             }
            },
            "type": "table"
           }
          ]
         },
         "layout": {
          "annotationdefaults": {
           "arrowcolor": "#2a3f5f",
           "arrowhead": 0,
           "arrowwidth": 1
          },
          "autotypenumbers": "strict",
          "coloraxis": {
           "colorbar": {
            "outlinewidth": 0,
            "ticks": ""
           }
          },
          "colorscale": {
           "diverging": [
            [
             0,
             "#8e0152"
            ],
            [
             0.1,
             "#c51b7d"
            ],
            [
             0.2,
             "#de77ae"
            ],
            [
             0.3,
             "#f1b6da"
            ],
            [
             0.4,
             "#fde0ef"
            ],
            [
             0.5,
             "#f7f7f7"
            ],
            [
             0.6,
             "#e6f5d0"
            ],
            [
             0.7,
             "#b8e186"
            ],
            [
             0.8,
             "#7fbc41"
            ],
            [
             0.9,
             "#4d9221"
            ],
            [
             1,
             "#276419"
            ]
           ],
           "sequential": [
            [
             0,
             "#0d0887"
            ],
            [
             0.1111111111111111,
             "#46039f"
            ],
            [
             0.2222222222222222,
             "#7201a8"
            ],
            [
             0.3333333333333333,
             "#9c179e"
            ],
            [
             0.4444444444444444,
             "#bd3786"
            ],
            [
             0.5555555555555556,
             "#d8576b"
            ],
            [
             0.6666666666666666,
             "#ed7953"
            ],
            [
             0.7777777777777778,
             "#fb9f3a"
            ],
            [
             0.8888888888888888,
             "#fdca26"
            ],
            [
             1,
             "#f0f921"
            ]
           ],
           "sequentialminus": [
            [
             0,
             "#0d0887"
            ],
            [
             0.1111111111111111,
             "#46039f"
            ],
            [
             0.2222222222222222,
             "#7201a8"
            ],
            [
             0.3333333333333333,
             "#9c179e"
            ],
            [
             0.4444444444444444,
             "#bd3786"
            ],
            [
             0.5555555555555556,
             "#d8576b"
            ],
            [
             0.6666666666666666,
             "#ed7953"
            ],
            [
             0.7777777777777778,
             "#fb9f3a"
            ],
            [
             0.8888888888888888,
             "#fdca26"
            ],
            [
             1,
             "#f0f921"
            ]
           ]
          },
          "colorway": [
           "#636efa",
           "#EF553B",
           "#00cc96",
           "#ab63fa",
           "#FFA15A",
           "#19d3f3",
           "#FF6692",
           "#B6E880",
           "#FF97FF",
           "#FECB52"
          ],
          "font": {
           "color": "#2a3f5f"
          },
          "geo": {
           "bgcolor": "white",
           "lakecolor": "white",
           "landcolor": "#E5ECF6",
           "showlakes": true,
           "showland": true,
           "subunitcolor": "white"
          },
          "hoverlabel": {
           "align": "left"
          },
          "hovermode": "closest",
          "mapbox": {
           "style": "light"
          },
          "paper_bgcolor": "white",
          "plot_bgcolor": "#E5ECF6",
          "polar": {
           "angularaxis": {
            "gridcolor": "white",
            "linecolor": "white",
            "ticks": ""
           },
           "bgcolor": "#E5ECF6",
           "radialaxis": {
            "gridcolor": "white",
            "linecolor": "white",
            "ticks": ""
           }
          },
          "scene": {
           "xaxis": {
            "backgroundcolor": "#E5ECF6",
            "gridcolor": "white",
            "gridwidth": 2,
            "linecolor": "white",
            "showbackground": true,
            "ticks": "",
            "zerolinecolor": "white"
           },
           "yaxis": {
            "backgroundcolor": "#E5ECF6",
            "gridcolor": "white",
            "gridwidth": 2,
            "linecolor": "white",
            "showbackground": true,
            "ticks": "",
            "zerolinecolor": "white"
           },
           "zaxis": {
            "backgroundcolor": "#E5ECF6",
            "gridcolor": "white",
            "gridwidth": 2,
            "linecolor": "white",
            "showbackground": true,
            "ticks": "",
            "zerolinecolor": "white"
           }
          },
          "shapedefaults": {
           "line": {
            "color": "#2a3f5f"
           }
          },
          "ternary": {
           "aaxis": {
            "gridcolor": "white",
            "linecolor": "white",
            "ticks": ""
           },
           "baxis": {
            "gridcolor": "white",
            "linecolor": "white",
            "ticks": ""
           },
           "bgcolor": "#E5ECF6",
           "caxis": {
            "gridcolor": "white",
            "linecolor": "white",
            "ticks": ""
           }
          },
          "title": {
           "x": 0.05
          },
          "xaxis": {
           "automargin": true,
           "gridcolor": "white",
           "linecolor": "white",
           "ticks": "",
           "title": {
            "standoff": 15
           },
           "zerolinecolor": "white",
           "zerolinewidth": 2
          },
          "yaxis": {
           "automargin": true,
           "gridcolor": "white",
           "linecolor": "white",
           "ticks": "",
           "title": {
            "standoff": 15
           },
           "zerolinecolor": "white",
           "zerolinewidth": 2
          }
         }
        },
        "title": {
         "text": "Relationship between speechiness, acousticness, and instrumentalness"
        }
       }
      },
      "text/html": [
       "<div>                            <div id=\"787304ba-d54d-4057-84b1-0188dc9b7da0\" class=\"plotly-graph-div\" style=\"height:525px; width:100%;\"></div>            <script type=\"text/javascript\">                require([\"plotly\"], function(Plotly) {                    window.PLOTLYENV=window.PLOTLYENV || {};                                    if (document.getElementById(\"787304ba-d54d-4057-84b1-0188dc9b7da0\")) {                    Plotly.newPlot(                        \"787304ba-d54d-4057-84b1-0188dc9b7da0\",                        [{\"dimensions\":[{\"axis\":{\"matches\":true},\"label\":\"speechiness\",\"values\":[0.0598,0.0802,0.0924,0.0319,0.0712,0.0466,0.0536,0.0338,0.0283,0.128,0.029,0.0331,0.0944,0.059,0.276,0.375,0.0296,0.2,0.0484,0.0333,0.0465,0.109,0.0359,0.0536,0.0317,0.0336,0.0308,0.0557,0.438,0.0395,0.145,0.0464,0.0322,0.0364,0.334,0.0484,0.242,0.03,0.141,0.231,0.0382,0.0694,0.0523,0.0379,0.0751,0.102,0.0688,0.0515,0.222,0.0752,0.154,0.0984,0.11,0.0349,0.0578,0.0625,0.341,0.0474,0.04,0.0414,0.0363,0.0476,0.0738,0.0615,0.257,0.044,0.0321,0.0747,0.0824,0.0432,0.0601,0.111,0.0493,0.0658,0.0442,0.0544,0.22,0.336,0.0323,0.123,0.0859,0.167,0.0804,0.0406,0.339,0.0406,0.0559,0.186,0.0554,0.0615,0.105,0.0564,0.0959,0.0711,0.255,0.0514,0.0281,0.0465,0.153,0.0773]},{\"axis\":{\"matches\":true},\"label\":\"acousticness\",\"values\":[0.00146,0.581,0.692,0.751,0.124,0.556,0.00776,0.414,0.945,0.0622,0.0392,0.433,0.44,0.695,0.141,0.328,0.474,0.349,0.876,0.934,0.122,0.0332,0.607,0.288,0.0498,0.0495,0.371,0.342,0.835,0.192,0.258,0.634,0.922,0.000147,0.592,0.0847,0.469,0.184,0.0462,0.00264,0.0654,0.00265,0.0038,0.431,0.121,0.000282,0.365,0.0671,0.00513,0.000744,0.335,8.47e-05,0.037,0.0863,0.768,0.00346,0.106,0.0143,0.331,0.588,0.215,0.0281,0.00286,0.0203,0.00868,0.00979,0.19,0.00121,0.00801,0.64,0.00883,0.0353,0.699,0.229,0.0902,0.401,0.293,0.696,0.186,0.0293,0.00379,0.228,0.556,0.000509,0.324,0.013,0.104,0.0622,0.38,0.0151,0.0472,2.55e-05,0.371,0.0886,0.534,0.287,0.00239,0.122,0.198,0.71]},{\"axis\":{\"matches\":true},\"label\":\"instrumentalness\",\"values\":[9.54e-05,0.0,0.000104,0.0,7.01e-05,0.0,0.0018,0.0,6.12e-05,0.0,0.0,0.124,6.7e-06,0.0,6.35e-06,0.13,0.0,0.0,0.459,0.0,0.0,8.29e-05,0.000472,0.0,1.44e-05,0.0177,0.0,0.00101,0.0,0.00244,0.00372,0.0,0.0,0.0117,0.0,0.0,4.13e-06,3.56e-05,2.29e-05,0.0,0.0,1.55e-05,0.0012,0.0,0.0,5.39e-05,0.0,0.0,0.0,0.00498,0.0,0.0,2.19e-05,2.63e-05,1.42e-05,0.00123,0.0,0.00777,0.0,6.39e-05,0.0,7.97e-06,0.0,0.0,0.000423,0.0,0.00025,0.0,8.15e-05,0.0,0.0,8.42e-06,0.000156,0.0,0.0,5.22e-05,0.0,6.81e-06,0.000263,0.0101,0.0,0.0,0.00404,0.0,0.0,0.0,0.0,0.0,0.0,0.0,0.00143,0.000173,7.49e-06,0.0,2.58e-06,0.0,0.000121,0.0,0.0,0.0]}],\"hovertemplate\":\"%{xaxis.title.text}=%{x}<br>%{yaxis.title.text}=%{y}<br>mode=%{marker.color}<extra></extra>\",\"legendgroup\":\"\",\"marker\":{\"color\":[1,0,0,1,0,1,1,1,0,0,0,1,1,1,1,1,1,0,0,0,1,1,1,0,0,1,1,0,1,1,1,0,1,1,0,1,0,1,0,0,0,0,1,1,1,0,1,0,1,1,1,0,0,1,1,0,0,1,1,1,1,1,1,0,1,1,1,1,1,1,0,0,1,1,1,0,0,1,1,1,1,1,0,1,0,1,0,1,0,1,0,1,1,1,1,1,1,1,1,1],\"coloraxis\":\"coloraxis\",\"symbol\":\"circle\"},\"name\":\"\",\"showlegend\":false,\"type\":\"splom\"}],                        {\"template\":{\"data\":{\"histogram2dcontour\":[{\"type\":\"histogram2dcontour\",\"colorbar\":{\"outlinewidth\":0,\"ticks\":\"\"},\"colorscale\":[[0.0,\"#0d0887\"],[0.1111111111111111,\"#46039f\"],[0.2222222222222222,\"#7201a8\"],[0.3333333333333333,\"#9c179e\"],[0.4444444444444444,\"#bd3786\"],[0.5555555555555556,\"#d8576b\"],[0.6666666666666666,\"#ed7953\"],[0.7777777777777778,\"#fb9f3a\"],[0.8888888888888888,\"#fdca26\"],[1.0,\"#f0f921\"]]}],\"choropleth\":[{\"type\":\"choropleth\",\"colorbar\":{\"outlinewidth\":0,\"ticks\":\"\"}}],\"histogram2d\":[{\"type\":\"histogram2d\",\"colorbar\":{\"outlinewidth\":0,\"ticks\":\"\"},\"colorscale\":[[0.0,\"#0d0887\"],[0.1111111111111111,\"#46039f\"],[0.2222222222222222,\"#7201a8\"],[0.3333333333333333,\"#9c179e\"],[0.4444444444444444,\"#bd3786\"],[0.5555555555555556,\"#d8576b\"],[0.6666666666666666,\"#ed7953\"],[0.7777777777777778,\"#fb9f3a\"],[0.8888888888888888,\"#fdca26\"],[1.0,\"#f0f921\"]]}],\"heatmap\":[{\"type\":\"heatmap\",\"colorbar\":{\"outlinewidth\":0,\"ticks\":\"\"},\"colorscale\":[[0.0,\"#0d0887\"],[0.1111111111111111,\"#46039f\"],[0.2222222222222222,\"#7201a8\"],[0.3333333333333333,\"#9c179e\"],[0.4444444444444444,\"#bd3786\"],[0.5555555555555556,\"#d8576b\"],[0.6666666666666666,\"#ed7953\"],[0.7777777777777778,\"#fb9f3a\"],[0.8888888888888888,\"#fdca26\"],[1.0,\"#f0f921\"]]}],\"heatmapgl\":[{\"type\":\"heatmapgl\",\"colorbar\":{\"outlinewidth\":0,\"ticks\":\"\"},\"colorscale\":[[0.0,\"#0d0887\"],[0.1111111111111111,\"#46039f\"],[0.2222222222222222,\"#7201a8\"],[0.3333333333333333,\"#9c179e\"],[0.4444444444444444,\"#bd3786\"],[0.5555555555555556,\"#d8576b\"],[0.6666666666666666,\"#ed7953\"],[0.7777777777777778,\"#fb9f3a\"],[0.8888888888888888,\"#fdca26\"],[1.0,\"#f0f921\"]]}],\"contourcarpet\":[{\"type\":\"contourcarpet\",\"colorbar\":{\"outlinewidth\":0,\"ticks\":\"\"}}],\"contour\":[{\"type\":\"contour\",\"colorbar\":{\"outlinewidth\":0,\"ticks\":\"\"},\"colorscale\":[[0.0,\"#0d0887\"],[0.1111111111111111,\"#46039f\"],[0.2222222222222222,\"#7201a8\"],[0.3333333333333333,\"#9c179e\"],[0.4444444444444444,\"#bd3786\"],[0.5555555555555556,\"#d8576b\"],[0.6666666666666666,\"#ed7953\"],[0.7777777777777778,\"#fb9f3a\"],[0.8888888888888888,\"#fdca26\"],[1.0,\"#f0f921\"]]}],\"surface\":[{\"type\":\"surface\",\"colorbar\":{\"outlinewidth\":0,\"ticks\":\"\"},\"colorscale\":[[0.0,\"#0d0887\"],[0.1111111111111111,\"#46039f\"],[0.2222222222222222,\"#7201a8\"],[0.3333333333333333,\"#9c179e\"],[0.4444444444444444,\"#bd3786\"],[0.5555555555555556,\"#d8576b\"],[0.6666666666666666,\"#ed7953\"],[0.7777777777777778,\"#fb9f3a\"],[0.8888888888888888,\"#fdca26\"],[1.0,\"#f0f921\"]]}],\"mesh3d\":[{\"type\":\"mesh3d\",\"colorbar\":{\"outlinewidth\":0,\"ticks\":\"\"}}],\"scatter\":[{\"fillpattern\":{\"fillmode\":\"overlay\",\"size\":10,\"solidity\":0.2},\"type\":\"scatter\"}],\"parcoords\":[{\"type\":\"parcoords\",\"line\":{\"colorbar\":{\"outlinewidth\":0,\"ticks\":\"\"}}}],\"scatterpolargl\":[{\"type\":\"scatterpolargl\",\"marker\":{\"colorbar\":{\"outlinewidth\":0,\"ticks\":\"\"}}}],\"bar\":[{\"error_x\":{\"color\":\"#2a3f5f\"},\"error_y\":{\"color\":\"#2a3f5f\"},\"marker\":{\"line\":{\"color\":\"#E5ECF6\",\"width\":0.5},\"pattern\":{\"fillmode\":\"overlay\",\"size\":10,\"solidity\":0.2}},\"type\":\"bar\"}],\"scattergeo\":[{\"type\":\"scattergeo\",\"marker\":{\"colorbar\":{\"outlinewidth\":0,\"ticks\":\"\"}}}],\"scatterpolar\":[{\"type\":\"scatterpolar\",\"marker\":{\"colorbar\":{\"outlinewidth\":0,\"ticks\":\"\"}}}],\"histogram\":[{\"marker\":{\"pattern\":{\"fillmode\":\"overlay\",\"size\":10,\"solidity\":0.2}},\"type\":\"histogram\"}],\"scattergl\":[{\"type\":\"scattergl\",\"marker\":{\"colorbar\":{\"outlinewidth\":0,\"ticks\":\"\"}}}],\"scatter3d\":[{\"type\":\"scatter3d\",\"line\":{\"colorbar\":{\"outlinewidth\":0,\"ticks\":\"\"}},\"marker\":{\"colorbar\":{\"outlinewidth\":0,\"ticks\":\"\"}}}],\"scattermapbox\":[{\"type\":\"scattermapbox\",\"marker\":{\"colorbar\":{\"outlinewidth\":0,\"ticks\":\"\"}}}],\"scatterternary\":[{\"type\":\"scatterternary\",\"marker\":{\"colorbar\":{\"outlinewidth\":0,\"ticks\":\"\"}}}],\"scattercarpet\":[{\"type\":\"scattercarpet\",\"marker\":{\"colorbar\":{\"outlinewidth\":0,\"ticks\":\"\"}}}],\"carpet\":[{\"aaxis\":{\"endlinecolor\":\"#2a3f5f\",\"gridcolor\":\"white\",\"linecolor\":\"white\",\"minorgridcolor\":\"white\",\"startlinecolor\":\"#2a3f5f\"},\"baxis\":{\"endlinecolor\":\"#2a3f5f\",\"gridcolor\":\"white\",\"linecolor\":\"white\",\"minorgridcolor\":\"white\",\"startlinecolor\":\"#2a3f5f\"},\"type\":\"carpet\"}],\"table\":[{\"cells\":{\"fill\":{\"color\":\"#EBF0F8\"},\"line\":{\"color\":\"white\"}},\"header\":{\"fill\":{\"color\":\"#C8D4E3\"},\"line\":{\"color\":\"white\"}},\"type\":\"table\"}],\"barpolar\":[{\"marker\":{\"line\":{\"color\":\"#E5ECF6\",\"width\":0.5},\"pattern\":{\"fillmode\":\"overlay\",\"size\":10,\"solidity\":0.2}},\"type\":\"barpolar\"}],\"pie\":[{\"automargin\":true,\"type\":\"pie\"}]},\"layout\":{\"autotypenumbers\":\"strict\",\"colorway\":[\"#636efa\",\"#EF553B\",\"#00cc96\",\"#ab63fa\",\"#FFA15A\",\"#19d3f3\",\"#FF6692\",\"#B6E880\",\"#FF97FF\",\"#FECB52\"],\"font\":{\"color\":\"#2a3f5f\"},\"hovermode\":\"closest\",\"hoverlabel\":{\"align\":\"left\"},\"paper_bgcolor\":\"white\",\"plot_bgcolor\":\"#E5ECF6\",\"polar\":{\"bgcolor\":\"#E5ECF6\",\"angularaxis\":{\"gridcolor\":\"white\",\"linecolor\":\"white\",\"ticks\":\"\"},\"radialaxis\":{\"gridcolor\":\"white\",\"linecolor\":\"white\",\"ticks\":\"\"}},\"ternary\":{\"bgcolor\":\"#E5ECF6\",\"aaxis\":{\"gridcolor\":\"white\",\"linecolor\":\"white\",\"ticks\":\"\"},\"baxis\":{\"gridcolor\":\"white\",\"linecolor\":\"white\",\"ticks\":\"\"},\"caxis\":{\"gridcolor\":\"white\",\"linecolor\":\"white\",\"ticks\":\"\"}},\"coloraxis\":{\"colorbar\":{\"outlinewidth\":0,\"ticks\":\"\"}},\"colorscale\":{\"sequential\":[[0.0,\"#0d0887\"],[0.1111111111111111,\"#46039f\"],[0.2222222222222222,\"#7201a8\"],[0.3333333333333333,\"#9c179e\"],[0.4444444444444444,\"#bd3786\"],[0.5555555555555556,\"#d8576b\"],[0.6666666666666666,\"#ed7953\"],[0.7777777777777778,\"#fb9f3a\"],[0.8888888888888888,\"#fdca26\"],[1.0,\"#f0f921\"]],\"sequentialminus\":[[0.0,\"#0d0887\"],[0.1111111111111111,\"#46039f\"],[0.2222222222222222,\"#7201a8\"],[0.3333333333333333,\"#9c179e\"],[0.4444444444444444,\"#bd3786\"],[0.5555555555555556,\"#d8576b\"],[0.6666666666666666,\"#ed7953\"],[0.7777777777777778,\"#fb9f3a\"],[0.8888888888888888,\"#fdca26\"],[1.0,\"#f0f921\"]],\"diverging\":[[0,\"#8e0152\"],[0.1,\"#c51b7d\"],[0.2,\"#de77ae\"],[0.3,\"#f1b6da\"],[0.4,\"#fde0ef\"],[0.5,\"#f7f7f7\"],[0.6,\"#e6f5d0\"],[0.7,\"#b8e186\"],[0.8,\"#7fbc41\"],[0.9,\"#4d9221\"],[1,\"#276419\"]]},\"xaxis\":{\"gridcolor\":\"white\",\"linecolor\":\"white\",\"ticks\":\"\",\"title\":{\"standoff\":15},\"zerolinecolor\":\"white\",\"automargin\":true,\"zerolinewidth\":2},\"yaxis\":{\"gridcolor\":\"white\",\"linecolor\":\"white\",\"ticks\":\"\",\"title\":{\"standoff\":15},\"zerolinecolor\":\"white\",\"automargin\":true,\"zerolinewidth\":2},\"scene\":{\"xaxis\":{\"backgroundcolor\":\"#E5ECF6\",\"gridcolor\":\"white\",\"linecolor\":\"white\",\"showbackground\":true,\"ticks\":\"\",\"zerolinecolor\":\"white\",\"gridwidth\":2},\"yaxis\":{\"backgroundcolor\":\"#E5ECF6\",\"gridcolor\":\"white\",\"linecolor\":\"white\",\"showbackground\":true,\"ticks\":\"\",\"zerolinecolor\":\"white\",\"gridwidth\":2},\"zaxis\":{\"backgroundcolor\":\"#E5ECF6\",\"gridcolor\":\"white\",\"linecolor\":\"white\",\"showbackground\":true,\"ticks\":\"\",\"zerolinecolor\":\"white\",\"gridwidth\":2}},\"shapedefaults\":{\"line\":{\"color\":\"#2a3f5f\"}},\"annotationdefaults\":{\"arrowcolor\":\"#2a3f5f\",\"arrowhead\":0,\"arrowwidth\":1},\"geo\":{\"bgcolor\":\"white\",\"landcolor\":\"#E5ECF6\",\"subunitcolor\":\"white\",\"showland\":true,\"showlakes\":true,\"lakecolor\":\"white\"},\"title\":{\"x\":0.05},\"mapbox\":{\"style\":\"light\"}}},\"coloraxis\":{\"colorbar\":{\"title\":{\"text\":\"mode\"}},\"colorscale\":[[0.0,\"#0d0887\"],[0.1111111111111111,\"#46039f\"],[0.2222222222222222,\"#7201a8\"],[0.3333333333333333,\"#9c179e\"],[0.4444444444444444,\"#bd3786\"],[0.5555555555555556,\"#d8576b\"],[0.6666666666666666,\"#ed7953\"],[0.7777777777777778,\"#fb9f3a\"],[0.8888888888888888,\"#fdca26\"],[1.0,\"#f0f921\"]]},\"legend\":{\"tracegroupgap\":0},\"margin\":{\"t\":60},\"dragmode\":\"select\",\"title\":{\"text\":\"Relationship between speechiness, acousticness, and instrumentalness\"}},                        {\"responsive\": true}                    ).then(function(){\n",
       "                            \n",
       "var gd = document.getElementById('787304ba-d54d-4057-84b1-0188dc9b7da0');\n",
       "var x = new MutationObserver(function (mutations, observer) {{\n",
       "        var display = window.getComputedStyle(gd).display;\n",
       "        if (!display || display === 'none') {{\n",
       "            console.log([gd, 'removed!']);\n",
       "            Plotly.purge(gd);\n",
       "            observer.disconnect();\n",
       "        }}\n",
       "}});\n",
       "\n",
       "// Listen for the removal of the full notebook cells\n",
       "var notebookContainer = gd.closest('#notebook-container');\n",
       "if (notebookContainer) {{\n",
       "    x.observe(notebookContainer, {childList: true});\n",
       "}}\n",
       "\n",
       "// Listen for the clearing of the current output cell\n",
       "var outputEl = gd.closest('.output');\n",
       "if (outputEl) {{\n",
       "    x.observe(outputEl, {childList: true});\n",
       "}}\n",
       "\n",
       "                        })                };                });            </script>        </div>"
      ]
     },
     "metadata": {},
     "output_type": "display_data"
    }
   ],
   "source": [
    "fig = px.scatter_matrix(features_df, dimensions=[\"speechiness\",\"acousticness\",\"instrumentalness\"], color=\"mode\")\n",
    "\n",
    "# Add title and axis labels\n",
    "fig.update_layout(title='Relationship between speechiness, acousticness, and instrumentalness')\n",
    "\n",
    "fig.show()"
   ]
  },
  {
   "cell_type": "code",
   "execution_count": 11,
   "metadata": {
    "colab": {
     "base_uri": "https://localhost:8080/",
     "height": 542
    },
    "id": "2qubftLZ3OAK",
    "outputId": "ec33dc58-cbe1-41b4-f91c-5ab350680ad5"
   },
   "outputs": [
    {
     "data": {
      "application/vnd.plotly.v1+json": {
       "config": {
        "plotlyServerURL": "https://plot.ly"
       },
       "data": [
        {
         "dimensions": [
          {
           "axis": {
            "matches": true
           },
           "label": "valence",
           "values": [
            0.334,
            0.931,
            0.513,
            0.446,
            0.129,
            0.913,
            0.37,
            0.661,
            0.125,
            0.666,
            0.749,
            0.6,
            0.531,
            0.494,
            0.486,
            0.562,
            0.591,
            0.218,
            0.707,
            0.12,
            0.557,
            0.357,
            0.22,
            0.228,
            0.446,
            0.398,
            0.323,
            0.662,
            0.515,
            0.553,
            0.473,
            0.437,
            0.331,
            0.259,
            0.327,
            0.43,
            0.437,
            0.394,
            0.648,
            0.401,
            0.477,
            0.608,
            0.643,
            0.51,
            0.472,
            0.421,
            0.243,
            0.137,
            0.446,
            0.219,
            0.688,
            0.492,
            0.592,
            0.163,
            0.137,
            0.274,
            0.747,
            0.863,
            0.341,
            0.184,
            0.492,
            0.159,
            0.662,
            0.894,
            0.0612,
            0.556,
            0.428,
            0.236,
            0.928,
            0.476,
            0.915,
            0.71,
            0.674,
            0.412,
            0.843,
            0.145,
            0.71,
            0.532,
            0.405,
            0.733,
            0.816,
            0.816,
            0.711,
            0.434,
            0.494,
            0.86,
            0.642,
            0.1,
            0.969,
            0.755,
            0.732,
            0.72,
            0.62,
            0.505,
            0.419,
            0.34,
            0.285,
            0.557,
            0.839,
            0.419
           ]
          },
          {
           "axis": {
            "matches": true
           },
           "label": "tempo",
           "values": [
            171.005,
            95.977,
            98.027,
            109.891,
            159.801,
            89.911,
            103.967,
            95.01,
            111.893,
            124.949,
            116.967,
            146.053,
            80.87,
            85.043,
            186.003,
            135.128,
            78.997,
            83.903,
            78.775,
            115.284,
            95.39,
            77.169,
            108.033,
            143.883,
            103.019,
            124.053,
            95.799,
            173.93,
            100.418,
            120.042,
            75.023,
            128.945,
            119.93,
            133.52,
            140.048,
            130.049,
            134.021,
            104.988,
            169.977,
            155.096,
            122.017,
            116.078,
            124.08,
            101.654,
            100.964,
            150.011,
            74.897,
            113.003,
            155.008,
            128.044,
            166.928,
            141.961,
            123.994,
            99.988,
            143.875,
            98.007,
            82.695,
            121.955,
            145.038,
            84.094,
            123.146,
            179.642,
            112.238,
            149.995,
            171.374,
            112.969,
            89.938,
            148.033,
            114.988,
            91.873,
            102.977,
            101.969,
            163.347,
            106.966,
            101.956,
            109.928,
            178.781,
            141.059,
            85.03,
            97.985,
            119.975,
            178.085,
            128.009,
            174.323,
            100.028,
            134.066,
            116.971,
            171.447,
            121.998,
            149.789,
            89.976,
            116.761,
            78.558,
            94.875,
            91.972,
            119.992,
            173.372,
            95.39,
            177.928,
            112.603
           ]
          },
          {
           "axis": {
            "matches": true
           },
           "label": "danceability",
           "values": [
            0.514,
            0.825,
            0.824,
            0.501,
            0.585,
            0.76,
            0.792,
            0.748,
            0.621,
            0.776,
            0.759,
            0.634,
            0.761,
            0.358,
            0.679,
            0.701,
            0.781,
            0.511,
            0.498,
            0.351,
            0.548,
            0.754,
            0.718,
            0.392,
            0.617,
            0.612,
            0.572,
            0.52,
            0.609,
            0.695,
            0.74,
            0.566,
            0.422,
            0.502,
            0.778,
            0.841,
            0.872,
            0.765,
            0.734,
            0.732,
            0.664,
            0.762,
            0.532,
            0.484,
            0.733,
            0.908,
            0.479,
            0.585,
            0.834,
            0.556,
            0.563,
            0.73,
            0.791,
            0.649,
            0.561,
            0.723,
            0.444,
            0.769,
            0.68,
            0.418,
            0.63,
            0.468,
            0.908,
            0.736,
            0.692,
            0.34,
            0.505,
            0.352,
            0.856,
            0.681,
            0.702,
            0.664,
            0.455,
            0.717,
            0.798,
            0.731,
            0.593,
            0.768,
            0.548,
            0.726,
            0.751,
            0.653,
            0.921,
            0.375,
            0.69,
            0.853,
            0.896,
            0.548,
            0.866,
            0.752,
            0.628,
            0.502,
            0.558,
            0.646,
            0.753,
            0.765,
            0.429,
            0.548,
            0.655,
            0.471
           ]
          }
         ],
         "hovertemplate": "%{xaxis.title.text}=%{x}<br>%{yaxis.title.text}=%{y}<br>mode=%{marker.color}<extra></extra>",
         "legendgroup": "",
         "marker": {
          "color": [
           1,
           0,
           0,
           1,
           0,
           1,
           1,
           1,
           0,
           0,
           0,
           1,
           1,
           1,
           1,
           1,
           1,
           0,
           0,
           0,
           1,
           1,
           1,
           0,
           0,
           1,
           1,
           0,
           1,
           1,
           1,
           0,
           1,
           1,
           0,
           1,
           0,
           1,
           0,
           0,
           0,
           0,
           1,
           1,
           1,
           0,
           1,
           0,
           1,
           1,
           1,
           0,
           0,
           1,
           1,
           0,
           0,
           1,
           1,
           1,
           1,
           1,
           1,
           0,
           1,
           1,
           1,
           1,
           1,
           1,
           0,
           0,
           1,
           1,
           1,
           0,
           0,
           1,
           1,
           1,
           1,
           1,
           0,
           1,
           0,
           1,
           0,
           1,
           0,
           1,
           0,
           1,
           1,
           1,
           1,
           1,
           1,
           1,
           1,
           1
          ],
          "coloraxis": "coloraxis",
          "symbol": "circle"
         },
         "name": "",
         "showlegend": false,
         "type": "splom"
        }
       ],
       "layout": {
        "coloraxis": {
         "colorbar": {
          "title": {
           "text": "mode"
          }
         },
         "colorscale": [
          [
           0,
           "#0d0887"
          ],
          [
           0.1111111111111111,
           "#46039f"
          ],
          [
           0.2222222222222222,
           "#7201a8"
          ],
          [
           0.3333333333333333,
           "#9c179e"
          ],
          [
           0.4444444444444444,
           "#bd3786"
          ],
          [
           0.5555555555555556,
           "#d8576b"
          ],
          [
           0.6666666666666666,
           "#ed7953"
          ],
          [
           0.7777777777777778,
           "#fb9f3a"
          ],
          [
           0.8888888888888888,
           "#fdca26"
          ],
          [
           1,
           "#f0f921"
          ]
         ]
        },
        "dragmode": "select",
        "legend": {
         "tracegroupgap": 0
        },
        "margin": {
         "t": 60
        },
        "template": {
         "data": {
          "bar": [
           {
            "error_x": {
             "color": "#2a3f5f"
            },
            "error_y": {
             "color": "#2a3f5f"
            },
            "marker": {
             "line": {
              "color": "#E5ECF6",
              "width": 0.5
             },
             "pattern": {
              "fillmode": "overlay",
              "size": 10,
              "solidity": 0.2
             }
            },
            "type": "bar"
           }
          ],
          "barpolar": [
           {
            "marker": {
             "line": {
              "color": "#E5ECF6",
              "width": 0.5
             },
             "pattern": {
              "fillmode": "overlay",
              "size": 10,
              "solidity": 0.2
             }
            },
            "type": "barpolar"
           }
          ],
          "carpet": [
           {
            "aaxis": {
             "endlinecolor": "#2a3f5f",
             "gridcolor": "white",
             "linecolor": "white",
             "minorgridcolor": "white",
             "startlinecolor": "#2a3f5f"
            },
            "baxis": {
             "endlinecolor": "#2a3f5f",
             "gridcolor": "white",
             "linecolor": "white",
             "minorgridcolor": "white",
             "startlinecolor": "#2a3f5f"
            },
            "type": "carpet"
           }
          ],
          "choropleth": [
           {
            "colorbar": {
             "outlinewidth": 0,
             "ticks": ""
            },
            "type": "choropleth"
           }
          ],
          "contour": [
           {
            "colorbar": {
             "outlinewidth": 0,
             "ticks": ""
            },
            "colorscale": [
             [
              0,
              "#0d0887"
             ],
             [
              0.1111111111111111,
              "#46039f"
             ],
             [
              0.2222222222222222,
              "#7201a8"
             ],
             [
              0.3333333333333333,
              "#9c179e"
             ],
             [
              0.4444444444444444,
              "#bd3786"
             ],
             [
              0.5555555555555556,
              "#d8576b"
             ],
             [
              0.6666666666666666,
              "#ed7953"
             ],
             [
              0.7777777777777778,
              "#fb9f3a"
             ],
             [
              0.8888888888888888,
              "#fdca26"
             ],
             [
              1,
              "#f0f921"
             ]
            ],
            "type": "contour"
           }
          ],
          "contourcarpet": [
           {
            "colorbar": {
             "outlinewidth": 0,
             "ticks": ""
            },
            "type": "contourcarpet"
           }
          ],
          "heatmap": [
           {
            "colorbar": {
             "outlinewidth": 0,
             "ticks": ""
            },
            "colorscale": [
             [
              0,
              "#0d0887"
             ],
             [
              0.1111111111111111,
              "#46039f"
             ],
             [
              0.2222222222222222,
              "#7201a8"
             ],
             [
              0.3333333333333333,
              "#9c179e"
             ],
             [
              0.4444444444444444,
              "#bd3786"
             ],
             [
              0.5555555555555556,
              "#d8576b"
             ],
             [
              0.6666666666666666,
              "#ed7953"
             ],
             [
              0.7777777777777778,
              "#fb9f3a"
             ],
             [
              0.8888888888888888,
              "#fdca26"
             ],
             [
              1,
              "#f0f921"
             ]
            ],
            "type": "heatmap"
           }
          ],
          "heatmapgl": [
           {
            "colorbar": {
             "outlinewidth": 0,
             "ticks": ""
            },
            "colorscale": [
             [
              0,
              "#0d0887"
             ],
             [
              0.1111111111111111,
              "#46039f"
             ],
             [
              0.2222222222222222,
              "#7201a8"
             ],
             [
              0.3333333333333333,
              "#9c179e"
             ],
             [
              0.4444444444444444,
              "#bd3786"
             ],
             [
              0.5555555555555556,
              "#d8576b"
             ],
             [
              0.6666666666666666,
              "#ed7953"
             ],
             [
              0.7777777777777778,
              "#fb9f3a"
             ],
             [
              0.8888888888888888,
              "#fdca26"
             ],
             [
              1,
              "#f0f921"
             ]
            ],
            "type": "heatmapgl"
           }
          ],
          "histogram": [
           {
            "marker": {
             "pattern": {
              "fillmode": "overlay",
              "size": 10,
              "solidity": 0.2
             }
            },
            "type": "histogram"
           }
          ],
          "histogram2d": [
           {
            "colorbar": {
             "outlinewidth": 0,
             "ticks": ""
            },
            "colorscale": [
             [
              0,
              "#0d0887"
             ],
             [
              0.1111111111111111,
              "#46039f"
             ],
             [
              0.2222222222222222,
              "#7201a8"
             ],
             [
              0.3333333333333333,
              "#9c179e"
             ],
             [
              0.4444444444444444,
              "#bd3786"
             ],
             [
              0.5555555555555556,
              "#d8576b"
             ],
             [
              0.6666666666666666,
              "#ed7953"
             ],
             [
              0.7777777777777778,
              "#fb9f3a"
             ],
             [
              0.8888888888888888,
              "#fdca26"
             ],
             [
              1,
              "#f0f921"
             ]
            ],
            "type": "histogram2d"
           }
          ],
          "histogram2dcontour": [
           {
            "colorbar": {
             "outlinewidth": 0,
             "ticks": ""
            },
            "colorscale": [
             [
              0,
              "#0d0887"
             ],
             [
              0.1111111111111111,
              "#46039f"
             ],
             [
              0.2222222222222222,
              "#7201a8"
             ],
             [
              0.3333333333333333,
              "#9c179e"
             ],
             [
              0.4444444444444444,
              "#bd3786"
             ],
             [
              0.5555555555555556,
              "#d8576b"
             ],
             [
              0.6666666666666666,
              "#ed7953"
             ],
             [
              0.7777777777777778,
              "#fb9f3a"
             ],
             [
              0.8888888888888888,
              "#fdca26"
             ],
             [
              1,
              "#f0f921"
             ]
            ],
            "type": "histogram2dcontour"
           }
          ],
          "mesh3d": [
           {
            "colorbar": {
             "outlinewidth": 0,
             "ticks": ""
            },
            "type": "mesh3d"
           }
          ],
          "parcoords": [
           {
            "line": {
             "colorbar": {
              "outlinewidth": 0,
              "ticks": ""
             }
            },
            "type": "parcoords"
           }
          ],
          "pie": [
           {
            "automargin": true,
            "type": "pie"
           }
          ],
          "scatter": [
           {
            "fillpattern": {
             "fillmode": "overlay",
             "size": 10,
             "solidity": 0.2
            },
            "type": "scatter"
           }
          ],
          "scatter3d": [
           {
            "line": {
             "colorbar": {
              "outlinewidth": 0,
              "ticks": ""
             }
            },
            "marker": {
             "colorbar": {
              "outlinewidth": 0,
              "ticks": ""
             }
            },
            "type": "scatter3d"
           }
          ],
          "scattercarpet": [
           {
            "marker": {
             "colorbar": {
              "outlinewidth": 0,
              "ticks": ""
             }
            },
            "type": "scattercarpet"
           }
          ],
          "scattergeo": [
           {
            "marker": {
             "colorbar": {
              "outlinewidth": 0,
              "ticks": ""
             }
            },
            "type": "scattergeo"
           }
          ],
          "scattergl": [
           {
            "marker": {
             "colorbar": {
              "outlinewidth": 0,
              "ticks": ""
             }
            },
            "type": "scattergl"
           }
          ],
          "scattermapbox": [
           {
            "marker": {
             "colorbar": {
              "outlinewidth": 0,
              "ticks": ""
             }
            },
            "type": "scattermapbox"
           }
          ],
          "scatterpolar": [
           {
            "marker": {
             "colorbar": {
              "outlinewidth": 0,
              "ticks": ""
             }
            },
            "type": "scatterpolar"
           }
          ],
          "scatterpolargl": [
           {
            "marker": {
             "colorbar": {
              "outlinewidth": 0,
              "ticks": ""
             }
            },
            "type": "scatterpolargl"
           }
          ],
          "scatterternary": [
           {
            "marker": {
             "colorbar": {
              "outlinewidth": 0,
              "ticks": ""
             }
            },
            "type": "scatterternary"
           }
          ],
          "surface": [
           {
            "colorbar": {
             "outlinewidth": 0,
             "ticks": ""
            },
            "colorscale": [
             [
              0,
              "#0d0887"
             ],
             [
              0.1111111111111111,
              "#46039f"
             ],
             [
              0.2222222222222222,
              "#7201a8"
             ],
             [
              0.3333333333333333,
              "#9c179e"
             ],
             [
              0.4444444444444444,
              "#bd3786"
             ],
             [
              0.5555555555555556,
              "#d8576b"
             ],
             [
              0.6666666666666666,
              "#ed7953"
             ],
             [
              0.7777777777777778,
              "#fb9f3a"
             ],
             [
              0.8888888888888888,
              "#fdca26"
             ],
             [
              1,
              "#f0f921"
             ]
            ],
            "type": "surface"
           }
          ],
          "table": [
           {
            "cells": {
             "fill": {
              "color": "#EBF0F8"
             },
             "line": {
              "color": "white"
             }
            },
            "header": {
             "fill": {
              "color": "#C8D4E3"
             },
             "line": {
              "color": "white"
             }
            },
            "type": "table"
           }
          ]
         },
         "layout": {
          "annotationdefaults": {
           "arrowcolor": "#2a3f5f",
           "arrowhead": 0,
           "arrowwidth": 1
          },
          "autotypenumbers": "strict",
          "coloraxis": {
           "colorbar": {
            "outlinewidth": 0,
            "ticks": ""
           }
          },
          "colorscale": {
           "diverging": [
            [
             0,
             "#8e0152"
            ],
            [
             0.1,
             "#c51b7d"
            ],
            [
             0.2,
             "#de77ae"
            ],
            [
             0.3,
             "#f1b6da"
            ],
            [
             0.4,
             "#fde0ef"
            ],
            [
             0.5,
             "#f7f7f7"
            ],
            [
             0.6,
             "#e6f5d0"
            ],
            [
             0.7,
             "#b8e186"
            ],
            [
             0.8,
             "#7fbc41"
            ],
            [
             0.9,
             "#4d9221"
            ],
            [
             1,
             "#276419"
            ]
           ],
           "sequential": [
            [
             0,
             "#0d0887"
            ],
            [
             0.1111111111111111,
             "#46039f"
            ],
            [
             0.2222222222222222,
             "#7201a8"
            ],
            [
             0.3333333333333333,
             "#9c179e"
            ],
            [
             0.4444444444444444,
             "#bd3786"
            ],
            [
             0.5555555555555556,
             "#d8576b"
            ],
            [
             0.6666666666666666,
             "#ed7953"
            ],
            [
             0.7777777777777778,
             "#fb9f3a"
            ],
            [
             0.8888888888888888,
             "#fdca26"
            ],
            [
             1,
             "#f0f921"
            ]
           ],
           "sequentialminus": [
            [
             0,
             "#0d0887"
            ],
            [
             0.1111111111111111,
             "#46039f"
            ],
            [
             0.2222222222222222,
             "#7201a8"
            ],
            [
             0.3333333333333333,
             "#9c179e"
            ],
            [
             0.4444444444444444,
             "#bd3786"
            ],
            [
             0.5555555555555556,
             "#d8576b"
            ],
            [
             0.6666666666666666,
             "#ed7953"
            ],
            [
             0.7777777777777778,
             "#fb9f3a"
            ],
            [
             0.8888888888888888,
             "#fdca26"
            ],
            [
             1,
             "#f0f921"
            ]
           ]
          },
          "colorway": [
           "#636efa",
           "#EF553B",
           "#00cc96",
           "#ab63fa",
           "#FFA15A",
           "#19d3f3",
           "#FF6692",
           "#B6E880",
           "#FF97FF",
           "#FECB52"
          ],
          "font": {
           "color": "#2a3f5f"
          },
          "geo": {
           "bgcolor": "white",
           "lakecolor": "white",
           "landcolor": "#E5ECF6",
           "showlakes": true,
           "showland": true,
           "subunitcolor": "white"
          },
          "hoverlabel": {
           "align": "left"
          },
          "hovermode": "closest",
          "mapbox": {
           "style": "light"
          },
          "paper_bgcolor": "white",
          "plot_bgcolor": "#E5ECF6",
          "polar": {
           "angularaxis": {
            "gridcolor": "white",
            "linecolor": "white",
            "ticks": ""
           },
           "bgcolor": "#E5ECF6",
           "radialaxis": {
            "gridcolor": "white",
            "linecolor": "white",
            "ticks": ""
           }
          },
          "scene": {
           "xaxis": {
            "backgroundcolor": "#E5ECF6",
            "gridcolor": "white",
            "gridwidth": 2,
            "linecolor": "white",
            "showbackground": true,
            "ticks": "",
            "zerolinecolor": "white"
           },
           "yaxis": {
            "backgroundcolor": "#E5ECF6",
            "gridcolor": "white",
            "gridwidth": 2,
            "linecolor": "white",
            "showbackground": true,
            "ticks": "",
            "zerolinecolor": "white"
           },
           "zaxis": {
            "backgroundcolor": "#E5ECF6",
            "gridcolor": "white",
            "gridwidth": 2,
            "linecolor": "white",
            "showbackground": true,
            "ticks": "",
            "zerolinecolor": "white"
           }
          },
          "shapedefaults": {
           "line": {
            "color": "#2a3f5f"
           }
          },
          "ternary": {
           "aaxis": {
            "gridcolor": "white",
            "linecolor": "white",
            "ticks": ""
           },
           "baxis": {
            "gridcolor": "white",
            "linecolor": "white",
            "ticks": ""
           },
           "bgcolor": "#E5ECF6",
           "caxis": {
            "gridcolor": "white",
            "linecolor": "white",
            "ticks": ""
           }
          },
          "title": {
           "x": 0.05
          },
          "xaxis": {
           "automargin": true,
           "gridcolor": "white",
           "linecolor": "white",
           "ticks": "",
           "title": {
            "standoff": 15
           },
           "zerolinecolor": "white",
           "zerolinewidth": 2
          },
          "yaxis": {
           "automargin": true,
           "gridcolor": "white",
           "linecolor": "white",
           "ticks": "",
           "title": {
            "standoff": 15
           },
           "zerolinecolor": "white",
           "zerolinewidth": 2
          }
         }
        },
        "title": {
         "text": "Relationship between valence, tempo, and danceability"
        }
       }
      },
      "text/html": [
       "<div>                            <div id=\"2de40043-02c5-4e51-a405-cc0a90310526\" class=\"plotly-graph-div\" style=\"height:525px; width:100%;\"></div>            <script type=\"text/javascript\">                require([\"plotly\"], function(Plotly) {                    window.PLOTLYENV=window.PLOTLYENV || {};                                    if (document.getElementById(\"2de40043-02c5-4e51-a405-cc0a90310526\")) {                    Plotly.newPlot(                        \"2de40043-02c5-4e51-a405-cc0a90310526\",                        [{\"dimensions\":[{\"axis\":{\"matches\":true},\"label\":\"valence\",\"values\":[0.334,0.931,0.513,0.446,0.129,0.913,0.37,0.661,0.125,0.666,0.749,0.6,0.531,0.494,0.486,0.562,0.591,0.218,0.707,0.12,0.557,0.357,0.22,0.228,0.446,0.398,0.323,0.662,0.515,0.553,0.473,0.437,0.331,0.259,0.327,0.43,0.437,0.394,0.648,0.401,0.477,0.608,0.643,0.51,0.472,0.421,0.243,0.137,0.446,0.219,0.688,0.492,0.592,0.163,0.137,0.274,0.747,0.863,0.341,0.184,0.492,0.159,0.662,0.894,0.0612,0.556,0.428,0.236,0.928,0.476,0.915,0.71,0.674,0.412,0.843,0.145,0.71,0.532,0.405,0.733,0.816,0.816,0.711,0.434,0.494,0.86,0.642,0.1,0.969,0.755,0.732,0.72,0.62,0.505,0.419,0.34,0.285,0.557,0.839,0.419]},{\"axis\":{\"matches\":true},\"label\":\"tempo\",\"values\":[171.005,95.977,98.027,109.891,159.801,89.911,103.967,95.01,111.893,124.949,116.967,146.053,80.87,85.043,186.003,135.128,78.997,83.903,78.775,115.284,95.39,77.169,108.033,143.883,103.019,124.053,95.799,173.93,100.418,120.042,75.023,128.945,119.93,133.52,140.048,130.049,134.021,104.988,169.977,155.096,122.017,116.078,124.08,101.654,100.964,150.011,74.897,113.003,155.008,128.044,166.928,141.961,123.994,99.988,143.875,98.007,82.695,121.955,145.038,84.094,123.146,179.642,112.238,149.995,171.374,112.969,89.938,148.033,114.988,91.873,102.977,101.969,163.347,106.966,101.956,109.928,178.781,141.059,85.03,97.985,119.975,178.085,128.009,174.323,100.028,134.066,116.971,171.447,121.998,149.789,89.976,116.761,78.558,94.875,91.972,119.992,173.372,95.39,177.928,112.603]},{\"axis\":{\"matches\":true},\"label\":\"danceability\",\"values\":[0.514,0.825,0.824,0.501,0.585,0.76,0.792,0.748,0.621,0.776,0.759,0.634,0.761,0.358,0.679,0.701,0.781,0.511,0.498,0.351,0.548,0.754,0.718,0.392,0.617,0.612,0.572,0.52,0.609,0.695,0.74,0.566,0.422,0.502,0.778,0.841,0.872,0.765,0.734,0.732,0.664,0.762,0.532,0.484,0.733,0.908,0.479,0.585,0.834,0.556,0.563,0.73,0.791,0.649,0.561,0.723,0.444,0.769,0.68,0.418,0.63,0.468,0.908,0.736,0.692,0.34,0.505,0.352,0.856,0.681,0.702,0.664,0.455,0.717,0.798,0.731,0.593,0.768,0.548,0.726,0.751,0.653,0.921,0.375,0.69,0.853,0.896,0.548,0.866,0.752,0.628,0.502,0.558,0.646,0.753,0.765,0.429,0.548,0.655,0.471]}],\"hovertemplate\":\"%{xaxis.title.text}=%{x}<br>%{yaxis.title.text}=%{y}<br>mode=%{marker.color}<extra></extra>\",\"legendgroup\":\"\",\"marker\":{\"color\":[1,0,0,1,0,1,1,1,0,0,0,1,1,1,1,1,1,0,0,0,1,1,1,0,0,1,1,0,1,1,1,0,1,1,0,1,0,1,0,0,0,0,1,1,1,0,1,0,1,1,1,0,0,1,1,0,0,1,1,1,1,1,1,0,1,1,1,1,1,1,0,0,1,1,1,0,0,1,1,1,1,1,0,1,0,1,0,1,0,1,0,1,1,1,1,1,1,1,1,1],\"coloraxis\":\"coloraxis\",\"symbol\":\"circle\"},\"name\":\"\",\"showlegend\":false,\"type\":\"splom\"}],                        {\"template\":{\"data\":{\"histogram2dcontour\":[{\"type\":\"histogram2dcontour\",\"colorbar\":{\"outlinewidth\":0,\"ticks\":\"\"},\"colorscale\":[[0.0,\"#0d0887\"],[0.1111111111111111,\"#46039f\"],[0.2222222222222222,\"#7201a8\"],[0.3333333333333333,\"#9c179e\"],[0.4444444444444444,\"#bd3786\"],[0.5555555555555556,\"#d8576b\"],[0.6666666666666666,\"#ed7953\"],[0.7777777777777778,\"#fb9f3a\"],[0.8888888888888888,\"#fdca26\"],[1.0,\"#f0f921\"]]}],\"choropleth\":[{\"type\":\"choropleth\",\"colorbar\":{\"outlinewidth\":0,\"ticks\":\"\"}}],\"histogram2d\":[{\"type\":\"histogram2d\",\"colorbar\":{\"outlinewidth\":0,\"ticks\":\"\"},\"colorscale\":[[0.0,\"#0d0887\"],[0.1111111111111111,\"#46039f\"],[0.2222222222222222,\"#7201a8\"],[0.3333333333333333,\"#9c179e\"],[0.4444444444444444,\"#bd3786\"],[0.5555555555555556,\"#d8576b\"],[0.6666666666666666,\"#ed7953\"],[0.7777777777777778,\"#fb9f3a\"],[0.8888888888888888,\"#fdca26\"],[1.0,\"#f0f921\"]]}],\"heatmap\":[{\"type\":\"heatmap\",\"colorbar\":{\"outlinewidth\":0,\"ticks\":\"\"},\"colorscale\":[[0.0,\"#0d0887\"],[0.1111111111111111,\"#46039f\"],[0.2222222222222222,\"#7201a8\"],[0.3333333333333333,\"#9c179e\"],[0.4444444444444444,\"#bd3786\"],[0.5555555555555556,\"#d8576b\"],[0.6666666666666666,\"#ed7953\"],[0.7777777777777778,\"#fb9f3a\"],[0.8888888888888888,\"#fdca26\"],[1.0,\"#f0f921\"]]}],\"heatmapgl\":[{\"type\":\"heatmapgl\",\"colorbar\":{\"outlinewidth\":0,\"ticks\":\"\"},\"colorscale\":[[0.0,\"#0d0887\"],[0.1111111111111111,\"#46039f\"],[0.2222222222222222,\"#7201a8\"],[0.3333333333333333,\"#9c179e\"],[0.4444444444444444,\"#bd3786\"],[0.5555555555555556,\"#d8576b\"],[0.6666666666666666,\"#ed7953\"],[0.7777777777777778,\"#fb9f3a\"],[0.8888888888888888,\"#fdca26\"],[1.0,\"#f0f921\"]]}],\"contourcarpet\":[{\"type\":\"contourcarpet\",\"colorbar\":{\"outlinewidth\":0,\"ticks\":\"\"}}],\"contour\":[{\"type\":\"contour\",\"colorbar\":{\"outlinewidth\":0,\"ticks\":\"\"},\"colorscale\":[[0.0,\"#0d0887\"],[0.1111111111111111,\"#46039f\"],[0.2222222222222222,\"#7201a8\"],[0.3333333333333333,\"#9c179e\"],[0.4444444444444444,\"#bd3786\"],[0.5555555555555556,\"#d8576b\"],[0.6666666666666666,\"#ed7953\"],[0.7777777777777778,\"#fb9f3a\"],[0.8888888888888888,\"#fdca26\"],[1.0,\"#f0f921\"]]}],\"surface\":[{\"type\":\"surface\",\"colorbar\":{\"outlinewidth\":0,\"ticks\":\"\"},\"colorscale\":[[0.0,\"#0d0887\"],[0.1111111111111111,\"#46039f\"],[0.2222222222222222,\"#7201a8\"],[0.3333333333333333,\"#9c179e\"],[0.4444444444444444,\"#bd3786\"],[0.5555555555555556,\"#d8576b\"],[0.6666666666666666,\"#ed7953\"],[0.7777777777777778,\"#fb9f3a\"],[0.8888888888888888,\"#fdca26\"],[1.0,\"#f0f921\"]]}],\"mesh3d\":[{\"type\":\"mesh3d\",\"colorbar\":{\"outlinewidth\":0,\"ticks\":\"\"}}],\"scatter\":[{\"fillpattern\":{\"fillmode\":\"overlay\",\"size\":10,\"solidity\":0.2},\"type\":\"scatter\"}],\"parcoords\":[{\"type\":\"parcoords\",\"line\":{\"colorbar\":{\"outlinewidth\":0,\"ticks\":\"\"}}}],\"scatterpolargl\":[{\"type\":\"scatterpolargl\",\"marker\":{\"colorbar\":{\"outlinewidth\":0,\"ticks\":\"\"}}}],\"bar\":[{\"error_x\":{\"color\":\"#2a3f5f\"},\"error_y\":{\"color\":\"#2a3f5f\"},\"marker\":{\"line\":{\"color\":\"#E5ECF6\",\"width\":0.5},\"pattern\":{\"fillmode\":\"overlay\",\"size\":10,\"solidity\":0.2}},\"type\":\"bar\"}],\"scattergeo\":[{\"type\":\"scattergeo\",\"marker\":{\"colorbar\":{\"outlinewidth\":0,\"ticks\":\"\"}}}],\"scatterpolar\":[{\"type\":\"scatterpolar\",\"marker\":{\"colorbar\":{\"outlinewidth\":0,\"ticks\":\"\"}}}],\"histogram\":[{\"marker\":{\"pattern\":{\"fillmode\":\"overlay\",\"size\":10,\"solidity\":0.2}},\"type\":\"histogram\"}],\"scattergl\":[{\"type\":\"scattergl\",\"marker\":{\"colorbar\":{\"outlinewidth\":0,\"ticks\":\"\"}}}],\"scatter3d\":[{\"type\":\"scatter3d\",\"line\":{\"colorbar\":{\"outlinewidth\":0,\"ticks\":\"\"}},\"marker\":{\"colorbar\":{\"outlinewidth\":0,\"ticks\":\"\"}}}],\"scattermapbox\":[{\"type\":\"scattermapbox\",\"marker\":{\"colorbar\":{\"outlinewidth\":0,\"ticks\":\"\"}}}],\"scatterternary\":[{\"type\":\"scatterternary\",\"marker\":{\"colorbar\":{\"outlinewidth\":0,\"ticks\":\"\"}}}],\"scattercarpet\":[{\"type\":\"scattercarpet\",\"marker\":{\"colorbar\":{\"outlinewidth\":0,\"ticks\":\"\"}}}],\"carpet\":[{\"aaxis\":{\"endlinecolor\":\"#2a3f5f\",\"gridcolor\":\"white\",\"linecolor\":\"white\",\"minorgridcolor\":\"white\",\"startlinecolor\":\"#2a3f5f\"},\"baxis\":{\"endlinecolor\":\"#2a3f5f\",\"gridcolor\":\"white\",\"linecolor\":\"white\",\"minorgridcolor\":\"white\",\"startlinecolor\":\"#2a3f5f\"},\"type\":\"carpet\"}],\"table\":[{\"cells\":{\"fill\":{\"color\":\"#EBF0F8\"},\"line\":{\"color\":\"white\"}},\"header\":{\"fill\":{\"color\":\"#C8D4E3\"},\"line\":{\"color\":\"white\"}},\"type\":\"table\"}],\"barpolar\":[{\"marker\":{\"line\":{\"color\":\"#E5ECF6\",\"width\":0.5},\"pattern\":{\"fillmode\":\"overlay\",\"size\":10,\"solidity\":0.2}},\"type\":\"barpolar\"}],\"pie\":[{\"automargin\":true,\"type\":\"pie\"}]},\"layout\":{\"autotypenumbers\":\"strict\",\"colorway\":[\"#636efa\",\"#EF553B\",\"#00cc96\",\"#ab63fa\",\"#FFA15A\",\"#19d3f3\",\"#FF6692\",\"#B6E880\",\"#FF97FF\",\"#FECB52\"],\"font\":{\"color\":\"#2a3f5f\"},\"hovermode\":\"closest\",\"hoverlabel\":{\"align\":\"left\"},\"paper_bgcolor\":\"white\",\"plot_bgcolor\":\"#E5ECF6\",\"polar\":{\"bgcolor\":\"#E5ECF6\",\"angularaxis\":{\"gridcolor\":\"white\",\"linecolor\":\"white\",\"ticks\":\"\"},\"radialaxis\":{\"gridcolor\":\"white\",\"linecolor\":\"white\",\"ticks\":\"\"}},\"ternary\":{\"bgcolor\":\"#E5ECF6\",\"aaxis\":{\"gridcolor\":\"white\",\"linecolor\":\"white\",\"ticks\":\"\"},\"baxis\":{\"gridcolor\":\"white\",\"linecolor\":\"white\",\"ticks\":\"\"},\"caxis\":{\"gridcolor\":\"white\",\"linecolor\":\"white\",\"ticks\":\"\"}},\"coloraxis\":{\"colorbar\":{\"outlinewidth\":0,\"ticks\":\"\"}},\"colorscale\":{\"sequential\":[[0.0,\"#0d0887\"],[0.1111111111111111,\"#46039f\"],[0.2222222222222222,\"#7201a8\"],[0.3333333333333333,\"#9c179e\"],[0.4444444444444444,\"#bd3786\"],[0.5555555555555556,\"#d8576b\"],[0.6666666666666666,\"#ed7953\"],[0.7777777777777778,\"#fb9f3a\"],[0.8888888888888888,\"#fdca26\"],[1.0,\"#f0f921\"]],\"sequentialminus\":[[0.0,\"#0d0887\"],[0.1111111111111111,\"#46039f\"],[0.2222222222222222,\"#7201a8\"],[0.3333333333333333,\"#9c179e\"],[0.4444444444444444,\"#bd3786\"],[0.5555555555555556,\"#d8576b\"],[0.6666666666666666,\"#ed7953\"],[0.7777777777777778,\"#fb9f3a\"],[0.8888888888888888,\"#fdca26\"],[1.0,\"#f0f921\"]],\"diverging\":[[0,\"#8e0152\"],[0.1,\"#c51b7d\"],[0.2,\"#de77ae\"],[0.3,\"#f1b6da\"],[0.4,\"#fde0ef\"],[0.5,\"#f7f7f7\"],[0.6,\"#e6f5d0\"],[0.7,\"#b8e186\"],[0.8,\"#7fbc41\"],[0.9,\"#4d9221\"],[1,\"#276419\"]]},\"xaxis\":{\"gridcolor\":\"white\",\"linecolor\":\"white\",\"ticks\":\"\",\"title\":{\"standoff\":15},\"zerolinecolor\":\"white\",\"automargin\":true,\"zerolinewidth\":2},\"yaxis\":{\"gridcolor\":\"white\",\"linecolor\":\"white\",\"ticks\":\"\",\"title\":{\"standoff\":15},\"zerolinecolor\":\"white\",\"automargin\":true,\"zerolinewidth\":2},\"scene\":{\"xaxis\":{\"backgroundcolor\":\"#E5ECF6\",\"gridcolor\":\"white\",\"linecolor\":\"white\",\"showbackground\":true,\"ticks\":\"\",\"zerolinecolor\":\"white\",\"gridwidth\":2},\"yaxis\":{\"backgroundcolor\":\"#E5ECF6\",\"gridcolor\":\"white\",\"linecolor\":\"white\",\"showbackground\":true,\"ticks\":\"\",\"zerolinecolor\":\"white\",\"gridwidth\":2},\"zaxis\":{\"backgroundcolor\":\"#E5ECF6\",\"gridcolor\":\"white\",\"linecolor\":\"white\",\"showbackground\":true,\"ticks\":\"\",\"zerolinecolor\":\"white\",\"gridwidth\":2}},\"shapedefaults\":{\"line\":{\"color\":\"#2a3f5f\"}},\"annotationdefaults\":{\"arrowcolor\":\"#2a3f5f\",\"arrowhead\":0,\"arrowwidth\":1},\"geo\":{\"bgcolor\":\"white\",\"landcolor\":\"#E5ECF6\",\"subunitcolor\":\"white\",\"showland\":true,\"showlakes\":true,\"lakecolor\":\"white\"},\"title\":{\"x\":0.05},\"mapbox\":{\"style\":\"light\"}}},\"coloraxis\":{\"colorbar\":{\"title\":{\"text\":\"mode\"}},\"colorscale\":[[0.0,\"#0d0887\"],[0.1111111111111111,\"#46039f\"],[0.2222222222222222,\"#7201a8\"],[0.3333333333333333,\"#9c179e\"],[0.4444444444444444,\"#bd3786\"],[0.5555555555555556,\"#d8576b\"],[0.6666666666666666,\"#ed7953\"],[0.7777777777777778,\"#fb9f3a\"],[0.8888888888888888,\"#fdca26\"],[1.0,\"#f0f921\"]]},\"legend\":{\"tracegroupgap\":0},\"margin\":{\"t\":60},\"dragmode\":\"select\",\"title\":{\"text\":\"Relationship between valence, tempo, and danceability\"}},                        {\"responsive\": true}                    ).then(function(){\n",
       "                            \n",
       "var gd = document.getElementById('2de40043-02c5-4e51-a405-cc0a90310526');\n",
       "var x = new MutationObserver(function (mutations, observer) {{\n",
       "        var display = window.getComputedStyle(gd).display;\n",
       "        if (!display || display === 'none') {{\n",
       "            console.log([gd, 'removed!']);\n",
       "            Plotly.purge(gd);\n",
       "            observer.disconnect();\n",
       "        }}\n",
       "}});\n",
       "\n",
       "// Listen for the removal of the full notebook cells\n",
       "var notebookContainer = gd.closest('#notebook-container');\n",
       "if (notebookContainer) {{\n",
       "    x.observe(notebookContainer, {childList: true});\n",
       "}}\n",
       "\n",
       "// Listen for the clearing of the current output cell\n",
       "var outputEl = gd.closest('.output');\n",
       "if (outputEl) {{\n",
       "    x.observe(outputEl, {childList: true});\n",
       "}}\n",
       "\n",
       "                        })                };                });            </script>        </div>"
      ]
     },
     "metadata": {},
     "output_type": "display_data"
    }
   ],
   "source": [
    "fig = px.scatter_matrix(features_df, dimensions=[\"valence\",\"tempo\",\"danceability\"], color=\"mode\")\n",
    "\n",
    "# Add title and axis labels\n",
    "fig.update_layout(title='Relationship between valence, tempo, and danceability')\n",
    "\n",
    "fig.show()"
   ]
  },
  {
   "cell_type": "code",
   "execution_count": 12,
   "metadata": {
    "colab": {
     "base_uri": "https://localhost:8080/",
     "height": 542
    },
    "id": "REe5vtXV3U_O",
    "outputId": "28b6b6be-829c-404d-872d-16f538a71f44"
   },
   "outputs": [
    {
     "data": {
      "application/vnd.plotly.v1+json": {
       "config": {
        "plotlyServerURL": "https://plot.ly"
       },
       "data": [
        {
         "colorbar": {
          "title": {
           "text": "Correlation"
          }
         },
         "colorscale": [
          [
           0,
           "rgb(103,0,31)"
          ],
          [
           0.1,
           "rgb(178,24,43)"
          ],
          [
           0.2,
           "rgb(214,96,77)"
          ],
          [
           0.3,
           "rgb(244,165,130)"
          ],
          [
           0.4,
           "rgb(253,219,199)"
          ],
          [
           0.5,
           "rgb(247,247,247)"
          ],
          [
           0.6,
           "rgb(209,229,240)"
          ],
          [
           0.7,
           "rgb(146,197,222)"
          ],
          [
           0.8,
           "rgb(67,147,195)"
          ],
          [
           0.9,
           "rgb(33,102,172)"
          ],
          [
           1,
           "rgb(5,48,97)"
          ]
         ],
         "type": "heatmap",
         "x": [
          "duration",
          "energy",
          "key",
          "loudness",
          "mode",
          "speechiness",
          "acousticness",
          "instrumentalness",
          "liveness",
          "valence",
          "tempo",
          "danceability"
         ],
         "y": [
          "duration",
          "energy",
          "key",
          "loudness",
          "mode",
          "speechiness",
          "acousticness",
          "instrumentalness",
          "liveness",
          "valence",
          "tempo",
          "danceability"
         ],
         "z": [
          [
           1,
           0.008278614200594534,
           -0.046874750505900314,
           0.07343194842763727,
           0.16391612065235409,
           -0.07393835035806474,
           -0.03654176043653525,
           -0.10744973383221322,
           -0.12560303719153165,
           -0.2044256400579198,
           0.0639215106168033,
           -0.20087233464148227
          ],
          [
           0.008278614200594534,
           1,
           -0.08754193814226693,
           0.741793502987356,
           0.09525516594024587,
           -0.05964367755397553,
           -0.7035515059812375,
           -0.27503397994943996,
           -0.03325132300307001,
           0.23865934271999706,
           0.25986317310798107,
           0.014443446799637383
          ],
          [
           -0.046874750505900314,
           -0.08754193814226693,
           1,
           -0.08133864011876027,
           -0.16324382286961345,
           0.034264593163458396,
           0.050491818214248425,
           0.20654719260796486,
           0.10796099918629051,
           0.03144839600421261,
           -0.09284467690299435,
           0.04341581757436363
          ],
          [
           0.07343194842763727,
           0.741793502987356,
           -0.08133864011876027,
           1,
           0.17908753864867694,
           -0.21400859527291832,
           -0.5111766423472645,
           -0.3453495741252484,
           -0.019159187566629293,
           0.26039739741510215,
           0.12191553151792427,
           0.13903918009979674
          ],
          [
           0.16391612065235409,
           0.09525516594024587,
           -0.16324382286961345,
           0.17908753864867694,
           1,
           -0.11528172938662606,
           -0.02659284077668303,
           -0.08279376827361168,
           -0.03504187057255182,
           -0.07895240269377798,
           -0.0278198021632115,
           -0.18328793377278424
          ],
          [
           -0.07393835035806474,
           -0.05964367755397553,
           0.034264593163458396,
           -0.21400859527291832,
           -0.11528172938662606,
           1,
           0.07903033844378839,
           0.009310982611582752,
           -0.007594313388843635,
           0.02660260017970011,
           0.17232408325980925,
           0.16208857727808712
          ],
          [
           -0.03654176043653525,
           -0.7035515059812375,
           0.050491818214248425,
           -0.5111766423472645,
           -0.02659284077668303,
           0.07903033844378839,
           1,
           0.2266349850095711,
           -0.12215418296018644,
           -0.1398982315335356,
           -0.23581047438913233,
           -0.1860991514493598
          ],
          [
           -0.10744973383221322,
           -0.27503397994943996,
           0.20654719260796486,
           -0.3453495741252484,
           -0.08279376827361168,
           0.009310982611582752,
           0.2266349850095711,
           1,
           0.029135847760233164,
           0.104192154226373,
           -0.10337207609801355,
           -0.09196819918254653
          ],
          [
           -0.12560303719153165,
           -0.03325132300307001,
           0.10796099918629051,
           -0.019159187566629293,
           -0.03504187057255182,
           -0.007594313388843635,
           -0.12215418296018644,
           0.029135847760233164,
           1,
           -0.16977733889273874,
           -0.09047199530470293,
           0.010374016238572169
          ],
          [
           -0.2044256400579198,
           0.23865934271999706,
           0.03144839600421261,
           0.26039739741510215,
           -0.07895240269377798,
           0.02660260017970011,
           -0.1398982315335356,
           0.104192154226373,
           -0.16977733889273874,
           1,
           -0.05904329506998928,
           0.37964280244192977
          ],
          [
           0.0639215106168033,
           0.25986317310798107,
           -0.09284467690299435,
           0.12191553151792427,
           -0.0278198021632115,
           0.17232408325980925,
           -0.23581047438913233,
           -0.10337207609801355,
           -0.09047199530470293,
           -0.05904329506998928,
           1,
           -0.05772721185569122
          ],
          [
           -0.20087233464148227,
           0.014443446799637383,
           0.04341581757436363,
           0.13903918009979674,
           -0.18328793377278424,
           0.16208857727808712,
           -0.1860991514493598,
           -0.09196819918254653,
           0.010374016238572169,
           0.37964280244192977,
           -0.05772721185569122,
           1
          ]
         ]
        }
       ],
       "layout": {
        "template": {
         "data": {
          "bar": [
           {
            "error_x": {
             "color": "#2a3f5f"
            },
            "error_y": {
             "color": "#2a3f5f"
            },
            "marker": {
             "line": {
              "color": "#E5ECF6",
              "width": 0.5
             },
             "pattern": {
              "fillmode": "overlay",
              "size": 10,
              "solidity": 0.2
             }
            },
            "type": "bar"
           }
          ],
          "barpolar": [
           {
            "marker": {
             "line": {
              "color": "#E5ECF6",
              "width": 0.5
             },
             "pattern": {
              "fillmode": "overlay",
              "size": 10,
              "solidity": 0.2
             }
            },
            "type": "barpolar"
           }
          ],
          "carpet": [
           {
            "aaxis": {
             "endlinecolor": "#2a3f5f",
             "gridcolor": "white",
             "linecolor": "white",
             "minorgridcolor": "white",
             "startlinecolor": "#2a3f5f"
            },
            "baxis": {
             "endlinecolor": "#2a3f5f",
             "gridcolor": "white",
             "linecolor": "white",
             "minorgridcolor": "white",
             "startlinecolor": "#2a3f5f"
            },
            "type": "carpet"
           }
          ],
          "choropleth": [
           {
            "colorbar": {
             "outlinewidth": 0,
             "ticks": ""
            },
            "type": "choropleth"
           }
          ],
          "contour": [
           {
            "colorbar": {
             "outlinewidth": 0,
             "ticks": ""
            },
            "colorscale": [
             [
              0,
              "#0d0887"
             ],
             [
              0.1111111111111111,
              "#46039f"
             ],
             [
              0.2222222222222222,
              "#7201a8"
             ],
             [
              0.3333333333333333,
              "#9c179e"
             ],
             [
              0.4444444444444444,
              "#bd3786"
             ],
             [
              0.5555555555555556,
              "#d8576b"
             ],
             [
              0.6666666666666666,
              "#ed7953"
             ],
             [
              0.7777777777777778,
              "#fb9f3a"
             ],
             [
              0.8888888888888888,
              "#fdca26"
             ],
             [
              1,
              "#f0f921"
             ]
            ],
            "type": "contour"
           }
          ],
          "contourcarpet": [
           {
            "colorbar": {
             "outlinewidth": 0,
             "ticks": ""
            },
            "type": "contourcarpet"
           }
          ],
          "heatmap": [
           {
            "colorbar": {
             "outlinewidth": 0,
             "ticks": ""
            },
            "colorscale": [
             [
              0,
              "#0d0887"
             ],
             [
              0.1111111111111111,
              "#46039f"
             ],
             [
              0.2222222222222222,
              "#7201a8"
             ],
             [
              0.3333333333333333,
              "#9c179e"
             ],
             [
              0.4444444444444444,
              "#bd3786"
             ],
             [
              0.5555555555555556,
              "#d8576b"
             ],
             [
              0.6666666666666666,
              "#ed7953"
             ],
             [
              0.7777777777777778,
              "#fb9f3a"
             ],
             [
              0.8888888888888888,
              "#fdca26"
             ],
             [
              1,
              "#f0f921"
             ]
            ],
            "type": "heatmap"
           }
          ],
          "heatmapgl": [
           {
            "colorbar": {
             "outlinewidth": 0,
             "ticks": ""
            },
            "colorscale": [
             [
              0,
              "#0d0887"
             ],
             [
              0.1111111111111111,
              "#46039f"
             ],
             [
              0.2222222222222222,
              "#7201a8"
             ],
             [
              0.3333333333333333,
              "#9c179e"
             ],
             [
              0.4444444444444444,
              "#bd3786"
             ],
             [
              0.5555555555555556,
              "#d8576b"
             ],
             [
              0.6666666666666666,
              "#ed7953"
             ],
             [
              0.7777777777777778,
              "#fb9f3a"
             ],
             [
              0.8888888888888888,
              "#fdca26"
             ],
             [
              1,
              "#f0f921"
             ]
            ],
            "type": "heatmapgl"
           }
          ],
          "histogram": [
           {
            "marker": {
             "pattern": {
              "fillmode": "overlay",
              "size": 10,
              "solidity": 0.2
             }
            },
            "type": "histogram"
           }
          ],
          "histogram2d": [
           {
            "colorbar": {
             "outlinewidth": 0,
             "ticks": ""
            },
            "colorscale": [
             [
              0,
              "#0d0887"
             ],
             [
              0.1111111111111111,
              "#46039f"
             ],
             [
              0.2222222222222222,
              "#7201a8"
             ],
             [
              0.3333333333333333,
              "#9c179e"
             ],
             [
              0.4444444444444444,
              "#bd3786"
             ],
             [
              0.5555555555555556,
              "#d8576b"
             ],
             [
              0.6666666666666666,
              "#ed7953"
             ],
             [
              0.7777777777777778,
              "#fb9f3a"
             ],
             [
              0.8888888888888888,
              "#fdca26"
             ],
             [
              1,
              "#f0f921"
             ]
            ],
            "type": "histogram2d"
           }
          ],
          "histogram2dcontour": [
           {
            "colorbar": {
             "outlinewidth": 0,
             "ticks": ""
            },
            "colorscale": [
             [
              0,
              "#0d0887"
             ],
             [
              0.1111111111111111,
              "#46039f"
             ],
             [
              0.2222222222222222,
              "#7201a8"
             ],
             [
              0.3333333333333333,
              "#9c179e"
             ],
             [
              0.4444444444444444,
              "#bd3786"
             ],
             [
              0.5555555555555556,
              "#d8576b"
             ],
             [
              0.6666666666666666,
              "#ed7953"
             ],
             [
              0.7777777777777778,
              "#fb9f3a"
             ],
             [
              0.8888888888888888,
              "#fdca26"
             ],
             [
              1,
              "#f0f921"
             ]
            ],
            "type": "histogram2dcontour"
           }
          ],
          "mesh3d": [
           {
            "colorbar": {
             "outlinewidth": 0,
             "ticks": ""
            },
            "type": "mesh3d"
           }
          ],
          "parcoords": [
           {
            "line": {
             "colorbar": {
              "outlinewidth": 0,
              "ticks": ""
             }
            },
            "type": "parcoords"
           }
          ],
          "pie": [
           {
            "automargin": true,
            "type": "pie"
           }
          ],
          "scatter": [
           {
            "fillpattern": {
             "fillmode": "overlay",
             "size": 10,
             "solidity": 0.2
            },
            "type": "scatter"
           }
          ],
          "scatter3d": [
           {
            "line": {
             "colorbar": {
              "outlinewidth": 0,
              "ticks": ""
             }
            },
            "marker": {
             "colorbar": {
              "outlinewidth": 0,
              "ticks": ""
             }
            },
            "type": "scatter3d"
           }
          ],
          "scattercarpet": [
           {
            "marker": {
             "colorbar": {
              "outlinewidth": 0,
              "ticks": ""
             }
            },
            "type": "scattercarpet"
           }
          ],
          "scattergeo": [
           {
            "marker": {
             "colorbar": {
              "outlinewidth": 0,
              "ticks": ""
             }
            },
            "type": "scattergeo"
           }
          ],
          "scattergl": [
           {
            "marker": {
             "colorbar": {
              "outlinewidth": 0,
              "ticks": ""
             }
            },
            "type": "scattergl"
           }
          ],
          "scattermapbox": [
           {
            "marker": {
             "colorbar": {
              "outlinewidth": 0,
              "ticks": ""
             }
            },
            "type": "scattermapbox"
           }
          ],
          "scatterpolar": [
           {
            "marker": {
             "colorbar": {
              "outlinewidth": 0,
              "ticks": ""
             }
            },
            "type": "scatterpolar"
           }
          ],
          "scatterpolargl": [
           {
            "marker": {
             "colorbar": {
              "outlinewidth": 0,
              "ticks": ""
             }
            },
            "type": "scatterpolargl"
           }
          ],
          "scatterternary": [
           {
            "marker": {
             "colorbar": {
              "outlinewidth": 0,
              "ticks": ""
             }
            },
            "type": "scatterternary"
           }
          ],
          "surface": [
           {
            "colorbar": {
             "outlinewidth": 0,
             "ticks": ""
            },
            "colorscale": [
             [
              0,
              "#0d0887"
             ],
             [
              0.1111111111111111,
              "#46039f"
             ],
             [
              0.2222222222222222,
              "#7201a8"
             ],
             [
              0.3333333333333333,
              "#9c179e"
             ],
             [
              0.4444444444444444,
              "#bd3786"
             ],
             [
              0.5555555555555556,
              "#d8576b"
             ],
             [
              0.6666666666666666,
              "#ed7953"
             ],
             [
              0.7777777777777778,
              "#fb9f3a"
             ],
             [
              0.8888888888888888,
              "#fdca26"
             ],
             [
              1,
              "#f0f921"
             ]
            ],
            "type": "surface"
           }
          ],
          "table": [
           {
            "cells": {
             "fill": {
              "color": "#EBF0F8"
             },
             "line": {
              "color": "white"
             }
            },
            "header": {
             "fill": {
              "color": "#C8D4E3"
             },
             "line": {
              "color": "white"
             }
            },
            "type": "table"
           }
          ]
         },
         "layout": {
          "annotationdefaults": {
           "arrowcolor": "#2a3f5f",
           "arrowhead": 0,
           "arrowwidth": 1
          },
          "autotypenumbers": "strict",
          "coloraxis": {
           "colorbar": {
            "outlinewidth": 0,
            "ticks": ""
           }
          },
          "colorscale": {
           "diverging": [
            [
             0,
             "#8e0152"
            ],
            [
             0.1,
             "#c51b7d"
            ],
            [
             0.2,
             "#de77ae"
            ],
            [
             0.3,
             "#f1b6da"
            ],
            [
             0.4,
             "#fde0ef"
            ],
            [
             0.5,
             "#f7f7f7"
            ],
            [
             0.6,
             "#e6f5d0"
            ],
            [
             0.7,
             "#b8e186"
            ],
            [
             0.8,
             "#7fbc41"
            ],
            [
             0.9,
             "#4d9221"
            ],
            [
             1,
             "#276419"
            ]
           ],
           "sequential": [
            [
             0,
             "#0d0887"
            ],
            [
             0.1111111111111111,
             "#46039f"
            ],
            [
             0.2222222222222222,
             "#7201a8"
            ],
            [
             0.3333333333333333,
             "#9c179e"
            ],
            [
             0.4444444444444444,
             "#bd3786"
            ],
            [
             0.5555555555555556,
             "#d8576b"
            ],
            [
             0.6666666666666666,
             "#ed7953"
            ],
            [
             0.7777777777777778,
             "#fb9f3a"
            ],
            [
             0.8888888888888888,
             "#fdca26"
            ],
            [
             1,
             "#f0f921"
            ]
           ],
           "sequentialminus": [
            [
             0,
             "#0d0887"
            ],
            [
             0.1111111111111111,
             "#46039f"
            ],
            [
             0.2222222222222222,
             "#7201a8"
            ],
            [
             0.3333333333333333,
             "#9c179e"
            ],
            [
             0.4444444444444444,
             "#bd3786"
            ],
            [
             0.5555555555555556,
             "#d8576b"
            ],
            [
             0.6666666666666666,
             "#ed7953"
            ],
            [
             0.7777777777777778,
             "#fb9f3a"
            ],
            [
             0.8888888888888888,
             "#fdca26"
            ],
            [
             1,
             "#f0f921"
            ]
           ]
          },
          "colorway": [
           "#636efa",
           "#EF553B",
           "#00cc96",
           "#ab63fa",
           "#FFA15A",
           "#19d3f3",
           "#FF6692",
           "#B6E880",
           "#FF97FF",
           "#FECB52"
          ],
          "font": {
           "color": "#2a3f5f"
          },
          "geo": {
           "bgcolor": "white",
           "lakecolor": "white",
           "landcolor": "#E5ECF6",
           "showlakes": true,
           "showland": true,
           "subunitcolor": "white"
          },
          "hoverlabel": {
           "align": "left"
          },
          "hovermode": "closest",
          "mapbox": {
           "style": "light"
          },
          "paper_bgcolor": "white",
          "plot_bgcolor": "#E5ECF6",
          "polar": {
           "angularaxis": {
            "gridcolor": "white",
            "linecolor": "white",
            "ticks": ""
           },
           "bgcolor": "#E5ECF6",
           "radialaxis": {
            "gridcolor": "white",
            "linecolor": "white",
            "ticks": ""
           }
          },
          "scene": {
           "xaxis": {
            "backgroundcolor": "#E5ECF6",
            "gridcolor": "white",
            "gridwidth": 2,
            "linecolor": "white",
            "showbackground": true,
            "ticks": "",
            "zerolinecolor": "white"
           },
           "yaxis": {
            "backgroundcolor": "#E5ECF6",
            "gridcolor": "white",
            "gridwidth": 2,
            "linecolor": "white",
            "showbackground": true,
            "ticks": "",
            "zerolinecolor": "white"
           },
           "zaxis": {
            "backgroundcolor": "#E5ECF6",
            "gridcolor": "white",
            "gridwidth": 2,
            "linecolor": "white",
            "showbackground": true,
            "ticks": "",
            "zerolinecolor": "white"
           }
          },
          "shapedefaults": {
           "line": {
            "color": "#2a3f5f"
           }
          },
          "ternary": {
           "aaxis": {
            "gridcolor": "white",
            "linecolor": "white",
            "ticks": ""
           },
           "baxis": {
            "gridcolor": "white",
            "linecolor": "white",
            "ticks": ""
           },
           "bgcolor": "#E5ECF6",
           "caxis": {
            "gridcolor": "white",
            "linecolor": "white",
            "ticks": ""
           }
          },
          "title": {
           "x": 0.05
          },
          "xaxis": {
           "automargin": true,
           "gridcolor": "white",
           "linecolor": "white",
           "ticks": "",
           "title": {
            "standoff": 15
           },
           "zerolinecolor": "white",
           "zerolinewidth": 2
          },
          "yaxis": {
           "automargin": true,
           "gridcolor": "white",
           "linecolor": "white",
           "ticks": "",
           "title": {
            "standoff": 15
           },
           "zerolinecolor": "white",
           "zerolinewidth": 2
          }
         }
        },
        "title": {
         "text": "Correlation Matrix of Audio Features"
        }
       }
      },
      "text/html": [
       "<div>                            <div id=\"89dee4a9-be7d-4713-92f4-8f6b0ed020e6\" class=\"plotly-graph-div\" style=\"height:525px; width:100%;\"></div>            <script type=\"text/javascript\">                require([\"plotly\"], function(Plotly) {                    window.PLOTLYENV=window.PLOTLYENV || {};                                    if (document.getElementById(\"89dee4a9-be7d-4713-92f4-8f6b0ed020e6\")) {                    Plotly.newPlot(                        \"89dee4a9-be7d-4713-92f4-8f6b0ed020e6\",                        [{\"colorbar\":{\"title\":{\"text\":\"Correlation\"}},\"colorscale\":[[0.0,\"rgb(103,0,31)\"],[0.1,\"rgb(178,24,43)\"],[0.2,\"rgb(214,96,77)\"],[0.3,\"rgb(244,165,130)\"],[0.4,\"rgb(253,219,199)\"],[0.5,\"rgb(247,247,247)\"],[0.6,\"rgb(209,229,240)\"],[0.7,\"rgb(146,197,222)\"],[0.8,\"rgb(67,147,195)\"],[0.9,\"rgb(33,102,172)\"],[1.0,\"rgb(5,48,97)\"]],\"x\":[\"duration\",\"energy\",\"key\",\"loudness\",\"mode\",\"speechiness\",\"acousticness\",\"instrumentalness\",\"liveness\",\"valence\",\"tempo\",\"danceability\"],\"y\":[\"duration\",\"energy\",\"key\",\"loudness\",\"mode\",\"speechiness\",\"acousticness\",\"instrumentalness\",\"liveness\",\"valence\",\"tempo\",\"danceability\"],\"z\":[[1.0,0.008278614200594534,-0.046874750505900314,0.07343194842763727,0.16391612065235409,-0.07393835035806474,-0.03654176043653525,-0.10744973383221322,-0.12560303719153165,-0.2044256400579198,0.0639215106168033,-0.20087233464148227],[0.008278614200594534,1.0,-0.08754193814226693,0.741793502987356,0.09525516594024587,-0.05964367755397553,-0.7035515059812375,-0.27503397994943996,-0.03325132300307001,0.23865934271999706,0.25986317310798107,0.014443446799637383],[-0.046874750505900314,-0.08754193814226693,1.0,-0.08133864011876027,-0.16324382286961345,0.034264593163458396,0.050491818214248425,0.20654719260796486,0.10796099918629051,0.03144839600421261,-0.09284467690299435,0.04341581757436363],[0.07343194842763727,0.741793502987356,-0.08133864011876027,1.0,0.17908753864867694,-0.21400859527291832,-0.5111766423472645,-0.3453495741252484,-0.019159187566629293,0.26039739741510215,0.12191553151792427,0.13903918009979674],[0.16391612065235409,0.09525516594024587,-0.16324382286961345,0.17908753864867694,1.0,-0.11528172938662606,-0.02659284077668303,-0.08279376827361168,-0.03504187057255182,-0.07895240269377798,-0.0278198021632115,-0.18328793377278424],[-0.07393835035806474,-0.05964367755397553,0.034264593163458396,-0.21400859527291832,-0.11528172938662606,1.0,0.07903033844378839,0.009310982611582752,-0.007594313388843635,0.02660260017970011,0.17232408325980925,0.16208857727808712],[-0.03654176043653525,-0.7035515059812375,0.050491818214248425,-0.5111766423472645,-0.02659284077668303,0.07903033844378839,1.0,0.2266349850095711,-0.12215418296018644,-0.1398982315335356,-0.23581047438913233,-0.1860991514493598],[-0.10744973383221322,-0.27503397994943996,0.20654719260796486,-0.3453495741252484,-0.08279376827361168,0.009310982611582752,0.2266349850095711,1.0,0.029135847760233164,0.104192154226373,-0.10337207609801355,-0.09196819918254653],[-0.12560303719153165,-0.03325132300307001,0.10796099918629051,-0.019159187566629293,-0.03504187057255182,-0.007594313388843635,-0.12215418296018644,0.029135847760233164,1.0,-0.16977733889273874,-0.09047199530470293,0.010374016238572169],[-0.2044256400579198,0.23865934271999706,0.03144839600421261,0.26039739741510215,-0.07895240269377798,0.02660260017970011,-0.1398982315335356,0.104192154226373,-0.16977733889273874,1.0,-0.05904329506998928,0.37964280244192977],[0.0639215106168033,0.25986317310798107,-0.09284467690299435,0.12191553151792427,-0.0278198021632115,0.17232408325980925,-0.23581047438913233,-0.10337207609801355,-0.09047199530470293,-0.05904329506998928,1.0,-0.05772721185569122],[-0.20087233464148227,0.014443446799637383,0.04341581757436363,0.13903918009979674,-0.18328793377278424,0.16208857727808712,-0.1860991514493598,-0.09196819918254653,0.010374016238572169,0.37964280244192977,-0.05772721185569122,1.0]],\"type\":\"heatmap\"}],                        {\"template\":{\"data\":{\"histogram2dcontour\":[{\"type\":\"histogram2dcontour\",\"colorbar\":{\"outlinewidth\":0,\"ticks\":\"\"},\"colorscale\":[[0.0,\"#0d0887\"],[0.1111111111111111,\"#46039f\"],[0.2222222222222222,\"#7201a8\"],[0.3333333333333333,\"#9c179e\"],[0.4444444444444444,\"#bd3786\"],[0.5555555555555556,\"#d8576b\"],[0.6666666666666666,\"#ed7953\"],[0.7777777777777778,\"#fb9f3a\"],[0.8888888888888888,\"#fdca26\"],[1.0,\"#f0f921\"]]}],\"choropleth\":[{\"type\":\"choropleth\",\"colorbar\":{\"outlinewidth\":0,\"ticks\":\"\"}}],\"histogram2d\":[{\"type\":\"histogram2d\",\"colorbar\":{\"outlinewidth\":0,\"ticks\":\"\"},\"colorscale\":[[0.0,\"#0d0887\"],[0.1111111111111111,\"#46039f\"],[0.2222222222222222,\"#7201a8\"],[0.3333333333333333,\"#9c179e\"],[0.4444444444444444,\"#bd3786\"],[0.5555555555555556,\"#d8576b\"],[0.6666666666666666,\"#ed7953\"],[0.7777777777777778,\"#fb9f3a\"],[0.8888888888888888,\"#fdca26\"],[1.0,\"#f0f921\"]]}],\"heatmap\":[{\"type\":\"heatmap\",\"colorbar\":{\"outlinewidth\":0,\"ticks\":\"\"},\"colorscale\":[[0.0,\"#0d0887\"],[0.1111111111111111,\"#46039f\"],[0.2222222222222222,\"#7201a8\"],[0.3333333333333333,\"#9c179e\"],[0.4444444444444444,\"#bd3786\"],[0.5555555555555556,\"#d8576b\"],[0.6666666666666666,\"#ed7953\"],[0.7777777777777778,\"#fb9f3a\"],[0.8888888888888888,\"#fdca26\"],[1.0,\"#f0f921\"]]}],\"heatmapgl\":[{\"type\":\"heatmapgl\",\"colorbar\":{\"outlinewidth\":0,\"ticks\":\"\"},\"colorscale\":[[0.0,\"#0d0887\"],[0.1111111111111111,\"#46039f\"],[0.2222222222222222,\"#7201a8\"],[0.3333333333333333,\"#9c179e\"],[0.4444444444444444,\"#bd3786\"],[0.5555555555555556,\"#d8576b\"],[0.6666666666666666,\"#ed7953\"],[0.7777777777777778,\"#fb9f3a\"],[0.8888888888888888,\"#fdca26\"],[1.0,\"#f0f921\"]]}],\"contourcarpet\":[{\"type\":\"contourcarpet\",\"colorbar\":{\"outlinewidth\":0,\"ticks\":\"\"}}],\"contour\":[{\"type\":\"contour\",\"colorbar\":{\"outlinewidth\":0,\"ticks\":\"\"},\"colorscale\":[[0.0,\"#0d0887\"],[0.1111111111111111,\"#46039f\"],[0.2222222222222222,\"#7201a8\"],[0.3333333333333333,\"#9c179e\"],[0.4444444444444444,\"#bd3786\"],[0.5555555555555556,\"#d8576b\"],[0.6666666666666666,\"#ed7953\"],[0.7777777777777778,\"#fb9f3a\"],[0.8888888888888888,\"#fdca26\"],[1.0,\"#f0f921\"]]}],\"surface\":[{\"type\":\"surface\",\"colorbar\":{\"outlinewidth\":0,\"ticks\":\"\"},\"colorscale\":[[0.0,\"#0d0887\"],[0.1111111111111111,\"#46039f\"],[0.2222222222222222,\"#7201a8\"],[0.3333333333333333,\"#9c179e\"],[0.4444444444444444,\"#bd3786\"],[0.5555555555555556,\"#d8576b\"],[0.6666666666666666,\"#ed7953\"],[0.7777777777777778,\"#fb9f3a\"],[0.8888888888888888,\"#fdca26\"],[1.0,\"#f0f921\"]]}],\"mesh3d\":[{\"type\":\"mesh3d\",\"colorbar\":{\"outlinewidth\":0,\"ticks\":\"\"}}],\"scatter\":[{\"fillpattern\":{\"fillmode\":\"overlay\",\"size\":10,\"solidity\":0.2},\"type\":\"scatter\"}],\"parcoords\":[{\"type\":\"parcoords\",\"line\":{\"colorbar\":{\"outlinewidth\":0,\"ticks\":\"\"}}}],\"scatterpolargl\":[{\"type\":\"scatterpolargl\",\"marker\":{\"colorbar\":{\"outlinewidth\":0,\"ticks\":\"\"}}}],\"bar\":[{\"error_x\":{\"color\":\"#2a3f5f\"},\"error_y\":{\"color\":\"#2a3f5f\"},\"marker\":{\"line\":{\"color\":\"#E5ECF6\",\"width\":0.5},\"pattern\":{\"fillmode\":\"overlay\",\"size\":10,\"solidity\":0.2}},\"type\":\"bar\"}],\"scattergeo\":[{\"type\":\"scattergeo\",\"marker\":{\"colorbar\":{\"outlinewidth\":0,\"ticks\":\"\"}}}],\"scatterpolar\":[{\"type\":\"scatterpolar\",\"marker\":{\"colorbar\":{\"outlinewidth\":0,\"ticks\":\"\"}}}],\"histogram\":[{\"marker\":{\"pattern\":{\"fillmode\":\"overlay\",\"size\":10,\"solidity\":0.2}},\"type\":\"histogram\"}],\"scattergl\":[{\"type\":\"scattergl\",\"marker\":{\"colorbar\":{\"outlinewidth\":0,\"ticks\":\"\"}}}],\"scatter3d\":[{\"type\":\"scatter3d\",\"line\":{\"colorbar\":{\"outlinewidth\":0,\"ticks\":\"\"}},\"marker\":{\"colorbar\":{\"outlinewidth\":0,\"ticks\":\"\"}}}],\"scattermapbox\":[{\"type\":\"scattermapbox\",\"marker\":{\"colorbar\":{\"outlinewidth\":0,\"ticks\":\"\"}}}],\"scatterternary\":[{\"type\":\"scatterternary\",\"marker\":{\"colorbar\":{\"outlinewidth\":0,\"ticks\":\"\"}}}],\"scattercarpet\":[{\"type\":\"scattercarpet\",\"marker\":{\"colorbar\":{\"outlinewidth\":0,\"ticks\":\"\"}}}],\"carpet\":[{\"aaxis\":{\"endlinecolor\":\"#2a3f5f\",\"gridcolor\":\"white\",\"linecolor\":\"white\",\"minorgridcolor\":\"white\",\"startlinecolor\":\"#2a3f5f\"},\"baxis\":{\"endlinecolor\":\"#2a3f5f\",\"gridcolor\":\"white\",\"linecolor\":\"white\",\"minorgridcolor\":\"white\",\"startlinecolor\":\"#2a3f5f\"},\"type\":\"carpet\"}],\"table\":[{\"cells\":{\"fill\":{\"color\":\"#EBF0F8\"},\"line\":{\"color\":\"white\"}},\"header\":{\"fill\":{\"color\":\"#C8D4E3\"},\"line\":{\"color\":\"white\"}},\"type\":\"table\"}],\"barpolar\":[{\"marker\":{\"line\":{\"color\":\"#E5ECF6\",\"width\":0.5},\"pattern\":{\"fillmode\":\"overlay\",\"size\":10,\"solidity\":0.2}},\"type\":\"barpolar\"}],\"pie\":[{\"automargin\":true,\"type\":\"pie\"}]},\"layout\":{\"autotypenumbers\":\"strict\",\"colorway\":[\"#636efa\",\"#EF553B\",\"#00cc96\",\"#ab63fa\",\"#FFA15A\",\"#19d3f3\",\"#FF6692\",\"#B6E880\",\"#FF97FF\",\"#FECB52\"],\"font\":{\"color\":\"#2a3f5f\"},\"hovermode\":\"closest\",\"hoverlabel\":{\"align\":\"left\"},\"paper_bgcolor\":\"white\",\"plot_bgcolor\":\"#E5ECF6\",\"polar\":{\"bgcolor\":\"#E5ECF6\",\"angularaxis\":{\"gridcolor\":\"white\",\"linecolor\":\"white\",\"ticks\":\"\"},\"radialaxis\":{\"gridcolor\":\"white\",\"linecolor\":\"white\",\"ticks\":\"\"}},\"ternary\":{\"bgcolor\":\"#E5ECF6\",\"aaxis\":{\"gridcolor\":\"white\",\"linecolor\":\"white\",\"ticks\":\"\"},\"baxis\":{\"gridcolor\":\"white\",\"linecolor\":\"white\",\"ticks\":\"\"},\"caxis\":{\"gridcolor\":\"white\",\"linecolor\":\"white\",\"ticks\":\"\"}},\"coloraxis\":{\"colorbar\":{\"outlinewidth\":0,\"ticks\":\"\"}},\"colorscale\":{\"sequential\":[[0.0,\"#0d0887\"],[0.1111111111111111,\"#46039f\"],[0.2222222222222222,\"#7201a8\"],[0.3333333333333333,\"#9c179e\"],[0.4444444444444444,\"#bd3786\"],[0.5555555555555556,\"#d8576b\"],[0.6666666666666666,\"#ed7953\"],[0.7777777777777778,\"#fb9f3a\"],[0.8888888888888888,\"#fdca26\"],[1.0,\"#f0f921\"]],\"sequentialminus\":[[0.0,\"#0d0887\"],[0.1111111111111111,\"#46039f\"],[0.2222222222222222,\"#7201a8\"],[0.3333333333333333,\"#9c179e\"],[0.4444444444444444,\"#bd3786\"],[0.5555555555555556,\"#d8576b\"],[0.6666666666666666,\"#ed7953\"],[0.7777777777777778,\"#fb9f3a\"],[0.8888888888888888,\"#fdca26\"],[1.0,\"#f0f921\"]],\"diverging\":[[0,\"#8e0152\"],[0.1,\"#c51b7d\"],[0.2,\"#de77ae\"],[0.3,\"#f1b6da\"],[0.4,\"#fde0ef\"],[0.5,\"#f7f7f7\"],[0.6,\"#e6f5d0\"],[0.7,\"#b8e186\"],[0.8,\"#7fbc41\"],[0.9,\"#4d9221\"],[1,\"#276419\"]]},\"xaxis\":{\"gridcolor\":\"white\",\"linecolor\":\"white\",\"ticks\":\"\",\"title\":{\"standoff\":15},\"zerolinecolor\":\"white\",\"automargin\":true,\"zerolinewidth\":2},\"yaxis\":{\"gridcolor\":\"white\",\"linecolor\":\"white\",\"ticks\":\"\",\"title\":{\"standoff\":15},\"zerolinecolor\":\"white\",\"automargin\":true,\"zerolinewidth\":2},\"scene\":{\"xaxis\":{\"backgroundcolor\":\"#E5ECF6\",\"gridcolor\":\"white\",\"linecolor\":\"white\",\"showbackground\":true,\"ticks\":\"\",\"zerolinecolor\":\"white\",\"gridwidth\":2},\"yaxis\":{\"backgroundcolor\":\"#E5ECF6\",\"gridcolor\":\"white\",\"linecolor\":\"white\",\"showbackground\":true,\"ticks\":\"\",\"zerolinecolor\":\"white\",\"gridwidth\":2},\"zaxis\":{\"backgroundcolor\":\"#E5ECF6\",\"gridcolor\":\"white\",\"linecolor\":\"white\",\"showbackground\":true,\"ticks\":\"\",\"zerolinecolor\":\"white\",\"gridwidth\":2}},\"shapedefaults\":{\"line\":{\"color\":\"#2a3f5f\"}},\"annotationdefaults\":{\"arrowcolor\":\"#2a3f5f\",\"arrowhead\":0,\"arrowwidth\":1},\"geo\":{\"bgcolor\":\"white\",\"landcolor\":\"#E5ECF6\",\"subunitcolor\":\"white\",\"showland\":true,\"showlakes\":true,\"lakecolor\":\"white\"},\"title\":{\"x\":0.05},\"mapbox\":{\"style\":\"light\"}}},\"title\":{\"text\":\"Correlation Matrix of Audio Features\"}},                        {\"responsive\": true}                    ).then(function(){\n",
       "                            \n",
       "var gd = document.getElementById('89dee4a9-be7d-4713-92f4-8f6b0ed020e6');\n",
       "var x = new MutationObserver(function (mutations, observer) {{\n",
       "        var display = window.getComputedStyle(gd).display;\n",
       "        if (!display || display === 'none') {{\n",
       "            console.log([gd, 'removed!']);\n",
       "            Plotly.purge(gd);\n",
       "            observer.disconnect();\n",
       "        }}\n",
       "}});\n",
       "\n",
       "// Listen for the removal of the full notebook cells\n",
       "var notebookContainer = gd.closest('#notebook-container');\n",
       "if (notebookContainer) {{\n",
       "    x.observe(notebookContainer, {childList: true});\n",
       "}}\n",
       "\n",
       "// Listen for the clearing of the current output cell\n",
       "var outputEl = gd.closest('.output');\n",
       "if (outputEl) {{\n",
       "    x.observe(outputEl, {childList: true});\n",
       "}}\n",
       "\n",
       "                        })                };                });            </script>        </div>"
      ]
     },
     "metadata": {},
     "output_type": "display_data"
    }
   ],
   "source": [
    "import plotly.graph_objs as go\n",
    "\n",
    "# Compute the correlation matrix\n",
    "corr_matrix = features_df.corr()\n",
    "\n",
    "# Create a heatmap plot\n",
    "fig = go.Figure(data=go.Heatmap(\n",
    "                   z=corr_matrix.values,\n",
    "                   x=corr_matrix.index.values,\n",
    "                   y=corr_matrix.columns.values,\n",
    "                   colorscale='RdBu',\n",
    "                   colorbar=dict(title='Correlation')\n",
    "                 ))\n",
    "fig.update_layout(title='Correlation Matrix of Audio Features')\n",
    "fig.show()"
   ]
  },
  {
   "cell_type": "code",
   "execution_count": 13,
   "metadata": {
    "colab": {
     "base_uri": "https://localhost:8080/",
     "height": 542
    },
    "id": "Aj4Hb04c3WU4",
    "outputId": "120aaeb9-7765-4919-dbe4-d61525e37d93"
   },
   "outputs": [
    {
     "data": {
      "application/vnd.plotly.v1+json": {
       "config": {
        "plotlyServerURL": "https://plot.ly"
       },
       "data": [
        {
         "alignmentgroup": "True",
         "customdata": [
          [
           "Blinding Lights",
           "29-Nov-19"
          ],
          [
           "The Hills",
           "27-May-15"
          ]
         ],
         "hovertemplate": "Artist=%{x}<br>Streams (Billions)=%{y}<br>Song=%{customdata[0]}<br>Release Date=%{customdata[1]}<extra></extra>",
         "legendgroup": "The Weeknd",
         "marker": {
          "color": "#636efa",
          "pattern": {
           "shape": ""
          }
         },
         "name": "The Weeknd",
         "offsetgroup": "The Weeknd",
         "orientation": "v",
         "showlegend": true,
         "textposition": "auto",
         "type": "bar",
         "x": [
          "The Weeknd",
          "The Weeknd"
         ],
         "xaxis": "x",
         "y": [
          3.449,
          1.802
         ],
         "yaxis": "y"
        },
        {
         "alignmentgroup": "True",
         "customdata": [
          [
           "Shape of You",
           "06-Jan-17"
          ],
          [
           "Perfect",
           "03-Mar-17"
          ],
          [
           "Thinking Out Loud",
           "20-Jun-14"
          ],
          [
           "Photograph",
           "20-Jun-14"
          ]
         ],
         "hovertemplate": "Artist=%{x}<br>Streams (Billions)=%{y}<br>Song=%{customdata[0]}<br>Release Date=%{customdata[1]}<extra></extra>",
         "legendgroup": "Ed Sheeran",
         "marker": {
          "color": "#EF553B",
          "pattern": {
           "shape": ""
          }
         },
         "name": "Ed Sheeran",
         "offsetgroup": "Ed Sheeran",
         "orientation": "v",
         "showlegend": true,
         "textposition": "auto",
         "type": "bar",
         "x": [
          "Ed Sheeran",
          "Ed Sheeran",
          "Ed Sheeran",
          "Ed Sheeran"
         ],
         "xaxis": "x",
         "y": [
          3.398,
          2.361,
          2.177,
          2.099
         ],
         "yaxis": "y"
        },
        {
         "alignmentgroup": "True",
         "customdata": [
          [
           "Dance Monkey",
           "10-May-19"
          ]
         ],
         "hovertemplate": "Artist=%{x}<br>Streams (Billions)=%{y}<br>Song=%{customdata[0]}<br>Release Date=%{customdata[1]}<extra></extra>",
         "legendgroup": "Tones And I",
         "marker": {
          "color": "#00cc96",
          "pattern": {
           "shape": ""
          }
         },
         "name": "Tones And I",
         "offsetgroup": "Tones And I",
         "orientation": "v",
         "showlegend": true,
         "textposition": "auto",
         "type": "bar",
         "x": [
          "Tones And I"
         ],
         "xaxis": "x",
         "y": [
          2.77
         ],
         "yaxis": "y"
        },
        {
         "alignmentgroup": "True",
         "customdata": [
          [
           "Someone You Loved",
           "08-Nov-18"
          ]
         ],
         "hovertemplate": "Artist=%{x}<br>Streams (Billions)=%{y}<br>Song=%{customdata[0]}<br>Release Date=%{customdata[1]}<extra></extra>",
         "legendgroup": "Lewis Capaldi",
         "marker": {
          "color": "#ab63fa",
          "pattern": {
           "shape": ""
          }
         },
         "name": "Lewis Capaldi",
         "offsetgroup": "Lewis Capaldi",
         "orientation": "v",
         "showlegend": true,
         "textposition": "auto",
         "type": "bar",
         "x": [
          "Lewis Capaldi"
         ],
         "xaxis": "x",
         "y": [
          2.68
         ],
         "yaxis": "y"
        },
        {
         "alignmentgroup": "True",
         "customdata": [
          [
           "Rockstar",
           "15-Sep-17"
          ]
         ],
         "hovertemplate": "Artist=%{x}<br>Streams (Billions)=%{y}<br>Song=%{customdata[0]}<br>Release Date=%{customdata[1]}<extra></extra>",
         "legendgroup": "Post Malone featuring 21 Savage",
         "marker": {
          "color": "#FFA15A",
          "pattern": {
           "shape": ""
          }
         },
         "name": "Post Malone featuring 21 Savage",
         "offsetgroup": "Post Malone featuring 21 Savage",
         "orientation": "v",
         "showlegend": true,
         "textposition": "auto",
         "type": "bar",
         "x": [
          "Post Malone featuring 21 Savage"
         ],
         "xaxis": "x",
         "y": [
          2.62
         ],
         "yaxis": "y"
        },
        {
         "alignmentgroup": "True",
         "customdata": [
          [
           "Sunflower",
           "18-Oct-18"
          ]
         ],
         "hovertemplate": "Artist=%{x}<br>Streams (Billions)=%{y}<br>Song=%{customdata[0]}<br>Release Date=%{customdata[1]}<extra></extra>",
         "legendgroup": "Post Malone and Swae Lee",
         "marker": {
          "color": "#19d3f3",
          "pattern": {
           "shape": ""
          }
         },
         "name": "Post Malone and Swae Lee",
         "offsetgroup": "Post Malone and Swae Lee",
         "orientation": "v",
         "showlegend": true,
         "textposition": "auto",
         "type": "bar",
         "x": [
          "Post Malone and Swae Lee"
         ],
         "xaxis": "x",
         "y": [
          2.575
         ],
         "yaxis": "y"
        },
        {
         "alignmentgroup": "True",
         "customdata": [
          [
           "One Dance",
           "05-Apr-16"
          ]
         ],
         "hovertemplate": "Artist=%{x}<br>Streams (Billions)=%{y}<br>Song=%{customdata[0]}<br>Release Date=%{customdata[1]}<extra></extra>",
         "legendgroup": "Drake featuring Wizkid and Kyla",
         "marker": {
          "color": "#FF6692",
          "pattern": {
           "shape": ""
          }
         },
         "name": "Drake featuring Wizkid and Kyla",
         "offsetgroup": "Drake featuring Wizkid and Kyla",
         "orientation": "v",
         "showlegend": true,
         "textposition": "auto",
         "type": "bar",
         "x": [
          "Drake featuring Wizkid and Kyla"
         ],
         "xaxis": "x",
         "y": [
          2.556
         ],
         "yaxis": "y"
        },
        {
         "alignmentgroup": "True",
         "customdata": [
          [
           "Closer",
           "29-Jul-16"
          ]
         ],
         "hovertemplate": "Artist=%{x}<br>Streams (Billions)=%{y}<br>Song=%{customdata[0]}<br>Release Date=%{customdata[1]}<extra></extra>",
         "legendgroup": "The Chainsmokers featuring Halsey",
         "marker": {
          "color": "#B6E880",
          "pattern": {
           "shape": ""
          }
         },
         "name": "The Chainsmokers featuring Halsey",
         "offsetgroup": "The Chainsmokers featuring Halsey",
         "orientation": "v",
         "showlegend": true,
         "textposition": "auto",
         "type": "bar",
         "x": [
          "The Chainsmokers featuring Halsey"
         ],
         "xaxis": "x",
         "y": [
          2.481
         ],
         "yaxis": "y"
        },
        {
         "alignmentgroup": "True",
         "customdata": [
          [
           "Stay",
           "09-Jul-21"
          ]
         ],
         "hovertemplate": "Artist=%{x}<br>Streams (Billions)=%{y}<br>Song=%{customdata[0]}<br>Release Date=%{customdata[1]}<extra></extra>",
         "legendgroup": "The Kid Laroi and Justin Bieber",
         "marker": {
          "color": "#FF97FF",
          "pattern": {
           "shape": ""
          }
         },
         "name": "The Kid Laroi and Justin Bieber",
         "offsetgroup": "The Kid Laroi and Justin Bieber",
         "orientation": "v",
         "showlegend": true,
         "textposition": "auto",
         "type": "bar",
         "x": [
          "The Kid Laroi and Justin Bieber"
         ],
         "xaxis": "x",
         "y": [
          2.432
         ],
         "yaxis": "y"
        },
        {
         "alignmentgroup": "True",
         "customdata": [
          [
           "Believer",
           "01-Feb-17"
          ],
          [
           "Thunder",
           "27-Apr-17"
          ],
          [
           "Demons",
           "04-Sep-12"
          ]
         ],
         "hovertemplate": "Artist=%{x}<br>Streams (Billions)=%{y}<br>Song=%{customdata[0]}<br>Release Date=%{customdata[1]}<extra></extra>",
         "legendgroup": "Imagine Dragons",
         "marker": {
          "color": "#FECB52",
          "pattern": {
           "shape": ""
          }
         },
         "name": "Imagine Dragons",
         "offsetgroup": "Imagine Dragons",
         "orientation": "v",
         "showlegend": true,
         "textposition": "auto",
         "type": "bar",
         "x": [
          "Imagine Dragons",
          "Imagine Dragons",
          "Imagine Dragons"
         ],
         "xaxis": "x",
         "y": [
          2.41,
          1.926,
          1.679
         ],
         "yaxis": "y"
        },
        {
         "alignmentgroup": "True",
         "customdata": [
          [
           "Señorita",
           "21-Jun-19"
          ]
         ],
         "hovertemplate": "Artist=%{x}<br>Streams (Billions)=%{y}<br>Song=%{customdata[0]}<br>Release Date=%{customdata[1]}<extra></extra>",
         "legendgroup": "Shawn Mendes and Camila Cabello",
         "marker": {
          "color": "#636efa",
          "pattern": {
           "shape": ""
          }
         },
         "name": "Shawn Mendes and Camila Cabello",
         "offsetgroup": "Shawn Mendes and Camila Cabello",
         "orientation": "v",
         "showlegend": true,
         "textposition": "auto",
         "type": "bar",
         "x": [
          "Shawn Mendes and Camila Cabello"
         ],
         "xaxis": "x",
         "y": [
          2.365
         ],
         "yaxis": "y"
        },
        {
         "alignmentgroup": "True",
         "customdata": [
          [
           "Heat Waves",
           "29-Jun-20"
          ]
         ],
         "hovertemplate": "Artist=%{x}<br>Streams (Billions)=%{y}<br>Song=%{customdata[0]}<br>Release Date=%{customdata[1]}<extra></extra>",
         "legendgroup": "Glass Animals",
         "marker": {
          "color": "#EF553B",
          "pattern": {
           "shape": ""
          }
         },
         "name": "Glass Animals",
         "offsetgroup": "Glass Animals",
         "orientation": "v",
         "showlegend": true,
         "textposition": "auto",
         "type": "bar",
         "x": [
          "Glass Animals"
         ],
         "xaxis": "x",
         "y": [
          2.32
         ],
         "yaxis": "y"
        },
        {
         "alignmentgroup": "True",
         "customdata": [
          [
           "Say You Won't Let Go",
           "09-Sep-16"
          ]
         ],
         "hovertemplate": "Artist=%{x}<br>Streams (Billions)=%{y}<br>Song=%{customdata[0]}<br>Release Date=%{customdata[1]}<extra></extra>",
         "legendgroup": "James Arthur",
         "marker": {
          "color": "#00cc96",
          "pattern": {
           "shape": ""
          }
         },
         "name": "James Arthur",
         "offsetgroup": "James Arthur",
         "orientation": "v",
         "showlegend": true,
         "textposition": "auto",
         "type": "bar",
         "x": [
          "James Arthur"
         ],
         "xaxis": "x",
         "y": [
          2.269
         ],
         "yaxis": "y"
        },
        {
         "alignmentgroup": "True",
         "customdata": [
          [
           "Starboy",
           "21-Sep-16"
          ]
         ],
         "hovertemplate": "Artist=%{x}<br>Streams (Billions)=%{y}<br>Song=%{customdata[0]}<br>Release Date=%{customdata[1]}<extra></extra>",
         "legendgroup": "The Weeknd featuring Daft Punk",
         "marker": {
          "color": "#ab63fa",
          "pattern": {
           "shape": ""
          }
         },
         "name": "The Weeknd featuring Daft Punk",
         "offsetgroup": "The Weeknd featuring Daft Punk",
         "orientation": "v",
         "showlegend": true,
         "textposition": "auto",
         "type": "bar",
         "x": [
          "The Weeknd featuring Daft Punk"
         ],
         "xaxis": "x",
         "y": [
          2.258
         ],
         "yaxis": "y"
        },
        {
         "alignmentgroup": "True",
         "customdata": [
          [
           "Bad Guy",
           "29-Mar-19"
          ]
         ],
         "hovertemplate": "Artist=%{x}<br>Streams (Billions)=%{y}<br>Song=%{customdata[0]}<br>Release Date=%{customdata[1]}<extra></extra>",
         "legendgroup": "Billie Eilish",
         "marker": {
          "color": "#FFA15A",
          "pattern": {
           "shape": ""
          }
         },
         "name": "Billie Eilish",
         "offsetgroup": "Billie Eilish",
         "orientation": "v",
         "showlegend": true,
         "textposition": "auto",
         "type": "bar",
         "x": [
          "Billie Eilish"
         ],
         "xaxis": "x",
         "y": [
          2.223
         ],
         "yaxis": "y"
        },
        {
         "alignmentgroup": "True",
         "customdata": [
          [
           "Lucid Dreams",
           "04-May-18"
          ]
         ],
         "hovertemplate": "Artist=%{x}<br>Streams (Billions)=%{y}<br>Song=%{customdata[0]}<br>Release Date=%{customdata[1]}<extra></extra>",
         "legendgroup": "Juice WRLD",
         "marker": {
          "color": "#19d3f3",
          "pattern": {
           "shape": ""
          }
         },
         "name": "Juice WRLD",
         "offsetgroup": "Juice WRLD",
         "orientation": "v",
         "showlegend": true,
         "textposition": "auto",
         "type": "bar",
         "x": [
          "Juice WRLD"
         ],
         "xaxis": "x",
         "y": [
          2.177
         ],
         "yaxis": "y"
        },
        {
         "alignmentgroup": "True",
         "customdata": [
          [
           "Don't Start Now",
           "01-Nov-19"
          ],
          [
           "New Rules",
           "02-Jun-17"
          ]
         ],
         "hovertemplate": "Artist=%{x}<br>Streams (Billions)=%{y}<br>Song=%{customdata[0]}<br>Release Date=%{customdata[1]}<extra></extra>",
         "legendgroup": "Dua Lipa",
         "marker": {
          "color": "#FF6692",
          "pattern": {
           "shape": ""
          }
         },
         "name": "Dua Lipa",
         "offsetgroup": "Dua Lipa",
         "orientation": "v",
         "showlegend": true,
         "textposition": "auto",
         "type": "bar",
         "x": [
          "Dua Lipa",
          "Dua Lipa"
         ],
         "xaxis": "x",
         "y": [
          2.17,
          1.825
         ],
         "yaxis": "y"
        },
        {
         "alignmentgroup": "True",
         "customdata": [
          [
           "Lovely",
           "19-Apr-18"
          ]
         ],
         "hovertemplate": "Artist=%{x}<br>Streams (Billions)=%{y}<br>Song=%{customdata[0]}<br>Release Date=%{customdata[1]}<extra></extra>",
         "legendgroup": "Billie Eilish and Khalid",
         "marker": {
          "color": "#B6E880",
          "pattern": {
           "shape": ""
          }
         },
         "name": "Billie Eilish and Khalid",
         "offsetgroup": "Billie Eilish and Khalid",
         "orientation": "v",
         "showlegend": true,
         "textposition": "auto",
         "type": "bar",
         "x": [
          "Billie Eilish and Khalid"
         ],
         "xaxis": "x",
         "y": [
          2.158
         ],
         "yaxis": "y"
        },
        {
         "alignmentgroup": "True",
         "customdata": [
          [
           "Watermelon Sugar",
           "15-May-20"
          ],
          [
           "As It Was",
           "01-Apr-22"
          ]
         ],
         "hovertemplate": "Artist=%{x}<br>Streams (Billions)=%{y}<br>Song=%{customdata[0]}<br>Release Date=%{customdata[1]}<extra></extra>",
         "legendgroup": "Harry Styles",
         "marker": {
          "color": "#FF97FF",
          "pattern": {
           "shape": ""
          }
         },
         "name": "Harry Styles",
         "offsetgroup": "Harry Styles",
         "orientation": "v",
         "showlegend": true,
         "textposition": "auto",
         "type": "bar",
         "x": [
          "Harry Styles",
          "Harry Styles"
         ],
         "xaxis": "x",
         "y": [
          2.14,
          2.012
         ],
         "yaxis": "y"
        },
        {
         "alignmentgroup": "True",
         "customdata": [
          [
           "God's Plan",
           "19-Jan-18"
          ]
         ],
         "hovertemplate": "Artist=%{x}<br>Streams (Billions)=%{y}<br>Song=%{customdata[0]}<br>Release Date=%{customdata[1]}<extra></extra>",
         "legendgroup": "Drake",
         "marker": {
          "color": "#FECB52",
          "pattern": {
           "shape": ""
          }
         },
         "name": "Drake",
         "offsetgroup": "Drake",
         "orientation": "v",
         "showlegend": true,
         "textposition": "auto",
         "type": "bar",
         "x": [
          "Drake"
         ],
         "xaxis": "x",
         "y": [
          2.126
         ],
         "yaxis": "y"
        },
        {
         "alignmentgroup": "True",
         "customdata": [
          [
           "Bohemian Rhapsody",
           "31-Oct-75"
          ],
          [
           "Don't Stop Me Now",
           "26-Jan-79"
          ]
         ],
         "hovertemplate": "Artist=%{x}<br>Streams (Billions)=%{y}<br>Song=%{customdata[0]}<br>Release Date=%{customdata[1]}<extra></extra>",
         "legendgroup": "Queen",
         "marker": {
          "color": "#636efa",
          "pattern": {
           "shape": ""
          }
         },
         "name": "Queen",
         "offsetgroup": "Queen",
         "orientation": "v",
         "showlegend": true,
         "textposition": "auto",
         "type": "bar",
         "x": [
          "Queen",
          "Queen"
         ],
         "xaxis": "x",
         "y": [
          2.069,
          1.521
         ],
         "yaxis": "y"
        },
        {
         "alignmentgroup": "True",
         "customdata": [
          [
           "Something Just Like This",
           "22-Feb-17"
          ]
         ],
         "hovertemplate": "Artist=%{x}<br>Streams (Billions)=%{y}<br>Song=%{customdata[0]}<br>Release Date=%{customdata[1]}<extra></extra>",
         "legendgroup": "The Chainsmokers and Coldplay",
         "marker": {
          "color": "#EF553B",
          "pattern": {
           "shape": ""
          }
         },
         "name": "The Chainsmokers and Coldplay",
         "offsetgroup": "The Chainsmokers and Coldplay",
         "orientation": "v",
         "showlegend": true,
         "textposition": "auto",
         "type": "bar",
         "x": [
          "The Chainsmokers and Coldplay"
         ],
         "xaxis": "x",
         "y": [
          2.061
         ],
         "yaxis": "y"
        },
        {
         "alignmentgroup": "True",
         "customdata": [
          [
           "Sweater Weather",
           "28-Mar-12"
          ]
         ],
         "hovertemplate": "Artist=%{x}<br>Streams (Billions)=%{y}<br>Song=%{customdata[0]}<br>Release Date=%{customdata[1]}<extra></extra>",
         "legendgroup": "The Neighbourhood",
         "marker": {
          "color": "#00cc96",
          "pattern": {
           "shape": ""
          }
         },
         "name": "The Neighbourhood",
         "offsetgroup": "The Neighbourhood",
         "orientation": "v",
         "showlegend": true,
         "textposition": "auto",
         "type": "bar",
         "x": [
          "The Neighbourhood"
         ],
         "xaxis": "x",
         "y": [
          2.041
         ],
         "yaxis": "y"
        },
        {
         "alignmentgroup": "True",
         "customdata": [
          [
           "Shallow",
           "27-Sep-18"
          ]
         ],
         "hovertemplate": "Artist=%{x}<br>Streams (Billions)=%{y}<br>Song=%{customdata[0]}<br>Release Date=%{customdata[1]}<extra></extra>",
         "legendgroup": "Lady Gaga and Bradley Cooper",
         "marker": {
          "color": "#ab63fa",
          "pattern": {
           "shape": ""
          }
         },
         "name": "Lady Gaga and Bradley Cooper",
         "offsetgroup": "Lady Gaga and Bradley Cooper",
         "orientation": "v",
         "showlegend": true,
         "textposition": "auto",
         "type": "bar",
         "x": [
          "Lady Gaga and Bradley Cooper"
         ],
         "xaxis": "x",
         "y": [
          2.035
         ],
         "yaxis": "y"
        },
        {
         "alignmentgroup": "True",
         "customdata": [
          [
           "Love Yourself",
           "09-Nov-15"
          ],
          [
           "Sorry",
           "22-Oct-15"
          ]
         ],
         "hovertemplate": "Artist=%{x}<br>Streams (Billions)=%{y}<br>Song=%{customdata[0]}<br>Release Date=%{customdata[1]}<extra></extra>",
         "legendgroup": "Justin Bieber",
         "marker": {
          "color": "#FFA15A",
          "pattern": {
           "shape": ""
          }
         },
         "name": "Justin Bieber",
         "offsetgroup": "Justin Bieber",
         "orientation": "v",
         "showlegend": true,
         "textposition": "auto",
         "type": "bar",
         "x": [
          "Justin Bieber",
          "Justin Bieber"
         ],
         "xaxis": "x",
         "y": [
          2.003,
          1.76
         ],
         "yaxis": "y"
        },
        {
         "alignmentgroup": "True",
         "customdata": [
          [
           "Circles",
           "30-Aug-19"
          ],
          [
           "Better Now",
           "27-Apr-18"
          ]
         ],
         "hovertemplate": "Artist=%{x}<br>Streams (Billions)=%{y}<br>Song=%{customdata[0]}<br>Release Date=%{customdata[1]}<extra></extra>",
         "legendgroup": "Post Malone",
         "marker": {
          "color": "#19d3f3",
          "pattern": {
           "shape": ""
          }
         },
         "name": "Post Malone",
         "offsetgroup": "Post Malone",
         "orientation": "v",
         "showlegend": true,
         "textposition": "auto",
         "type": "bar",
         "x": [
          "Post Malone",
          "Post Malone"
         ],
         "xaxis": "x",
         "y": [
          1.99,
          1.71
         ],
         "yaxis": "y"
        },
        {
         "alignmentgroup": "True",
         "customdata": [
          [
           "Sad!",
           "01-Mar-18"
          ],
          [
           "Jocelyn Flores",
           "31-Oct-17"
          ],
          [
           "Moonlight",
           "16-Mar-18"
          ]
         ],
         "hovertemplate": "Artist=%{x}<br>Streams (Billions)=%{y}<br>Song=%{customdata[0]}<br>Release Date=%{customdata[1]}<extra></extra>",
         "legendgroup": "XXXTentacion",
         "marker": {
          "color": "#FF6692",
          "pattern": {
           "shape": ""
          }
         },
         "name": "XXXTentacion",
         "offsetgroup": "XXXTentacion",
         "orientation": "v",
         "showlegend": true,
         "textposition": "auto",
         "type": "bar",
         "x": [
          "XXXTentacion",
          "XXXTentacion",
          "XXXTentacion"
         ],
         "xaxis": "x",
         "y": [
          1.987,
          1.905,
          1.6
         ],
         "yaxis": "y"
        },
        {
         "alignmentgroup": "True",
         "customdata": [
          [
           "Take Me to Church",
           "13-Sep-13"
          ]
         ],
         "hovertemplate": "Artist=%{x}<br>Streams (Billions)=%{y}<br>Song=%{customdata[0]}<br>Release Date=%{customdata[1]}<extra></extra>",
         "legendgroup": "Hozier",
         "marker": {
          "color": "#B6E880",
          "pattern": {
           "shape": ""
          }
         },
         "name": "Hozier",
         "offsetgroup": "Hozier",
         "orientation": "v",
         "showlegend": true,
         "textposition": "auto",
         "type": "bar",
         "x": [
          "Hozier"
         ],
         "xaxis": "x",
         "y": [
          1.984
         ],
         "yaxis": "y"
        },
        {
         "alignmentgroup": "True",
         "customdata": [
          [
           "All of Me",
           "12-Aug-13"
          ]
         ],
         "hovertemplate": "Artist=%{x}<br>Streams (Billions)=%{y}<br>Song=%{customdata[0]}<br>Release Date=%{customdata[1]}<extra></extra>",
         "legendgroup": "John Legend",
         "marker": {
          "color": "#FF97FF",
          "pattern": {
           "shape": ""
          }
         },
         "name": "John Legend",
         "offsetgroup": "John Legend",
         "orientation": "v",
         "showlegend": true,
         "textposition": "auto",
         "type": "bar",
         "x": [
          "John Legend"
         ],
         "xaxis": "x",
         "y": [
          1.973
         ],
         "yaxis": "y"
        },
        {
         "alignmentgroup": "True",
         "customdata": [
          [
           "7 Rings",
           "18-Jan-19"
          ],
          [
           "Thank U, Next",
           "03-Nov-18"
          ]
         ],
         "hovertemplate": "Artist=%{x}<br>Streams (Billions)=%{y}<br>Song=%{customdata[0]}<br>Release Date=%{customdata[1]}<extra></extra>",
         "legendgroup": "Ariana Grande",
         "marker": {
          "color": "#FECB52",
          "pattern": {
           "shape": ""
          }
         },
         "name": "Ariana Grande",
         "offsetgroup": "Ariana Grande",
         "orientation": "v",
         "showlegend": true,
         "textposition": "auto",
         "type": "bar",
         "x": [
          "Ariana Grande",
          "Ariana Grande"
         ],
         "xaxis": "x",
         "y": [
          1.924,
          1.652
         ],
         "yaxis": "y"
        },
        {
         "alignmentgroup": "True",
         "customdata": [
          [
           "Goosebumps",
           "02-Sep-16"
          ]
         ],
         "hovertemplate": "Artist=%{x}<br>Streams (Billions)=%{y}<br>Song=%{customdata[0]}<br>Release Date=%{customdata[1]}<extra></extra>",
         "legendgroup": "Travis Scott featuring Kendrick Lamar",
         "marker": {
          "color": "#636efa",
          "pattern": {
           "shape": ""
          }
         },
         "name": "Travis Scott featuring Kendrick Lamar",
         "offsetgroup": "Travis Scott featuring Kendrick Lamar",
         "orientation": "v",
         "showlegend": true,
         "textposition": "auto",
         "type": "bar",
         "x": [
          "Travis Scott featuring Kendrick Lamar"
         ],
         "xaxis": "x",
         "y": [
          1.911
         ],
         "yaxis": "y"
        },
        {
         "alignmentgroup": "True",
         "customdata": [
          [
           "Havana",
           "03-Aug-17"
          ]
         ],
         "hovertemplate": "Artist=%{x}<br>Streams (Billions)=%{y}<br>Song=%{customdata[0]}<br>Release Date=%{customdata[1]}<extra></extra>",
         "legendgroup": "Camila Cabello featuring Young Thug",
         "marker": {
          "color": "#EF553B",
          "pattern": {
           "shape": ""
          }
         },
         "name": "Camila Cabello featuring Young Thug",
         "offsetgroup": "Camila Cabello featuring Young Thug",
         "orientation": "v",
         "showlegend": true,
         "textposition": "auto",
         "type": "bar",
         "x": [
          "Camila Cabello featuring Young Thug"
         ],
         "xaxis": "x",
         "y": [
          1.861
         ],
         "yaxis": "y"
        },
        {
         "alignmentgroup": "True",
         "customdata": [
          [
           "Stressed Out",
           "28-Apr-15"
          ]
         ],
         "hovertemplate": "Artist=%{x}<br>Streams (Billions)=%{y}<br>Song=%{customdata[0]}<br>Release Date=%{customdata[1]}<extra></extra>",
         "legendgroup": "Twenty One Pilots",
         "marker": {
          "color": "#00cc96",
          "pattern": {
           "shape": ""
          }
         },
         "name": "Twenty One Pilots",
         "offsetgroup": "Twenty One Pilots",
         "orientation": "v",
         "showlegend": true,
         "textposition": "auto",
         "type": "bar",
         "x": [
          "Twenty One Pilots"
         ],
         "xaxis": "x",
         "y": [
          1.86
         ],
         "yaxis": "y"
        },
        {
         "alignmentgroup": "True",
         "customdata": [
          [
           "XO Tour Llif3",
           "24-Mar-17"
          ]
         ],
         "hovertemplate": "Artist=%{x}<br>Streams (Billions)=%{y}<br>Song=%{customdata[0]}<br>Release Date=%{customdata[1]}<extra></extra>",
         "legendgroup": "Lil Uzi Vert",
         "marker": {
          "color": "#ab63fa",
          "pattern": {
           "shape": ""
          }
         },
         "name": "Lil Uzi Vert",
         "offsetgroup": "Lil Uzi Vert",
         "orientation": "v",
         "showlegend": true,
         "textposition": "auto",
         "type": "bar",
         "x": [
          "Lil Uzi Vert"
         ],
         "xaxis": "x",
         "y": [
          1.847
         ],
         "yaxis": "y"
        },
        {
         "alignmentgroup": "True",
         "customdata": [
          [
           "Counting Stars",
           "25-Mar-13"
          ]
         ],
         "hovertemplate": "Artist=%{x}<br>Streams (Billions)=%{y}<br>Song=%{customdata[0]}<br>Release Date=%{customdata[1]}<extra></extra>",
         "legendgroup": "OneRepublic",
         "marker": {
          "color": "#FFA15A",
          "pattern": {
           "shape": ""
          }
         },
         "name": "OneRepublic",
         "offsetgroup": "OneRepublic",
         "orientation": "v",
         "showlegend": true,
         "textposition": "auto",
         "type": "bar",
         "x": [
          "OneRepublic"
         ],
         "xaxis": "x",
         "y": [
          1.843
         ],
         "yaxis": "y"
        },
        {
         "alignmentgroup": "True",
         "customdata": [
          [
           "Wake Me Up",
           "17-Jun-13"
          ]
         ],
         "hovertemplate": "Artist=%{x}<br>Streams (Billions)=%{y}<br>Song=%{customdata[0]}<br>Release Date=%{customdata[1]}<extra></extra>",
         "legendgroup": "Avicii",
         "marker": {
          "color": "#19d3f3",
          "pattern": {
           "shape": ""
          }
         },
         "name": "Avicii",
         "offsetgroup": "Avicii",
         "orientation": "v",
         "showlegend": true,
         "textposition": "auto",
         "type": "bar",
         "x": [
          "Avicii"
         ],
         "xaxis": "x",
         "y": [
          1.824
         ],
         "yaxis": "y"
        },
        {
         "alignmentgroup": "True",
         "customdata": [
          [
           "Riptide",
           "21-May-13"
          ]
         ],
         "hovertemplate": "Artist=%{x}<br>Streams (Billions)=%{y}<br>Song=%{customdata[0]}<br>Release Date=%{customdata[1]}<extra></extra>",
         "legendgroup": "Vance Joy",
         "marker": {
          "color": "#FF6692",
          "pattern": {
           "shape": ""
          }
         },
         "name": "Vance Joy",
         "offsetgroup": "Vance Joy",
         "orientation": "v",
         "showlegend": true,
         "textposition": "auto",
         "type": "bar",
         "x": [
          "Vance Joy"
         ],
         "xaxis": "x",
         "y": [
          1.819
         ],
         "yaxis": "y"
        },
        {
         "alignmentgroup": "True",
         "customdata": [
          [
           "Happier",
           "17-Aug-18"
          ]
         ],
         "hovertemplate": "Artist=%{x}<br>Streams (Billions)=%{y}<br>Song=%{customdata[0]}<br>Release Date=%{customdata[1]}<extra></extra>",
         "legendgroup": "Marshmello and Bastille",
         "marker": {
          "color": "#B6E880",
          "pattern": {
           "shape": ""
          }
         },
         "name": "Marshmello and Bastille",
         "offsetgroup": "Marshmello and Bastille",
         "orientation": "v",
         "showlegend": true,
         "textposition": "auto",
         "type": "bar",
         "x": [
          "Marshmello and Bastille"
         ],
         "xaxis": "x",
         "y": [
          1.817
         ],
         "yaxis": "y"
        },
        {
         "alignmentgroup": "True",
         "customdata": [
          [
           "Humble",
           "30-Mar-17"
          ]
         ],
         "hovertemplate": "Artist=%{x}<br>Streams (Billions)=%{y}<br>Song=%{customdata[0]}<br>Release Date=%{customdata[1]}<extra></extra>",
         "legendgroup": "Kendrick Lamar",
         "marker": {
          "color": "#FF97FF",
          "pattern": {
           "shape": ""
          }
         },
         "name": "Kendrick Lamar",
         "offsetgroup": "Kendrick Lamar",
         "orientation": "v",
         "showlegend": true,
         "textposition": "auto",
         "type": "bar",
         "x": [
          "Kendrick Lamar"
         ],
         "xaxis": "x",
         "y": [
          1.812
         ],
         "yaxis": "y"
        },
        {
         "alignmentgroup": "True",
         "customdata": [
          [
           "Let Her Go",
           "24-Jul-12"
          ]
         ],
         "hovertemplate": "Artist=%{x}<br>Streams (Billions)=%{y}<br>Song=%{customdata[0]}<br>Release Date=%{customdata[1]}<extra></extra>",
         "legendgroup": "Passenger",
         "marker": {
          "color": "#FECB52",
          "pattern": {
           "shape": ""
          }
         },
         "name": "Passenger",
         "offsetgroup": "Passenger",
         "orientation": "v",
         "showlegend": true,
         "textposition": "auto",
         "type": "bar",
         "x": [
          "Passenger"
         ],
         "xaxis": "x",
         "y": [
          1.811
         ],
         "yaxis": "y"
        },
        {
         "alignmentgroup": "True",
         "customdata": [
          [
           "Sicko Mode",
           "03-Aug-18"
          ]
         ],
         "hovertemplate": "Artist=%{x}<br>Streams (Billions)=%{y}<br>Song=%{customdata[0]}<br>Release Date=%{customdata[1]}<extra></extra>",
         "legendgroup": "Travis Scott featuring Drake",
         "marker": {
          "color": "#636efa",
          "pattern": {
           "shape": ""
          }
         },
         "name": "Travis Scott featuring Drake",
         "offsetgroup": "Travis Scott featuring Drake",
         "orientation": "v",
         "showlegend": true,
         "textposition": "auto",
         "type": "bar",
         "x": [
          "Travis Scott featuring Drake"
         ],
         "xaxis": "x",
         "y": [
          1.794
         ],
         "yaxis": "y"
        },
        {
         "alignmentgroup": "True",
         "customdata": [
          [
           "Can't Hold Us",
           "16-Aug-11"
          ]
         ],
         "hovertemplate": "Artist=%{x}<br>Streams (Billions)=%{y}<br>Song=%{customdata[0]}<br>Release Date=%{customdata[1]}<extra></extra>",
         "legendgroup": "Macklemore & Ryan Lewis featuring Ray Dalton",
         "marker": {
          "color": "#EF553B",
          "pattern": {
           "shape": ""
          }
         },
         "name": "Macklemore & Ryan Lewis featuring Ray Dalton",
         "offsetgroup": "Macklemore & Ryan Lewis featuring Ray Dalton",
         "orientation": "v",
         "showlegend": true,
         "textposition": "auto",
         "type": "bar",
         "x": [
          "Macklemore & Ryan Lewis featuring Ray Dalton"
         ],
         "xaxis": "x",
         "y": [
          1.778
         ],
         "yaxis": "y"
        },
        {
         "alignmentgroup": "True",
         "customdata": [
          [
           "Good 4 U",
           "14-May-21"
          ],
          [
           "Drivers License",
           "08-Jan-21"
          ]
         ],
         "hovertemplate": "Artist=%{x}<br>Streams (Billions)=%{y}<br>Song=%{customdata[0]}<br>Release Date=%{customdata[1]}<extra></extra>",
         "legendgroup": "Olivia Rodrigo",
         "marker": {
          "color": "#00cc96",
          "pattern": {
           "shape": ""
          }
         },
         "name": "Olivia Rodrigo",
         "offsetgroup": "Olivia Rodrigo",
         "orientation": "v",
         "showlegend": true,
         "textposition": "auto",
         "type": "bar",
         "x": [
          "Olivia Rodrigo",
          "Olivia Rodrigo"
         ],
         "xaxis": "x",
         "y": [
          1.763,
          1.734
         ],
         "yaxis": "y"
        },
        {
         "alignmentgroup": "True",
         "customdata": [
          [
           "One Kiss",
           "06-Apr-18"
          ]
         ],
         "hovertemplate": "Artist=%{x}<br>Streams (Billions)=%{y}<br>Song=%{customdata[0]}<br>Release Date=%{customdata[1]}<extra></extra>",
         "legendgroup": "Calvin Harris and Dua Lipa",
         "marker": {
          "color": "#ab63fa",
          "pattern": {
           "shape": ""
          }
         },
         "name": "Calvin Harris and Dua Lipa",
         "offsetgroup": "Calvin Harris and Dua Lipa",
         "orientation": "v",
         "showlegend": true,
         "textposition": "auto",
         "type": "bar",
         "x": [
          "Calvin Harris and Dua Lipa"
         ],
         "xaxis": "x",
         "y": [
          1.755
         ],
         "yaxis": "y"
        },
        {
         "alignmentgroup": "True",
         "customdata": [
          [
           "Let Me Love You",
           "05-Aug-16"
          ]
         ],
         "hovertemplate": "Artist=%{x}<br>Streams (Billions)=%{y}<br>Song=%{customdata[0]}<br>Release Date=%{customdata[1]}<extra></extra>",
         "legendgroup": "DJ Snake featuring Justin Bieber",
         "marker": {
          "color": "#FFA15A",
          "pattern": {
           "shape": ""
          }
         },
         "name": "DJ Snake featuring Justin Bieber",
         "offsetgroup": "DJ Snake featuring Justin Bieber",
         "orientation": "v",
         "showlegend": true,
         "textposition": "auto",
         "type": "bar",
         "x": [
          "DJ Snake featuring Justin Bieber"
         ],
         "xaxis": "x",
         "y": [
          1.747
         ],
         "yaxis": "y"
        },
        {
         "alignmentgroup": "True",
         "customdata": [
          [
           "Lean On",
           "02-Mar-15"
          ]
         ],
         "hovertemplate": "Artist=%{x}<br>Streams (Billions)=%{y}<br>Song=%{customdata[0]}<br>Release Date=%{customdata[1]}<extra></extra>",
         "legendgroup": "Major Lazer and DJ Snake featuring MØ",
         "marker": {
          "color": "#19d3f3",
          "pattern": {
           "shape": ""
          }
         },
         "name": "Major Lazer and DJ Snake featuring MØ",
         "offsetgroup": "Major Lazer and DJ Snake featuring MØ",
         "orientation": "v",
         "showlegend": true,
         "textposition": "auto",
         "type": "bar",
         "x": [
          "Major Lazer and DJ Snake featuring MØ"
         ],
         "xaxis": "x",
         "y": [
          1.728
         ],
         "yaxis": "y"
        },
        {
         "alignmentgroup": "True",
         "customdata": [
          [
           "Treat You Better",
           "03-Jun-16"
          ],
          [
           "There's Nothing Holdin' Me Back",
           "20-Apr-17"
          ],
          [
           "Stitches",
           "14-Apr-15"
          ]
         ],
         "hovertemplate": "Artist=%{x}<br>Streams (Billions)=%{y}<br>Song=%{customdata[0]}<br>Release Date=%{customdata[1]}<extra></extra>",
         "legendgroup": "Shawn Mendes",
         "marker": {
          "color": "#FF6692",
          "pattern": {
           "shape": ""
          }
         },
         "name": "Shawn Mendes",
         "offsetgroup": "Shawn Mendes",
         "orientation": "v",
         "showlegend": true,
         "textposition": "auto",
         "type": "bar",
         "x": [
          "Shawn Mendes",
          "Shawn Mendes",
          "Shawn Mendes"
         ],
         "xaxis": "x",
         "y": [
          1.725,
          1.579,
          1.559
         ],
         "yaxis": "y"
        },
        {
         "alignmentgroup": "True",
         "customdata": [
          [
           "Roses (Imanbek remix)",
           "18-Sep-19"
          ]
         ],
         "hovertemplate": "Artist=%{x}<br>Streams (Billions)=%{y}<br>Song=%{customdata[0]}<br>Release Date=%{customdata[1]}<extra></extra>",
         "legendgroup": "Saint Jhn with Imanbek",
         "marker": {
          "color": "#B6E880",
          "pattern": {
           "shape": ""
          }
         },
         "name": "Saint Jhn with Imanbek",
         "offsetgroup": "Saint Jhn with Imanbek",
         "orientation": "v",
         "showlegend": true,
         "textposition": "auto",
         "type": "bar",
         "x": [
          "Saint Jhn with Imanbek"
         ],
         "xaxis": "x",
         "y": [
          1.723
         ],
         "yaxis": "y"
        },
        {
         "alignmentgroup": "True",
         "customdata": [
          [
           "Stay with Me",
           "14-Apr-14"
          ],
          [
           "Too Good at Goodbyes",
           "08-Sep-17"
          ]
         ],
         "hovertemplate": "Artist=%{x}<br>Streams (Billions)=%{y}<br>Song=%{customdata[0]}<br>Release Date=%{customdata[1]}<extra></extra>",
         "legendgroup": "Sam Smith",
         "marker": {
          "color": "#FF97FF",
          "pattern": {
           "shape": ""
          }
         },
         "name": "Sam Smith",
         "offsetgroup": "Sam Smith",
         "orientation": "v",
         "showlegend": true,
         "textposition": "auto",
         "type": "bar",
         "x": [
          "Sam Smith",
          "Sam Smith"
         ],
         "xaxis": "x",
         "y": [
          1.709,
          1.673
         ],
         "yaxis": "y"
        },
        {
         "alignmentgroup": "True",
         "customdata": [
          [
           "Congratulations",
           "04-Nov-16"
          ]
         ],
         "hovertemplate": "Artist=%{x}<br>Streams (Billions)=%{y}<br>Song=%{customdata[0]}<br>Release Date=%{customdata[1]}<extra></extra>",
         "legendgroup": "Post Malone featuring Quavo",
         "marker": {
          "color": "#FECB52",
          "pattern": {
           "shape": ""
          }
         },
         "name": "Post Malone featuring Quavo",
         "offsetgroup": "Post Malone featuring Quavo",
         "orientation": "v",
         "showlegend": true,
         "textposition": "auto",
         "type": "bar",
         "x": [
          "Post Malone featuring Quavo"
         ],
         "xaxis": "x",
         "y": [
          1.703
         ],
         "yaxis": "y"
        },
        {
         "alignmentgroup": "True",
         "customdata": [
          [
           "Faded",
           "03-Dec-15"
          ]
         ],
         "hovertemplate": "Artist=%{x}<br>Streams (Billions)=%{y}<br>Song=%{customdata[0]}<br>Release Date=%{customdata[1]}<extra></extra>",
         "legendgroup": "Alan Walker",
         "marker": {
          "color": "#636efa",
          "pattern": {
           "shape": ""
          }
         },
         "name": "Alan Walker",
         "offsetgroup": "Alan Walker",
         "orientation": "v",
         "showlegend": true,
         "textposition": "auto",
         "type": "bar",
         "x": [
          "Alan Walker"
         ],
         "xaxis": "x",
         "y": [
          1.699
         ],
         "yaxis": "y"
        },
        {
         "alignmentgroup": "True",
         "customdata": [
          [
           "Without Me",
           "04-Oct-18"
          ]
         ],
         "hovertemplate": "Artist=%{x}<br>Streams (Billions)=%{y}<br>Song=%{customdata[0]}<br>Release Date=%{customdata[1]}<extra></extra>",
         "legendgroup": "Halsey",
         "marker": {
          "color": "#EF553B",
          "pattern": {
           "shape": ""
          }
         },
         "name": "Halsey",
         "offsetgroup": "Halsey",
         "orientation": "v",
         "showlegend": true,
         "textposition": "auto",
         "type": "bar",
         "x": [
          "Halsey"
         ],
         "xaxis": "x",
         "y": [
          1.692
         ],
         "yaxis": "y"
        },
        {
         "alignmentgroup": "True",
         "customdata": [
          [
           "Industry Baby",
           "23-Jul-21"
          ]
         ],
         "hovertemplate": "Artist=%{x}<br>Streams (Billions)=%{y}<br>Song=%{customdata[0]}<br>Release Date=%{customdata[1]}<extra></extra>",
         "legendgroup": "Lil Nas X featuring Jack Harlow",
         "marker": {
          "color": "#00cc96",
          "pattern": {
           "shape": ""
          }
         },
         "name": "Lil Nas X featuring Jack Harlow",
         "offsetgroup": "Lil Nas X featuring Jack Harlow",
         "orientation": "v",
         "showlegend": true,
         "textposition": "auto",
         "type": "bar",
         "x": [
          "Lil Nas X featuring Jack Harlow"
         ],
         "xaxis": "x",
         "y": [
          1.691
         ],
         "yaxis": "y"
        },
        {
         "alignmentgroup": "True",
         "customdata": [
          [
           "Lose Yourself",
           "28-Oct-02"
          ]
         ],
         "hovertemplate": "Artist=%{x}<br>Streams (Billions)=%{y}<br>Song=%{customdata[0]}<br>Release Date=%{customdata[1]}<extra></extra>",
         "legendgroup": "Eminem",
         "marker": {
          "color": "#ab63fa",
          "pattern": {
           "shape": ""
          }
         },
         "name": "Eminem",
         "offsetgroup": "Eminem",
         "orientation": "v",
         "showlegend": true,
         "textposition": "auto",
         "type": "bar",
         "x": [
          "Eminem"
         ],
         "xaxis": "x",
         "y": [
          1.68
         ],
         "yaxis": "y"
        },
        {
         "alignmentgroup": "True",
         "customdata": [
          [
           "Memories",
           "20-Sep-19"
          ],
          [
           "Sugar",
           "29-Aug-14"
          ]
         ],
         "hovertemplate": "Artist=%{x}<br>Streams (Billions)=%{y}<br>Song=%{customdata[0]}<br>Release Date=%{customdata[1]}<extra></extra>",
         "legendgroup": "Maroon 5",
         "marker": {
          "color": "#FFA15A",
          "pattern": {
           "shape": ""
          }
         },
         "name": "Maroon 5",
         "offsetgroup": "Maroon 5",
         "orientation": "v",
         "showlegend": true,
         "textposition": "auto",
         "type": "bar",
         "x": [
          "Maroon 5",
          "Maroon 5"
         ],
         "xaxis": "x",
         "y": [
          1.68,
          1.524
         ],
         "yaxis": "y"
        },
        {
         "alignmentgroup": "True",
         "customdata": [
          [
           "Mr. Brightside",
           "07-Jun-04"
          ]
         ],
         "hovertemplate": "Artist=%{x}<br>Streams (Billions)=%{y}<br>Song=%{customdata[0]}<br>Release Date=%{customdata[1]}<extra></extra>",
         "legendgroup": "The Killers",
         "marker": {
          "color": "#19d3f3",
          "pattern": {
           "shape": ""
          }
         },
         "name": "The Killers",
         "offsetgroup": "The Killers",
         "orientation": "v",
         "showlegend": true,
         "textposition": "auto",
         "type": "bar",
         "x": [
          "The Killers"
         ],
         "xaxis": "x",
         "y": [
          1.677
         ],
         "yaxis": "y"
        },
        {
         "alignmentgroup": "True",
         "customdata": [
          [
           "Uptown Funk",
           "10-Nov-14"
          ]
         ],
         "hovertemplate": "Artist=%{x}<br>Streams (Billions)=%{y}<br>Song=%{customdata[0]}<br>Release Date=%{customdata[1]}<extra></extra>",
         "legendgroup": "Mark Ronson featuring Bruno Mars",
         "marker": {
          "color": "#FF6692",
          "pattern": {
           "shape": ""
          }
         },
         "name": "Mark Ronson featuring Bruno Mars",
         "offsetgroup": "Mark Ronson featuring Bruno Mars",
         "orientation": "v",
         "showlegend": true,
         "textposition": "auto",
         "type": "bar",
         "x": [
          "Mark Ronson featuring Bruno Mars"
         ],
         "xaxis": "x",
         "y": [
          1.673
         ],
         "yaxis": "y"
        },
        {
         "alignmentgroup": "True",
         "customdata": [
          [
           "Levitating",
           "01-Oct-20"
          ]
         ],
         "hovertemplate": "Artist=%{x}<br>Streams (Billions)=%{y}<br>Song=%{customdata[0]}<br>Release Date=%{customdata[1]}<extra></extra>",
         "legendgroup": "Dua Lipa featuring DaBaby",
         "marker": {
          "color": "#B6E880",
          "pattern": {
           "shape": ""
          }
         },
         "name": "Dua Lipa featuring DaBaby",
         "offsetgroup": "Dua Lipa featuring DaBaby",
         "orientation": "v",
         "showlegend": true,
         "textposition": "auto",
         "type": "bar",
         "x": [
          "Dua Lipa featuring DaBaby"
         ],
         "xaxis": "x",
         "y": [
          1.666
         ],
         "yaxis": "y"
        },
        {
         "alignmentgroup": "True",
         "customdata": [
          [
           "I Took a Pill in Ibiza (Seeb Remix)",
           "14-Apr-15"
          ]
         ],
         "hovertemplate": "Artist=%{x}<br>Streams (Billions)=%{y}<br>Song=%{customdata[0]}<br>Release Date=%{customdata[1]}<extra></extra>",
         "legendgroup": "Mike Posner and Seeb",
         "marker": {
          "color": "#FF97FF",
          "pattern": {
           "shape": ""
          }
         },
         "name": "Mike Posner and Seeb",
         "offsetgroup": "Mike Posner and Seeb",
         "orientation": "v",
         "showlegend": true,
         "textposition": "auto",
         "type": "bar",
         "x": [
          "Mike Posner and Seeb"
         ],
         "xaxis": "x",
         "y": [
          1.666
         ],
         "yaxis": "y"
        },
        {
         "alignmentgroup": "True",
         "customdata": [
          [
           "Don't Let Me Down",
           "05-Feb-16"
          ]
         ],
         "hovertemplate": "Artist=%{x}<br>Streams (Billions)=%{y}<br>Song=%{customdata[0]}<br>Release Date=%{customdata[1]}<extra></extra>",
         "legendgroup": "The Chainsmokers featuring Daya",
         "marker": {
          "color": "#FECB52",
          "pattern": {
           "shape": ""
          }
         },
         "name": "The Chainsmokers featuring Daya",
         "offsetgroup": "The Chainsmokers featuring Daya",
         "orientation": "v",
         "showlegend": true,
         "textposition": "auto",
         "type": "bar",
         "x": [
          "The Chainsmokers featuring Daya"
         ],
         "xaxis": "x",
         "y": [
          1.664
         ],
         "yaxis": "y"
        },
        {
         "alignmentgroup": "True",
         "customdata": [
          [
           "I Don't Care",
           "10-May-19"
          ]
         ],
         "hovertemplate": "Artist=%{x}<br>Streams (Billions)=%{y}<br>Song=%{customdata[0]}<br>Release Date=%{customdata[1]}<extra></extra>",
         "legendgroup": "Ed Sheeran and Justin Bieber",
         "marker": {
          "color": "#636efa",
          "pattern": {
           "shape": ""
          }
         },
         "name": "Ed Sheeran and Justin Bieber",
         "offsetgroup": "Ed Sheeran and Justin Bieber",
         "orientation": "v",
         "showlegend": true,
         "textposition": "auto",
         "type": "bar",
         "x": [
          "Ed Sheeran and Justin Bieber"
         ],
         "xaxis": "x",
         "y": [
          1.647
         ],
         "yaxis": "y"
        },
        {
         "alignmentgroup": "True",
         "customdata": [
          [
           "Dakiti",
           "30-Oct-20"
          ]
         ],
         "hovertemplate": "Artist=%{x}<br>Streams (Billions)=%{y}<br>Song=%{customdata[0]}<br>Release Date=%{customdata[1]}<extra></extra>",
         "legendgroup": "Bad Bunny and Jhay Cortez",
         "marker": {
          "color": "#EF553B",
          "pattern": {
           "shape": ""
          }
         },
         "name": "Bad Bunny and Jhay Cortez",
         "offsetgroup": "Bad Bunny and Jhay Cortez",
         "orientation": "v",
         "showlegend": true,
         "textposition": "auto",
         "type": "bar",
         "x": [
          "Bad Bunny and Jhay Cortez"
         ],
         "xaxis": "x",
         "y": [
          1.647
         ],
         "yaxis": "y"
        },
        {
         "alignmentgroup": "True",
         "customdata": [
          [
           "Montero (Call Me by Your Name)",
           "26-Mar-21"
          ]
         ],
         "hovertemplate": "Artist=%{x}<br>Streams (Billions)=%{y}<br>Song=%{customdata[0]}<br>Release Date=%{customdata[1]}<extra></extra>",
         "legendgroup": "Lil Nas X",
         "marker": {
          "color": "#00cc96",
          "pattern": {
           "shape": ""
          }
         },
         "name": "Lil Nas X",
         "offsetgroup": "Lil Nas X",
         "orientation": "v",
         "showlegend": true,
         "textposition": "auto",
         "type": "bar",
         "x": [
          "Lil Nas X"
         ],
         "xaxis": "x",
         "y": [
          1.642
         ],
         "yaxis": "y"
        },
        {
         "alignmentgroup": "True",
         "customdata": [
          [
           "Mood",
           "24-Jul-20"
          ]
         ],
         "hovertemplate": "Artist=%{x}<br>Streams (Billions)=%{y}<br>Song=%{customdata[0]}<br>Release Date=%{customdata[1]}<extra></extra>",
         "legendgroup": "24kGoldn and Iann Dior",
         "marker": {
          "color": "#ab63fa",
          "pattern": {
           "shape": ""
          }
         },
         "name": "24kGoldn and Iann Dior",
         "offsetgroup": "24kGoldn and Iann Dior",
         "orientation": "v",
         "showlegend": true,
         "textposition": "auto",
         "type": "bar",
         "x": [
          "24kGoldn and Iann Dior"
         ],
         "xaxis": "x",
         "y": [
          1.628
         ],
         "yaxis": "y"
        },
        {
         "alignmentgroup": "True",
         "customdata": [
          [
           "Do I Wanna Know?",
           "19-Jun-13"
          ]
         ],
         "hovertemplate": "Artist=%{x}<br>Streams (Billions)=%{y}<br>Song=%{customdata[0]}<br>Release Date=%{customdata[1]}<extra></extra>",
         "legendgroup": "Arctic Monkeys",
         "marker": {
          "color": "#FFA15A",
          "pattern": {
           "shape": ""
          }
         },
         "name": "Arctic Monkeys",
         "offsetgroup": "Arctic Monkeys",
         "orientation": "v",
         "showlegend": true,
         "textposition": "auto",
         "type": "bar",
         "x": [
          "Arctic Monkeys"
         ],
         "xaxis": "x",
         "y": [
          1.627
         ],
         "yaxis": "y"
        },
        {
         "alignmentgroup": "True",
         "customdata": [
          [
           "Unforgettable",
           "07-Apr-17"
          ]
         ],
         "hovertemplate": "Artist=%{x}<br>Streams (Billions)=%{y}<br>Song=%{customdata[0]}<br>Release Date=%{customdata[1]}<extra></extra>",
         "legendgroup": "French Montana featuring Swae Lee",
         "marker": {
          "color": "#19d3f3",
          "pattern": {
           "shape": ""
          }
         },
         "name": "French Montana featuring Swae Lee",
         "offsetgroup": "French Montana featuring Swae Lee",
         "orientation": "v",
         "showlegend": true,
         "textposition": "auto",
         "type": "bar",
         "x": [
          "French Montana featuring Swae Lee"
         ],
         "xaxis": "x",
         "y": [
          1.616
         ],
         "yaxis": "y"
        },
        {
         "alignmentgroup": "True",
         "customdata": [
          [
           "Dynamite",
           "21-Aug-20"
          ]
         ],
         "hovertemplate": "Artist=%{x}<br>Streams (Billions)=%{y}<br>Song=%{customdata[0]}<br>Release Date=%{customdata[1]}<extra></extra>",
         "legendgroup": "BTS",
         "marker": {
          "color": "#FF6692",
          "pattern": {
           "shape": ""
          }
         },
         "name": "BTS",
         "offsetgroup": "BTS",
         "orientation": "v",
         "showlegend": true,
         "textposition": "auto",
         "type": "bar",
         "x": [
          "BTS"
         ],
         "xaxis": "x",
         "y": [
          1.606
         ],
         "yaxis": "y"
        },
        {
         "alignmentgroup": "True",
         "customdata": [
          [
           "Despacito (remix)",
           "17-Apr-17"
          ]
         ],
         "hovertemplate": "Artist=%{x}<br>Streams (Billions)=%{y}<br>Song=%{customdata[0]}<br>Release Date=%{customdata[1]}<extra></extra>",
         "legendgroup": "Luis Fonsi and Daddy Yankee featuring Justin Bieber",
         "marker": {
          "color": "#B6E880",
          "pattern": {
           "shape": ""
          }
         },
         "name": "Luis Fonsi and Daddy Yankee featuring Justin Bieber",
         "offsetgroup": "Luis Fonsi and Daddy Yankee featuring Justin Bieber",
         "orientation": "v",
         "showlegend": true,
         "textposition": "auto",
         "type": "bar",
         "x": [
          "Luis Fonsi and Daddy Yankee featuring Justin Bieber"
         ],
         "xaxis": "x",
         "y": [
          1.601
         ],
         "yaxis": "y"
        },
        {
         "alignmentgroup": "True",
         "customdata": [
          [
           "Wonderwall",
           "30-Oct-95"
          ]
         ],
         "hovertemplate": "Artist=%{x}<br>Streams (Billions)=%{y}<br>Song=%{customdata[0]}<br>Release Date=%{customdata[1]}<extra></extra>",
         "legendgroup": "Oasis",
         "marker": {
          "color": "#FF97FF",
          "pattern": {
           "shape": ""
          }
         },
         "name": "Oasis",
         "offsetgroup": "Oasis",
         "orientation": "v",
         "showlegend": true,
         "textposition": "auto",
         "type": "bar",
         "x": [
          "Oasis"
         ],
         "xaxis": "x",
         "y": [
          1.593
         ],
         "yaxis": "y"
        },
        {
         "alignmentgroup": "True",
         "customdata": [
          [
           "No Role Modelz",
           "04-Aug-14"
          ]
         ],
         "hovertemplate": "Artist=%{x}<br>Streams (Billions)=%{y}<br>Song=%{customdata[0]}<br>Release Date=%{customdata[1]}<extra></extra>",
         "legendgroup": "J. Cole",
         "marker": {
          "color": "#FECB52",
          "pattern": {
           "shape": ""
          }
         },
         "name": "J. Cole",
         "offsetgroup": "J. Cole",
         "orientation": "v",
         "showlegend": true,
         "textposition": "auto",
         "type": "bar",
         "x": [
          "J. Cole"
         ],
         "xaxis": "x",
         "y": [
          1.592
         ],
         "yaxis": "y"
        },
        {
         "alignmentgroup": "True",
         "customdata": [
          [
           "That's What I Like",
           "18-Nov-16"
          ]
         ],
         "hovertemplate": "Artist=%{x}<br>Streams (Billions)=%{y}<br>Song=%{customdata[0]}<br>Release Date=%{customdata[1]}<extra></extra>",
         "legendgroup": "Bruno Mars",
         "marker": {
          "color": "#636efa",
          "pattern": {
           "shape": ""
          }
         },
         "name": "Bruno Mars",
         "offsetgroup": "Bruno Mars",
         "orientation": "v",
         "showlegend": true,
         "textposition": "auto",
         "type": "bar",
         "x": [
          "Bruno Mars"
         ],
         "xaxis": "x",
         "y": [
          1.587
         ],
         "yaxis": "y"
        },
        {
         "alignmentgroup": "True",
         "customdata": [
          [
           "The Box",
           "06-Dec-19"
          ]
         ],
         "hovertemplate": "Artist=%{x}<br>Streams (Billions)=%{y}<br>Song=%{customdata[0]}<br>Release Date=%{customdata[1]}<extra></extra>",
         "legendgroup": "Roddy Ricch",
         "marker": {
          "color": "#EF553B",
          "pattern": {
           "shape": ""
          }
         },
         "name": "Roddy Ricch",
         "offsetgroup": "Roddy Ricch",
         "orientation": "v",
         "showlegend": true,
         "textposition": "auto",
         "type": "bar",
         "x": [
          "Roddy Ricch"
         ],
         "xaxis": "x",
         "y": [
          1.586
         ],
         "yaxis": "y"
        },
        {
         "alignmentgroup": "True",
         "customdata": [
          [
           "'Till I Collapse",
           "26-May-02"
          ]
         ],
         "hovertemplate": "Artist=%{x}<br>Streams (Billions)=%{y}<br>Song=%{customdata[0]}<br>Release Date=%{customdata[1]}<extra></extra>",
         "legendgroup": "Eminem featuring Nate Dogg",
         "marker": {
          "color": "#00cc96",
          "pattern": {
           "shape": ""
          }
         },
         "name": "Eminem featuring Nate Dogg",
         "offsetgroup": "Eminem featuring Nate Dogg",
         "orientation": "v",
         "showlegend": true,
         "textposition": "auto",
         "type": "bar",
         "x": [
          "Eminem featuring Nate Dogg"
         ],
         "xaxis": "x",
         "y": [
          1.579
         ],
         "yaxis": "y"
        },
        {
         "alignmentgroup": "True",
         "customdata": [
          [
           "Cheap Thrills",
           "29-Jan-16"
          ]
         ],
         "hovertemplate": "Artist=%{x}<br>Streams (Billions)=%{y}<br>Song=%{customdata[0]}<br>Release Date=%{customdata[1]}<extra></extra>",
         "legendgroup": "Sia",
         "marker": {
          "color": "#ab63fa",
          "pattern": {
           "shape": ""
          }
         },
         "name": "Sia",
         "offsetgroup": "Sia",
         "orientation": "v",
         "showlegend": true,
         "textposition": "auto",
         "type": "bar",
         "x": [
          "Sia"
         ],
         "xaxis": "x",
         "y": [
          1.555
         ],
         "yaxis": "y"
        },
        {
         "alignmentgroup": "True",
         "customdata": [
          [
           "Smells Like Teen Spirit",
           "10-Sep-91"
          ]
         ],
         "hovertemplate": "Artist=%{x}<br>Streams (Billions)=%{y}<br>Song=%{customdata[0]}<br>Release Date=%{customdata[1]}<extra></extra>",
         "legendgroup": "Nirvana",
         "marker": {
          "color": "#FFA15A",
          "pattern": {
           "shape": ""
          }
         },
         "name": "Nirvana",
         "offsetgroup": "Nirvana",
         "orientation": "v",
         "showlegend": true,
         "textposition": "auto",
         "type": "bar",
         "x": [
          "Nirvana"
         ],
         "xaxis": "x",
         "y": [
          1.553
         ],
         "yaxis": "y"
        },
        {
         "alignmentgroup": "True",
         "customdata": [
          [
           "See You Again",
           "10-Mar-15"
          ]
         ],
         "hovertemplate": "Artist=%{x}<br>Streams (Billions)=%{y}<br>Song=%{customdata[0]}<br>Release Date=%{customdata[1]}<extra></extra>",
         "legendgroup": "Wiz Khalifa featuring Charlie Puth",
         "marker": {
          "color": "#19d3f3",
          "pattern": {
           "shape": ""
          }
         },
         "name": "Wiz Khalifa featuring Charlie Puth",
         "offsetgroup": "Wiz Khalifa featuring Charlie Puth",
         "orientation": "v",
         "showlegend": true,
         "textposition": "auto",
         "type": "bar",
         "x": [
          "Wiz Khalifa featuring Charlie Puth"
         ],
         "xaxis": "x",
         "y": [
          1.54
         ],
         "yaxis": "y"
        },
        {
         "alignmentgroup": "True",
         "customdata": [
          [
           "I'm Yours",
           "12-Feb-08"
          ]
         ],
         "hovertemplate": "Artist=%{x}<br>Streams (Billions)=%{y}<br>Song=%{customdata[0]}<br>Release Date=%{customdata[1]}<extra></extra>",
         "legendgroup": "Jason Mraz",
         "marker": {
          "color": "#FF6692",
          "pattern": {
           "shape": ""
          }
         },
         "name": "Jason Mraz",
         "offsetgroup": "Jason Mraz",
         "orientation": "v",
         "showlegend": true,
         "textposition": "auto",
         "type": "bar",
         "x": [
          "Jason Mraz"
         ],
         "xaxis": "x",
         "y": [
          1.533
         ],
         "yaxis": "y"
        },
        {
         "alignmentgroup": "True",
         "customdata": [
          [
           "I Like Me Better",
           "19-May-17"
          ]
         ],
         "hovertemplate": "Artist=%{x}<br>Streams (Billions)=%{y}<br>Song=%{customdata[0]}<br>Release Date=%{customdata[1]}<extra></extra>",
         "legendgroup": "Lauv",
         "marker": {
          "color": "#B6E880",
          "pattern": {
           "shape": ""
          }
         },
         "name": "Lauv",
         "offsetgroup": "Lauv",
         "orientation": "v",
         "showlegend": true,
         "textposition": "auto",
         "type": "bar",
         "x": [
          "Lauv"
         ],
         "xaxis": "x",
         "y": [
          1.53
         ],
         "yaxis": "y"
        },
        {
         "alignmentgroup": "True",
         "customdata": [
          [
           "7 Years",
           "16-Jun-15"
          ]
         ],
         "hovertemplate": "Artist=%{x}<br>Streams (Billions)=%{y}<br>Song=%{customdata[0]}<br>Release Date=%{customdata[1]}<extra></extra>",
         "legendgroup": "Lukas Graham",
         "marker": {
          "color": "#FF97FF",
          "pattern": {
           "shape": ""
          }
         },
         "name": "Lukas Graham",
         "offsetgroup": "Lukas Graham",
         "orientation": "v",
         "showlegend": true,
         "textposition": "auto",
         "type": "bar",
         "x": [
          "Lukas Graham"
         ],
         "xaxis": "x",
         "y": [
          1.529
         ],
         "yaxis": "y"
        },
        {
         "alignmentgroup": "True",
         "customdata": [
          [
           "Yellow",
           "26-Jun-00"
          ]
         ],
         "hovertemplate": "Artist=%{x}<br>Streams (Billions)=%{y}<br>Song=%{customdata[0]}<br>Release Date=%{customdata[1]}<extra></extra>",
         "legendgroup": "Coldplay",
         "marker": {
          "color": "#FECB52",
          "pattern": {
           "shape": ""
          }
         },
         "name": "Coldplay",
         "offsetgroup": "Coldplay",
         "orientation": "v",
         "showlegend": true,
         "textposition": "auto",
         "type": "bar",
         "x": [
          "Coldplay"
         ],
         "xaxis": "x",
         "y": [
          1.527
         ],
         "yaxis": "y"
        },
        {
         "alignmentgroup": "True",
         "customdata": [
          [
           "Despacito",
           "12-Jan-17"
          ]
         ],
         "hovertemplate": "Artist=%{x}<br>Streams (Billions)=%{y}<br>Song=%{customdata[0]}<br>Release Date=%{customdata[1]}<extra></extra>",
         "legendgroup": "Luis Fonsi featuring Daddy Yankee",
         "marker": {
          "color": "#636efa",
          "pattern": {
           "shape": ""
          }
         },
         "name": "Luis Fonsi featuring Daddy Yankee",
         "offsetgroup": "Luis Fonsi featuring Daddy Yankee",
         "orientation": "v",
         "showlegend": true,
         "textposition": "auto",
         "type": "bar",
         "x": [
          "Luis Fonsi featuring Daddy Yankee"
         ],
         "xaxis": "x",
         "y": [
          1.522
         ],
         "yaxis": "y"
        }
       ],
       "layout": {
        "barmode": "relative",
        "legend": {
         "title": {
          "text": "Artist"
         },
         "tracegroupgap": 0
        },
        "template": {
         "data": {
          "bar": [
           {
            "error_x": {
             "color": "#2a3f5f"
            },
            "error_y": {
             "color": "#2a3f5f"
            },
            "marker": {
             "line": {
              "color": "#E5ECF6",
              "width": 0.5
             },
             "pattern": {
              "fillmode": "overlay",
              "size": 10,
              "solidity": 0.2
             }
            },
            "type": "bar"
           }
          ],
          "barpolar": [
           {
            "marker": {
             "line": {
              "color": "#E5ECF6",
              "width": 0.5
             },
             "pattern": {
              "fillmode": "overlay",
              "size": 10,
              "solidity": 0.2
             }
            },
            "type": "barpolar"
           }
          ],
          "carpet": [
           {
            "aaxis": {
             "endlinecolor": "#2a3f5f",
             "gridcolor": "white",
             "linecolor": "white",
             "minorgridcolor": "white",
             "startlinecolor": "#2a3f5f"
            },
            "baxis": {
             "endlinecolor": "#2a3f5f",
             "gridcolor": "white",
             "linecolor": "white",
             "minorgridcolor": "white",
             "startlinecolor": "#2a3f5f"
            },
            "type": "carpet"
           }
          ],
          "choropleth": [
           {
            "colorbar": {
             "outlinewidth": 0,
             "ticks": ""
            },
            "type": "choropleth"
           }
          ],
          "contour": [
           {
            "colorbar": {
             "outlinewidth": 0,
             "ticks": ""
            },
            "colorscale": [
             [
              0,
              "#0d0887"
             ],
             [
              0.1111111111111111,
              "#46039f"
             ],
             [
              0.2222222222222222,
              "#7201a8"
             ],
             [
              0.3333333333333333,
              "#9c179e"
             ],
             [
              0.4444444444444444,
              "#bd3786"
             ],
             [
              0.5555555555555556,
              "#d8576b"
             ],
             [
              0.6666666666666666,
              "#ed7953"
             ],
             [
              0.7777777777777778,
              "#fb9f3a"
             ],
             [
              0.8888888888888888,
              "#fdca26"
             ],
             [
              1,
              "#f0f921"
             ]
            ],
            "type": "contour"
           }
          ],
          "contourcarpet": [
           {
            "colorbar": {
             "outlinewidth": 0,
             "ticks": ""
            },
            "type": "contourcarpet"
           }
          ],
          "heatmap": [
           {
            "colorbar": {
             "outlinewidth": 0,
             "ticks": ""
            },
            "colorscale": [
             [
              0,
              "#0d0887"
             ],
             [
              0.1111111111111111,
              "#46039f"
             ],
             [
              0.2222222222222222,
              "#7201a8"
             ],
             [
              0.3333333333333333,
              "#9c179e"
             ],
             [
              0.4444444444444444,
              "#bd3786"
             ],
             [
              0.5555555555555556,
              "#d8576b"
             ],
             [
              0.6666666666666666,
              "#ed7953"
             ],
             [
              0.7777777777777778,
              "#fb9f3a"
             ],
             [
              0.8888888888888888,
              "#fdca26"
             ],
             [
              1,
              "#f0f921"
             ]
            ],
            "type": "heatmap"
           }
          ],
          "heatmapgl": [
           {
            "colorbar": {
             "outlinewidth": 0,
             "ticks": ""
            },
            "colorscale": [
             [
              0,
              "#0d0887"
             ],
             [
              0.1111111111111111,
              "#46039f"
             ],
             [
              0.2222222222222222,
              "#7201a8"
             ],
             [
              0.3333333333333333,
              "#9c179e"
             ],
             [
              0.4444444444444444,
              "#bd3786"
             ],
             [
              0.5555555555555556,
              "#d8576b"
             ],
             [
              0.6666666666666666,
              "#ed7953"
             ],
             [
              0.7777777777777778,
              "#fb9f3a"
             ],
             [
              0.8888888888888888,
              "#fdca26"
             ],
             [
              1,
              "#f0f921"
             ]
            ],
            "type": "heatmapgl"
           }
          ],
          "histogram": [
           {
            "marker": {
             "pattern": {
              "fillmode": "overlay",
              "size": 10,
              "solidity": 0.2
             }
            },
            "type": "histogram"
           }
          ],
          "histogram2d": [
           {
            "colorbar": {
             "outlinewidth": 0,
             "ticks": ""
            },
            "colorscale": [
             [
              0,
              "#0d0887"
             ],
             [
              0.1111111111111111,
              "#46039f"
             ],
             [
              0.2222222222222222,
              "#7201a8"
             ],
             [
              0.3333333333333333,
              "#9c179e"
             ],
             [
              0.4444444444444444,
              "#bd3786"
             ],
             [
              0.5555555555555556,
              "#d8576b"
             ],
             [
              0.6666666666666666,
              "#ed7953"
             ],
             [
              0.7777777777777778,
              "#fb9f3a"
             ],
             [
              0.8888888888888888,
              "#fdca26"
             ],
             [
              1,
              "#f0f921"
             ]
            ],
            "type": "histogram2d"
           }
          ],
          "histogram2dcontour": [
           {
            "colorbar": {
             "outlinewidth": 0,
             "ticks": ""
            },
            "colorscale": [
             [
              0,
              "#0d0887"
             ],
             [
              0.1111111111111111,
              "#46039f"
             ],
             [
              0.2222222222222222,
              "#7201a8"
             ],
             [
              0.3333333333333333,
              "#9c179e"
             ],
             [
              0.4444444444444444,
              "#bd3786"
             ],
             [
              0.5555555555555556,
              "#d8576b"
             ],
             [
              0.6666666666666666,
              "#ed7953"
             ],
             [
              0.7777777777777778,
              "#fb9f3a"
             ],
             [
              0.8888888888888888,
              "#fdca26"
             ],
             [
              1,
              "#f0f921"
             ]
            ],
            "type": "histogram2dcontour"
           }
          ],
          "mesh3d": [
           {
            "colorbar": {
             "outlinewidth": 0,
             "ticks": ""
            },
            "type": "mesh3d"
           }
          ],
          "parcoords": [
           {
            "line": {
             "colorbar": {
              "outlinewidth": 0,
              "ticks": ""
             }
            },
            "type": "parcoords"
           }
          ],
          "pie": [
           {
            "automargin": true,
            "type": "pie"
           }
          ],
          "scatter": [
           {
            "fillpattern": {
             "fillmode": "overlay",
             "size": 10,
             "solidity": 0.2
            },
            "type": "scatter"
           }
          ],
          "scatter3d": [
           {
            "line": {
             "colorbar": {
              "outlinewidth": 0,
              "ticks": ""
             }
            },
            "marker": {
             "colorbar": {
              "outlinewidth": 0,
              "ticks": ""
             }
            },
            "type": "scatter3d"
           }
          ],
          "scattercarpet": [
           {
            "marker": {
             "colorbar": {
              "outlinewidth": 0,
              "ticks": ""
             }
            },
            "type": "scattercarpet"
           }
          ],
          "scattergeo": [
           {
            "marker": {
             "colorbar": {
              "outlinewidth": 0,
              "ticks": ""
             }
            },
            "type": "scattergeo"
           }
          ],
          "scattergl": [
           {
            "marker": {
             "colorbar": {
              "outlinewidth": 0,
              "ticks": ""
             }
            },
            "type": "scattergl"
           }
          ],
          "scattermapbox": [
           {
            "marker": {
             "colorbar": {
              "outlinewidth": 0,
              "ticks": ""
             }
            },
            "type": "scattermapbox"
           }
          ],
          "scatterpolar": [
           {
            "marker": {
             "colorbar": {
              "outlinewidth": 0,
              "ticks": ""
             }
            },
            "type": "scatterpolar"
           }
          ],
          "scatterpolargl": [
           {
            "marker": {
             "colorbar": {
              "outlinewidth": 0,
              "ticks": ""
             }
            },
            "type": "scatterpolargl"
           }
          ],
          "scatterternary": [
           {
            "marker": {
             "colorbar": {
              "outlinewidth": 0,
              "ticks": ""
             }
            },
            "type": "scatterternary"
           }
          ],
          "surface": [
           {
            "colorbar": {
             "outlinewidth": 0,
             "ticks": ""
            },
            "colorscale": [
             [
              0,
              "#0d0887"
             ],
             [
              0.1111111111111111,
              "#46039f"
             ],
             [
              0.2222222222222222,
              "#7201a8"
             ],
             [
              0.3333333333333333,
              "#9c179e"
             ],
             [
              0.4444444444444444,
              "#bd3786"
             ],
             [
              0.5555555555555556,
              "#d8576b"
             ],
             [
              0.6666666666666666,
              "#ed7953"
             ],
             [
              0.7777777777777778,
              "#fb9f3a"
             ],
             [
              0.8888888888888888,
              "#fdca26"
             ],
             [
              1,
              "#f0f921"
             ]
            ],
            "type": "surface"
           }
          ],
          "table": [
           {
            "cells": {
             "fill": {
              "color": "#EBF0F8"
             },
             "line": {
              "color": "white"
             }
            },
            "header": {
             "fill": {
              "color": "#C8D4E3"
             },
             "line": {
              "color": "white"
             }
            },
            "type": "table"
           }
          ]
         },
         "layout": {
          "annotationdefaults": {
           "arrowcolor": "#2a3f5f",
           "arrowhead": 0,
           "arrowwidth": 1
          },
          "autotypenumbers": "strict",
          "coloraxis": {
           "colorbar": {
            "outlinewidth": 0,
            "ticks": ""
           }
          },
          "colorscale": {
           "diverging": [
            [
             0,
             "#8e0152"
            ],
            [
             0.1,
             "#c51b7d"
            ],
            [
             0.2,
             "#de77ae"
            ],
            [
             0.3,
             "#f1b6da"
            ],
            [
             0.4,
             "#fde0ef"
            ],
            [
             0.5,
             "#f7f7f7"
            ],
            [
             0.6,
             "#e6f5d0"
            ],
            [
             0.7,
             "#b8e186"
            ],
            [
             0.8,
             "#7fbc41"
            ],
            [
             0.9,
             "#4d9221"
            ],
            [
             1,
             "#276419"
            ]
           ],
           "sequential": [
            [
             0,
             "#0d0887"
            ],
            [
             0.1111111111111111,
             "#46039f"
            ],
            [
             0.2222222222222222,
             "#7201a8"
            ],
            [
             0.3333333333333333,
             "#9c179e"
            ],
            [
             0.4444444444444444,
             "#bd3786"
            ],
            [
             0.5555555555555556,
             "#d8576b"
            ],
            [
             0.6666666666666666,
             "#ed7953"
            ],
            [
             0.7777777777777778,
             "#fb9f3a"
            ],
            [
             0.8888888888888888,
             "#fdca26"
            ],
            [
             1,
             "#f0f921"
            ]
           ],
           "sequentialminus": [
            [
             0,
             "#0d0887"
            ],
            [
             0.1111111111111111,
             "#46039f"
            ],
            [
             0.2222222222222222,
             "#7201a8"
            ],
            [
             0.3333333333333333,
             "#9c179e"
            ],
            [
             0.4444444444444444,
             "#bd3786"
            ],
            [
             0.5555555555555556,
             "#d8576b"
            ],
            [
             0.6666666666666666,
             "#ed7953"
            ],
            [
             0.7777777777777778,
             "#fb9f3a"
            ],
            [
             0.8888888888888888,
             "#fdca26"
            ],
            [
             1,
             "#f0f921"
            ]
           ]
          },
          "colorway": [
           "#636efa",
           "#EF553B",
           "#00cc96",
           "#ab63fa",
           "#FFA15A",
           "#19d3f3",
           "#FF6692",
           "#B6E880",
           "#FF97FF",
           "#FECB52"
          ],
          "font": {
           "color": "#2a3f5f"
          },
          "geo": {
           "bgcolor": "white",
           "lakecolor": "white",
           "landcolor": "#E5ECF6",
           "showlakes": true,
           "showland": true,
           "subunitcolor": "white"
          },
          "hoverlabel": {
           "align": "left"
          },
          "hovermode": "closest",
          "mapbox": {
           "style": "light"
          },
          "paper_bgcolor": "white",
          "plot_bgcolor": "#E5ECF6",
          "polar": {
           "angularaxis": {
            "gridcolor": "white",
            "linecolor": "white",
            "ticks": ""
           },
           "bgcolor": "#E5ECF6",
           "radialaxis": {
            "gridcolor": "white",
            "linecolor": "white",
            "ticks": ""
           }
          },
          "scene": {
           "xaxis": {
            "backgroundcolor": "#E5ECF6",
            "gridcolor": "white",
            "gridwidth": 2,
            "linecolor": "white",
            "showbackground": true,
            "ticks": "",
            "zerolinecolor": "white"
           },
           "yaxis": {
            "backgroundcolor": "#E5ECF6",
            "gridcolor": "white",
            "gridwidth": 2,
            "linecolor": "white",
            "showbackground": true,
            "ticks": "",
            "zerolinecolor": "white"
           },
           "zaxis": {
            "backgroundcolor": "#E5ECF6",
            "gridcolor": "white",
            "gridwidth": 2,
            "linecolor": "white",
            "showbackground": true,
            "ticks": "",
            "zerolinecolor": "white"
           }
          },
          "shapedefaults": {
           "line": {
            "color": "#2a3f5f"
           }
          },
          "ternary": {
           "aaxis": {
            "gridcolor": "white",
            "linecolor": "white",
            "ticks": ""
           },
           "baxis": {
            "gridcolor": "white",
            "linecolor": "white",
            "ticks": ""
           },
           "bgcolor": "#E5ECF6",
           "caxis": {
            "gridcolor": "white",
            "linecolor": "white",
            "ticks": ""
           }
          },
          "title": {
           "x": 0.05
          },
          "xaxis": {
           "automargin": true,
           "gridcolor": "white",
           "linecolor": "white",
           "ticks": "",
           "title": {
            "standoff": 15
           },
           "zerolinecolor": "white",
           "zerolinewidth": 2
          },
          "yaxis": {
           "automargin": true,
           "gridcolor": "white",
           "linecolor": "white",
           "ticks": "",
           "title": {
            "standoff": 15
           },
           "zerolinecolor": "white",
           "zerolinewidth": 2
          }
         }
        },
        "title": {
         "text": "Top 10 Most Streamed Artists"
        },
        "xaxis": {
         "anchor": "y",
         "categoryarray": [
          "The Weeknd",
          "Ed Sheeran",
          "Tones And I",
          "Lewis Capaldi",
          "Post Malone featuring 21 Savage",
          "Post Malone and Swae Lee",
          "Drake featuring Wizkid and Kyla",
          "The Chainsmokers featuring Halsey",
          "The Kid Laroi and Justin Bieber",
          "Imagine Dragons",
          "Shawn Mendes and Camila Cabello",
          "Glass Animals",
          "James Arthur",
          "The Weeknd featuring Daft Punk",
          "Billie Eilish",
          "Juice WRLD",
          "Dua Lipa",
          "Billie Eilish and Khalid",
          "Harry Styles",
          "Drake",
          "Queen",
          "The Chainsmokers and Coldplay",
          "The Neighbourhood",
          "Lady Gaga and Bradley Cooper",
          "Justin Bieber",
          "Post Malone",
          "XXXTentacion",
          "Hozier",
          "John Legend",
          "Ariana Grande",
          "Travis Scott featuring Kendrick Lamar",
          "Camila Cabello featuring Young Thug",
          "Twenty One Pilots",
          "Lil Uzi Vert",
          "OneRepublic",
          "Avicii",
          "Vance Joy",
          "Marshmello and Bastille",
          "Kendrick Lamar",
          "Passenger",
          "Travis Scott featuring Drake",
          "Macklemore & Ryan Lewis featuring Ray Dalton",
          "Olivia Rodrigo",
          "Calvin Harris and Dua Lipa",
          "DJ Snake featuring Justin Bieber",
          "Major Lazer and DJ Snake featuring MØ",
          "Shawn Mendes",
          "Saint Jhn with Imanbek",
          "Sam Smith",
          "Post Malone featuring Quavo",
          "Alan Walker",
          "Halsey",
          "Lil Nas X featuring Jack Harlow",
          "Eminem",
          "Maroon 5",
          "The Killers",
          "Mark Ronson featuring Bruno Mars",
          "Dua Lipa featuring DaBaby",
          "Mike Posner and Seeb",
          "The Chainsmokers featuring Daya",
          "Ed Sheeran and Justin Bieber",
          "Bad Bunny and Jhay Cortez",
          "Lil Nas X",
          "24kGoldn and Iann Dior",
          "Arctic Monkeys",
          "French Montana featuring Swae Lee",
          "BTS",
          "Luis Fonsi and Daddy Yankee featuring Justin Bieber",
          "Oasis",
          "J. Cole",
          "Bruno Mars",
          "Roddy Ricch",
          "Eminem featuring Nate Dogg",
          "Sia",
          "Nirvana",
          "Wiz Khalifa featuring Charlie Puth",
          "Jason Mraz",
          "Lauv",
          "Lukas Graham",
          "Coldplay",
          "Luis Fonsi featuring Daddy Yankee"
         ],
         "categoryorder": "array",
         "domain": [
          0,
          1
         ],
         "title": {
          "text": "Artist"
         }
        },
        "yaxis": {
         "anchor": "x",
         "domain": [
          0,
          1
         ],
         "title": {
          "text": "Streams (Billions)"
         }
        }
       }
      },
      "text/html": [
       "<div>                            <div id=\"08cc52ff-c0f1-4874-97d6-7aae708b66be\" class=\"plotly-graph-div\" style=\"height:525px; width:100%;\"></div>            <script type=\"text/javascript\">                require([\"plotly\"], function(Plotly) {                    window.PLOTLYENV=window.PLOTLYENV || {};                                    if (document.getElementById(\"08cc52ff-c0f1-4874-97d6-7aae708b66be\")) {                    Plotly.newPlot(                        \"08cc52ff-c0f1-4874-97d6-7aae708b66be\",                        [{\"alignmentgroup\":\"True\",\"customdata\":[[\"Blinding Lights\",\"29-Nov-19\"],[\"The Hills\",\"27-May-15\"]],\"hovertemplate\":\"Artist=%{x}<br>Streams (Billions)=%{y}<br>Song=%{customdata[0]}<br>Release Date=%{customdata[1]}<extra></extra>\",\"legendgroup\":\"The Weeknd\",\"marker\":{\"color\":\"#636efa\",\"pattern\":{\"shape\":\"\"}},\"name\":\"The Weeknd\",\"offsetgroup\":\"The Weeknd\",\"orientation\":\"v\",\"showlegend\":true,\"textposition\":\"auto\",\"x\":[\"The Weeknd\",\"The Weeknd\"],\"xaxis\":\"x\",\"y\":[3.449,1.802],\"yaxis\":\"y\",\"type\":\"bar\"},{\"alignmentgroup\":\"True\",\"customdata\":[[\"Shape of You\",\"06-Jan-17\"],[\"Perfect\",\"03-Mar-17\"],[\"Thinking Out Loud\",\"20-Jun-14\"],[\"Photograph\",\"20-Jun-14\"]],\"hovertemplate\":\"Artist=%{x}<br>Streams (Billions)=%{y}<br>Song=%{customdata[0]}<br>Release Date=%{customdata[1]}<extra></extra>\",\"legendgroup\":\"Ed Sheeran\",\"marker\":{\"color\":\"#EF553B\",\"pattern\":{\"shape\":\"\"}},\"name\":\"Ed Sheeran\",\"offsetgroup\":\"Ed Sheeran\",\"orientation\":\"v\",\"showlegend\":true,\"textposition\":\"auto\",\"x\":[\"Ed Sheeran\",\"Ed Sheeran\",\"Ed Sheeran\",\"Ed Sheeran\"],\"xaxis\":\"x\",\"y\":[3.398,2.361,2.177,2.099],\"yaxis\":\"y\",\"type\":\"bar\"},{\"alignmentgroup\":\"True\",\"customdata\":[[\"Dance Monkey\",\"10-May-19\"]],\"hovertemplate\":\"Artist=%{x}<br>Streams (Billions)=%{y}<br>Song=%{customdata[0]}<br>Release Date=%{customdata[1]}<extra></extra>\",\"legendgroup\":\"Tones And I\",\"marker\":{\"color\":\"#00cc96\",\"pattern\":{\"shape\":\"\"}},\"name\":\"Tones And I\",\"offsetgroup\":\"Tones And I\",\"orientation\":\"v\",\"showlegend\":true,\"textposition\":\"auto\",\"x\":[\"Tones And I\"],\"xaxis\":\"x\",\"y\":[2.77],\"yaxis\":\"y\",\"type\":\"bar\"},{\"alignmentgroup\":\"True\",\"customdata\":[[\"Someone You Loved\",\"08-Nov-18\"]],\"hovertemplate\":\"Artist=%{x}<br>Streams (Billions)=%{y}<br>Song=%{customdata[0]}<br>Release Date=%{customdata[1]}<extra></extra>\",\"legendgroup\":\"Lewis Capaldi\",\"marker\":{\"color\":\"#ab63fa\",\"pattern\":{\"shape\":\"\"}},\"name\":\"Lewis Capaldi\",\"offsetgroup\":\"Lewis Capaldi\",\"orientation\":\"v\",\"showlegend\":true,\"textposition\":\"auto\",\"x\":[\"Lewis Capaldi\"],\"xaxis\":\"x\",\"y\":[2.68],\"yaxis\":\"y\",\"type\":\"bar\"},{\"alignmentgroup\":\"True\",\"customdata\":[[\"Rockstar\",\"15-Sep-17\"]],\"hovertemplate\":\"Artist=%{x}<br>Streams (Billions)=%{y}<br>Song=%{customdata[0]}<br>Release Date=%{customdata[1]}<extra></extra>\",\"legendgroup\":\"Post Malone\\u00a0featuring\\u00a021 Savage\",\"marker\":{\"color\":\"#FFA15A\",\"pattern\":{\"shape\":\"\"}},\"name\":\"Post Malone\\u00a0featuring\\u00a021 Savage\",\"offsetgroup\":\"Post Malone\\u00a0featuring\\u00a021 Savage\",\"orientation\":\"v\",\"showlegend\":true,\"textposition\":\"auto\",\"x\":[\"Post Malone\\u00a0featuring\\u00a021 Savage\"],\"xaxis\":\"x\",\"y\":[2.62],\"yaxis\":\"y\",\"type\":\"bar\"},{\"alignmentgroup\":\"True\",\"customdata\":[[\"Sunflower\",\"18-Oct-18\"]],\"hovertemplate\":\"Artist=%{x}<br>Streams (Billions)=%{y}<br>Song=%{customdata[0]}<br>Release Date=%{customdata[1]}<extra></extra>\",\"legendgroup\":\"Post Malone\\u00a0and\\u00a0Swae Lee\",\"marker\":{\"color\":\"#19d3f3\",\"pattern\":{\"shape\":\"\"}},\"name\":\"Post Malone\\u00a0and\\u00a0Swae Lee\",\"offsetgroup\":\"Post Malone\\u00a0and\\u00a0Swae Lee\",\"orientation\":\"v\",\"showlegend\":true,\"textposition\":\"auto\",\"x\":[\"Post Malone\\u00a0and\\u00a0Swae Lee\"],\"xaxis\":\"x\",\"y\":[2.575],\"yaxis\":\"y\",\"type\":\"bar\"},{\"alignmentgroup\":\"True\",\"customdata\":[[\"One Dance\",\"05-Apr-16\"]],\"hovertemplate\":\"Artist=%{x}<br>Streams (Billions)=%{y}<br>Song=%{customdata[0]}<br>Release Date=%{customdata[1]}<extra></extra>\",\"legendgroup\":\"Drake\\u00a0featuring\\u00a0Wizkid\\u00a0and\\u00a0Kyla\",\"marker\":{\"color\":\"#FF6692\",\"pattern\":{\"shape\":\"\"}},\"name\":\"Drake\\u00a0featuring\\u00a0Wizkid\\u00a0and\\u00a0Kyla\",\"offsetgroup\":\"Drake\\u00a0featuring\\u00a0Wizkid\\u00a0and\\u00a0Kyla\",\"orientation\":\"v\",\"showlegend\":true,\"textposition\":\"auto\",\"x\":[\"Drake\\u00a0featuring\\u00a0Wizkid\\u00a0and\\u00a0Kyla\"],\"xaxis\":\"x\",\"y\":[2.556],\"yaxis\":\"y\",\"type\":\"bar\"},{\"alignmentgroup\":\"True\",\"customdata\":[[\"Closer\",\"29-Jul-16\"]],\"hovertemplate\":\"Artist=%{x}<br>Streams (Billions)=%{y}<br>Song=%{customdata[0]}<br>Release Date=%{customdata[1]}<extra></extra>\",\"legendgroup\":\"The Chainsmokers\\u00a0featuring\\u00a0Halsey\",\"marker\":{\"color\":\"#B6E880\",\"pattern\":{\"shape\":\"\"}},\"name\":\"The Chainsmokers\\u00a0featuring\\u00a0Halsey\",\"offsetgroup\":\"The Chainsmokers\\u00a0featuring\\u00a0Halsey\",\"orientation\":\"v\",\"showlegend\":true,\"textposition\":\"auto\",\"x\":[\"The Chainsmokers\\u00a0featuring\\u00a0Halsey\"],\"xaxis\":\"x\",\"y\":[2.481],\"yaxis\":\"y\",\"type\":\"bar\"},{\"alignmentgroup\":\"True\",\"customdata\":[[\"Stay\",\"09-Jul-21\"]],\"hovertemplate\":\"Artist=%{x}<br>Streams (Billions)=%{y}<br>Song=%{customdata[0]}<br>Release Date=%{customdata[1]}<extra></extra>\",\"legendgroup\":\"The Kid Laroi\\u00a0and\\u00a0Justin Bieber\",\"marker\":{\"color\":\"#FF97FF\",\"pattern\":{\"shape\":\"\"}},\"name\":\"The Kid Laroi\\u00a0and\\u00a0Justin Bieber\",\"offsetgroup\":\"The Kid Laroi\\u00a0and\\u00a0Justin Bieber\",\"orientation\":\"v\",\"showlegend\":true,\"textposition\":\"auto\",\"x\":[\"The Kid Laroi\\u00a0and\\u00a0Justin Bieber\"],\"xaxis\":\"x\",\"y\":[2.432],\"yaxis\":\"y\",\"type\":\"bar\"},{\"alignmentgroup\":\"True\",\"customdata\":[[\"Believer\",\"01-Feb-17\"],[\"Thunder\",\"27-Apr-17\"],[\"Demons\",\"04-Sep-12\"]],\"hovertemplate\":\"Artist=%{x}<br>Streams (Billions)=%{y}<br>Song=%{customdata[0]}<br>Release Date=%{customdata[1]}<extra></extra>\",\"legendgroup\":\"Imagine Dragons\",\"marker\":{\"color\":\"#FECB52\",\"pattern\":{\"shape\":\"\"}},\"name\":\"Imagine Dragons\",\"offsetgroup\":\"Imagine Dragons\",\"orientation\":\"v\",\"showlegend\":true,\"textposition\":\"auto\",\"x\":[\"Imagine Dragons\",\"Imagine Dragons\",\"Imagine Dragons\"],\"xaxis\":\"x\",\"y\":[2.41,1.926,1.679],\"yaxis\":\"y\",\"type\":\"bar\"},{\"alignmentgroup\":\"True\",\"customdata\":[[\"Se\\u00f1orita\",\"21-Jun-19\"]],\"hovertemplate\":\"Artist=%{x}<br>Streams (Billions)=%{y}<br>Song=%{customdata[0]}<br>Release Date=%{customdata[1]}<extra></extra>\",\"legendgroup\":\"Shawn Mendes\\u00a0and\\u00a0Camila Cabello\",\"marker\":{\"color\":\"#636efa\",\"pattern\":{\"shape\":\"\"}},\"name\":\"Shawn Mendes\\u00a0and\\u00a0Camila Cabello\",\"offsetgroup\":\"Shawn Mendes\\u00a0and\\u00a0Camila Cabello\",\"orientation\":\"v\",\"showlegend\":true,\"textposition\":\"auto\",\"x\":[\"Shawn Mendes\\u00a0and\\u00a0Camila Cabello\"],\"xaxis\":\"x\",\"y\":[2.365],\"yaxis\":\"y\",\"type\":\"bar\"},{\"alignmentgroup\":\"True\",\"customdata\":[[\"Heat Waves\",\"29-Jun-20\"]],\"hovertemplate\":\"Artist=%{x}<br>Streams (Billions)=%{y}<br>Song=%{customdata[0]}<br>Release Date=%{customdata[1]}<extra></extra>\",\"legendgroup\":\"Glass Animals\",\"marker\":{\"color\":\"#EF553B\",\"pattern\":{\"shape\":\"\"}},\"name\":\"Glass Animals\",\"offsetgroup\":\"Glass Animals\",\"orientation\":\"v\",\"showlegend\":true,\"textposition\":\"auto\",\"x\":[\"Glass Animals\"],\"xaxis\":\"x\",\"y\":[2.32],\"yaxis\":\"y\",\"type\":\"bar\"},{\"alignmentgroup\":\"True\",\"customdata\":[[\"Say You Won't Let Go\",\"09-Sep-16\"]],\"hovertemplate\":\"Artist=%{x}<br>Streams (Billions)=%{y}<br>Song=%{customdata[0]}<br>Release Date=%{customdata[1]}<extra></extra>\",\"legendgroup\":\"James Arthur\",\"marker\":{\"color\":\"#00cc96\",\"pattern\":{\"shape\":\"\"}},\"name\":\"James Arthur\",\"offsetgroup\":\"James Arthur\",\"orientation\":\"v\",\"showlegend\":true,\"textposition\":\"auto\",\"x\":[\"James Arthur\"],\"xaxis\":\"x\",\"y\":[2.269],\"yaxis\":\"y\",\"type\":\"bar\"},{\"alignmentgroup\":\"True\",\"customdata\":[[\"Starboy\",\"21-Sep-16\"]],\"hovertemplate\":\"Artist=%{x}<br>Streams (Billions)=%{y}<br>Song=%{customdata[0]}<br>Release Date=%{customdata[1]}<extra></extra>\",\"legendgroup\":\"The Weeknd\\u00a0featuring\\u00a0Daft Punk\",\"marker\":{\"color\":\"#ab63fa\",\"pattern\":{\"shape\":\"\"}},\"name\":\"The Weeknd\\u00a0featuring\\u00a0Daft Punk\",\"offsetgroup\":\"The Weeknd\\u00a0featuring\\u00a0Daft Punk\",\"orientation\":\"v\",\"showlegend\":true,\"textposition\":\"auto\",\"x\":[\"The Weeknd\\u00a0featuring\\u00a0Daft Punk\"],\"xaxis\":\"x\",\"y\":[2.258],\"yaxis\":\"y\",\"type\":\"bar\"},{\"alignmentgroup\":\"True\",\"customdata\":[[\"Bad Guy\",\"29-Mar-19\"]],\"hovertemplate\":\"Artist=%{x}<br>Streams (Billions)=%{y}<br>Song=%{customdata[0]}<br>Release Date=%{customdata[1]}<extra></extra>\",\"legendgroup\":\"Billie Eilish\",\"marker\":{\"color\":\"#FFA15A\",\"pattern\":{\"shape\":\"\"}},\"name\":\"Billie Eilish\",\"offsetgroup\":\"Billie Eilish\",\"orientation\":\"v\",\"showlegend\":true,\"textposition\":\"auto\",\"x\":[\"Billie Eilish\"],\"xaxis\":\"x\",\"y\":[2.223],\"yaxis\":\"y\",\"type\":\"bar\"},{\"alignmentgroup\":\"True\",\"customdata\":[[\"Lucid Dreams\",\"04-May-18\"]],\"hovertemplate\":\"Artist=%{x}<br>Streams (Billions)=%{y}<br>Song=%{customdata[0]}<br>Release Date=%{customdata[1]}<extra></extra>\",\"legendgroup\":\"Juice WRLD\",\"marker\":{\"color\":\"#19d3f3\",\"pattern\":{\"shape\":\"\"}},\"name\":\"Juice WRLD\",\"offsetgroup\":\"Juice WRLD\",\"orientation\":\"v\",\"showlegend\":true,\"textposition\":\"auto\",\"x\":[\"Juice WRLD\"],\"xaxis\":\"x\",\"y\":[2.177],\"yaxis\":\"y\",\"type\":\"bar\"},{\"alignmentgroup\":\"True\",\"customdata\":[[\"Don't Start Now\",\"01-Nov-19\"],[\"New Rules\",\"02-Jun-17\"]],\"hovertemplate\":\"Artist=%{x}<br>Streams (Billions)=%{y}<br>Song=%{customdata[0]}<br>Release Date=%{customdata[1]}<extra></extra>\",\"legendgroup\":\"Dua Lipa\",\"marker\":{\"color\":\"#FF6692\",\"pattern\":{\"shape\":\"\"}},\"name\":\"Dua Lipa\",\"offsetgroup\":\"Dua Lipa\",\"orientation\":\"v\",\"showlegend\":true,\"textposition\":\"auto\",\"x\":[\"Dua Lipa\",\"Dua Lipa\"],\"xaxis\":\"x\",\"y\":[2.17,1.825],\"yaxis\":\"y\",\"type\":\"bar\"},{\"alignmentgroup\":\"True\",\"customdata\":[[\"Lovely\",\"19-Apr-18\"]],\"hovertemplate\":\"Artist=%{x}<br>Streams (Billions)=%{y}<br>Song=%{customdata[0]}<br>Release Date=%{customdata[1]}<extra></extra>\",\"legendgroup\":\"Billie Eilish\\u00a0and\\u00a0Khalid\",\"marker\":{\"color\":\"#B6E880\",\"pattern\":{\"shape\":\"\"}},\"name\":\"Billie Eilish\\u00a0and\\u00a0Khalid\",\"offsetgroup\":\"Billie Eilish\\u00a0and\\u00a0Khalid\",\"orientation\":\"v\",\"showlegend\":true,\"textposition\":\"auto\",\"x\":[\"Billie Eilish\\u00a0and\\u00a0Khalid\"],\"xaxis\":\"x\",\"y\":[2.158],\"yaxis\":\"y\",\"type\":\"bar\"},{\"alignmentgroup\":\"True\",\"customdata\":[[\"Watermelon Sugar\",\"15-May-20\"],[\"As It Was\",\"01-Apr-22\"]],\"hovertemplate\":\"Artist=%{x}<br>Streams (Billions)=%{y}<br>Song=%{customdata[0]}<br>Release Date=%{customdata[1]}<extra></extra>\",\"legendgroup\":\"Harry Styles\",\"marker\":{\"color\":\"#FF97FF\",\"pattern\":{\"shape\":\"\"}},\"name\":\"Harry Styles\",\"offsetgroup\":\"Harry Styles\",\"orientation\":\"v\",\"showlegend\":true,\"textposition\":\"auto\",\"x\":[\"Harry Styles\",\"Harry Styles\"],\"xaxis\":\"x\",\"y\":[2.14,2.012],\"yaxis\":\"y\",\"type\":\"bar\"},{\"alignmentgroup\":\"True\",\"customdata\":[[\"God's Plan\",\"19-Jan-18\"]],\"hovertemplate\":\"Artist=%{x}<br>Streams (Billions)=%{y}<br>Song=%{customdata[0]}<br>Release Date=%{customdata[1]}<extra></extra>\",\"legendgroup\":\"Drake\",\"marker\":{\"color\":\"#FECB52\",\"pattern\":{\"shape\":\"\"}},\"name\":\"Drake\",\"offsetgroup\":\"Drake\",\"orientation\":\"v\",\"showlegend\":true,\"textposition\":\"auto\",\"x\":[\"Drake\"],\"xaxis\":\"x\",\"y\":[2.126],\"yaxis\":\"y\",\"type\":\"bar\"},{\"alignmentgroup\":\"True\",\"customdata\":[[\"Bohemian Rhapsody\",\"31-Oct-75\"],[\"Don't Stop Me Now\",\"26-Jan-79\"]],\"hovertemplate\":\"Artist=%{x}<br>Streams (Billions)=%{y}<br>Song=%{customdata[0]}<br>Release Date=%{customdata[1]}<extra></extra>\",\"legendgroup\":\"Queen\",\"marker\":{\"color\":\"#636efa\",\"pattern\":{\"shape\":\"\"}},\"name\":\"Queen\",\"offsetgroup\":\"Queen\",\"orientation\":\"v\",\"showlegend\":true,\"textposition\":\"auto\",\"x\":[\"Queen\",\"Queen\"],\"xaxis\":\"x\",\"y\":[2.069,1.521],\"yaxis\":\"y\",\"type\":\"bar\"},{\"alignmentgroup\":\"True\",\"customdata\":[[\"Something Just Like This\",\"22-Feb-17\"]],\"hovertemplate\":\"Artist=%{x}<br>Streams (Billions)=%{y}<br>Song=%{customdata[0]}<br>Release Date=%{customdata[1]}<extra></extra>\",\"legendgroup\":\"The Chainsmokers\\u00a0and\\u00a0Coldplay\",\"marker\":{\"color\":\"#EF553B\",\"pattern\":{\"shape\":\"\"}},\"name\":\"The Chainsmokers\\u00a0and\\u00a0Coldplay\",\"offsetgroup\":\"The Chainsmokers\\u00a0and\\u00a0Coldplay\",\"orientation\":\"v\",\"showlegend\":true,\"textposition\":\"auto\",\"x\":[\"The Chainsmokers\\u00a0and\\u00a0Coldplay\"],\"xaxis\":\"x\",\"y\":[2.061],\"yaxis\":\"y\",\"type\":\"bar\"},{\"alignmentgroup\":\"True\",\"customdata\":[[\"Sweater Weather\",\"28-Mar-12\"]],\"hovertemplate\":\"Artist=%{x}<br>Streams (Billions)=%{y}<br>Song=%{customdata[0]}<br>Release Date=%{customdata[1]}<extra></extra>\",\"legendgroup\":\"The Neighbourhood\",\"marker\":{\"color\":\"#00cc96\",\"pattern\":{\"shape\":\"\"}},\"name\":\"The Neighbourhood\",\"offsetgroup\":\"The Neighbourhood\",\"orientation\":\"v\",\"showlegend\":true,\"textposition\":\"auto\",\"x\":[\"The Neighbourhood\"],\"xaxis\":\"x\",\"y\":[2.041],\"yaxis\":\"y\",\"type\":\"bar\"},{\"alignmentgroup\":\"True\",\"customdata\":[[\"Shallow\",\"27-Sep-18\"]],\"hovertemplate\":\"Artist=%{x}<br>Streams (Billions)=%{y}<br>Song=%{customdata[0]}<br>Release Date=%{customdata[1]}<extra></extra>\",\"legendgroup\":\"Lady Gaga\\u00a0and\\u00a0Bradley Cooper\",\"marker\":{\"color\":\"#ab63fa\",\"pattern\":{\"shape\":\"\"}},\"name\":\"Lady Gaga\\u00a0and\\u00a0Bradley Cooper\",\"offsetgroup\":\"Lady Gaga\\u00a0and\\u00a0Bradley Cooper\",\"orientation\":\"v\",\"showlegend\":true,\"textposition\":\"auto\",\"x\":[\"Lady Gaga\\u00a0and\\u00a0Bradley Cooper\"],\"xaxis\":\"x\",\"y\":[2.035],\"yaxis\":\"y\",\"type\":\"bar\"},{\"alignmentgroup\":\"True\",\"customdata\":[[\"Love Yourself\",\"09-Nov-15\"],[\"Sorry\",\"22-Oct-15\"]],\"hovertemplate\":\"Artist=%{x}<br>Streams (Billions)=%{y}<br>Song=%{customdata[0]}<br>Release Date=%{customdata[1]}<extra></extra>\",\"legendgroup\":\"Justin Bieber\",\"marker\":{\"color\":\"#FFA15A\",\"pattern\":{\"shape\":\"\"}},\"name\":\"Justin Bieber\",\"offsetgroup\":\"Justin Bieber\",\"orientation\":\"v\",\"showlegend\":true,\"textposition\":\"auto\",\"x\":[\"Justin Bieber\",\"Justin Bieber\"],\"xaxis\":\"x\",\"y\":[2.003,1.76],\"yaxis\":\"y\",\"type\":\"bar\"},{\"alignmentgroup\":\"True\",\"customdata\":[[\"Circles\",\"30-Aug-19\"],[\"Better Now\",\"27-Apr-18\"]],\"hovertemplate\":\"Artist=%{x}<br>Streams (Billions)=%{y}<br>Song=%{customdata[0]}<br>Release Date=%{customdata[1]}<extra></extra>\",\"legendgroup\":\"Post Malone\",\"marker\":{\"color\":\"#19d3f3\",\"pattern\":{\"shape\":\"\"}},\"name\":\"Post Malone\",\"offsetgroup\":\"Post Malone\",\"orientation\":\"v\",\"showlegend\":true,\"textposition\":\"auto\",\"x\":[\"Post Malone\",\"Post Malone\"],\"xaxis\":\"x\",\"y\":[1.99,1.71],\"yaxis\":\"y\",\"type\":\"bar\"},{\"alignmentgroup\":\"True\",\"customdata\":[[\"Sad!\",\"01-Mar-18\"],[\"Jocelyn Flores\",\"31-Oct-17\"],[\"Moonlight\",\"16-Mar-18\"]],\"hovertemplate\":\"Artist=%{x}<br>Streams (Billions)=%{y}<br>Song=%{customdata[0]}<br>Release Date=%{customdata[1]}<extra></extra>\",\"legendgroup\":\"XXXTentacion\",\"marker\":{\"color\":\"#FF6692\",\"pattern\":{\"shape\":\"\"}},\"name\":\"XXXTentacion\",\"offsetgroup\":\"XXXTentacion\",\"orientation\":\"v\",\"showlegend\":true,\"textposition\":\"auto\",\"x\":[\"XXXTentacion\",\"XXXTentacion\",\"XXXTentacion\"],\"xaxis\":\"x\",\"y\":[1.987,1.905,1.6],\"yaxis\":\"y\",\"type\":\"bar\"},{\"alignmentgroup\":\"True\",\"customdata\":[[\"Take Me to Church\",\"13-Sep-13\"]],\"hovertemplate\":\"Artist=%{x}<br>Streams (Billions)=%{y}<br>Song=%{customdata[0]}<br>Release Date=%{customdata[1]}<extra></extra>\",\"legendgroup\":\"Hozier\",\"marker\":{\"color\":\"#B6E880\",\"pattern\":{\"shape\":\"\"}},\"name\":\"Hozier\",\"offsetgroup\":\"Hozier\",\"orientation\":\"v\",\"showlegend\":true,\"textposition\":\"auto\",\"x\":[\"Hozier\"],\"xaxis\":\"x\",\"y\":[1.984],\"yaxis\":\"y\",\"type\":\"bar\"},{\"alignmentgroup\":\"True\",\"customdata\":[[\"All of Me\",\"12-Aug-13\"]],\"hovertemplate\":\"Artist=%{x}<br>Streams (Billions)=%{y}<br>Song=%{customdata[0]}<br>Release Date=%{customdata[1]}<extra></extra>\",\"legendgroup\":\"John Legend\",\"marker\":{\"color\":\"#FF97FF\",\"pattern\":{\"shape\":\"\"}},\"name\":\"John Legend\",\"offsetgroup\":\"John Legend\",\"orientation\":\"v\",\"showlegend\":true,\"textposition\":\"auto\",\"x\":[\"John Legend\"],\"xaxis\":\"x\",\"y\":[1.973],\"yaxis\":\"y\",\"type\":\"bar\"},{\"alignmentgroup\":\"True\",\"customdata\":[[\"7 Rings\",\"18-Jan-19\"],[\"Thank U, Next\",\"03-Nov-18\"]],\"hovertemplate\":\"Artist=%{x}<br>Streams (Billions)=%{y}<br>Song=%{customdata[0]}<br>Release Date=%{customdata[1]}<extra></extra>\",\"legendgroup\":\"Ariana Grande\",\"marker\":{\"color\":\"#FECB52\",\"pattern\":{\"shape\":\"\"}},\"name\":\"Ariana Grande\",\"offsetgroup\":\"Ariana Grande\",\"orientation\":\"v\",\"showlegend\":true,\"textposition\":\"auto\",\"x\":[\"Ariana Grande\",\"Ariana Grande\"],\"xaxis\":\"x\",\"y\":[1.924,1.652],\"yaxis\":\"y\",\"type\":\"bar\"},{\"alignmentgroup\":\"True\",\"customdata\":[[\"Goosebumps\",\"02-Sep-16\"]],\"hovertemplate\":\"Artist=%{x}<br>Streams (Billions)=%{y}<br>Song=%{customdata[0]}<br>Release Date=%{customdata[1]}<extra></extra>\",\"legendgroup\":\"Travis Scott\\u00a0featuring\\u00a0Kendrick Lamar\",\"marker\":{\"color\":\"#636efa\",\"pattern\":{\"shape\":\"\"}},\"name\":\"Travis Scott\\u00a0featuring\\u00a0Kendrick Lamar\",\"offsetgroup\":\"Travis Scott\\u00a0featuring\\u00a0Kendrick Lamar\",\"orientation\":\"v\",\"showlegend\":true,\"textposition\":\"auto\",\"x\":[\"Travis Scott\\u00a0featuring\\u00a0Kendrick Lamar\"],\"xaxis\":\"x\",\"y\":[1.911],\"yaxis\":\"y\",\"type\":\"bar\"},{\"alignmentgroup\":\"True\",\"customdata\":[[\"Havana\",\"03-Aug-17\"]],\"hovertemplate\":\"Artist=%{x}<br>Streams (Billions)=%{y}<br>Song=%{customdata[0]}<br>Release Date=%{customdata[1]}<extra></extra>\",\"legendgroup\":\"Camila Cabello\\u00a0featuring\\u00a0Young Thug\",\"marker\":{\"color\":\"#EF553B\",\"pattern\":{\"shape\":\"\"}},\"name\":\"Camila Cabello\\u00a0featuring\\u00a0Young Thug\",\"offsetgroup\":\"Camila Cabello\\u00a0featuring\\u00a0Young Thug\",\"orientation\":\"v\",\"showlegend\":true,\"textposition\":\"auto\",\"x\":[\"Camila Cabello\\u00a0featuring\\u00a0Young Thug\"],\"xaxis\":\"x\",\"y\":[1.861],\"yaxis\":\"y\",\"type\":\"bar\"},{\"alignmentgroup\":\"True\",\"customdata\":[[\"Stressed Out\",\"28-Apr-15\"]],\"hovertemplate\":\"Artist=%{x}<br>Streams (Billions)=%{y}<br>Song=%{customdata[0]}<br>Release Date=%{customdata[1]}<extra></extra>\",\"legendgroup\":\"Twenty One Pilots\",\"marker\":{\"color\":\"#00cc96\",\"pattern\":{\"shape\":\"\"}},\"name\":\"Twenty One Pilots\",\"offsetgroup\":\"Twenty One Pilots\",\"orientation\":\"v\",\"showlegend\":true,\"textposition\":\"auto\",\"x\":[\"Twenty One Pilots\"],\"xaxis\":\"x\",\"y\":[1.86],\"yaxis\":\"y\",\"type\":\"bar\"},{\"alignmentgroup\":\"True\",\"customdata\":[[\"XO Tour Llif3\",\"24-Mar-17\"]],\"hovertemplate\":\"Artist=%{x}<br>Streams (Billions)=%{y}<br>Song=%{customdata[0]}<br>Release Date=%{customdata[1]}<extra></extra>\",\"legendgroup\":\"Lil Uzi Vert\",\"marker\":{\"color\":\"#ab63fa\",\"pattern\":{\"shape\":\"\"}},\"name\":\"Lil Uzi Vert\",\"offsetgroup\":\"Lil Uzi Vert\",\"orientation\":\"v\",\"showlegend\":true,\"textposition\":\"auto\",\"x\":[\"Lil Uzi Vert\"],\"xaxis\":\"x\",\"y\":[1.847],\"yaxis\":\"y\",\"type\":\"bar\"},{\"alignmentgroup\":\"True\",\"customdata\":[[\"Counting Stars\",\"25-Mar-13\"]],\"hovertemplate\":\"Artist=%{x}<br>Streams (Billions)=%{y}<br>Song=%{customdata[0]}<br>Release Date=%{customdata[1]}<extra></extra>\",\"legendgroup\":\"OneRepublic\",\"marker\":{\"color\":\"#FFA15A\",\"pattern\":{\"shape\":\"\"}},\"name\":\"OneRepublic\",\"offsetgroup\":\"OneRepublic\",\"orientation\":\"v\",\"showlegend\":true,\"textposition\":\"auto\",\"x\":[\"OneRepublic\"],\"xaxis\":\"x\",\"y\":[1.843],\"yaxis\":\"y\",\"type\":\"bar\"},{\"alignmentgroup\":\"True\",\"customdata\":[[\"Wake Me Up\",\"17-Jun-13\"]],\"hovertemplate\":\"Artist=%{x}<br>Streams (Billions)=%{y}<br>Song=%{customdata[0]}<br>Release Date=%{customdata[1]}<extra></extra>\",\"legendgroup\":\"Avicii\",\"marker\":{\"color\":\"#19d3f3\",\"pattern\":{\"shape\":\"\"}},\"name\":\"Avicii\",\"offsetgroup\":\"Avicii\",\"orientation\":\"v\",\"showlegend\":true,\"textposition\":\"auto\",\"x\":[\"Avicii\"],\"xaxis\":\"x\",\"y\":[1.824],\"yaxis\":\"y\",\"type\":\"bar\"},{\"alignmentgroup\":\"True\",\"customdata\":[[\"Riptide\",\"21-May-13\"]],\"hovertemplate\":\"Artist=%{x}<br>Streams (Billions)=%{y}<br>Song=%{customdata[0]}<br>Release Date=%{customdata[1]}<extra></extra>\",\"legendgroup\":\"Vance Joy\",\"marker\":{\"color\":\"#FF6692\",\"pattern\":{\"shape\":\"\"}},\"name\":\"Vance Joy\",\"offsetgroup\":\"Vance Joy\",\"orientation\":\"v\",\"showlegend\":true,\"textposition\":\"auto\",\"x\":[\"Vance Joy\"],\"xaxis\":\"x\",\"y\":[1.819],\"yaxis\":\"y\",\"type\":\"bar\"},{\"alignmentgroup\":\"True\",\"customdata\":[[\"Happier\",\"17-Aug-18\"]],\"hovertemplate\":\"Artist=%{x}<br>Streams (Billions)=%{y}<br>Song=%{customdata[0]}<br>Release Date=%{customdata[1]}<extra></extra>\",\"legendgroup\":\"Marshmello\\u00a0and\\u00a0Bastille\",\"marker\":{\"color\":\"#B6E880\",\"pattern\":{\"shape\":\"\"}},\"name\":\"Marshmello\\u00a0and\\u00a0Bastille\",\"offsetgroup\":\"Marshmello\\u00a0and\\u00a0Bastille\",\"orientation\":\"v\",\"showlegend\":true,\"textposition\":\"auto\",\"x\":[\"Marshmello\\u00a0and\\u00a0Bastille\"],\"xaxis\":\"x\",\"y\":[1.817],\"yaxis\":\"y\",\"type\":\"bar\"},{\"alignmentgroup\":\"True\",\"customdata\":[[\"Humble\",\"30-Mar-17\"]],\"hovertemplate\":\"Artist=%{x}<br>Streams (Billions)=%{y}<br>Song=%{customdata[0]}<br>Release Date=%{customdata[1]}<extra></extra>\",\"legendgroup\":\"Kendrick Lamar\",\"marker\":{\"color\":\"#FF97FF\",\"pattern\":{\"shape\":\"\"}},\"name\":\"Kendrick Lamar\",\"offsetgroup\":\"Kendrick Lamar\",\"orientation\":\"v\",\"showlegend\":true,\"textposition\":\"auto\",\"x\":[\"Kendrick Lamar\"],\"xaxis\":\"x\",\"y\":[1.812],\"yaxis\":\"y\",\"type\":\"bar\"},{\"alignmentgroup\":\"True\",\"customdata\":[[\"Let Her Go\",\"24-Jul-12\"]],\"hovertemplate\":\"Artist=%{x}<br>Streams (Billions)=%{y}<br>Song=%{customdata[0]}<br>Release Date=%{customdata[1]}<extra></extra>\",\"legendgroup\":\"Passenger\",\"marker\":{\"color\":\"#FECB52\",\"pattern\":{\"shape\":\"\"}},\"name\":\"Passenger\",\"offsetgroup\":\"Passenger\",\"orientation\":\"v\",\"showlegend\":true,\"textposition\":\"auto\",\"x\":[\"Passenger\"],\"xaxis\":\"x\",\"y\":[1.811],\"yaxis\":\"y\",\"type\":\"bar\"},{\"alignmentgroup\":\"True\",\"customdata\":[[\"Sicko Mode\",\"03-Aug-18\"]],\"hovertemplate\":\"Artist=%{x}<br>Streams (Billions)=%{y}<br>Song=%{customdata[0]}<br>Release Date=%{customdata[1]}<extra></extra>\",\"legendgroup\":\"Travis Scott\\u00a0featuring\\u00a0Drake\",\"marker\":{\"color\":\"#636efa\",\"pattern\":{\"shape\":\"\"}},\"name\":\"Travis Scott\\u00a0featuring\\u00a0Drake\",\"offsetgroup\":\"Travis Scott\\u00a0featuring\\u00a0Drake\",\"orientation\":\"v\",\"showlegend\":true,\"textposition\":\"auto\",\"x\":[\"Travis Scott\\u00a0featuring\\u00a0Drake\"],\"xaxis\":\"x\",\"y\":[1.794],\"yaxis\":\"y\",\"type\":\"bar\"},{\"alignmentgroup\":\"True\",\"customdata\":[[\"Can't Hold Us\",\"16-Aug-11\"]],\"hovertemplate\":\"Artist=%{x}<br>Streams (Billions)=%{y}<br>Song=%{customdata[0]}<br>Release Date=%{customdata[1]}<extra></extra>\",\"legendgroup\":\"Macklemore & Ryan Lewis\\u00a0featuring\\u00a0Ray Dalton\",\"marker\":{\"color\":\"#EF553B\",\"pattern\":{\"shape\":\"\"}},\"name\":\"Macklemore & Ryan Lewis\\u00a0featuring\\u00a0Ray Dalton\",\"offsetgroup\":\"Macklemore & Ryan Lewis\\u00a0featuring\\u00a0Ray Dalton\",\"orientation\":\"v\",\"showlegend\":true,\"textposition\":\"auto\",\"x\":[\"Macklemore & Ryan Lewis\\u00a0featuring\\u00a0Ray Dalton\"],\"xaxis\":\"x\",\"y\":[1.778],\"yaxis\":\"y\",\"type\":\"bar\"},{\"alignmentgroup\":\"True\",\"customdata\":[[\"Good 4 U\",\"14-May-21\"],[\"Drivers License\",\"08-Jan-21\"]],\"hovertemplate\":\"Artist=%{x}<br>Streams (Billions)=%{y}<br>Song=%{customdata[0]}<br>Release Date=%{customdata[1]}<extra></extra>\",\"legendgroup\":\"Olivia Rodrigo\",\"marker\":{\"color\":\"#00cc96\",\"pattern\":{\"shape\":\"\"}},\"name\":\"Olivia Rodrigo\",\"offsetgroup\":\"Olivia Rodrigo\",\"orientation\":\"v\",\"showlegend\":true,\"textposition\":\"auto\",\"x\":[\"Olivia Rodrigo\",\"Olivia Rodrigo\"],\"xaxis\":\"x\",\"y\":[1.763,1.734],\"yaxis\":\"y\",\"type\":\"bar\"},{\"alignmentgroup\":\"True\",\"customdata\":[[\"One Kiss\",\"06-Apr-18\"]],\"hovertemplate\":\"Artist=%{x}<br>Streams (Billions)=%{y}<br>Song=%{customdata[0]}<br>Release Date=%{customdata[1]}<extra></extra>\",\"legendgroup\":\"Calvin Harris\\u00a0and\\u00a0Dua Lipa\",\"marker\":{\"color\":\"#ab63fa\",\"pattern\":{\"shape\":\"\"}},\"name\":\"Calvin Harris\\u00a0and\\u00a0Dua Lipa\",\"offsetgroup\":\"Calvin Harris\\u00a0and\\u00a0Dua Lipa\",\"orientation\":\"v\",\"showlegend\":true,\"textposition\":\"auto\",\"x\":[\"Calvin Harris\\u00a0and\\u00a0Dua Lipa\"],\"xaxis\":\"x\",\"y\":[1.755],\"yaxis\":\"y\",\"type\":\"bar\"},{\"alignmentgroup\":\"True\",\"customdata\":[[\"Let Me Love You\",\"05-Aug-16\"]],\"hovertemplate\":\"Artist=%{x}<br>Streams (Billions)=%{y}<br>Song=%{customdata[0]}<br>Release Date=%{customdata[1]}<extra></extra>\",\"legendgroup\":\"DJ Snake\\u00a0featuring\\u00a0Justin Bieber\",\"marker\":{\"color\":\"#FFA15A\",\"pattern\":{\"shape\":\"\"}},\"name\":\"DJ Snake\\u00a0featuring\\u00a0Justin Bieber\",\"offsetgroup\":\"DJ Snake\\u00a0featuring\\u00a0Justin Bieber\",\"orientation\":\"v\",\"showlegend\":true,\"textposition\":\"auto\",\"x\":[\"DJ Snake\\u00a0featuring\\u00a0Justin Bieber\"],\"xaxis\":\"x\",\"y\":[1.747],\"yaxis\":\"y\",\"type\":\"bar\"},{\"alignmentgroup\":\"True\",\"customdata\":[[\"Lean On\",\"02-Mar-15\"]],\"hovertemplate\":\"Artist=%{x}<br>Streams (Billions)=%{y}<br>Song=%{customdata[0]}<br>Release Date=%{customdata[1]}<extra></extra>\",\"legendgroup\":\"Major Lazer\\u00a0and\\u00a0DJ Snake\\u00a0featuring\\u00a0M\\u00d8\",\"marker\":{\"color\":\"#19d3f3\",\"pattern\":{\"shape\":\"\"}},\"name\":\"Major Lazer\\u00a0and\\u00a0DJ Snake\\u00a0featuring\\u00a0M\\u00d8\",\"offsetgroup\":\"Major Lazer\\u00a0and\\u00a0DJ Snake\\u00a0featuring\\u00a0M\\u00d8\",\"orientation\":\"v\",\"showlegend\":true,\"textposition\":\"auto\",\"x\":[\"Major Lazer\\u00a0and\\u00a0DJ Snake\\u00a0featuring\\u00a0M\\u00d8\"],\"xaxis\":\"x\",\"y\":[1.728],\"yaxis\":\"y\",\"type\":\"bar\"},{\"alignmentgroup\":\"True\",\"customdata\":[[\"Treat You Better\",\"03-Jun-16\"],[\"There's Nothing Holdin' Me Back\",\"20-Apr-17\"],[\"Stitches\",\"14-Apr-15\"]],\"hovertemplate\":\"Artist=%{x}<br>Streams (Billions)=%{y}<br>Song=%{customdata[0]}<br>Release Date=%{customdata[1]}<extra></extra>\",\"legendgroup\":\"Shawn Mendes\",\"marker\":{\"color\":\"#FF6692\",\"pattern\":{\"shape\":\"\"}},\"name\":\"Shawn Mendes\",\"offsetgroup\":\"Shawn Mendes\",\"orientation\":\"v\",\"showlegend\":true,\"textposition\":\"auto\",\"x\":[\"Shawn Mendes\",\"Shawn Mendes\",\"Shawn Mendes\"],\"xaxis\":\"x\",\"y\":[1.725,1.579,1.559],\"yaxis\":\"y\",\"type\":\"bar\"},{\"alignmentgroup\":\"True\",\"customdata\":[[\"Roses (Imanbek remix)\",\"18-Sep-19\"]],\"hovertemplate\":\"Artist=%{x}<br>Streams (Billions)=%{y}<br>Song=%{customdata[0]}<br>Release Date=%{customdata[1]}<extra></extra>\",\"legendgroup\":\"Saint Jhn\\u00a0with\\u00a0Imanbek\",\"marker\":{\"color\":\"#B6E880\",\"pattern\":{\"shape\":\"\"}},\"name\":\"Saint Jhn\\u00a0with\\u00a0Imanbek\",\"offsetgroup\":\"Saint Jhn\\u00a0with\\u00a0Imanbek\",\"orientation\":\"v\",\"showlegend\":true,\"textposition\":\"auto\",\"x\":[\"Saint Jhn\\u00a0with\\u00a0Imanbek\"],\"xaxis\":\"x\",\"y\":[1.723],\"yaxis\":\"y\",\"type\":\"bar\"},{\"alignmentgroup\":\"True\",\"customdata\":[[\"Stay with Me\",\"14-Apr-14\"],[\"Too Good at Goodbyes\",\"08-Sep-17\"]],\"hovertemplate\":\"Artist=%{x}<br>Streams (Billions)=%{y}<br>Song=%{customdata[0]}<br>Release Date=%{customdata[1]}<extra></extra>\",\"legendgroup\":\"Sam Smith\",\"marker\":{\"color\":\"#FF97FF\",\"pattern\":{\"shape\":\"\"}},\"name\":\"Sam Smith\",\"offsetgroup\":\"Sam Smith\",\"orientation\":\"v\",\"showlegend\":true,\"textposition\":\"auto\",\"x\":[\"Sam Smith\",\"Sam Smith\"],\"xaxis\":\"x\",\"y\":[1.709,1.673],\"yaxis\":\"y\",\"type\":\"bar\"},{\"alignmentgroup\":\"True\",\"customdata\":[[\"Congratulations\",\"04-Nov-16\"]],\"hovertemplate\":\"Artist=%{x}<br>Streams (Billions)=%{y}<br>Song=%{customdata[0]}<br>Release Date=%{customdata[1]}<extra></extra>\",\"legendgroup\":\"Post Malone\\u00a0featuring\\u00a0Quavo\",\"marker\":{\"color\":\"#FECB52\",\"pattern\":{\"shape\":\"\"}},\"name\":\"Post Malone\\u00a0featuring\\u00a0Quavo\",\"offsetgroup\":\"Post Malone\\u00a0featuring\\u00a0Quavo\",\"orientation\":\"v\",\"showlegend\":true,\"textposition\":\"auto\",\"x\":[\"Post Malone\\u00a0featuring\\u00a0Quavo\"],\"xaxis\":\"x\",\"y\":[1.703],\"yaxis\":\"y\",\"type\":\"bar\"},{\"alignmentgroup\":\"True\",\"customdata\":[[\"Faded\",\"03-Dec-15\"]],\"hovertemplate\":\"Artist=%{x}<br>Streams (Billions)=%{y}<br>Song=%{customdata[0]}<br>Release Date=%{customdata[1]}<extra></extra>\",\"legendgroup\":\"Alan Walker\",\"marker\":{\"color\":\"#636efa\",\"pattern\":{\"shape\":\"\"}},\"name\":\"Alan Walker\",\"offsetgroup\":\"Alan Walker\",\"orientation\":\"v\",\"showlegend\":true,\"textposition\":\"auto\",\"x\":[\"Alan Walker\"],\"xaxis\":\"x\",\"y\":[1.699],\"yaxis\":\"y\",\"type\":\"bar\"},{\"alignmentgroup\":\"True\",\"customdata\":[[\"Without Me\",\"04-Oct-18\"]],\"hovertemplate\":\"Artist=%{x}<br>Streams (Billions)=%{y}<br>Song=%{customdata[0]}<br>Release Date=%{customdata[1]}<extra></extra>\",\"legendgroup\":\"Halsey\",\"marker\":{\"color\":\"#EF553B\",\"pattern\":{\"shape\":\"\"}},\"name\":\"Halsey\",\"offsetgroup\":\"Halsey\",\"orientation\":\"v\",\"showlegend\":true,\"textposition\":\"auto\",\"x\":[\"Halsey\"],\"xaxis\":\"x\",\"y\":[1.692],\"yaxis\":\"y\",\"type\":\"bar\"},{\"alignmentgroup\":\"True\",\"customdata\":[[\"Industry Baby\",\"23-Jul-21\"]],\"hovertemplate\":\"Artist=%{x}<br>Streams (Billions)=%{y}<br>Song=%{customdata[0]}<br>Release Date=%{customdata[1]}<extra></extra>\",\"legendgroup\":\"Lil Nas X\\u00a0featuring\\u00a0Jack Harlow\",\"marker\":{\"color\":\"#00cc96\",\"pattern\":{\"shape\":\"\"}},\"name\":\"Lil Nas X\\u00a0featuring\\u00a0Jack Harlow\",\"offsetgroup\":\"Lil Nas X\\u00a0featuring\\u00a0Jack Harlow\",\"orientation\":\"v\",\"showlegend\":true,\"textposition\":\"auto\",\"x\":[\"Lil Nas X\\u00a0featuring\\u00a0Jack Harlow\"],\"xaxis\":\"x\",\"y\":[1.691],\"yaxis\":\"y\",\"type\":\"bar\"},{\"alignmentgroup\":\"True\",\"customdata\":[[\"Lose Yourself\",\"28-Oct-02\"]],\"hovertemplate\":\"Artist=%{x}<br>Streams (Billions)=%{y}<br>Song=%{customdata[0]}<br>Release Date=%{customdata[1]}<extra></extra>\",\"legendgroup\":\"Eminem\",\"marker\":{\"color\":\"#ab63fa\",\"pattern\":{\"shape\":\"\"}},\"name\":\"Eminem\",\"offsetgroup\":\"Eminem\",\"orientation\":\"v\",\"showlegend\":true,\"textposition\":\"auto\",\"x\":[\"Eminem\"],\"xaxis\":\"x\",\"y\":[1.68],\"yaxis\":\"y\",\"type\":\"bar\"},{\"alignmentgroup\":\"True\",\"customdata\":[[\"Memories\",\"20-Sep-19\"],[\"Sugar\",\"29-Aug-14\"]],\"hovertemplate\":\"Artist=%{x}<br>Streams (Billions)=%{y}<br>Song=%{customdata[0]}<br>Release Date=%{customdata[1]}<extra></extra>\",\"legendgroup\":\"Maroon 5\",\"marker\":{\"color\":\"#FFA15A\",\"pattern\":{\"shape\":\"\"}},\"name\":\"Maroon 5\",\"offsetgroup\":\"Maroon 5\",\"orientation\":\"v\",\"showlegend\":true,\"textposition\":\"auto\",\"x\":[\"Maroon 5\",\"Maroon 5\"],\"xaxis\":\"x\",\"y\":[1.68,1.524],\"yaxis\":\"y\",\"type\":\"bar\"},{\"alignmentgroup\":\"True\",\"customdata\":[[\"Mr. Brightside\",\"07-Jun-04\"]],\"hovertemplate\":\"Artist=%{x}<br>Streams (Billions)=%{y}<br>Song=%{customdata[0]}<br>Release Date=%{customdata[1]}<extra></extra>\",\"legendgroup\":\"The Killers\",\"marker\":{\"color\":\"#19d3f3\",\"pattern\":{\"shape\":\"\"}},\"name\":\"The Killers\",\"offsetgroup\":\"The Killers\",\"orientation\":\"v\",\"showlegend\":true,\"textposition\":\"auto\",\"x\":[\"The Killers\"],\"xaxis\":\"x\",\"y\":[1.677],\"yaxis\":\"y\",\"type\":\"bar\"},{\"alignmentgroup\":\"True\",\"customdata\":[[\"Uptown Funk\",\"10-Nov-14\"]],\"hovertemplate\":\"Artist=%{x}<br>Streams (Billions)=%{y}<br>Song=%{customdata[0]}<br>Release Date=%{customdata[1]}<extra></extra>\",\"legendgroup\":\"Mark Ronson\\u00a0featuring\\u00a0Bruno Mars\",\"marker\":{\"color\":\"#FF6692\",\"pattern\":{\"shape\":\"\"}},\"name\":\"Mark Ronson\\u00a0featuring\\u00a0Bruno Mars\",\"offsetgroup\":\"Mark Ronson\\u00a0featuring\\u00a0Bruno Mars\",\"orientation\":\"v\",\"showlegend\":true,\"textposition\":\"auto\",\"x\":[\"Mark Ronson\\u00a0featuring\\u00a0Bruno Mars\"],\"xaxis\":\"x\",\"y\":[1.673],\"yaxis\":\"y\",\"type\":\"bar\"},{\"alignmentgroup\":\"True\",\"customdata\":[[\"Levitating\",\"01-Oct-20\"]],\"hovertemplate\":\"Artist=%{x}<br>Streams (Billions)=%{y}<br>Song=%{customdata[0]}<br>Release Date=%{customdata[1]}<extra></extra>\",\"legendgroup\":\"Dua Lipa\\u00a0featuring\\u00a0DaBaby\",\"marker\":{\"color\":\"#B6E880\",\"pattern\":{\"shape\":\"\"}},\"name\":\"Dua Lipa\\u00a0featuring\\u00a0DaBaby\",\"offsetgroup\":\"Dua Lipa\\u00a0featuring\\u00a0DaBaby\",\"orientation\":\"v\",\"showlegend\":true,\"textposition\":\"auto\",\"x\":[\"Dua Lipa\\u00a0featuring\\u00a0DaBaby\"],\"xaxis\":\"x\",\"y\":[1.666],\"yaxis\":\"y\",\"type\":\"bar\"},{\"alignmentgroup\":\"True\",\"customdata\":[[\"I Took a Pill in Ibiza\\u00a0(Seeb\\u00a0Remix)\",\"14-Apr-15\"]],\"hovertemplate\":\"Artist=%{x}<br>Streams (Billions)=%{y}<br>Song=%{customdata[0]}<br>Release Date=%{customdata[1]}<extra></extra>\",\"legendgroup\":\"Mike Posner\\u00a0and\\u00a0Seeb\",\"marker\":{\"color\":\"#FF97FF\",\"pattern\":{\"shape\":\"\"}},\"name\":\"Mike Posner\\u00a0and\\u00a0Seeb\",\"offsetgroup\":\"Mike Posner\\u00a0and\\u00a0Seeb\",\"orientation\":\"v\",\"showlegend\":true,\"textposition\":\"auto\",\"x\":[\"Mike Posner\\u00a0and\\u00a0Seeb\"],\"xaxis\":\"x\",\"y\":[1.666],\"yaxis\":\"y\",\"type\":\"bar\"},{\"alignmentgroup\":\"True\",\"customdata\":[[\"Don't Let Me Down\",\"05-Feb-16\"]],\"hovertemplate\":\"Artist=%{x}<br>Streams (Billions)=%{y}<br>Song=%{customdata[0]}<br>Release Date=%{customdata[1]}<extra></extra>\",\"legendgroup\":\"The Chainsmokers\\u00a0featuring\\u00a0Daya\",\"marker\":{\"color\":\"#FECB52\",\"pattern\":{\"shape\":\"\"}},\"name\":\"The Chainsmokers\\u00a0featuring\\u00a0Daya\",\"offsetgroup\":\"The Chainsmokers\\u00a0featuring\\u00a0Daya\",\"orientation\":\"v\",\"showlegend\":true,\"textposition\":\"auto\",\"x\":[\"The Chainsmokers\\u00a0featuring\\u00a0Daya\"],\"xaxis\":\"x\",\"y\":[1.664],\"yaxis\":\"y\",\"type\":\"bar\"},{\"alignmentgroup\":\"True\",\"customdata\":[[\"I Don't Care\",\"10-May-19\"]],\"hovertemplate\":\"Artist=%{x}<br>Streams (Billions)=%{y}<br>Song=%{customdata[0]}<br>Release Date=%{customdata[1]}<extra></extra>\",\"legendgroup\":\"Ed Sheeran\\u00a0and\\u00a0Justin Bieber\",\"marker\":{\"color\":\"#636efa\",\"pattern\":{\"shape\":\"\"}},\"name\":\"Ed Sheeran\\u00a0and\\u00a0Justin Bieber\",\"offsetgroup\":\"Ed Sheeran\\u00a0and\\u00a0Justin Bieber\",\"orientation\":\"v\",\"showlegend\":true,\"textposition\":\"auto\",\"x\":[\"Ed Sheeran\\u00a0and\\u00a0Justin Bieber\"],\"xaxis\":\"x\",\"y\":[1.647],\"yaxis\":\"y\",\"type\":\"bar\"},{\"alignmentgroup\":\"True\",\"customdata\":[[\"Dakiti\",\"30-Oct-20\"]],\"hovertemplate\":\"Artist=%{x}<br>Streams (Billions)=%{y}<br>Song=%{customdata[0]}<br>Release Date=%{customdata[1]}<extra></extra>\",\"legendgroup\":\"Bad Bunny\\u00a0and\\u00a0Jhay Cortez\",\"marker\":{\"color\":\"#EF553B\",\"pattern\":{\"shape\":\"\"}},\"name\":\"Bad Bunny\\u00a0and\\u00a0Jhay Cortez\",\"offsetgroup\":\"Bad Bunny\\u00a0and\\u00a0Jhay Cortez\",\"orientation\":\"v\",\"showlegend\":true,\"textposition\":\"auto\",\"x\":[\"Bad Bunny\\u00a0and\\u00a0Jhay Cortez\"],\"xaxis\":\"x\",\"y\":[1.647],\"yaxis\":\"y\",\"type\":\"bar\"},{\"alignmentgroup\":\"True\",\"customdata\":[[\"Montero (Call Me by Your Name)\",\"26-Mar-21\"]],\"hovertemplate\":\"Artist=%{x}<br>Streams (Billions)=%{y}<br>Song=%{customdata[0]}<br>Release Date=%{customdata[1]}<extra></extra>\",\"legendgroup\":\"Lil Nas X\",\"marker\":{\"color\":\"#00cc96\",\"pattern\":{\"shape\":\"\"}},\"name\":\"Lil Nas X\",\"offsetgroup\":\"Lil Nas X\",\"orientation\":\"v\",\"showlegend\":true,\"textposition\":\"auto\",\"x\":[\"Lil Nas X\"],\"xaxis\":\"x\",\"y\":[1.642],\"yaxis\":\"y\",\"type\":\"bar\"},{\"alignmentgroup\":\"True\",\"customdata\":[[\"Mood\",\"24-Jul-20\"]],\"hovertemplate\":\"Artist=%{x}<br>Streams (Billions)=%{y}<br>Song=%{customdata[0]}<br>Release Date=%{customdata[1]}<extra></extra>\",\"legendgroup\":\"24kGoldn\\u00a0and\\u00a0Iann Dior\",\"marker\":{\"color\":\"#ab63fa\",\"pattern\":{\"shape\":\"\"}},\"name\":\"24kGoldn\\u00a0and\\u00a0Iann Dior\",\"offsetgroup\":\"24kGoldn\\u00a0and\\u00a0Iann Dior\",\"orientation\":\"v\",\"showlegend\":true,\"textposition\":\"auto\",\"x\":[\"24kGoldn\\u00a0and\\u00a0Iann Dior\"],\"xaxis\":\"x\",\"y\":[1.628],\"yaxis\":\"y\",\"type\":\"bar\"},{\"alignmentgroup\":\"True\",\"customdata\":[[\"Do I Wanna Know?\",\"19-Jun-13\"]],\"hovertemplate\":\"Artist=%{x}<br>Streams (Billions)=%{y}<br>Song=%{customdata[0]}<br>Release Date=%{customdata[1]}<extra></extra>\",\"legendgroup\":\"Arctic Monkeys\",\"marker\":{\"color\":\"#FFA15A\",\"pattern\":{\"shape\":\"\"}},\"name\":\"Arctic Monkeys\",\"offsetgroup\":\"Arctic Monkeys\",\"orientation\":\"v\",\"showlegend\":true,\"textposition\":\"auto\",\"x\":[\"Arctic Monkeys\"],\"xaxis\":\"x\",\"y\":[1.627],\"yaxis\":\"y\",\"type\":\"bar\"},{\"alignmentgroup\":\"True\",\"customdata\":[[\"Unforgettable\",\"07-Apr-17\"]],\"hovertemplate\":\"Artist=%{x}<br>Streams (Billions)=%{y}<br>Song=%{customdata[0]}<br>Release Date=%{customdata[1]}<extra></extra>\",\"legendgroup\":\"French Montana\\u00a0featuring\\u00a0Swae Lee\",\"marker\":{\"color\":\"#19d3f3\",\"pattern\":{\"shape\":\"\"}},\"name\":\"French Montana\\u00a0featuring\\u00a0Swae Lee\",\"offsetgroup\":\"French Montana\\u00a0featuring\\u00a0Swae Lee\",\"orientation\":\"v\",\"showlegend\":true,\"textposition\":\"auto\",\"x\":[\"French Montana\\u00a0featuring\\u00a0Swae Lee\"],\"xaxis\":\"x\",\"y\":[1.616],\"yaxis\":\"y\",\"type\":\"bar\"},{\"alignmentgroup\":\"True\",\"customdata\":[[\"Dynamite\",\"21-Aug-20\"]],\"hovertemplate\":\"Artist=%{x}<br>Streams (Billions)=%{y}<br>Song=%{customdata[0]}<br>Release Date=%{customdata[1]}<extra></extra>\",\"legendgroup\":\"BTS\",\"marker\":{\"color\":\"#FF6692\",\"pattern\":{\"shape\":\"\"}},\"name\":\"BTS\",\"offsetgroup\":\"BTS\",\"orientation\":\"v\",\"showlegend\":true,\"textposition\":\"auto\",\"x\":[\"BTS\"],\"xaxis\":\"x\",\"y\":[1.606],\"yaxis\":\"y\",\"type\":\"bar\"},{\"alignmentgroup\":\"True\",\"customdata\":[[\"Despacito (remix)\",\"17-Apr-17\"]],\"hovertemplate\":\"Artist=%{x}<br>Streams (Billions)=%{y}<br>Song=%{customdata[0]}<br>Release Date=%{customdata[1]}<extra></extra>\",\"legendgroup\":\"Luis Fonsi\\u00a0and\\u00a0Daddy Yankee\\u00a0featuring\\u00a0Justin Bieber\",\"marker\":{\"color\":\"#B6E880\",\"pattern\":{\"shape\":\"\"}},\"name\":\"Luis Fonsi\\u00a0and\\u00a0Daddy Yankee\\u00a0featuring\\u00a0Justin Bieber\",\"offsetgroup\":\"Luis Fonsi\\u00a0and\\u00a0Daddy Yankee\\u00a0featuring\\u00a0Justin Bieber\",\"orientation\":\"v\",\"showlegend\":true,\"textposition\":\"auto\",\"x\":[\"Luis Fonsi\\u00a0and\\u00a0Daddy Yankee\\u00a0featuring\\u00a0Justin Bieber\"],\"xaxis\":\"x\",\"y\":[1.601],\"yaxis\":\"y\",\"type\":\"bar\"},{\"alignmentgroup\":\"True\",\"customdata\":[[\"Wonderwall\",\"30-Oct-95\"]],\"hovertemplate\":\"Artist=%{x}<br>Streams (Billions)=%{y}<br>Song=%{customdata[0]}<br>Release Date=%{customdata[1]}<extra></extra>\",\"legendgroup\":\"Oasis\",\"marker\":{\"color\":\"#FF97FF\",\"pattern\":{\"shape\":\"\"}},\"name\":\"Oasis\",\"offsetgroup\":\"Oasis\",\"orientation\":\"v\",\"showlegend\":true,\"textposition\":\"auto\",\"x\":[\"Oasis\"],\"xaxis\":\"x\",\"y\":[1.593],\"yaxis\":\"y\",\"type\":\"bar\"},{\"alignmentgroup\":\"True\",\"customdata\":[[\"No Role Modelz\",\"04-Aug-14\"]],\"hovertemplate\":\"Artist=%{x}<br>Streams (Billions)=%{y}<br>Song=%{customdata[0]}<br>Release Date=%{customdata[1]}<extra></extra>\",\"legendgroup\":\"J. Cole\",\"marker\":{\"color\":\"#FECB52\",\"pattern\":{\"shape\":\"\"}},\"name\":\"J. Cole\",\"offsetgroup\":\"J. Cole\",\"orientation\":\"v\",\"showlegend\":true,\"textposition\":\"auto\",\"x\":[\"J. Cole\"],\"xaxis\":\"x\",\"y\":[1.592],\"yaxis\":\"y\",\"type\":\"bar\"},{\"alignmentgroup\":\"True\",\"customdata\":[[\"That's What I Like\",\"18-Nov-16\"]],\"hovertemplate\":\"Artist=%{x}<br>Streams (Billions)=%{y}<br>Song=%{customdata[0]}<br>Release Date=%{customdata[1]}<extra></extra>\",\"legendgroup\":\"Bruno Mars\",\"marker\":{\"color\":\"#636efa\",\"pattern\":{\"shape\":\"\"}},\"name\":\"Bruno Mars\",\"offsetgroup\":\"Bruno Mars\",\"orientation\":\"v\",\"showlegend\":true,\"textposition\":\"auto\",\"x\":[\"Bruno Mars\"],\"xaxis\":\"x\",\"y\":[1.587],\"yaxis\":\"y\",\"type\":\"bar\"},{\"alignmentgroup\":\"True\",\"customdata\":[[\"The Box\",\"06-Dec-19\"]],\"hovertemplate\":\"Artist=%{x}<br>Streams (Billions)=%{y}<br>Song=%{customdata[0]}<br>Release Date=%{customdata[1]}<extra></extra>\",\"legendgroup\":\"Roddy Ricch\",\"marker\":{\"color\":\"#EF553B\",\"pattern\":{\"shape\":\"\"}},\"name\":\"Roddy Ricch\",\"offsetgroup\":\"Roddy Ricch\",\"orientation\":\"v\",\"showlegend\":true,\"textposition\":\"auto\",\"x\":[\"Roddy Ricch\"],\"xaxis\":\"x\",\"y\":[1.586],\"yaxis\":\"y\",\"type\":\"bar\"},{\"alignmentgroup\":\"True\",\"customdata\":[[\"'Till I Collapse\",\"26-May-02\"]],\"hovertemplate\":\"Artist=%{x}<br>Streams (Billions)=%{y}<br>Song=%{customdata[0]}<br>Release Date=%{customdata[1]}<extra></extra>\",\"legendgroup\":\"Eminem\\u00a0featuring\\u00a0Nate Dogg\",\"marker\":{\"color\":\"#00cc96\",\"pattern\":{\"shape\":\"\"}},\"name\":\"Eminem\\u00a0featuring\\u00a0Nate Dogg\",\"offsetgroup\":\"Eminem\\u00a0featuring\\u00a0Nate Dogg\",\"orientation\":\"v\",\"showlegend\":true,\"textposition\":\"auto\",\"x\":[\"Eminem\\u00a0featuring\\u00a0Nate Dogg\"],\"xaxis\":\"x\",\"y\":[1.579],\"yaxis\":\"y\",\"type\":\"bar\"},{\"alignmentgroup\":\"True\",\"customdata\":[[\"Cheap Thrills\",\"29-Jan-16\"]],\"hovertemplate\":\"Artist=%{x}<br>Streams (Billions)=%{y}<br>Song=%{customdata[0]}<br>Release Date=%{customdata[1]}<extra></extra>\",\"legendgroup\":\"Sia\",\"marker\":{\"color\":\"#ab63fa\",\"pattern\":{\"shape\":\"\"}},\"name\":\"Sia\",\"offsetgroup\":\"Sia\",\"orientation\":\"v\",\"showlegend\":true,\"textposition\":\"auto\",\"x\":[\"Sia\"],\"xaxis\":\"x\",\"y\":[1.555],\"yaxis\":\"y\",\"type\":\"bar\"},{\"alignmentgroup\":\"True\",\"customdata\":[[\"Smells Like Teen Spirit\",\"10-Sep-91\"]],\"hovertemplate\":\"Artist=%{x}<br>Streams (Billions)=%{y}<br>Song=%{customdata[0]}<br>Release Date=%{customdata[1]}<extra></extra>\",\"legendgroup\":\"Nirvana\",\"marker\":{\"color\":\"#FFA15A\",\"pattern\":{\"shape\":\"\"}},\"name\":\"Nirvana\",\"offsetgroup\":\"Nirvana\",\"orientation\":\"v\",\"showlegend\":true,\"textposition\":\"auto\",\"x\":[\"Nirvana\"],\"xaxis\":\"x\",\"y\":[1.553],\"yaxis\":\"y\",\"type\":\"bar\"},{\"alignmentgroup\":\"True\",\"customdata\":[[\"See You Again\",\"10-Mar-15\"]],\"hovertemplate\":\"Artist=%{x}<br>Streams (Billions)=%{y}<br>Song=%{customdata[0]}<br>Release Date=%{customdata[1]}<extra></extra>\",\"legendgroup\":\"Wiz Khalifa\\u00a0featuring\\u00a0Charlie Puth\",\"marker\":{\"color\":\"#19d3f3\",\"pattern\":{\"shape\":\"\"}},\"name\":\"Wiz Khalifa\\u00a0featuring\\u00a0Charlie Puth\",\"offsetgroup\":\"Wiz Khalifa\\u00a0featuring\\u00a0Charlie Puth\",\"orientation\":\"v\",\"showlegend\":true,\"textposition\":\"auto\",\"x\":[\"Wiz Khalifa\\u00a0featuring\\u00a0Charlie Puth\"],\"xaxis\":\"x\",\"y\":[1.54],\"yaxis\":\"y\",\"type\":\"bar\"},{\"alignmentgroup\":\"True\",\"customdata\":[[\"I'm Yours\",\"12-Feb-08\"]],\"hovertemplate\":\"Artist=%{x}<br>Streams (Billions)=%{y}<br>Song=%{customdata[0]}<br>Release Date=%{customdata[1]}<extra></extra>\",\"legendgroup\":\"Jason Mraz\",\"marker\":{\"color\":\"#FF6692\",\"pattern\":{\"shape\":\"\"}},\"name\":\"Jason Mraz\",\"offsetgroup\":\"Jason Mraz\",\"orientation\":\"v\",\"showlegend\":true,\"textposition\":\"auto\",\"x\":[\"Jason Mraz\"],\"xaxis\":\"x\",\"y\":[1.533],\"yaxis\":\"y\",\"type\":\"bar\"},{\"alignmentgroup\":\"True\",\"customdata\":[[\"I Like Me Better\",\"19-May-17\"]],\"hovertemplate\":\"Artist=%{x}<br>Streams (Billions)=%{y}<br>Song=%{customdata[0]}<br>Release Date=%{customdata[1]}<extra></extra>\",\"legendgroup\":\"Lauv\",\"marker\":{\"color\":\"#B6E880\",\"pattern\":{\"shape\":\"\"}},\"name\":\"Lauv\",\"offsetgroup\":\"Lauv\",\"orientation\":\"v\",\"showlegend\":true,\"textposition\":\"auto\",\"x\":[\"Lauv\"],\"xaxis\":\"x\",\"y\":[1.53],\"yaxis\":\"y\",\"type\":\"bar\"},{\"alignmentgroup\":\"True\",\"customdata\":[[\"7 Years\",\"16-Jun-15\"]],\"hovertemplate\":\"Artist=%{x}<br>Streams (Billions)=%{y}<br>Song=%{customdata[0]}<br>Release Date=%{customdata[1]}<extra></extra>\",\"legendgroup\":\"Lukas Graham\",\"marker\":{\"color\":\"#FF97FF\",\"pattern\":{\"shape\":\"\"}},\"name\":\"Lukas Graham\",\"offsetgroup\":\"Lukas Graham\",\"orientation\":\"v\",\"showlegend\":true,\"textposition\":\"auto\",\"x\":[\"Lukas Graham\"],\"xaxis\":\"x\",\"y\":[1.529],\"yaxis\":\"y\",\"type\":\"bar\"},{\"alignmentgroup\":\"True\",\"customdata\":[[\"Yellow\",\"26-Jun-00\"]],\"hovertemplate\":\"Artist=%{x}<br>Streams (Billions)=%{y}<br>Song=%{customdata[0]}<br>Release Date=%{customdata[1]}<extra></extra>\",\"legendgroup\":\"Coldplay\",\"marker\":{\"color\":\"#FECB52\",\"pattern\":{\"shape\":\"\"}},\"name\":\"Coldplay\",\"offsetgroup\":\"Coldplay\",\"orientation\":\"v\",\"showlegend\":true,\"textposition\":\"auto\",\"x\":[\"Coldplay\"],\"xaxis\":\"x\",\"y\":[1.527],\"yaxis\":\"y\",\"type\":\"bar\"},{\"alignmentgroup\":\"True\",\"customdata\":[[\"Despacito\",\"12-Jan-17\"]],\"hovertemplate\":\"Artist=%{x}<br>Streams (Billions)=%{y}<br>Song=%{customdata[0]}<br>Release Date=%{customdata[1]}<extra></extra>\",\"legendgroup\":\"Luis Fonsi\\u00a0featuring\\u00a0Daddy Yankee\",\"marker\":{\"color\":\"#636efa\",\"pattern\":{\"shape\":\"\"}},\"name\":\"Luis Fonsi\\u00a0featuring\\u00a0Daddy Yankee\",\"offsetgroup\":\"Luis Fonsi\\u00a0featuring\\u00a0Daddy Yankee\",\"orientation\":\"v\",\"showlegend\":true,\"textposition\":\"auto\",\"x\":[\"Luis Fonsi\\u00a0featuring\\u00a0Daddy Yankee\"],\"xaxis\":\"x\",\"y\":[1.522],\"yaxis\":\"y\",\"type\":\"bar\"}],                        {\"template\":{\"data\":{\"histogram2dcontour\":[{\"type\":\"histogram2dcontour\",\"colorbar\":{\"outlinewidth\":0,\"ticks\":\"\"},\"colorscale\":[[0.0,\"#0d0887\"],[0.1111111111111111,\"#46039f\"],[0.2222222222222222,\"#7201a8\"],[0.3333333333333333,\"#9c179e\"],[0.4444444444444444,\"#bd3786\"],[0.5555555555555556,\"#d8576b\"],[0.6666666666666666,\"#ed7953\"],[0.7777777777777778,\"#fb9f3a\"],[0.8888888888888888,\"#fdca26\"],[1.0,\"#f0f921\"]]}],\"choropleth\":[{\"type\":\"choropleth\",\"colorbar\":{\"outlinewidth\":0,\"ticks\":\"\"}}],\"histogram2d\":[{\"type\":\"histogram2d\",\"colorbar\":{\"outlinewidth\":0,\"ticks\":\"\"},\"colorscale\":[[0.0,\"#0d0887\"],[0.1111111111111111,\"#46039f\"],[0.2222222222222222,\"#7201a8\"],[0.3333333333333333,\"#9c179e\"],[0.4444444444444444,\"#bd3786\"],[0.5555555555555556,\"#d8576b\"],[0.6666666666666666,\"#ed7953\"],[0.7777777777777778,\"#fb9f3a\"],[0.8888888888888888,\"#fdca26\"],[1.0,\"#f0f921\"]]}],\"heatmap\":[{\"type\":\"heatmap\",\"colorbar\":{\"outlinewidth\":0,\"ticks\":\"\"},\"colorscale\":[[0.0,\"#0d0887\"],[0.1111111111111111,\"#46039f\"],[0.2222222222222222,\"#7201a8\"],[0.3333333333333333,\"#9c179e\"],[0.4444444444444444,\"#bd3786\"],[0.5555555555555556,\"#d8576b\"],[0.6666666666666666,\"#ed7953\"],[0.7777777777777778,\"#fb9f3a\"],[0.8888888888888888,\"#fdca26\"],[1.0,\"#f0f921\"]]}],\"heatmapgl\":[{\"type\":\"heatmapgl\",\"colorbar\":{\"outlinewidth\":0,\"ticks\":\"\"},\"colorscale\":[[0.0,\"#0d0887\"],[0.1111111111111111,\"#46039f\"],[0.2222222222222222,\"#7201a8\"],[0.3333333333333333,\"#9c179e\"],[0.4444444444444444,\"#bd3786\"],[0.5555555555555556,\"#d8576b\"],[0.6666666666666666,\"#ed7953\"],[0.7777777777777778,\"#fb9f3a\"],[0.8888888888888888,\"#fdca26\"],[1.0,\"#f0f921\"]]}],\"contourcarpet\":[{\"type\":\"contourcarpet\",\"colorbar\":{\"outlinewidth\":0,\"ticks\":\"\"}}],\"contour\":[{\"type\":\"contour\",\"colorbar\":{\"outlinewidth\":0,\"ticks\":\"\"},\"colorscale\":[[0.0,\"#0d0887\"],[0.1111111111111111,\"#46039f\"],[0.2222222222222222,\"#7201a8\"],[0.3333333333333333,\"#9c179e\"],[0.4444444444444444,\"#bd3786\"],[0.5555555555555556,\"#d8576b\"],[0.6666666666666666,\"#ed7953\"],[0.7777777777777778,\"#fb9f3a\"],[0.8888888888888888,\"#fdca26\"],[1.0,\"#f0f921\"]]}],\"surface\":[{\"type\":\"surface\",\"colorbar\":{\"outlinewidth\":0,\"ticks\":\"\"},\"colorscale\":[[0.0,\"#0d0887\"],[0.1111111111111111,\"#46039f\"],[0.2222222222222222,\"#7201a8\"],[0.3333333333333333,\"#9c179e\"],[0.4444444444444444,\"#bd3786\"],[0.5555555555555556,\"#d8576b\"],[0.6666666666666666,\"#ed7953\"],[0.7777777777777778,\"#fb9f3a\"],[0.8888888888888888,\"#fdca26\"],[1.0,\"#f0f921\"]]}],\"mesh3d\":[{\"type\":\"mesh3d\",\"colorbar\":{\"outlinewidth\":0,\"ticks\":\"\"}}],\"scatter\":[{\"fillpattern\":{\"fillmode\":\"overlay\",\"size\":10,\"solidity\":0.2},\"type\":\"scatter\"}],\"parcoords\":[{\"type\":\"parcoords\",\"line\":{\"colorbar\":{\"outlinewidth\":0,\"ticks\":\"\"}}}],\"scatterpolargl\":[{\"type\":\"scatterpolargl\",\"marker\":{\"colorbar\":{\"outlinewidth\":0,\"ticks\":\"\"}}}],\"bar\":[{\"error_x\":{\"color\":\"#2a3f5f\"},\"error_y\":{\"color\":\"#2a3f5f\"},\"marker\":{\"line\":{\"color\":\"#E5ECF6\",\"width\":0.5},\"pattern\":{\"fillmode\":\"overlay\",\"size\":10,\"solidity\":0.2}},\"type\":\"bar\"}],\"scattergeo\":[{\"type\":\"scattergeo\",\"marker\":{\"colorbar\":{\"outlinewidth\":0,\"ticks\":\"\"}}}],\"scatterpolar\":[{\"type\":\"scatterpolar\",\"marker\":{\"colorbar\":{\"outlinewidth\":0,\"ticks\":\"\"}}}],\"histogram\":[{\"marker\":{\"pattern\":{\"fillmode\":\"overlay\",\"size\":10,\"solidity\":0.2}},\"type\":\"histogram\"}],\"scattergl\":[{\"type\":\"scattergl\",\"marker\":{\"colorbar\":{\"outlinewidth\":0,\"ticks\":\"\"}}}],\"scatter3d\":[{\"type\":\"scatter3d\",\"line\":{\"colorbar\":{\"outlinewidth\":0,\"ticks\":\"\"}},\"marker\":{\"colorbar\":{\"outlinewidth\":0,\"ticks\":\"\"}}}],\"scattermapbox\":[{\"type\":\"scattermapbox\",\"marker\":{\"colorbar\":{\"outlinewidth\":0,\"ticks\":\"\"}}}],\"scatterternary\":[{\"type\":\"scatterternary\",\"marker\":{\"colorbar\":{\"outlinewidth\":0,\"ticks\":\"\"}}}],\"scattercarpet\":[{\"type\":\"scattercarpet\",\"marker\":{\"colorbar\":{\"outlinewidth\":0,\"ticks\":\"\"}}}],\"carpet\":[{\"aaxis\":{\"endlinecolor\":\"#2a3f5f\",\"gridcolor\":\"white\",\"linecolor\":\"white\",\"minorgridcolor\":\"white\",\"startlinecolor\":\"#2a3f5f\"},\"baxis\":{\"endlinecolor\":\"#2a3f5f\",\"gridcolor\":\"white\",\"linecolor\":\"white\",\"minorgridcolor\":\"white\",\"startlinecolor\":\"#2a3f5f\"},\"type\":\"carpet\"}],\"table\":[{\"cells\":{\"fill\":{\"color\":\"#EBF0F8\"},\"line\":{\"color\":\"white\"}},\"header\":{\"fill\":{\"color\":\"#C8D4E3\"},\"line\":{\"color\":\"white\"}},\"type\":\"table\"}],\"barpolar\":[{\"marker\":{\"line\":{\"color\":\"#E5ECF6\",\"width\":0.5},\"pattern\":{\"fillmode\":\"overlay\",\"size\":10,\"solidity\":0.2}},\"type\":\"barpolar\"}],\"pie\":[{\"automargin\":true,\"type\":\"pie\"}]},\"layout\":{\"autotypenumbers\":\"strict\",\"colorway\":[\"#636efa\",\"#EF553B\",\"#00cc96\",\"#ab63fa\",\"#FFA15A\",\"#19d3f3\",\"#FF6692\",\"#B6E880\",\"#FF97FF\",\"#FECB52\"],\"font\":{\"color\":\"#2a3f5f\"},\"hovermode\":\"closest\",\"hoverlabel\":{\"align\":\"left\"},\"paper_bgcolor\":\"white\",\"plot_bgcolor\":\"#E5ECF6\",\"polar\":{\"bgcolor\":\"#E5ECF6\",\"angularaxis\":{\"gridcolor\":\"white\",\"linecolor\":\"white\",\"ticks\":\"\"},\"radialaxis\":{\"gridcolor\":\"white\",\"linecolor\":\"white\",\"ticks\":\"\"}},\"ternary\":{\"bgcolor\":\"#E5ECF6\",\"aaxis\":{\"gridcolor\":\"white\",\"linecolor\":\"white\",\"ticks\":\"\"},\"baxis\":{\"gridcolor\":\"white\",\"linecolor\":\"white\",\"ticks\":\"\"},\"caxis\":{\"gridcolor\":\"white\",\"linecolor\":\"white\",\"ticks\":\"\"}},\"coloraxis\":{\"colorbar\":{\"outlinewidth\":0,\"ticks\":\"\"}},\"colorscale\":{\"sequential\":[[0.0,\"#0d0887\"],[0.1111111111111111,\"#46039f\"],[0.2222222222222222,\"#7201a8\"],[0.3333333333333333,\"#9c179e\"],[0.4444444444444444,\"#bd3786\"],[0.5555555555555556,\"#d8576b\"],[0.6666666666666666,\"#ed7953\"],[0.7777777777777778,\"#fb9f3a\"],[0.8888888888888888,\"#fdca26\"],[1.0,\"#f0f921\"]],\"sequentialminus\":[[0.0,\"#0d0887\"],[0.1111111111111111,\"#46039f\"],[0.2222222222222222,\"#7201a8\"],[0.3333333333333333,\"#9c179e\"],[0.4444444444444444,\"#bd3786\"],[0.5555555555555556,\"#d8576b\"],[0.6666666666666666,\"#ed7953\"],[0.7777777777777778,\"#fb9f3a\"],[0.8888888888888888,\"#fdca26\"],[1.0,\"#f0f921\"]],\"diverging\":[[0,\"#8e0152\"],[0.1,\"#c51b7d\"],[0.2,\"#de77ae\"],[0.3,\"#f1b6da\"],[0.4,\"#fde0ef\"],[0.5,\"#f7f7f7\"],[0.6,\"#e6f5d0\"],[0.7,\"#b8e186\"],[0.8,\"#7fbc41\"],[0.9,\"#4d9221\"],[1,\"#276419\"]]},\"xaxis\":{\"gridcolor\":\"white\",\"linecolor\":\"white\",\"ticks\":\"\",\"title\":{\"standoff\":15},\"zerolinecolor\":\"white\",\"automargin\":true,\"zerolinewidth\":2},\"yaxis\":{\"gridcolor\":\"white\",\"linecolor\":\"white\",\"ticks\":\"\",\"title\":{\"standoff\":15},\"zerolinecolor\":\"white\",\"automargin\":true,\"zerolinewidth\":2},\"scene\":{\"xaxis\":{\"backgroundcolor\":\"#E5ECF6\",\"gridcolor\":\"white\",\"linecolor\":\"white\",\"showbackground\":true,\"ticks\":\"\",\"zerolinecolor\":\"white\",\"gridwidth\":2},\"yaxis\":{\"backgroundcolor\":\"#E5ECF6\",\"gridcolor\":\"white\",\"linecolor\":\"white\",\"showbackground\":true,\"ticks\":\"\",\"zerolinecolor\":\"white\",\"gridwidth\":2},\"zaxis\":{\"backgroundcolor\":\"#E5ECF6\",\"gridcolor\":\"white\",\"linecolor\":\"white\",\"showbackground\":true,\"ticks\":\"\",\"zerolinecolor\":\"white\",\"gridwidth\":2}},\"shapedefaults\":{\"line\":{\"color\":\"#2a3f5f\"}},\"annotationdefaults\":{\"arrowcolor\":\"#2a3f5f\",\"arrowhead\":0,\"arrowwidth\":1},\"geo\":{\"bgcolor\":\"white\",\"landcolor\":\"#E5ECF6\",\"subunitcolor\":\"white\",\"showland\":true,\"showlakes\":true,\"lakecolor\":\"white\"},\"title\":{\"x\":0.05},\"mapbox\":{\"style\":\"light\"}}},\"xaxis\":{\"anchor\":\"y\",\"domain\":[0.0,1.0],\"title\":{\"text\":\"Artist\"},\"categoryorder\":\"array\",\"categoryarray\":[\"The Weeknd\",\"Ed Sheeran\",\"Tones And I\",\"Lewis Capaldi\",\"Post Malone\\u00a0featuring\\u00a021 Savage\",\"Post Malone\\u00a0and\\u00a0Swae Lee\",\"Drake\\u00a0featuring\\u00a0Wizkid\\u00a0and\\u00a0Kyla\",\"The Chainsmokers\\u00a0featuring\\u00a0Halsey\",\"The Kid Laroi\\u00a0and\\u00a0Justin Bieber\",\"Imagine Dragons\",\"Shawn Mendes\\u00a0and\\u00a0Camila Cabello\",\"Glass Animals\",\"James Arthur\",\"The Weeknd\\u00a0featuring\\u00a0Daft Punk\",\"Billie Eilish\",\"Juice WRLD\",\"Dua Lipa\",\"Billie Eilish\\u00a0and\\u00a0Khalid\",\"Harry Styles\",\"Drake\",\"Queen\",\"The Chainsmokers\\u00a0and\\u00a0Coldplay\",\"The Neighbourhood\",\"Lady Gaga\\u00a0and\\u00a0Bradley Cooper\",\"Justin Bieber\",\"Post Malone\",\"XXXTentacion\",\"Hozier\",\"John Legend\",\"Ariana Grande\",\"Travis Scott\\u00a0featuring\\u00a0Kendrick Lamar\",\"Camila Cabello\\u00a0featuring\\u00a0Young Thug\",\"Twenty One Pilots\",\"Lil Uzi Vert\",\"OneRepublic\",\"Avicii\",\"Vance Joy\",\"Marshmello\\u00a0and\\u00a0Bastille\",\"Kendrick Lamar\",\"Passenger\",\"Travis Scott\\u00a0featuring\\u00a0Drake\",\"Macklemore & Ryan Lewis\\u00a0featuring\\u00a0Ray Dalton\",\"Olivia Rodrigo\",\"Calvin Harris\\u00a0and\\u00a0Dua Lipa\",\"DJ Snake\\u00a0featuring\\u00a0Justin Bieber\",\"Major Lazer\\u00a0and\\u00a0DJ Snake\\u00a0featuring\\u00a0M\\u00d8\",\"Shawn Mendes\",\"Saint Jhn\\u00a0with\\u00a0Imanbek\",\"Sam Smith\",\"Post Malone\\u00a0featuring\\u00a0Quavo\",\"Alan Walker\",\"Halsey\",\"Lil Nas X\\u00a0featuring\\u00a0Jack Harlow\",\"Eminem\",\"Maroon 5\",\"The Killers\",\"Mark Ronson\\u00a0featuring\\u00a0Bruno Mars\",\"Dua Lipa\\u00a0featuring\\u00a0DaBaby\",\"Mike Posner\\u00a0and\\u00a0Seeb\",\"The Chainsmokers\\u00a0featuring\\u00a0Daya\",\"Ed Sheeran\\u00a0and\\u00a0Justin Bieber\",\"Bad Bunny\\u00a0and\\u00a0Jhay Cortez\",\"Lil Nas X\",\"24kGoldn\\u00a0and\\u00a0Iann Dior\",\"Arctic Monkeys\",\"French Montana\\u00a0featuring\\u00a0Swae Lee\",\"BTS\",\"Luis Fonsi\\u00a0and\\u00a0Daddy Yankee\\u00a0featuring\\u00a0Justin Bieber\",\"Oasis\",\"J. Cole\",\"Bruno Mars\",\"Roddy Ricch\",\"Eminem\\u00a0featuring\\u00a0Nate Dogg\",\"Sia\",\"Nirvana\",\"Wiz Khalifa\\u00a0featuring\\u00a0Charlie Puth\",\"Jason Mraz\",\"Lauv\",\"Lukas Graham\",\"Coldplay\",\"Luis Fonsi\\u00a0featuring\\u00a0Daddy Yankee\"]},\"yaxis\":{\"anchor\":\"x\",\"domain\":[0.0,1.0],\"title\":{\"text\":\"Streams (Billions)\"}},\"legend\":{\"title\":{\"text\":\"Artist\"},\"tracegroupgap\":0},\"title\":{\"text\":\"Top 10 Most Streamed Artists\"},\"barmode\":\"relative\"},                        {\"responsive\": true}                    ).then(function(){\n",
       "                            \n",
       "var gd = document.getElementById('08cc52ff-c0f1-4874-97d6-7aae708b66be');\n",
       "var x = new MutationObserver(function (mutations, observer) {{\n",
       "        var display = window.getComputedStyle(gd).display;\n",
       "        if (!display || display === 'none') {{\n",
       "            console.log([gd, 'removed!']);\n",
       "            Plotly.purge(gd);\n",
       "            observer.disconnect();\n",
       "        }}\n",
       "}});\n",
       "\n",
       "// Listen for the removal of the full notebook cells\n",
       "var notebookContainer = gd.closest('#notebook-container');\n",
       "if (notebookContainer) {{\n",
       "    x.observe(notebookContainer, {childList: true});\n",
       "}}\n",
       "\n",
       "// Listen for the clearing of the current output cell\n",
       "var outputEl = gd.closest('.output');\n",
       "if (outputEl) {{\n",
       "    x.observe(outputEl, {childList: true});\n",
       "}}\n",
       "\n",
       "                        })                };                });            </script>        </div>"
      ]
     },
     "metadata": {},
     "output_type": "display_data"
    }
   ],
   "source": [
    "fig = px.bar(streams_df, x=\"Artist\", y=\"Streams (Billions)\", color=\"Artist\", \n",
    "             hover_data=[\"Song\", \"Release Date\"], title=\"Top 10 Most Streamed Artists\")\n",
    "fig.show()"
   ]
  },
  {
   "cell_type": "code",
   "execution_count": 14,
   "metadata": {
    "colab": {
     "base_uri": "https://localhost:8080/",
     "height": 542
    },
    "id": "qEzqiGKe3bHZ",
    "outputId": "86ffe03c-7f1a-4ec1-94bd-0193a05abf1e"
   },
   "outputs": [
    {
     "data": {
      "application/vnd.plotly.v1+json": {
       "config": {
        "plotlyServerURL": "https://plot.ly"
       },
       "data": [
        {
         "alignmentgroup": "True",
         "boxpoints": "all",
         "hovertemplate": "speechiness=%{y}<extra></extra>",
         "legendgroup": "",
         "marker": {
          "color": "#636efa"
         },
         "name": "",
         "notched": false,
         "offsetgroup": "",
         "orientation": "v",
         "showlegend": false,
         "type": "box",
         "x0": " ",
         "xaxis": "x",
         "y": [
          0.0598,
          0.0802,
          0.0924,
          0.0319,
          0.0712,
          0.0466,
          0.0536,
          0.0338,
          0.0283,
          0.128,
          0.029,
          0.0331,
          0.0944,
          0.059,
          0.276,
          0.375,
          0.0296,
          0.2,
          0.0484,
          0.0333,
          0.0465,
          0.109,
          0.0359,
          0.0536,
          0.0317,
          0.0336,
          0.0308,
          0.0557,
          0.438,
          0.0395,
          0.145,
          0.0464,
          0.0322,
          0.0364,
          0.334,
          0.0484,
          0.242,
          0.03,
          0.141,
          0.231,
          0.0382,
          0.0694,
          0.0523,
          0.0379,
          0.0751,
          0.102,
          0.0688,
          0.0515,
          0.222,
          0.0752,
          0.154,
          0.0984,
          0.11,
          0.0349,
          0.0578,
          0.0625,
          0.341,
          0.0474,
          0.04,
          0.0414,
          0.0363,
          0.0476,
          0.0738,
          0.0615,
          0.257,
          0.044,
          0.0321,
          0.0747,
          0.0824,
          0.0432,
          0.0601,
          0.111,
          0.0493,
          0.0658,
          0.0442,
          0.0544,
          0.22,
          0.336,
          0.0323,
          0.123,
          0.0859,
          0.167,
          0.0804,
          0.0406,
          0.339,
          0.0406,
          0.0559,
          0.186,
          0.0554,
          0.0615,
          0.105,
          0.0564,
          0.0959,
          0.0711,
          0.255,
          0.0514,
          0.0281,
          0.0465,
          0.153,
          0.0773
         ],
         "y0": " ",
         "yaxis": "y"
        }
       ],
       "layout": {
        "boxmode": "group",
        "legend": {
         "tracegroupgap": 0
        },
        "template": {
         "data": {
          "bar": [
           {
            "error_x": {
             "color": "#2a3f5f"
            },
            "error_y": {
             "color": "#2a3f5f"
            },
            "marker": {
             "line": {
              "color": "#E5ECF6",
              "width": 0.5
             },
             "pattern": {
              "fillmode": "overlay",
              "size": 10,
              "solidity": 0.2
             }
            },
            "type": "bar"
           }
          ],
          "barpolar": [
           {
            "marker": {
             "line": {
              "color": "#E5ECF6",
              "width": 0.5
             },
             "pattern": {
              "fillmode": "overlay",
              "size": 10,
              "solidity": 0.2
             }
            },
            "type": "barpolar"
           }
          ],
          "carpet": [
           {
            "aaxis": {
             "endlinecolor": "#2a3f5f",
             "gridcolor": "white",
             "linecolor": "white",
             "minorgridcolor": "white",
             "startlinecolor": "#2a3f5f"
            },
            "baxis": {
             "endlinecolor": "#2a3f5f",
             "gridcolor": "white",
             "linecolor": "white",
             "minorgridcolor": "white",
             "startlinecolor": "#2a3f5f"
            },
            "type": "carpet"
           }
          ],
          "choropleth": [
           {
            "colorbar": {
             "outlinewidth": 0,
             "ticks": ""
            },
            "type": "choropleth"
           }
          ],
          "contour": [
           {
            "colorbar": {
             "outlinewidth": 0,
             "ticks": ""
            },
            "colorscale": [
             [
              0,
              "#0d0887"
             ],
             [
              0.1111111111111111,
              "#46039f"
             ],
             [
              0.2222222222222222,
              "#7201a8"
             ],
             [
              0.3333333333333333,
              "#9c179e"
             ],
             [
              0.4444444444444444,
              "#bd3786"
             ],
             [
              0.5555555555555556,
              "#d8576b"
             ],
             [
              0.6666666666666666,
              "#ed7953"
             ],
             [
              0.7777777777777778,
              "#fb9f3a"
             ],
             [
              0.8888888888888888,
              "#fdca26"
             ],
             [
              1,
              "#f0f921"
             ]
            ],
            "type": "contour"
           }
          ],
          "contourcarpet": [
           {
            "colorbar": {
             "outlinewidth": 0,
             "ticks": ""
            },
            "type": "contourcarpet"
           }
          ],
          "heatmap": [
           {
            "colorbar": {
             "outlinewidth": 0,
             "ticks": ""
            },
            "colorscale": [
             [
              0,
              "#0d0887"
             ],
             [
              0.1111111111111111,
              "#46039f"
             ],
             [
              0.2222222222222222,
              "#7201a8"
             ],
             [
              0.3333333333333333,
              "#9c179e"
             ],
             [
              0.4444444444444444,
              "#bd3786"
             ],
             [
              0.5555555555555556,
              "#d8576b"
             ],
             [
              0.6666666666666666,
              "#ed7953"
             ],
             [
              0.7777777777777778,
              "#fb9f3a"
             ],
             [
              0.8888888888888888,
              "#fdca26"
             ],
             [
              1,
              "#f0f921"
             ]
            ],
            "type": "heatmap"
           }
          ],
          "heatmapgl": [
           {
            "colorbar": {
             "outlinewidth": 0,
             "ticks": ""
            },
            "colorscale": [
             [
              0,
              "#0d0887"
             ],
             [
              0.1111111111111111,
              "#46039f"
             ],
             [
              0.2222222222222222,
              "#7201a8"
             ],
             [
              0.3333333333333333,
              "#9c179e"
             ],
             [
              0.4444444444444444,
              "#bd3786"
             ],
             [
              0.5555555555555556,
              "#d8576b"
             ],
             [
              0.6666666666666666,
              "#ed7953"
             ],
             [
              0.7777777777777778,
              "#fb9f3a"
             ],
             [
              0.8888888888888888,
              "#fdca26"
             ],
             [
              1,
              "#f0f921"
             ]
            ],
            "type": "heatmapgl"
           }
          ],
          "histogram": [
           {
            "marker": {
             "pattern": {
              "fillmode": "overlay",
              "size": 10,
              "solidity": 0.2
             }
            },
            "type": "histogram"
           }
          ],
          "histogram2d": [
           {
            "colorbar": {
             "outlinewidth": 0,
             "ticks": ""
            },
            "colorscale": [
             [
              0,
              "#0d0887"
             ],
             [
              0.1111111111111111,
              "#46039f"
             ],
             [
              0.2222222222222222,
              "#7201a8"
             ],
             [
              0.3333333333333333,
              "#9c179e"
             ],
             [
              0.4444444444444444,
              "#bd3786"
             ],
             [
              0.5555555555555556,
              "#d8576b"
             ],
             [
              0.6666666666666666,
              "#ed7953"
             ],
             [
              0.7777777777777778,
              "#fb9f3a"
             ],
             [
              0.8888888888888888,
              "#fdca26"
             ],
             [
              1,
              "#f0f921"
             ]
            ],
            "type": "histogram2d"
           }
          ],
          "histogram2dcontour": [
           {
            "colorbar": {
             "outlinewidth": 0,
             "ticks": ""
            },
            "colorscale": [
             [
              0,
              "#0d0887"
             ],
             [
              0.1111111111111111,
              "#46039f"
             ],
             [
              0.2222222222222222,
              "#7201a8"
             ],
             [
              0.3333333333333333,
              "#9c179e"
             ],
             [
              0.4444444444444444,
              "#bd3786"
             ],
             [
              0.5555555555555556,
              "#d8576b"
             ],
             [
              0.6666666666666666,
              "#ed7953"
             ],
             [
              0.7777777777777778,
              "#fb9f3a"
             ],
             [
              0.8888888888888888,
              "#fdca26"
             ],
             [
              1,
              "#f0f921"
             ]
            ],
            "type": "histogram2dcontour"
           }
          ],
          "mesh3d": [
           {
            "colorbar": {
             "outlinewidth": 0,
             "ticks": ""
            },
            "type": "mesh3d"
           }
          ],
          "parcoords": [
           {
            "line": {
             "colorbar": {
              "outlinewidth": 0,
              "ticks": ""
             }
            },
            "type": "parcoords"
           }
          ],
          "pie": [
           {
            "automargin": true,
            "type": "pie"
           }
          ],
          "scatter": [
           {
            "fillpattern": {
             "fillmode": "overlay",
             "size": 10,
             "solidity": 0.2
            },
            "type": "scatter"
           }
          ],
          "scatter3d": [
           {
            "line": {
             "colorbar": {
              "outlinewidth": 0,
              "ticks": ""
             }
            },
            "marker": {
             "colorbar": {
              "outlinewidth": 0,
              "ticks": ""
             }
            },
            "type": "scatter3d"
           }
          ],
          "scattercarpet": [
           {
            "marker": {
             "colorbar": {
              "outlinewidth": 0,
              "ticks": ""
             }
            },
            "type": "scattercarpet"
           }
          ],
          "scattergeo": [
           {
            "marker": {
             "colorbar": {
              "outlinewidth": 0,
              "ticks": ""
             }
            },
            "type": "scattergeo"
           }
          ],
          "scattergl": [
           {
            "marker": {
             "colorbar": {
              "outlinewidth": 0,
              "ticks": ""
             }
            },
            "type": "scattergl"
           }
          ],
          "scattermapbox": [
           {
            "marker": {
             "colorbar": {
              "outlinewidth": 0,
              "ticks": ""
             }
            },
            "type": "scattermapbox"
           }
          ],
          "scatterpolar": [
           {
            "marker": {
             "colorbar": {
              "outlinewidth": 0,
              "ticks": ""
             }
            },
            "type": "scatterpolar"
           }
          ],
          "scatterpolargl": [
           {
            "marker": {
             "colorbar": {
              "outlinewidth": 0,
              "ticks": ""
             }
            },
            "type": "scatterpolargl"
           }
          ],
          "scatterternary": [
           {
            "marker": {
             "colorbar": {
              "outlinewidth": 0,
              "ticks": ""
             }
            },
            "type": "scatterternary"
           }
          ],
          "surface": [
           {
            "colorbar": {
             "outlinewidth": 0,
             "ticks": ""
            },
            "colorscale": [
             [
              0,
              "#0d0887"
             ],
             [
              0.1111111111111111,
              "#46039f"
             ],
             [
              0.2222222222222222,
              "#7201a8"
             ],
             [
              0.3333333333333333,
              "#9c179e"
             ],
             [
              0.4444444444444444,
              "#bd3786"
             ],
             [
              0.5555555555555556,
              "#d8576b"
             ],
             [
              0.6666666666666666,
              "#ed7953"
             ],
             [
              0.7777777777777778,
              "#fb9f3a"
             ],
             [
              0.8888888888888888,
              "#fdca26"
             ],
             [
              1,
              "#f0f921"
             ]
            ],
            "type": "surface"
           }
          ],
          "table": [
           {
            "cells": {
             "fill": {
              "color": "#EBF0F8"
             },
             "line": {
              "color": "white"
             }
            },
            "header": {
             "fill": {
              "color": "#C8D4E3"
             },
             "line": {
              "color": "white"
             }
            },
            "type": "table"
           }
          ]
         },
         "layout": {
          "annotationdefaults": {
           "arrowcolor": "#2a3f5f",
           "arrowhead": 0,
           "arrowwidth": 1
          },
          "autotypenumbers": "strict",
          "coloraxis": {
           "colorbar": {
            "outlinewidth": 0,
            "ticks": ""
           }
          },
          "colorscale": {
           "diverging": [
            [
             0,
             "#8e0152"
            ],
            [
             0.1,
             "#c51b7d"
            ],
            [
             0.2,
             "#de77ae"
            ],
            [
             0.3,
             "#f1b6da"
            ],
            [
             0.4,
             "#fde0ef"
            ],
            [
             0.5,
             "#f7f7f7"
            ],
            [
             0.6,
             "#e6f5d0"
            ],
            [
             0.7,
             "#b8e186"
            ],
            [
             0.8,
             "#7fbc41"
            ],
            [
             0.9,
             "#4d9221"
            ],
            [
             1,
             "#276419"
            ]
           ],
           "sequential": [
            [
             0,
             "#0d0887"
            ],
            [
             0.1111111111111111,
             "#46039f"
            ],
            [
             0.2222222222222222,
             "#7201a8"
            ],
            [
             0.3333333333333333,
             "#9c179e"
            ],
            [
             0.4444444444444444,
             "#bd3786"
            ],
            [
             0.5555555555555556,
             "#d8576b"
            ],
            [
             0.6666666666666666,
             "#ed7953"
            ],
            [
             0.7777777777777778,
             "#fb9f3a"
            ],
            [
             0.8888888888888888,
             "#fdca26"
            ],
            [
             1,
             "#f0f921"
            ]
           ],
           "sequentialminus": [
            [
             0,
             "#0d0887"
            ],
            [
             0.1111111111111111,
             "#46039f"
            ],
            [
             0.2222222222222222,
             "#7201a8"
            ],
            [
             0.3333333333333333,
             "#9c179e"
            ],
            [
             0.4444444444444444,
             "#bd3786"
            ],
            [
             0.5555555555555556,
             "#d8576b"
            ],
            [
             0.6666666666666666,
             "#ed7953"
            ],
            [
             0.7777777777777778,
             "#fb9f3a"
            ],
            [
             0.8888888888888888,
             "#fdca26"
            ],
            [
             1,
             "#f0f921"
            ]
           ]
          },
          "colorway": [
           "#636efa",
           "#EF553B",
           "#00cc96",
           "#ab63fa",
           "#FFA15A",
           "#19d3f3",
           "#FF6692",
           "#B6E880",
           "#FF97FF",
           "#FECB52"
          ],
          "font": {
           "color": "#2a3f5f"
          },
          "geo": {
           "bgcolor": "white",
           "lakecolor": "white",
           "landcolor": "#E5ECF6",
           "showlakes": true,
           "showland": true,
           "subunitcolor": "white"
          },
          "hoverlabel": {
           "align": "left"
          },
          "hovermode": "closest",
          "mapbox": {
           "style": "light"
          },
          "paper_bgcolor": "white",
          "plot_bgcolor": "#E5ECF6",
          "polar": {
           "angularaxis": {
            "gridcolor": "white",
            "linecolor": "white",
            "ticks": ""
           },
           "bgcolor": "#E5ECF6",
           "radialaxis": {
            "gridcolor": "white",
            "linecolor": "white",
            "ticks": ""
           }
          },
          "scene": {
           "xaxis": {
            "backgroundcolor": "#E5ECF6",
            "gridcolor": "white",
            "gridwidth": 2,
            "linecolor": "white",
            "showbackground": true,
            "ticks": "",
            "zerolinecolor": "white"
           },
           "yaxis": {
            "backgroundcolor": "#E5ECF6",
            "gridcolor": "white",
            "gridwidth": 2,
            "linecolor": "white",
            "showbackground": true,
            "ticks": "",
            "zerolinecolor": "white"
           },
           "zaxis": {
            "backgroundcolor": "#E5ECF6",
            "gridcolor": "white",
            "gridwidth": 2,
            "linecolor": "white",
            "showbackground": true,
            "ticks": "",
            "zerolinecolor": "white"
           }
          },
          "shapedefaults": {
           "line": {
            "color": "#2a3f5f"
           }
          },
          "ternary": {
           "aaxis": {
            "gridcolor": "white",
            "linecolor": "white",
            "ticks": ""
           },
           "baxis": {
            "gridcolor": "white",
            "linecolor": "white",
            "ticks": ""
           },
           "bgcolor": "#E5ECF6",
           "caxis": {
            "gridcolor": "white",
            "linecolor": "white",
            "ticks": ""
           }
          },
          "title": {
           "x": 0.05
          },
          "xaxis": {
           "automargin": true,
           "gridcolor": "white",
           "linecolor": "white",
           "ticks": "",
           "title": {
            "standoff": 15
           },
           "zerolinecolor": "white",
           "zerolinewidth": 2
          },
          "yaxis": {
           "automargin": true,
           "gridcolor": "white",
           "linecolor": "white",
           "ticks": "",
           "title": {
            "standoff": 15
           },
           "zerolinecolor": "white",
           "zerolinewidth": 2
          }
         }
        },
        "title": {
         "text": "Speechiness Distribution"
        },
        "xaxis": {
         "anchor": "y",
         "domain": [
          0,
          1
         ]
        },
        "yaxis": {
         "anchor": "x",
         "domain": [
          0,
          1
         ],
         "title": {
          "text": "speechiness"
         }
        }
       }
      },
      "text/html": [
       "<div>                            <div id=\"370bc6db-b6c5-4266-b143-8d8a53546589\" class=\"plotly-graph-div\" style=\"height:525px; width:100%;\"></div>            <script type=\"text/javascript\">                require([\"plotly\"], function(Plotly) {                    window.PLOTLYENV=window.PLOTLYENV || {};                                    if (document.getElementById(\"370bc6db-b6c5-4266-b143-8d8a53546589\")) {                    Plotly.newPlot(                        \"370bc6db-b6c5-4266-b143-8d8a53546589\",                        [{\"alignmentgroup\":\"True\",\"boxpoints\":\"all\",\"hovertemplate\":\"speechiness=%{y}<extra></extra>\",\"legendgroup\":\"\",\"marker\":{\"color\":\"#636efa\"},\"name\":\"\",\"notched\":false,\"offsetgroup\":\"\",\"orientation\":\"v\",\"showlegend\":false,\"x0\":\" \",\"xaxis\":\"x\",\"y\":[0.0598,0.0802,0.0924,0.0319,0.0712,0.0466,0.0536,0.0338,0.0283,0.128,0.029,0.0331,0.0944,0.059,0.276,0.375,0.0296,0.2,0.0484,0.0333,0.0465,0.109,0.0359,0.0536,0.0317,0.0336,0.0308,0.0557,0.438,0.0395,0.145,0.0464,0.0322,0.0364,0.334,0.0484,0.242,0.03,0.141,0.231,0.0382,0.0694,0.0523,0.0379,0.0751,0.102,0.0688,0.0515,0.222,0.0752,0.154,0.0984,0.11,0.0349,0.0578,0.0625,0.341,0.0474,0.04,0.0414,0.0363,0.0476,0.0738,0.0615,0.257,0.044,0.0321,0.0747,0.0824,0.0432,0.0601,0.111,0.0493,0.0658,0.0442,0.0544,0.22,0.336,0.0323,0.123,0.0859,0.167,0.0804,0.0406,0.339,0.0406,0.0559,0.186,0.0554,0.0615,0.105,0.0564,0.0959,0.0711,0.255,0.0514,0.0281,0.0465,0.153,0.0773],\"y0\":\" \",\"yaxis\":\"y\",\"type\":\"box\"}],                        {\"template\":{\"data\":{\"histogram2dcontour\":[{\"type\":\"histogram2dcontour\",\"colorbar\":{\"outlinewidth\":0,\"ticks\":\"\"},\"colorscale\":[[0.0,\"#0d0887\"],[0.1111111111111111,\"#46039f\"],[0.2222222222222222,\"#7201a8\"],[0.3333333333333333,\"#9c179e\"],[0.4444444444444444,\"#bd3786\"],[0.5555555555555556,\"#d8576b\"],[0.6666666666666666,\"#ed7953\"],[0.7777777777777778,\"#fb9f3a\"],[0.8888888888888888,\"#fdca26\"],[1.0,\"#f0f921\"]]}],\"choropleth\":[{\"type\":\"choropleth\",\"colorbar\":{\"outlinewidth\":0,\"ticks\":\"\"}}],\"histogram2d\":[{\"type\":\"histogram2d\",\"colorbar\":{\"outlinewidth\":0,\"ticks\":\"\"},\"colorscale\":[[0.0,\"#0d0887\"],[0.1111111111111111,\"#46039f\"],[0.2222222222222222,\"#7201a8\"],[0.3333333333333333,\"#9c179e\"],[0.4444444444444444,\"#bd3786\"],[0.5555555555555556,\"#d8576b\"],[0.6666666666666666,\"#ed7953\"],[0.7777777777777778,\"#fb9f3a\"],[0.8888888888888888,\"#fdca26\"],[1.0,\"#f0f921\"]]}],\"heatmap\":[{\"type\":\"heatmap\",\"colorbar\":{\"outlinewidth\":0,\"ticks\":\"\"},\"colorscale\":[[0.0,\"#0d0887\"],[0.1111111111111111,\"#46039f\"],[0.2222222222222222,\"#7201a8\"],[0.3333333333333333,\"#9c179e\"],[0.4444444444444444,\"#bd3786\"],[0.5555555555555556,\"#d8576b\"],[0.6666666666666666,\"#ed7953\"],[0.7777777777777778,\"#fb9f3a\"],[0.8888888888888888,\"#fdca26\"],[1.0,\"#f0f921\"]]}],\"heatmapgl\":[{\"type\":\"heatmapgl\",\"colorbar\":{\"outlinewidth\":0,\"ticks\":\"\"},\"colorscale\":[[0.0,\"#0d0887\"],[0.1111111111111111,\"#46039f\"],[0.2222222222222222,\"#7201a8\"],[0.3333333333333333,\"#9c179e\"],[0.4444444444444444,\"#bd3786\"],[0.5555555555555556,\"#d8576b\"],[0.6666666666666666,\"#ed7953\"],[0.7777777777777778,\"#fb9f3a\"],[0.8888888888888888,\"#fdca26\"],[1.0,\"#f0f921\"]]}],\"contourcarpet\":[{\"type\":\"contourcarpet\",\"colorbar\":{\"outlinewidth\":0,\"ticks\":\"\"}}],\"contour\":[{\"type\":\"contour\",\"colorbar\":{\"outlinewidth\":0,\"ticks\":\"\"},\"colorscale\":[[0.0,\"#0d0887\"],[0.1111111111111111,\"#46039f\"],[0.2222222222222222,\"#7201a8\"],[0.3333333333333333,\"#9c179e\"],[0.4444444444444444,\"#bd3786\"],[0.5555555555555556,\"#d8576b\"],[0.6666666666666666,\"#ed7953\"],[0.7777777777777778,\"#fb9f3a\"],[0.8888888888888888,\"#fdca26\"],[1.0,\"#f0f921\"]]}],\"surface\":[{\"type\":\"surface\",\"colorbar\":{\"outlinewidth\":0,\"ticks\":\"\"},\"colorscale\":[[0.0,\"#0d0887\"],[0.1111111111111111,\"#46039f\"],[0.2222222222222222,\"#7201a8\"],[0.3333333333333333,\"#9c179e\"],[0.4444444444444444,\"#bd3786\"],[0.5555555555555556,\"#d8576b\"],[0.6666666666666666,\"#ed7953\"],[0.7777777777777778,\"#fb9f3a\"],[0.8888888888888888,\"#fdca26\"],[1.0,\"#f0f921\"]]}],\"mesh3d\":[{\"type\":\"mesh3d\",\"colorbar\":{\"outlinewidth\":0,\"ticks\":\"\"}}],\"scatter\":[{\"fillpattern\":{\"fillmode\":\"overlay\",\"size\":10,\"solidity\":0.2},\"type\":\"scatter\"}],\"parcoords\":[{\"type\":\"parcoords\",\"line\":{\"colorbar\":{\"outlinewidth\":0,\"ticks\":\"\"}}}],\"scatterpolargl\":[{\"type\":\"scatterpolargl\",\"marker\":{\"colorbar\":{\"outlinewidth\":0,\"ticks\":\"\"}}}],\"bar\":[{\"error_x\":{\"color\":\"#2a3f5f\"},\"error_y\":{\"color\":\"#2a3f5f\"},\"marker\":{\"line\":{\"color\":\"#E5ECF6\",\"width\":0.5},\"pattern\":{\"fillmode\":\"overlay\",\"size\":10,\"solidity\":0.2}},\"type\":\"bar\"}],\"scattergeo\":[{\"type\":\"scattergeo\",\"marker\":{\"colorbar\":{\"outlinewidth\":0,\"ticks\":\"\"}}}],\"scatterpolar\":[{\"type\":\"scatterpolar\",\"marker\":{\"colorbar\":{\"outlinewidth\":0,\"ticks\":\"\"}}}],\"histogram\":[{\"marker\":{\"pattern\":{\"fillmode\":\"overlay\",\"size\":10,\"solidity\":0.2}},\"type\":\"histogram\"}],\"scattergl\":[{\"type\":\"scattergl\",\"marker\":{\"colorbar\":{\"outlinewidth\":0,\"ticks\":\"\"}}}],\"scatter3d\":[{\"type\":\"scatter3d\",\"line\":{\"colorbar\":{\"outlinewidth\":0,\"ticks\":\"\"}},\"marker\":{\"colorbar\":{\"outlinewidth\":0,\"ticks\":\"\"}}}],\"scattermapbox\":[{\"type\":\"scattermapbox\",\"marker\":{\"colorbar\":{\"outlinewidth\":0,\"ticks\":\"\"}}}],\"scatterternary\":[{\"type\":\"scatterternary\",\"marker\":{\"colorbar\":{\"outlinewidth\":0,\"ticks\":\"\"}}}],\"scattercarpet\":[{\"type\":\"scattercarpet\",\"marker\":{\"colorbar\":{\"outlinewidth\":0,\"ticks\":\"\"}}}],\"carpet\":[{\"aaxis\":{\"endlinecolor\":\"#2a3f5f\",\"gridcolor\":\"white\",\"linecolor\":\"white\",\"minorgridcolor\":\"white\",\"startlinecolor\":\"#2a3f5f\"},\"baxis\":{\"endlinecolor\":\"#2a3f5f\",\"gridcolor\":\"white\",\"linecolor\":\"white\",\"minorgridcolor\":\"white\",\"startlinecolor\":\"#2a3f5f\"},\"type\":\"carpet\"}],\"table\":[{\"cells\":{\"fill\":{\"color\":\"#EBF0F8\"},\"line\":{\"color\":\"white\"}},\"header\":{\"fill\":{\"color\":\"#C8D4E3\"},\"line\":{\"color\":\"white\"}},\"type\":\"table\"}],\"barpolar\":[{\"marker\":{\"line\":{\"color\":\"#E5ECF6\",\"width\":0.5},\"pattern\":{\"fillmode\":\"overlay\",\"size\":10,\"solidity\":0.2}},\"type\":\"barpolar\"}],\"pie\":[{\"automargin\":true,\"type\":\"pie\"}]},\"layout\":{\"autotypenumbers\":\"strict\",\"colorway\":[\"#636efa\",\"#EF553B\",\"#00cc96\",\"#ab63fa\",\"#FFA15A\",\"#19d3f3\",\"#FF6692\",\"#B6E880\",\"#FF97FF\",\"#FECB52\"],\"font\":{\"color\":\"#2a3f5f\"},\"hovermode\":\"closest\",\"hoverlabel\":{\"align\":\"left\"},\"paper_bgcolor\":\"white\",\"plot_bgcolor\":\"#E5ECF6\",\"polar\":{\"bgcolor\":\"#E5ECF6\",\"angularaxis\":{\"gridcolor\":\"white\",\"linecolor\":\"white\",\"ticks\":\"\"},\"radialaxis\":{\"gridcolor\":\"white\",\"linecolor\":\"white\",\"ticks\":\"\"}},\"ternary\":{\"bgcolor\":\"#E5ECF6\",\"aaxis\":{\"gridcolor\":\"white\",\"linecolor\":\"white\",\"ticks\":\"\"},\"baxis\":{\"gridcolor\":\"white\",\"linecolor\":\"white\",\"ticks\":\"\"},\"caxis\":{\"gridcolor\":\"white\",\"linecolor\":\"white\",\"ticks\":\"\"}},\"coloraxis\":{\"colorbar\":{\"outlinewidth\":0,\"ticks\":\"\"}},\"colorscale\":{\"sequential\":[[0.0,\"#0d0887\"],[0.1111111111111111,\"#46039f\"],[0.2222222222222222,\"#7201a8\"],[0.3333333333333333,\"#9c179e\"],[0.4444444444444444,\"#bd3786\"],[0.5555555555555556,\"#d8576b\"],[0.6666666666666666,\"#ed7953\"],[0.7777777777777778,\"#fb9f3a\"],[0.8888888888888888,\"#fdca26\"],[1.0,\"#f0f921\"]],\"sequentialminus\":[[0.0,\"#0d0887\"],[0.1111111111111111,\"#46039f\"],[0.2222222222222222,\"#7201a8\"],[0.3333333333333333,\"#9c179e\"],[0.4444444444444444,\"#bd3786\"],[0.5555555555555556,\"#d8576b\"],[0.6666666666666666,\"#ed7953\"],[0.7777777777777778,\"#fb9f3a\"],[0.8888888888888888,\"#fdca26\"],[1.0,\"#f0f921\"]],\"diverging\":[[0,\"#8e0152\"],[0.1,\"#c51b7d\"],[0.2,\"#de77ae\"],[0.3,\"#f1b6da\"],[0.4,\"#fde0ef\"],[0.5,\"#f7f7f7\"],[0.6,\"#e6f5d0\"],[0.7,\"#b8e186\"],[0.8,\"#7fbc41\"],[0.9,\"#4d9221\"],[1,\"#276419\"]]},\"xaxis\":{\"gridcolor\":\"white\",\"linecolor\":\"white\",\"ticks\":\"\",\"title\":{\"standoff\":15},\"zerolinecolor\":\"white\",\"automargin\":true,\"zerolinewidth\":2},\"yaxis\":{\"gridcolor\":\"white\",\"linecolor\":\"white\",\"ticks\":\"\",\"title\":{\"standoff\":15},\"zerolinecolor\":\"white\",\"automargin\":true,\"zerolinewidth\":2},\"scene\":{\"xaxis\":{\"backgroundcolor\":\"#E5ECF6\",\"gridcolor\":\"white\",\"linecolor\":\"white\",\"showbackground\":true,\"ticks\":\"\",\"zerolinecolor\":\"white\",\"gridwidth\":2},\"yaxis\":{\"backgroundcolor\":\"#E5ECF6\",\"gridcolor\":\"white\",\"linecolor\":\"white\",\"showbackground\":true,\"ticks\":\"\",\"zerolinecolor\":\"white\",\"gridwidth\":2},\"zaxis\":{\"backgroundcolor\":\"#E5ECF6\",\"gridcolor\":\"white\",\"linecolor\":\"white\",\"showbackground\":true,\"ticks\":\"\",\"zerolinecolor\":\"white\",\"gridwidth\":2}},\"shapedefaults\":{\"line\":{\"color\":\"#2a3f5f\"}},\"annotationdefaults\":{\"arrowcolor\":\"#2a3f5f\",\"arrowhead\":0,\"arrowwidth\":1},\"geo\":{\"bgcolor\":\"white\",\"landcolor\":\"#E5ECF6\",\"subunitcolor\":\"white\",\"showland\":true,\"showlakes\":true,\"lakecolor\":\"white\"},\"title\":{\"x\":0.05},\"mapbox\":{\"style\":\"light\"}}},\"xaxis\":{\"anchor\":\"y\",\"domain\":[0.0,1.0]},\"yaxis\":{\"anchor\":\"x\",\"domain\":[0.0,1.0],\"title\":{\"text\":\"speechiness\"}},\"legend\":{\"tracegroupgap\":0},\"title\":{\"text\":\"Speechiness Distribution\"},\"boxmode\":\"group\"},                        {\"responsive\": true}                    ).then(function(){\n",
       "                            \n",
       "var gd = document.getElementById('370bc6db-b6c5-4266-b143-8d8a53546589');\n",
       "var x = new MutationObserver(function (mutations, observer) {{\n",
       "        var display = window.getComputedStyle(gd).display;\n",
       "        if (!display || display === 'none') {{\n",
       "            console.log([gd, 'removed!']);\n",
       "            Plotly.purge(gd);\n",
       "            observer.disconnect();\n",
       "        }}\n",
       "}});\n",
       "\n",
       "// Listen for the removal of the full notebook cells\n",
       "var notebookContainer = gd.closest('#notebook-container');\n",
       "if (notebookContainer) {{\n",
       "    x.observe(notebookContainer, {childList: true});\n",
       "}}\n",
       "\n",
       "// Listen for the clearing of the current output cell\n",
       "var outputEl = gd.closest('.output');\n",
       "if (outputEl) {{\n",
       "    x.observe(outputEl, {childList: true});\n",
       "}}\n",
       "\n",
       "                        })                };                });            </script>        </div>"
      ]
     },
     "metadata": {},
     "output_type": "display_data"
    }
   ],
   "source": [
    "fig = px.box(features_df, y=\"speechiness\", points=\"all\", title=\"Speechiness Distribution\")\n",
    "fig.show()"
   ]
  },
  {
   "cell_type": "code",
   "execution_count": 15,
   "metadata": {
    "colab": {
     "base_uri": "https://localhost:8080/",
     "height": 542
    },
    "id": "jY0Nwqi23kzP",
    "outputId": "820dd3f0-4505-4f4f-a2e3-dc3073be7406"
   },
   "outputs": [
    {
     "data": {
      "application/vnd.plotly.v1+json": {
       "config": {
        "plotlyServerURL": "https://plot.ly"
       },
       "data": [
        {
         "hovertemplate": "duration=%{x}<br>Streams (Billions)=%{y}<extra></extra>",
         "legendgroup": "",
         "marker": {
          "color": "#636efa",
          "symbol": "circle"
         },
         "mode": "markers",
         "name": "",
         "orientation": "v",
         "showlegend": false,
         "type": "scatter",
         "x": [
          3.33,
          3.9,
          3.49,
          3.04,
          3.64,
          2.63,
          2.9,
          4.08,
          4.01,
          3.41,
          3.18,
          2.96,
          3.98,
          3.52,
          3.84,
          3.23,
          4.69,
          4,
          3.02,
          3.34,
          2.9,
          3.32,
          4.32,
          5.91,
          4.12,
          4.01,
          3.6,
          2.79,
          3.9,
          3.59,
          2.78,
          4.03,
          4.49,
          4.88,
          2.98,
          4.06,
          1.99,
          3.62,
          3.37,
          3.05,
          4.3,
          3.49,
          4.12,
          3.4,
          3.21,
          2.95,
          4.21,
          4.04,
          5.21,
          1.52,
          2.97,
          3.1,
          3.58,
          3.43,
          4.03,
          2.94,
          3.13,
          2.95,
          3.85,
          2.88,
          3.67,
          3.54,
          4.84,
          3.53,
          5.44,
          4.15,
          2.92,
          3.72,
          4.49,
          3.35,
          3.38,
          3.3,
          3.49,
          3.46,
          3.67,
          3.42,
          2.3,
          2.16,
          4.54,
          3.9,
          3.38,
          3.81,
          2.25,
          4.31,
          4.88,
          3.44,
          3.28,
          4.96,
          3.32,
          3.45,
          3.53,
          5.03,
          3.01,
          2.93,
          3.29,
          3.96,
          4.45,
          2.9,
          3.82,
          7.05
         ],
         "xaxis": "x",
         "y": [
          3.449,
          3.398,
          2.77,
          2.68,
          2.62,
          2.575,
          2.556,
          2.481,
          2.432,
          2.41,
          2.365,
          2.361,
          2.32,
          2.269,
          2.258,
          2.223,
          2.177,
          2.177,
          2.17,
          2.158,
          2.14,
          2.126,
          2.099,
          2.069,
          2.061,
          2.041,
          2.035,
          2.012,
          2.003,
          1.99,
          1.987,
          1.984,
          1.973,
          1.926,
          1.924,
          1.911,
          1.905,
          1.861,
          1.86,
          1.847,
          1.843,
          1.825,
          1.824,
          1.819,
          1.817,
          1.812,
          1.811,
          1.802,
          1.794,
          1.778,
          1.763,
          1.76,
          1.755,
          1.747,
          1.734,
          1.728,
          1.725,
          1.723,
          1.71,
          1.709,
          1.703,
          1.699,
          1.692,
          1.691,
          1.68,
          1.68,
          1.679,
          1.677,
          1.673,
          1.673,
          1.666,
          1.666,
          1.664,
          1.652,
          1.647,
          1.647,
          1.642,
          1.628,
          1.627,
          1.616,
          1.606,
          1.601,
          1.6,
          1.593,
          1.592,
          1.587,
          1.586,
          1.579,
          1.579,
          1.559,
          1.555,
          1.553,
          1.54,
          1.533,
          1.53,
          1.529,
          1.527,
          1.524,
          1.522,
          1.521
         ],
         "yaxis": "y"
        },
        {
         "hovertemplate": "<b>OLS trendline</b><br>Streams (Billions) = -0.0371446 * duration + 2.03103<br>R<sup>2</sup>=0.006535<br><br>duration=%{x}<br>Streams (Billions)=%{y} <b>(trend)</b><extra></extra>",
         "legendgroup": "",
         "marker": {
          "color": "#636efa",
          "symbol": "circle"
         },
         "mode": "lines",
         "name": "",
         "showlegend": false,
         "type": "scatter",
         "x": [
          1.52,
          1.99,
          2.16,
          2.25,
          2.3,
          2.63,
          2.78,
          2.79,
          2.88,
          2.9,
          2.9,
          2.9,
          2.92,
          2.93,
          2.94,
          2.95,
          2.95,
          2.96,
          2.97,
          2.98,
          3.01,
          3.02,
          3.04,
          3.05,
          3.1,
          3.13,
          3.18,
          3.21,
          3.23,
          3.28,
          3.29,
          3.3,
          3.32,
          3.32,
          3.33,
          3.34,
          3.35,
          3.37,
          3.38,
          3.38,
          3.4,
          3.41,
          3.42,
          3.43,
          3.44,
          3.45,
          3.46,
          3.49,
          3.49,
          3.49,
          3.52,
          3.53,
          3.53,
          3.54,
          3.58,
          3.59,
          3.6,
          3.62,
          3.64,
          3.67,
          3.67,
          3.72,
          3.81,
          3.82,
          3.84,
          3.85,
          3.9,
          3.9,
          3.9,
          3.96,
          3.98,
          4,
          4.01,
          4.01,
          4.03,
          4.03,
          4.04,
          4.06,
          4.08,
          4.12,
          4.12,
          4.15,
          4.21,
          4.3,
          4.31,
          4.32,
          4.45,
          4.49,
          4.49,
          4.54,
          4.69,
          4.84,
          4.88,
          4.88,
          4.96,
          5.03,
          5.21,
          5.44,
          5.91,
          7.05
         ],
         "xaxis": "x",
         "y": [
          1.9745719621702766,
          1.9571140024387823,
          1.9507994212593056,
          1.9474564076937004,
          1.9455991779350308,
          1.9333414615278113,
          1.9277697722518026,
          1.9273983263000687,
          1.9240553127344633,
          1.9233124208309955,
          1.9233124208309955,
          1.9233124208309955,
          1.9225695289275277,
          1.9221980829757936,
          1.9218266370240598,
          1.9214551910723259,
          1.9214551910723259,
          1.921083745120592,
          1.920712299168858,
          1.9203408532171242,
          1.9192265153619223,
          1.9188550694101885,
          1.9181121775067207,
          1.9177407315549866,
          1.9158835017963172,
          1.9147691639411153,
          1.9129119341824457,
          1.911797596327244,
          1.9110547044237762,
          1.9091974746651066,
          1.9088260287133725,
          1.9084545827616386,
          1.9077116908581708,
          1.9077116908581708,
          1.907340244906437,
          1.906968798954703,
          1.9065973530029692,
          1.9058544610995012,
          1.9054830151477673,
          1.9054830151477673,
          1.9047401232442995,
          1.9043686772925654,
          1.9039972313408315,
          1.9036257853890977,
          1.9032543394373638,
          1.90288289348563,
          1.902511447533896,
          1.9013971096786941,
          1.9013971096786941,
          1.9013971096786941,
          1.9002827718234925,
          1.8999113258717586,
          1.8999113258717586,
          1.8995398799200245,
          1.898054096113089,
          1.897682650161355,
          1.897311204209621,
          1.8965683123061532,
          1.8958254204026854,
          1.8947110825474835,
          1.8947110825474835,
          1.892853852788814,
          1.8895108392232087,
          1.8891393932714748,
          1.8883965013680069,
          1.888025055416273,
          1.8861678256576033,
          1.8861678256576033,
          1.8861678256576033,
          1.8839391499471998,
          1.883196258043732,
          1.8824533661402643,
          1.8820819201885304,
          1.8820819201885304,
          1.8813390282850624,
          1.8813390282850624,
          1.8809675823333285,
          1.8802246904298607,
          1.8794817985263927,
          1.8779960147194572,
          1.8779960147194572,
          1.8768816768642553,
          1.8746530011538518,
          1.8713099875882466,
          1.8709385416365127,
          1.8705670956847786,
          1.8657382983122377,
          1.8642525145053022,
          1.8642525145053022,
          1.8623952847466325,
          1.8568235954706236,
          1.8512519061946149,
          1.8497661223876791,
          1.8497661223876791,
          1.8467945547738078,
          1.8441944331116704,
          1.8375084059804598,
          1.8289651490905796,
          1.8115071893590853,
          1.7691623508614183
         ],
         "yaxis": "y"
        }
       ],
       "layout": {
        "legend": {
         "tracegroupgap": 0
        },
        "template": {
         "data": {
          "bar": [
           {
            "error_x": {
             "color": "#2a3f5f"
            },
            "error_y": {
             "color": "#2a3f5f"
            },
            "marker": {
             "line": {
              "color": "#E5ECF6",
              "width": 0.5
             },
             "pattern": {
              "fillmode": "overlay",
              "size": 10,
              "solidity": 0.2
             }
            },
            "type": "bar"
           }
          ],
          "barpolar": [
           {
            "marker": {
             "line": {
              "color": "#E5ECF6",
              "width": 0.5
             },
             "pattern": {
              "fillmode": "overlay",
              "size": 10,
              "solidity": 0.2
             }
            },
            "type": "barpolar"
           }
          ],
          "carpet": [
           {
            "aaxis": {
             "endlinecolor": "#2a3f5f",
             "gridcolor": "white",
             "linecolor": "white",
             "minorgridcolor": "white",
             "startlinecolor": "#2a3f5f"
            },
            "baxis": {
             "endlinecolor": "#2a3f5f",
             "gridcolor": "white",
             "linecolor": "white",
             "minorgridcolor": "white",
             "startlinecolor": "#2a3f5f"
            },
            "type": "carpet"
           }
          ],
          "choropleth": [
           {
            "colorbar": {
             "outlinewidth": 0,
             "ticks": ""
            },
            "type": "choropleth"
           }
          ],
          "contour": [
           {
            "colorbar": {
             "outlinewidth": 0,
             "ticks": ""
            },
            "colorscale": [
             [
              0,
              "#0d0887"
             ],
             [
              0.1111111111111111,
              "#46039f"
             ],
             [
              0.2222222222222222,
              "#7201a8"
             ],
             [
              0.3333333333333333,
              "#9c179e"
             ],
             [
              0.4444444444444444,
              "#bd3786"
             ],
             [
              0.5555555555555556,
              "#d8576b"
             ],
             [
              0.6666666666666666,
              "#ed7953"
             ],
             [
              0.7777777777777778,
              "#fb9f3a"
             ],
             [
              0.8888888888888888,
              "#fdca26"
             ],
             [
              1,
              "#f0f921"
             ]
            ],
            "type": "contour"
           }
          ],
          "contourcarpet": [
           {
            "colorbar": {
             "outlinewidth": 0,
             "ticks": ""
            },
            "type": "contourcarpet"
           }
          ],
          "heatmap": [
           {
            "colorbar": {
             "outlinewidth": 0,
             "ticks": ""
            },
            "colorscale": [
             [
              0,
              "#0d0887"
             ],
             [
              0.1111111111111111,
              "#46039f"
             ],
             [
              0.2222222222222222,
              "#7201a8"
             ],
             [
              0.3333333333333333,
              "#9c179e"
             ],
             [
              0.4444444444444444,
              "#bd3786"
             ],
             [
              0.5555555555555556,
              "#d8576b"
             ],
             [
              0.6666666666666666,
              "#ed7953"
             ],
             [
              0.7777777777777778,
              "#fb9f3a"
             ],
             [
              0.8888888888888888,
              "#fdca26"
             ],
             [
              1,
              "#f0f921"
             ]
            ],
            "type": "heatmap"
           }
          ],
          "heatmapgl": [
           {
            "colorbar": {
             "outlinewidth": 0,
             "ticks": ""
            },
            "colorscale": [
             [
              0,
              "#0d0887"
             ],
             [
              0.1111111111111111,
              "#46039f"
             ],
             [
              0.2222222222222222,
              "#7201a8"
             ],
             [
              0.3333333333333333,
              "#9c179e"
             ],
             [
              0.4444444444444444,
              "#bd3786"
             ],
             [
              0.5555555555555556,
              "#d8576b"
             ],
             [
              0.6666666666666666,
              "#ed7953"
             ],
             [
              0.7777777777777778,
              "#fb9f3a"
             ],
             [
              0.8888888888888888,
              "#fdca26"
             ],
             [
              1,
              "#f0f921"
             ]
            ],
            "type": "heatmapgl"
           }
          ],
          "histogram": [
           {
            "marker": {
             "pattern": {
              "fillmode": "overlay",
              "size": 10,
              "solidity": 0.2
             }
            },
            "type": "histogram"
           }
          ],
          "histogram2d": [
           {
            "colorbar": {
             "outlinewidth": 0,
             "ticks": ""
            },
            "colorscale": [
             [
              0,
              "#0d0887"
             ],
             [
              0.1111111111111111,
              "#46039f"
             ],
             [
              0.2222222222222222,
              "#7201a8"
             ],
             [
              0.3333333333333333,
              "#9c179e"
             ],
             [
              0.4444444444444444,
              "#bd3786"
             ],
             [
              0.5555555555555556,
              "#d8576b"
             ],
             [
              0.6666666666666666,
              "#ed7953"
             ],
             [
              0.7777777777777778,
              "#fb9f3a"
             ],
             [
              0.8888888888888888,
              "#fdca26"
             ],
             [
              1,
              "#f0f921"
             ]
            ],
            "type": "histogram2d"
           }
          ],
          "histogram2dcontour": [
           {
            "colorbar": {
             "outlinewidth": 0,
             "ticks": ""
            },
            "colorscale": [
             [
              0,
              "#0d0887"
             ],
             [
              0.1111111111111111,
              "#46039f"
             ],
             [
              0.2222222222222222,
              "#7201a8"
             ],
             [
              0.3333333333333333,
              "#9c179e"
             ],
             [
              0.4444444444444444,
              "#bd3786"
             ],
             [
              0.5555555555555556,
              "#d8576b"
             ],
             [
              0.6666666666666666,
              "#ed7953"
             ],
             [
              0.7777777777777778,
              "#fb9f3a"
             ],
             [
              0.8888888888888888,
              "#fdca26"
             ],
             [
              1,
              "#f0f921"
             ]
            ],
            "type": "histogram2dcontour"
           }
          ],
          "mesh3d": [
           {
            "colorbar": {
             "outlinewidth": 0,
             "ticks": ""
            },
            "type": "mesh3d"
           }
          ],
          "parcoords": [
           {
            "line": {
             "colorbar": {
              "outlinewidth": 0,
              "ticks": ""
             }
            },
            "type": "parcoords"
           }
          ],
          "pie": [
           {
            "automargin": true,
            "type": "pie"
           }
          ],
          "scatter": [
           {
            "fillpattern": {
             "fillmode": "overlay",
             "size": 10,
             "solidity": 0.2
            },
            "type": "scatter"
           }
          ],
          "scatter3d": [
           {
            "line": {
             "colorbar": {
              "outlinewidth": 0,
              "ticks": ""
             }
            },
            "marker": {
             "colorbar": {
              "outlinewidth": 0,
              "ticks": ""
             }
            },
            "type": "scatter3d"
           }
          ],
          "scattercarpet": [
           {
            "marker": {
             "colorbar": {
              "outlinewidth": 0,
              "ticks": ""
             }
            },
            "type": "scattercarpet"
           }
          ],
          "scattergeo": [
           {
            "marker": {
             "colorbar": {
              "outlinewidth": 0,
              "ticks": ""
             }
            },
            "type": "scattergeo"
           }
          ],
          "scattergl": [
           {
            "marker": {
             "colorbar": {
              "outlinewidth": 0,
              "ticks": ""
             }
            },
            "type": "scattergl"
           }
          ],
          "scattermapbox": [
           {
            "marker": {
             "colorbar": {
              "outlinewidth": 0,
              "ticks": ""
             }
            },
            "type": "scattermapbox"
           }
          ],
          "scatterpolar": [
           {
            "marker": {
             "colorbar": {
              "outlinewidth": 0,
              "ticks": ""
             }
            },
            "type": "scatterpolar"
           }
          ],
          "scatterpolargl": [
           {
            "marker": {
             "colorbar": {
              "outlinewidth": 0,
              "ticks": ""
             }
            },
            "type": "scatterpolargl"
           }
          ],
          "scatterternary": [
           {
            "marker": {
             "colorbar": {
              "outlinewidth": 0,
              "ticks": ""
             }
            },
            "type": "scatterternary"
           }
          ],
          "surface": [
           {
            "colorbar": {
             "outlinewidth": 0,
             "ticks": ""
            },
            "colorscale": [
             [
              0,
              "#0d0887"
             ],
             [
              0.1111111111111111,
              "#46039f"
             ],
             [
              0.2222222222222222,
              "#7201a8"
             ],
             [
              0.3333333333333333,
              "#9c179e"
             ],
             [
              0.4444444444444444,
              "#bd3786"
             ],
             [
              0.5555555555555556,
              "#d8576b"
             ],
             [
              0.6666666666666666,
              "#ed7953"
             ],
             [
              0.7777777777777778,
              "#fb9f3a"
             ],
             [
              0.8888888888888888,
              "#fdca26"
             ],
             [
              1,
              "#f0f921"
             ]
            ],
            "type": "surface"
           }
          ],
          "table": [
           {
            "cells": {
             "fill": {
              "color": "#EBF0F8"
             },
             "line": {
              "color": "white"
             }
            },
            "header": {
             "fill": {
              "color": "#C8D4E3"
             },
             "line": {
              "color": "white"
             }
            },
            "type": "table"
           }
          ]
         },
         "layout": {
          "annotationdefaults": {
           "arrowcolor": "#2a3f5f",
           "arrowhead": 0,
           "arrowwidth": 1
          },
          "autotypenumbers": "strict",
          "coloraxis": {
           "colorbar": {
            "outlinewidth": 0,
            "ticks": ""
           }
          },
          "colorscale": {
           "diverging": [
            [
             0,
             "#8e0152"
            ],
            [
             0.1,
             "#c51b7d"
            ],
            [
             0.2,
             "#de77ae"
            ],
            [
             0.3,
             "#f1b6da"
            ],
            [
             0.4,
             "#fde0ef"
            ],
            [
             0.5,
             "#f7f7f7"
            ],
            [
             0.6,
             "#e6f5d0"
            ],
            [
             0.7,
             "#b8e186"
            ],
            [
             0.8,
             "#7fbc41"
            ],
            [
             0.9,
             "#4d9221"
            ],
            [
             1,
             "#276419"
            ]
           ],
           "sequential": [
            [
             0,
             "#0d0887"
            ],
            [
             0.1111111111111111,
             "#46039f"
            ],
            [
             0.2222222222222222,
             "#7201a8"
            ],
            [
             0.3333333333333333,
             "#9c179e"
            ],
            [
             0.4444444444444444,
             "#bd3786"
            ],
            [
             0.5555555555555556,
             "#d8576b"
            ],
            [
             0.6666666666666666,
             "#ed7953"
            ],
            [
             0.7777777777777778,
             "#fb9f3a"
            ],
            [
             0.8888888888888888,
             "#fdca26"
            ],
            [
             1,
             "#f0f921"
            ]
           ],
           "sequentialminus": [
            [
             0,
             "#0d0887"
            ],
            [
             0.1111111111111111,
             "#46039f"
            ],
            [
             0.2222222222222222,
             "#7201a8"
            ],
            [
             0.3333333333333333,
             "#9c179e"
            ],
            [
             0.4444444444444444,
             "#bd3786"
            ],
            [
             0.5555555555555556,
             "#d8576b"
            ],
            [
             0.6666666666666666,
             "#ed7953"
            ],
            [
             0.7777777777777778,
             "#fb9f3a"
            ],
            [
             0.8888888888888888,
             "#fdca26"
            ],
            [
             1,
             "#f0f921"
            ]
           ]
          },
          "colorway": [
           "#636efa",
           "#EF553B",
           "#00cc96",
           "#ab63fa",
           "#FFA15A",
           "#19d3f3",
           "#FF6692",
           "#B6E880",
           "#FF97FF",
           "#FECB52"
          ],
          "font": {
           "color": "#2a3f5f"
          },
          "geo": {
           "bgcolor": "white",
           "lakecolor": "white",
           "landcolor": "#E5ECF6",
           "showlakes": true,
           "showland": true,
           "subunitcolor": "white"
          },
          "hoverlabel": {
           "align": "left"
          },
          "hovermode": "closest",
          "mapbox": {
           "style": "light"
          },
          "paper_bgcolor": "white",
          "plot_bgcolor": "#E5ECF6",
          "polar": {
           "angularaxis": {
            "gridcolor": "white",
            "linecolor": "white",
            "ticks": ""
           },
           "bgcolor": "#E5ECF6",
           "radialaxis": {
            "gridcolor": "white",
            "linecolor": "white",
            "ticks": ""
           }
          },
          "scene": {
           "xaxis": {
            "backgroundcolor": "#E5ECF6",
            "gridcolor": "white",
            "gridwidth": 2,
            "linecolor": "white",
            "showbackground": true,
            "ticks": "",
            "zerolinecolor": "white"
           },
           "yaxis": {
            "backgroundcolor": "#E5ECF6",
            "gridcolor": "white",
            "gridwidth": 2,
            "linecolor": "white",
            "showbackground": true,
            "ticks": "",
            "zerolinecolor": "white"
           },
           "zaxis": {
            "backgroundcolor": "#E5ECF6",
            "gridcolor": "white",
            "gridwidth": 2,
            "linecolor": "white",
            "showbackground": true,
            "ticks": "",
            "zerolinecolor": "white"
           }
          },
          "shapedefaults": {
           "line": {
            "color": "#2a3f5f"
           }
          },
          "ternary": {
           "aaxis": {
            "gridcolor": "white",
            "linecolor": "white",
            "ticks": ""
           },
           "baxis": {
            "gridcolor": "white",
            "linecolor": "white",
            "ticks": ""
           },
           "bgcolor": "#E5ECF6",
           "caxis": {
            "gridcolor": "white",
            "linecolor": "white",
            "ticks": ""
           }
          },
          "title": {
           "x": 0.05
          },
          "xaxis": {
           "automargin": true,
           "gridcolor": "white",
           "linecolor": "white",
           "ticks": "",
           "title": {
            "standoff": 15
           },
           "zerolinecolor": "white",
           "zerolinewidth": 2
          },
          "yaxis": {
           "automargin": true,
           "gridcolor": "white",
           "linecolor": "white",
           "ticks": "",
           "title": {
            "standoff": 15
           },
           "zerolinecolor": "white",
           "zerolinewidth": 2
          }
         }
        },
        "title": {
         "text": "Duration vs Streams"
        },
        "xaxis": {
         "anchor": "y",
         "domain": [
          0,
          1
         ],
         "title": {
          "text": "duration"
         }
        },
        "yaxis": {
         "anchor": "x",
         "domain": [
          0,
          1
         ],
         "title": {
          "text": "Streams (Billions)"
         }
        }
       }
      },
      "text/html": [
       "<div>                            <div id=\"3f63510d-e233-4364-ac64-e565548323c5\" class=\"plotly-graph-div\" style=\"height:525px; width:100%;\"></div>            <script type=\"text/javascript\">                require([\"plotly\"], function(Plotly) {                    window.PLOTLYENV=window.PLOTLYENV || {};                                    if (document.getElementById(\"3f63510d-e233-4364-ac64-e565548323c5\")) {                    Plotly.newPlot(                        \"3f63510d-e233-4364-ac64-e565548323c5\",                        [{\"hovertemplate\":\"duration=%{x}<br>Streams (Billions)=%{y}<extra></extra>\",\"legendgroup\":\"\",\"marker\":{\"color\":\"#636efa\",\"symbol\":\"circle\"},\"mode\":\"markers\",\"name\":\"\",\"orientation\":\"v\",\"showlegend\":false,\"x\":[3.33,3.9,3.49,3.04,3.64,2.63,2.9,4.08,4.01,3.41,3.18,2.96,3.98,3.52,3.84,3.23,4.69,4.0,3.02,3.34,2.9,3.32,4.32,5.91,4.12,4.01,3.6,2.79,3.9,3.59,2.78,4.03,4.49,4.88,2.98,4.06,1.99,3.62,3.37,3.05,4.3,3.49,4.12,3.4,3.21,2.95,4.21,4.04,5.21,1.52,2.97,3.1,3.58,3.43,4.03,2.94,3.13,2.95,3.85,2.88,3.67,3.54,4.84,3.53,5.44,4.15,2.92,3.72,4.49,3.35,3.38,3.3,3.49,3.46,3.67,3.42,2.3,2.16,4.54,3.9,3.38,3.81,2.25,4.31,4.88,3.44,3.28,4.96,3.32,3.45,3.53,5.03,3.01,2.93,3.29,3.96,4.45,2.9,3.82,7.05],\"xaxis\":\"x\",\"y\":[3.449,3.398,2.77,2.68,2.62,2.575,2.556,2.481,2.432,2.41,2.365,2.361,2.32,2.269,2.258,2.223,2.177,2.177,2.17,2.158,2.14,2.126,2.099,2.069,2.061,2.041,2.035,2.012,2.003,1.99,1.987,1.984,1.973,1.926,1.924,1.911,1.905,1.861,1.86,1.847,1.843,1.825,1.824,1.819,1.817,1.812,1.811,1.802,1.794,1.778,1.763,1.76,1.755,1.747,1.734,1.728,1.725,1.723,1.71,1.709,1.703,1.699,1.692,1.691,1.68,1.68,1.679,1.677,1.673,1.673,1.666,1.666,1.664,1.652,1.647,1.647,1.642,1.628,1.627,1.616,1.606,1.601,1.6,1.593,1.592,1.587,1.586,1.579,1.579,1.559,1.555,1.553,1.54,1.533,1.53,1.529,1.527,1.524,1.522,1.521],\"yaxis\":\"y\",\"type\":\"scatter\"},{\"hovertemplate\":\"<b>OLS trendline</b><br>Streams (Billions) = -0.0371446 * duration + 2.03103<br>R<sup>2</sup>=0.006535<br><br>duration=%{x}<br>Streams (Billions)=%{y} <b>(trend)</b><extra></extra>\",\"legendgroup\":\"\",\"marker\":{\"color\":\"#636efa\",\"symbol\":\"circle\"},\"mode\":\"lines\",\"name\":\"\",\"showlegend\":false,\"x\":[1.52,1.99,2.16,2.25,2.3,2.63,2.78,2.79,2.88,2.9,2.9,2.9,2.92,2.93,2.94,2.95,2.95,2.96,2.97,2.98,3.01,3.02,3.04,3.05,3.1,3.13,3.18,3.21,3.23,3.28,3.29,3.3,3.32,3.32,3.33,3.34,3.35,3.37,3.38,3.38,3.4,3.41,3.42,3.43,3.44,3.45,3.46,3.49,3.49,3.49,3.52,3.53,3.53,3.54,3.58,3.59,3.6,3.62,3.64,3.67,3.67,3.72,3.81,3.82,3.84,3.85,3.9,3.9,3.9,3.96,3.98,4.0,4.01,4.01,4.03,4.03,4.04,4.06,4.08,4.12,4.12,4.15,4.21,4.3,4.31,4.32,4.45,4.49,4.49,4.54,4.69,4.84,4.88,4.88,4.96,5.03,5.21,5.44,5.91,7.05],\"xaxis\":\"x\",\"y\":[1.9745719621702766,1.9571140024387823,1.9507994212593056,1.9474564076937004,1.9455991779350308,1.9333414615278113,1.9277697722518026,1.9273983263000687,1.9240553127344633,1.9233124208309955,1.9233124208309955,1.9233124208309955,1.9225695289275277,1.9221980829757936,1.9218266370240598,1.9214551910723259,1.9214551910723259,1.921083745120592,1.920712299168858,1.9203408532171242,1.9192265153619223,1.9188550694101885,1.9181121775067207,1.9177407315549866,1.9158835017963172,1.9147691639411153,1.9129119341824457,1.911797596327244,1.9110547044237762,1.9091974746651066,1.9088260287133725,1.9084545827616386,1.9077116908581708,1.9077116908581708,1.907340244906437,1.906968798954703,1.9065973530029692,1.9058544610995012,1.9054830151477673,1.9054830151477673,1.9047401232442995,1.9043686772925654,1.9039972313408315,1.9036257853890977,1.9032543394373638,1.90288289348563,1.902511447533896,1.9013971096786941,1.9013971096786941,1.9013971096786941,1.9002827718234925,1.8999113258717586,1.8999113258717586,1.8995398799200245,1.898054096113089,1.897682650161355,1.897311204209621,1.8965683123061532,1.8958254204026854,1.8947110825474835,1.8947110825474835,1.892853852788814,1.8895108392232087,1.8891393932714748,1.8883965013680069,1.888025055416273,1.8861678256576033,1.8861678256576033,1.8861678256576033,1.8839391499471998,1.883196258043732,1.8824533661402643,1.8820819201885304,1.8820819201885304,1.8813390282850624,1.8813390282850624,1.8809675823333285,1.8802246904298607,1.8794817985263927,1.8779960147194572,1.8779960147194572,1.8768816768642553,1.8746530011538518,1.8713099875882466,1.8709385416365127,1.8705670956847786,1.8657382983122377,1.8642525145053022,1.8642525145053022,1.8623952847466325,1.8568235954706236,1.8512519061946149,1.8497661223876791,1.8497661223876791,1.8467945547738078,1.8441944331116704,1.8375084059804598,1.8289651490905796,1.8115071893590853,1.7691623508614183],\"yaxis\":\"y\",\"type\":\"scatter\"}],                        {\"template\":{\"data\":{\"histogram2dcontour\":[{\"type\":\"histogram2dcontour\",\"colorbar\":{\"outlinewidth\":0,\"ticks\":\"\"},\"colorscale\":[[0.0,\"#0d0887\"],[0.1111111111111111,\"#46039f\"],[0.2222222222222222,\"#7201a8\"],[0.3333333333333333,\"#9c179e\"],[0.4444444444444444,\"#bd3786\"],[0.5555555555555556,\"#d8576b\"],[0.6666666666666666,\"#ed7953\"],[0.7777777777777778,\"#fb9f3a\"],[0.8888888888888888,\"#fdca26\"],[1.0,\"#f0f921\"]]}],\"choropleth\":[{\"type\":\"choropleth\",\"colorbar\":{\"outlinewidth\":0,\"ticks\":\"\"}}],\"histogram2d\":[{\"type\":\"histogram2d\",\"colorbar\":{\"outlinewidth\":0,\"ticks\":\"\"},\"colorscale\":[[0.0,\"#0d0887\"],[0.1111111111111111,\"#46039f\"],[0.2222222222222222,\"#7201a8\"],[0.3333333333333333,\"#9c179e\"],[0.4444444444444444,\"#bd3786\"],[0.5555555555555556,\"#d8576b\"],[0.6666666666666666,\"#ed7953\"],[0.7777777777777778,\"#fb9f3a\"],[0.8888888888888888,\"#fdca26\"],[1.0,\"#f0f921\"]]}],\"heatmap\":[{\"type\":\"heatmap\",\"colorbar\":{\"outlinewidth\":0,\"ticks\":\"\"},\"colorscale\":[[0.0,\"#0d0887\"],[0.1111111111111111,\"#46039f\"],[0.2222222222222222,\"#7201a8\"],[0.3333333333333333,\"#9c179e\"],[0.4444444444444444,\"#bd3786\"],[0.5555555555555556,\"#d8576b\"],[0.6666666666666666,\"#ed7953\"],[0.7777777777777778,\"#fb9f3a\"],[0.8888888888888888,\"#fdca26\"],[1.0,\"#f0f921\"]]}],\"heatmapgl\":[{\"type\":\"heatmapgl\",\"colorbar\":{\"outlinewidth\":0,\"ticks\":\"\"},\"colorscale\":[[0.0,\"#0d0887\"],[0.1111111111111111,\"#46039f\"],[0.2222222222222222,\"#7201a8\"],[0.3333333333333333,\"#9c179e\"],[0.4444444444444444,\"#bd3786\"],[0.5555555555555556,\"#d8576b\"],[0.6666666666666666,\"#ed7953\"],[0.7777777777777778,\"#fb9f3a\"],[0.8888888888888888,\"#fdca26\"],[1.0,\"#f0f921\"]]}],\"contourcarpet\":[{\"type\":\"contourcarpet\",\"colorbar\":{\"outlinewidth\":0,\"ticks\":\"\"}}],\"contour\":[{\"type\":\"contour\",\"colorbar\":{\"outlinewidth\":0,\"ticks\":\"\"},\"colorscale\":[[0.0,\"#0d0887\"],[0.1111111111111111,\"#46039f\"],[0.2222222222222222,\"#7201a8\"],[0.3333333333333333,\"#9c179e\"],[0.4444444444444444,\"#bd3786\"],[0.5555555555555556,\"#d8576b\"],[0.6666666666666666,\"#ed7953\"],[0.7777777777777778,\"#fb9f3a\"],[0.8888888888888888,\"#fdca26\"],[1.0,\"#f0f921\"]]}],\"surface\":[{\"type\":\"surface\",\"colorbar\":{\"outlinewidth\":0,\"ticks\":\"\"},\"colorscale\":[[0.0,\"#0d0887\"],[0.1111111111111111,\"#46039f\"],[0.2222222222222222,\"#7201a8\"],[0.3333333333333333,\"#9c179e\"],[0.4444444444444444,\"#bd3786\"],[0.5555555555555556,\"#d8576b\"],[0.6666666666666666,\"#ed7953\"],[0.7777777777777778,\"#fb9f3a\"],[0.8888888888888888,\"#fdca26\"],[1.0,\"#f0f921\"]]}],\"mesh3d\":[{\"type\":\"mesh3d\",\"colorbar\":{\"outlinewidth\":0,\"ticks\":\"\"}}],\"scatter\":[{\"fillpattern\":{\"fillmode\":\"overlay\",\"size\":10,\"solidity\":0.2},\"type\":\"scatter\"}],\"parcoords\":[{\"type\":\"parcoords\",\"line\":{\"colorbar\":{\"outlinewidth\":0,\"ticks\":\"\"}}}],\"scatterpolargl\":[{\"type\":\"scatterpolargl\",\"marker\":{\"colorbar\":{\"outlinewidth\":0,\"ticks\":\"\"}}}],\"bar\":[{\"error_x\":{\"color\":\"#2a3f5f\"},\"error_y\":{\"color\":\"#2a3f5f\"},\"marker\":{\"line\":{\"color\":\"#E5ECF6\",\"width\":0.5},\"pattern\":{\"fillmode\":\"overlay\",\"size\":10,\"solidity\":0.2}},\"type\":\"bar\"}],\"scattergeo\":[{\"type\":\"scattergeo\",\"marker\":{\"colorbar\":{\"outlinewidth\":0,\"ticks\":\"\"}}}],\"scatterpolar\":[{\"type\":\"scatterpolar\",\"marker\":{\"colorbar\":{\"outlinewidth\":0,\"ticks\":\"\"}}}],\"histogram\":[{\"marker\":{\"pattern\":{\"fillmode\":\"overlay\",\"size\":10,\"solidity\":0.2}},\"type\":\"histogram\"}],\"scattergl\":[{\"type\":\"scattergl\",\"marker\":{\"colorbar\":{\"outlinewidth\":0,\"ticks\":\"\"}}}],\"scatter3d\":[{\"type\":\"scatter3d\",\"line\":{\"colorbar\":{\"outlinewidth\":0,\"ticks\":\"\"}},\"marker\":{\"colorbar\":{\"outlinewidth\":0,\"ticks\":\"\"}}}],\"scattermapbox\":[{\"type\":\"scattermapbox\",\"marker\":{\"colorbar\":{\"outlinewidth\":0,\"ticks\":\"\"}}}],\"scatterternary\":[{\"type\":\"scatterternary\",\"marker\":{\"colorbar\":{\"outlinewidth\":0,\"ticks\":\"\"}}}],\"scattercarpet\":[{\"type\":\"scattercarpet\",\"marker\":{\"colorbar\":{\"outlinewidth\":0,\"ticks\":\"\"}}}],\"carpet\":[{\"aaxis\":{\"endlinecolor\":\"#2a3f5f\",\"gridcolor\":\"white\",\"linecolor\":\"white\",\"minorgridcolor\":\"white\",\"startlinecolor\":\"#2a3f5f\"},\"baxis\":{\"endlinecolor\":\"#2a3f5f\",\"gridcolor\":\"white\",\"linecolor\":\"white\",\"minorgridcolor\":\"white\",\"startlinecolor\":\"#2a3f5f\"},\"type\":\"carpet\"}],\"table\":[{\"cells\":{\"fill\":{\"color\":\"#EBF0F8\"},\"line\":{\"color\":\"white\"}},\"header\":{\"fill\":{\"color\":\"#C8D4E3\"},\"line\":{\"color\":\"white\"}},\"type\":\"table\"}],\"barpolar\":[{\"marker\":{\"line\":{\"color\":\"#E5ECF6\",\"width\":0.5},\"pattern\":{\"fillmode\":\"overlay\",\"size\":10,\"solidity\":0.2}},\"type\":\"barpolar\"}],\"pie\":[{\"automargin\":true,\"type\":\"pie\"}]},\"layout\":{\"autotypenumbers\":\"strict\",\"colorway\":[\"#636efa\",\"#EF553B\",\"#00cc96\",\"#ab63fa\",\"#FFA15A\",\"#19d3f3\",\"#FF6692\",\"#B6E880\",\"#FF97FF\",\"#FECB52\"],\"font\":{\"color\":\"#2a3f5f\"},\"hovermode\":\"closest\",\"hoverlabel\":{\"align\":\"left\"},\"paper_bgcolor\":\"white\",\"plot_bgcolor\":\"#E5ECF6\",\"polar\":{\"bgcolor\":\"#E5ECF6\",\"angularaxis\":{\"gridcolor\":\"white\",\"linecolor\":\"white\",\"ticks\":\"\"},\"radialaxis\":{\"gridcolor\":\"white\",\"linecolor\":\"white\",\"ticks\":\"\"}},\"ternary\":{\"bgcolor\":\"#E5ECF6\",\"aaxis\":{\"gridcolor\":\"white\",\"linecolor\":\"white\",\"ticks\":\"\"},\"baxis\":{\"gridcolor\":\"white\",\"linecolor\":\"white\",\"ticks\":\"\"},\"caxis\":{\"gridcolor\":\"white\",\"linecolor\":\"white\",\"ticks\":\"\"}},\"coloraxis\":{\"colorbar\":{\"outlinewidth\":0,\"ticks\":\"\"}},\"colorscale\":{\"sequential\":[[0.0,\"#0d0887\"],[0.1111111111111111,\"#46039f\"],[0.2222222222222222,\"#7201a8\"],[0.3333333333333333,\"#9c179e\"],[0.4444444444444444,\"#bd3786\"],[0.5555555555555556,\"#d8576b\"],[0.6666666666666666,\"#ed7953\"],[0.7777777777777778,\"#fb9f3a\"],[0.8888888888888888,\"#fdca26\"],[1.0,\"#f0f921\"]],\"sequentialminus\":[[0.0,\"#0d0887\"],[0.1111111111111111,\"#46039f\"],[0.2222222222222222,\"#7201a8\"],[0.3333333333333333,\"#9c179e\"],[0.4444444444444444,\"#bd3786\"],[0.5555555555555556,\"#d8576b\"],[0.6666666666666666,\"#ed7953\"],[0.7777777777777778,\"#fb9f3a\"],[0.8888888888888888,\"#fdca26\"],[1.0,\"#f0f921\"]],\"diverging\":[[0,\"#8e0152\"],[0.1,\"#c51b7d\"],[0.2,\"#de77ae\"],[0.3,\"#f1b6da\"],[0.4,\"#fde0ef\"],[0.5,\"#f7f7f7\"],[0.6,\"#e6f5d0\"],[0.7,\"#b8e186\"],[0.8,\"#7fbc41\"],[0.9,\"#4d9221\"],[1,\"#276419\"]]},\"xaxis\":{\"gridcolor\":\"white\",\"linecolor\":\"white\",\"ticks\":\"\",\"title\":{\"standoff\":15},\"zerolinecolor\":\"white\",\"automargin\":true,\"zerolinewidth\":2},\"yaxis\":{\"gridcolor\":\"white\",\"linecolor\":\"white\",\"ticks\":\"\",\"title\":{\"standoff\":15},\"zerolinecolor\":\"white\",\"automargin\":true,\"zerolinewidth\":2},\"scene\":{\"xaxis\":{\"backgroundcolor\":\"#E5ECF6\",\"gridcolor\":\"white\",\"linecolor\":\"white\",\"showbackground\":true,\"ticks\":\"\",\"zerolinecolor\":\"white\",\"gridwidth\":2},\"yaxis\":{\"backgroundcolor\":\"#E5ECF6\",\"gridcolor\":\"white\",\"linecolor\":\"white\",\"showbackground\":true,\"ticks\":\"\",\"zerolinecolor\":\"white\",\"gridwidth\":2},\"zaxis\":{\"backgroundcolor\":\"#E5ECF6\",\"gridcolor\":\"white\",\"linecolor\":\"white\",\"showbackground\":true,\"ticks\":\"\",\"zerolinecolor\":\"white\",\"gridwidth\":2}},\"shapedefaults\":{\"line\":{\"color\":\"#2a3f5f\"}},\"annotationdefaults\":{\"arrowcolor\":\"#2a3f5f\",\"arrowhead\":0,\"arrowwidth\":1},\"geo\":{\"bgcolor\":\"white\",\"landcolor\":\"#E5ECF6\",\"subunitcolor\":\"white\",\"showland\":true,\"showlakes\":true,\"lakecolor\":\"white\"},\"title\":{\"x\":0.05},\"mapbox\":{\"style\":\"light\"}}},\"xaxis\":{\"anchor\":\"y\",\"domain\":[0.0,1.0],\"title\":{\"text\":\"duration\"}},\"yaxis\":{\"anchor\":\"x\",\"domain\":[0.0,1.0],\"title\":{\"text\":\"Streams (Billions)\"}},\"legend\":{\"tracegroupgap\":0},\"title\":{\"text\":\"Duration vs Streams\"}},                        {\"responsive\": true}                    ).then(function(){\n",
       "                            \n",
       "var gd = document.getElementById('3f63510d-e233-4364-ac64-e565548323c5');\n",
       "var x = new MutationObserver(function (mutations, observer) {{\n",
       "        var display = window.getComputedStyle(gd).display;\n",
       "        if (!display || display === 'none') {{\n",
       "            console.log([gd, 'removed!']);\n",
       "            Plotly.purge(gd);\n",
       "            observer.disconnect();\n",
       "        }}\n",
       "}});\n",
       "\n",
       "// Listen for the removal of the full notebook cells\n",
       "var notebookContainer = gd.closest('#notebook-container');\n",
       "if (notebookContainer) {{\n",
       "    x.observe(notebookContainer, {childList: true});\n",
       "}}\n",
       "\n",
       "// Listen for the clearing of the current output cell\n",
       "var outputEl = gd.closest('.output');\n",
       "if (outputEl) {{\n",
       "    x.observe(outputEl, {childList: true});\n",
       "}}\n",
       "\n",
       "                        })                };                });            </script>        </div>"
      ]
     },
     "metadata": {},
     "output_type": "display_data"
    }
   ],
   "source": [
    "streams_df.rename(columns = {'Song':'name'}, inplace = True)\n",
    "\n",
    "df = pd.merge(features_df, streams_df, on='name')\n",
    "\n",
    "fig = px.scatter(df, x='duration', y='Streams (Billions)', trendline='ols', title='Duration vs Streams')\n",
    "fig.show()\n"
   ]
  },
  {
   "cell_type": "code",
   "execution_count": 16,
   "metadata": {
    "colab": {
     "base_uri": "https://localhost:8080/",
     "height": 542
    },
    "id": "knp-6vej3mxb",
    "outputId": "c10a6db3-c78b-4710-b986-a8cf6610f805"
   },
   "outputs": [
    {
     "data": {
      "application/vnd.plotly.v1+json": {
       "config": {
        "plotlyServerURL": "https://plot.ly"
       },
       "data": [
        {
         "alignmentgroup": "True",
         "hovertemplate": "Artist=%{x}<br>Streams (Billions)=%{y}<br>mode=%{marker.color}<extra></extra>",
         "legendgroup": "",
         "marker": {
          "color": [
           1,
           0,
           0,
           1,
           0,
           1,
           1,
           1,
           0,
           0,
           0,
           1,
           1,
           1,
           1,
           1,
           1,
           0,
           0,
           0,
           1,
           1,
           1,
           0,
           0,
           1,
           1,
           0,
           1,
           1,
           1,
           0,
           1,
           1,
           0,
           1,
           0,
           1,
           0,
           0,
           0,
           0,
           1,
           1,
           1,
           0,
           1,
           0,
           1,
           1,
           1,
           0,
           0,
           1,
           1,
           0,
           0,
           1,
           1,
           1,
           1,
           1,
           1,
           0,
           1,
           1,
           1,
           1,
           1,
           1,
           0,
           0,
           1,
           1,
           1,
           0,
           0,
           1,
           1,
           1,
           1,
           1,
           0,
           1,
           0,
           1,
           0,
           1,
           0,
           1,
           0,
           1,
           1,
           1,
           1,
           1,
           1,
           1,
           1,
           1
          ],
          "coloraxis": "coloraxis",
          "pattern": {
           "shape": ""
          }
         },
         "name": "",
         "offsetgroup": "",
         "orientation": "v",
         "showlegend": false,
         "textposition": "auto",
         "type": "bar",
         "x": [
          "The Weeknd",
          "Ed Sheeran",
          "Tones And I",
          "Lewis Capaldi",
          "Post Malone featuring 21 Savage",
          "Post Malone and Swae Lee",
          "Drake featuring Wizkid and Kyla",
          "The Chainsmokers featuring Halsey",
          "The Kid Laroi and Justin Bieber",
          "Imagine Dragons",
          "Shawn Mendes and Camila Cabello",
          "Ed Sheeran",
          "Glass Animals",
          "James Arthur",
          "The Weeknd featuring Daft Punk",
          "Billie Eilish",
          "Ed Sheeran",
          "Juice WRLD",
          "Dua Lipa",
          "Billie Eilish and Khalid",
          "Harry Styles",
          "Drake",
          "Ed Sheeran",
          "Queen",
          "The Chainsmokers and Coldplay",
          "The Neighbourhood",
          "Lady Gaga and Bradley Cooper",
          "Harry Styles",
          "Justin Bieber",
          "Post Malone",
          "XXXTentacion",
          "Hozier",
          "John Legend",
          "Imagine Dragons",
          "Ariana Grande",
          "Travis Scott featuring Kendrick Lamar",
          "XXXTentacion",
          "Camila Cabello featuring Young Thug",
          "Twenty One Pilots",
          "Lil Uzi Vert",
          "OneRepublic",
          "Dua Lipa",
          "Avicii",
          "Vance Joy",
          "Marshmello and Bastille",
          "Kendrick Lamar",
          "Passenger",
          "The Weeknd",
          "Travis Scott featuring Drake",
          "Macklemore & Ryan Lewis featuring Ray Dalton",
          "Olivia Rodrigo",
          "Justin Bieber",
          "Calvin Harris and Dua Lipa",
          "DJ Snake featuring Justin Bieber",
          "Olivia Rodrigo",
          "Major Lazer and DJ Snake featuring MØ",
          "Shawn Mendes",
          "Saint Jhn with Imanbek",
          "Post Malone",
          "Sam Smith",
          "Post Malone featuring Quavo",
          "Alan Walker",
          "Halsey",
          "Lil Nas X featuring Jack Harlow",
          "Eminem",
          "Maroon 5",
          "Imagine Dragons",
          "The Killers",
          "Mark Ronson featuring Bruno Mars",
          "Sam Smith",
          "Dua Lipa featuring DaBaby",
          "Mike Posner and Seeb",
          "The Chainsmokers featuring Daya",
          "Ariana Grande",
          "Ed Sheeran and Justin Bieber",
          "Bad Bunny and Jhay Cortez",
          "Lil Nas X",
          "24kGoldn and Iann Dior",
          "Arctic Monkeys",
          "French Montana featuring Swae Lee",
          "BTS",
          "Luis Fonsi and Daddy Yankee featuring Justin Bieber",
          "XXXTentacion",
          "Oasis",
          "J. Cole",
          "Bruno Mars",
          "Roddy Ricch",
          "Eminem featuring Nate Dogg",
          "Shawn Mendes",
          "Shawn Mendes",
          "Sia",
          "Nirvana",
          "Wiz Khalifa featuring Charlie Puth",
          "Jason Mraz",
          "Lauv",
          "Lukas Graham",
          "Coldplay",
          "Maroon 5",
          "Luis Fonsi featuring Daddy Yankee",
          "Queen"
         ],
         "xaxis": "x",
         "y": [
          3.449,
          3.398,
          2.77,
          2.68,
          2.62,
          2.575,
          2.556,
          2.481,
          2.432,
          2.41,
          2.365,
          2.361,
          2.32,
          2.269,
          2.258,
          2.223,
          2.177,
          2.177,
          2.17,
          2.158,
          2.14,
          2.126,
          2.099,
          2.069,
          2.061,
          2.041,
          2.035,
          2.012,
          2.003,
          1.99,
          1.987,
          1.984,
          1.973,
          1.926,
          1.924,
          1.911,
          1.905,
          1.861,
          1.86,
          1.847,
          1.843,
          1.825,
          1.824,
          1.819,
          1.817,
          1.812,
          1.811,
          1.802,
          1.794,
          1.778,
          1.763,
          1.76,
          1.755,
          1.747,
          1.734,
          1.728,
          1.725,
          1.723,
          1.71,
          1.709,
          1.703,
          1.699,
          1.692,
          1.691,
          1.68,
          1.68,
          1.679,
          1.677,
          1.673,
          1.673,
          1.666,
          1.666,
          1.664,
          1.652,
          1.647,
          1.647,
          1.642,
          1.628,
          1.627,
          1.616,
          1.606,
          1.601,
          1.6,
          1.593,
          1.592,
          1.587,
          1.586,
          1.579,
          1.579,
          1.559,
          1.555,
          1.553,
          1.54,
          1.533,
          1.53,
          1.529,
          1.527,
          1.524,
          1.522,
          1.521
         ],
         "yaxis": "y"
        }
       ],
       "layout": {
        "barmode": "relative",
        "coloraxis": {
         "colorbar": {
          "title": {
           "text": "mode"
          }
         },
         "colorscale": [
          [
           0,
           "#0d0887"
          ],
          [
           0.1111111111111111,
           "#46039f"
          ],
          [
           0.2222222222222222,
           "#7201a8"
          ],
          [
           0.3333333333333333,
           "#9c179e"
          ],
          [
           0.4444444444444444,
           "#bd3786"
          ],
          [
           0.5555555555555556,
           "#d8576b"
          ],
          [
           0.6666666666666666,
           "#ed7953"
          ],
          [
           0.7777777777777778,
           "#fb9f3a"
          ],
          [
           0.8888888888888888,
           "#fdca26"
          ],
          [
           1,
           "#f0f921"
          ]
         ]
        },
        "legend": {
         "tracegroupgap": 0
        },
        "template": {
         "data": {
          "bar": [
           {
            "error_x": {
             "color": "#2a3f5f"
            },
            "error_y": {
             "color": "#2a3f5f"
            },
            "marker": {
             "line": {
              "color": "#E5ECF6",
              "width": 0.5
             },
             "pattern": {
              "fillmode": "overlay",
              "size": 10,
              "solidity": 0.2
             }
            },
            "type": "bar"
           }
          ],
          "barpolar": [
           {
            "marker": {
             "line": {
              "color": "#E5ECF6",
              "width": 0.5
             },
             "pattern": {
              "fillmode": "overlay",
              "size": 10,
              "solidity": 0.2
             }
            },
            "type": "barpolar"
           }
          ],
          "carpet": [
           {
            "aaxis": {
             "endlinecolor": "#2a3f5f",
             "gridcolor": "white",
             "linecolor": "white",
             "minorgridcolor": "white",
             "startlinecolor": "#2a3f5f"
            },
            "baxis": {
             "endlinecolor": "#2a3f5f",
             "gridcolor": "white",
             "linecolor": "white",
             "minorgridcolor": "white",
             "startlinecolor": "#2a3f5f"
            },
            "type": "carpet"
           }
          ],
          "choropleth": [
           {
            "colorbar": {
             "outlinewidth": 0,
             "ticks": ""
            },
            "type": "choropleth"
           }
          ],
          "contour": [
           {
            "colorbar": {
             "outlinewidth": 0,
             "ticks": ""
            },
            "colorscale": [
             [
              0,
              "#0d0887"
             ],
             [
              0.1111111111111111,
              "#46039f"
             ],
             [
              0.2222222222222222,
              "#7201a8"
             ],
             [
              0.3333333333333333,
              "#9c179e"
             ],
             [
              0.4444444444444444,
              "#bd3786"
             ],
             [
              0.5555555555555556,
              "#d8576b"
             ],
             [
              0.6666666666666666,
              "#ed7953"
             ],
             [
              0.7777777777777778,
              "#fb9f3a"
             ],
             [
              0.8888888888888888,
              "#fdca26"
             ],
             [
              1,
              "#f0f921"
             ]
            ],
            "type": "contour"
           }
          ],
          "contourcarpet": [
           {
            "colorbar": {
             "outlinewidth": 0,
             "ticks": ""
            },
            "type": "contourcarpet"
           }
          ],
          "heatmap": [
           {
            "colorbar": {
             "outlinewidth": 0,
             "ticks": ""
            },
            "colorscale": [
             [
              0,
              "#0d0887"
             ],
             [
              0.1111111111111111,
              "#46039f"
             ],
             [
              0.2222222222222222,
              "#7201a8"
             ],
             [
              0.3333333333333333,
              "#9c179e"
             ],
             [
              0.4444444444444444,
              "#bd3786"
             ],
             [
              0.5555555555555556,
              "#d8576b"
             ],
             [
              0.6666666666666666,
              "#ed7953"
             ],
             [
              0.7777777777777778,
              "#fb9f3a"
             ],
             [
              0.8888888888888888,
              "#fdca26"
             ],
             [
              1,
              "#f0f921"
             ]
            ],
            "type": "heatmap"
           }
          ],
          "heatmapgl": [
           {
            "colorbar": {
             "outlinewidth": 0,
             "ticks": ""
            },
            "colorscale": [
             [
              0,
              "#0d0887"
             ],
             [
              0.1111111111111111,
              "#46039f"
             ],
             [
              0.2222222222222222,
              "#7201a8"
             ],
             [
              0.3333333333333333,
              "#9c179e"
             ],
             [
              0.4444444444444444,
              "#bd3786"
             ],
             [
              0.5555555555555556,
              "#d8576b"
             ],
             [
              0.6666666666666666,
              "#ed7953"
             ],
             [
              0.7777777777777778,
              "#fb9f3a"
             ],
             [
              0.8888888888888888,
              "#fdca26"
             ],
             [
              1,
              "#f0f921"
             ]
            ],
            "type": "heatmapgl"
           }
          ],
          "histogram": [
           {
            "marker": {
             "pattern": {
              "fillmode": "overlay",
              "size": 10,
              "solidity": 0.2
             }
            },
            "type": "histogram"
           }
          ],
          "histogram2d": [
           {
            "colorbar": {
             "outlinewidth": 0,
             "ticks": ""
            },
            "colorscale": [
             [
              0,
              "#0d0887"
             ],
             [
              0.1111111111111111,
              "#46039f"
             ],
             [
              0.2222222222222222,
              "#7201a8"
             ],
             [
              0.3333333333333333,
              "#9c179e"
             ],
             [
              0.4444444444444444,
              "#bd3786"
             ],
             [
              0.5555555555555556,
              "#d8576b"
             ],
             [
              0.6666666666666666,
              "#ed7953"
             ],
             [
              0.7777777777777778,
              "#fb9f3a"
             ],
             [
              0.8888888888888888,
              "#fdca26"
             ],
             [
              1,
              "#f0f921"
             ]
            ],
            "type": "histogram2d"
           }
          ],
          "histogram2dcontour": [
           {
            "colorbar": {
             "outlinewidth": 0,
             "ticks": ""
            },
            "colorscale": [
             [
              0,
              "#0d0887"
             ],
             [
              0.1111111111111111,
              "#46039f"
             ],
             [
              0.2222222222222222,
              "#7201a8"
             ],
             [
              0.3333333333333333,
              "#9c179e"
             ],
             [
              0.4444444444444444,
              "#bd3786"
             ],
             [
              0.5555555555555556,
              "#d8576b"
             ],
             [
              0.6666666666666666,
              "#ed7953"
             ],
             [
              0.7777777777777778,
              "#fb9f3a"
             ],
             [
              0.8888888888888888,
              "#fdca26"
             ],
             [
              1,
              "#f0f921"
             ]
            ],
            "type": "histogram2dcontour"
           }
          ],
          "mesh3d": [
           {
            "colorbar": {
             "outlinewidth": 0,
             "ticks": ""
            },
            "type": "mesh3d"
           }
          ],
          "parcoords": [
           {
            "line": {
             "colorbar": {
              "outlinewidth": 0,
              "ticks": ""
             }
            },
            "type": "parcoords"
           }
          ],
          "pie": [
           {
            "automargin": true,
            "type": "pie"
           }
          ],
          "scatter": [
           {
            "fillpattern": {
             "fillmode": "overlay",
             "size": 10,
             "solidity": 0.2
            },
            "type": "scatter"
           }
          ],
          "scatter3d": [
           {
            "line": {
             "colorbar": {
              "outlinewidth": 0,
              "ticks": ""
             }
            },
            "marker": {
             "colorbar": {
              "outlinewidth": 0,
              "ticks": ""
             }
            },
            "type": "scatter3d"
           }
          ],
          "scattercarpet": [
           {
            "marker": {
             "colorbar": {
              "outlinewidth": 0,
              "ticks": ""
             }
            },
            "type": "scattercarpet"
           }
          ],
          "scattergeo": [
           {
            "marker": {
             "colorbar": {
              "outlinewidth": 0,
              "ticks": ""
             }
            },
            "type": "scattergeo"
           }
          ],
          "scattergl": [
           {
            "marker": {
             "colorbar": {
              "outlinewidth": 0,
              "ticks": ""
             }
            },
            "type": "scattergl"
           }
          ],
          "scattermapbox": [
           {
            "marker": {
             "colorbar": {
              "outlinewidth": 0,
              "ticks": ""
             }
            },
            "type": "scattermapbox"
           }
          ],
          "scatterpolar": [
           {
            "marker": {
             "colorbar": {
              "outlinewidth": 0,
              "ticks": ""
             }
            },
            "type": "scatterpolar"
           }
          ],
          "scatterpolargl": [
           {
            "marker": {
             "colorbar": {
              "outlinewidth": 0,
              "ticks": ""
             }
            },
            "type": "scatterpolargl"
           }
          ],
          "scatterternary": [
           {
            "marker": {
             "colorbar": {
              "outlinewidth": 0,
              "ticks": ""
             }
            },
            "type": "scatterternary"
           }
          ],
          "surface": [
           {
            "colorbar": {
             "outlinewidth": 0,
             "ticks": ""
            },
            "colorscale": [
             [
              0,
              "#0d0887"
             ],
             [
              0.1111111111111111,
              "#46039f"
             ],
             [
              0.2222222222222222,
              "#7201a8"
             ],
             [
              0.3333333333333333,
              "#9c179e"
             ],
             [
              0.4444444444444444,
              "#bd3786"
             ],
             [
              0.5555555555555556,
              "#d8576b"
             ],
             [
              0.6666666666666666,
              "#ed7953"
             ],
             [
              0.7777777777777778,
              "#fb9f3a"
             ],
             [
              0.8888888888888888,
              "#fdca26"
             ],
             [
              1,
              "#f0f921"
             ]
            ],
            "type": "surface"
           }
          ],
          "table": [
           {
            "cells": {
             "fill": {
              "color": "#EBF0F8"
             },
             "line": {
              "color": "white"
             }
            },
            "header": {
             "fill": {
              "color": "#C8D4E3"
             },
             "line": {
              "color": "white"
             }
            },
            "type": "table"
           }
          ]
         },
         "layout": {
          "annotationdefaults": {
           "arrowcolor": "#2a3f5f",
           "arrowhead": 0,
           "arrowwidth": 1
          },
          "autotypenumbers": "strict",
          "coloraxis": {
           "colorbar": {
            "outlinewidth": 0,
            "ticks": ""
           }
          },
          "colorscale": {
           "diverging": [
            [
             0,
             "#8e0152"
            ],
            [
             0.1,
             "#c51b7d"
            ],
            [
             0.2,
             "#de77ae"
            ],
            [
             0.3,
             "#f1b6da"
            ],
            [
             0.4,
             "#fde0ef"
            ],
            [
             0.5,
             "#f7f7f7"
            ],
            [
             0.6,
             "#e6f5d0"
            ],
            [
             0.7,
             "#b8e186"
            ],
            [
             0.8,
             "#7fbc41"
            ],
            [
             0.9,
             "#4d9221"
            ],
            [
             1,
             "#276419"
            ]
           ],
           "sequential": [
            [
             0,
             "#0d0887"
            ],
            [
             0.1111111111111111,
             "#46039f"
            ],
            [
             0.2222222222222222,
             "#7201a8"
            ],
            [
             0.3333333333333333,
             "#9c179e"
            ],
            [
             0.4444444444444444,
             "#bd3786"
            ],
            [
             0.5555555555555556,
             "#d8576b"
            ],
            [
             0.6666666666666666,
             "#ed7953"
            ],
            [
             0.7777777777777778,
             "#fb9f3a"
            ],
            [
             0.8888888888888888,
             "#fdca26"
            ],
            [
             1,
             "#f0f921"
            ]
           ],
           "sequentialminus": [
            [
             0,
             "#0d0887"
            ],
            [
             0.1111111111111111,
             "#46039f"
            ],
            [
             0.2222222222222222,
             "#7201a8"
            ],
            [
             0.3333333333333333,
             "#9c179e"
            ],
            [
             0.4444444444444444,
             "#bd3786"
            ],
            [
             0.5555555555555556,
             "#d8576b"
            ],
            [
             0.6666666666666666,
             "#ed7953"
            ],
            [
             0.7777777777777778,
             "#fb9f3a"
            ],
            [
             0.8888888888888888,
             "#fdca26"
            ],
            [
             1,
             "#f0f921"
            ]
           ]
          },
          "colorway": [
           "#636efa",
           "#EF553B",
           "#00cc96",
           "#ab63fa",
           "#FFA15A",
           "#19d3f3",
           "#FF6692",
           "#B6E880",
           "#FF97FF",
           "#FECB52"
          ],
          "font": {
           "color": "#2a3f5f"
          },
          "geo": {
           "bgcolor": "white",
           "lakecolor": "white",
           "landcolor": "#E5ECF6",
           "showlakes": true,
           "showland": true,
           "subunitcolor": "white"
          },
          "hoverlabel": {
           "align": "left"
          },
          "hovermode": "closest",
          "mapbox": {
           "style": "light"
          },
          "paper_bgcolor": "white",
          "plot_bgcolor": "#E5ECF6",
          "polar": {
           "angularaxis": {
            "gridcolor": "white",
            "linecolor": "white",
            "ticks": ""
           },
           "bgcolor": "#E5ECF6",
           "radialaxis": {
            "gridcolor": "white",
            "linecolor": "white",
            "ticks": ""
           }
          },
          "scene": {
           "xaxis": {
            "backgroundcolor": "#E5ECF6",
            "gridcolor": "white",
            "gridwidth": 2,
            "linecolor": "white",
            "showbackground": true,
            "ticks": "",
            "zerolinecolor": "white"
           },
           "yaxis": {
            "backgroundcolor": "#E5ECF6",
            "gridcolor": "white",
            "gridwidth": 2,
            "linecolor": "white",
            "showbackground": true,
            "ticks": "",
            "zerolinecolor": "white"
           },
           "zaxis": {
            "backgroundcolor": "#E5ECF6",
            "gridcolor": "white",
            "gridwidth": 2,
            "linecolor": "white",
            "showbackground": true,
            "ticks": "",
            "zerolinecolor": "white"
           }
          },
          "shapedefaults": {
           "line": {
            "color": "#2a3f5f"
           }
          },
          "ternary": {
           "aaxis": {
            "gridcolor": "white",
            "linecolor": "white",
            "ticks": ""
           },
           "baxis": {
            "gridcolor": "white",
            "linecolor": "white",
            "ticks": ""
           },
           "bgcolor": "#E5ECF6",
           "caxis": {
            "gridcolor": "white",
            "linecolor": "white",
            "ticks": ""
           }
          },
          "title": {
           "x": 0.05
          },
          "xaxis": {
           "automargin": true,
           "gridcolor": "white",
           "linecolor": "white",
           "ticks": "",
           "title": {
            "standoff": 15
           },
           "zerolinecolor": "white",
           "zerolinewidth": 2
          },
          "yaxis": {
           "automargin": true,
           "gridcolor": "white",
           "linecolor": "white",
           "ticks": "",
           "title": {
            "standoff": 15
           },
           "zerolinecolor": "white",
           "zerolinewidth": 2
          }
         }
        },
        "title": {
         "text": "Streams by Artist and Mode"
        },
        "xaxis": {
         "anchor": "y",
         "domain": [
          0,
          1
         ],
         "title": {
          "text": "Artist"
         }
        },
        "yaxis": {
         "anchor": "x",
         "domain": [
          0,
          1
         ],
         "title": {
          "text": "Streams (Billions)"
         }
        }
       }
      },
      "text/html": [
       "<div>                            <div id=\"9e06ca9a-2d76-454d-b9f0-698f50e3adfb\" class=\"plotly-graph-div\" style=\"height:525px; width:100%;\"></div>            <script type=\"text/javascript\">                require([\"plotly\"], function(Plotly) {                    window.PLOTLYENV=window.PLOTLYENV || {};                                    if (document.getElementById(\"9e06ca9a-2d76-454d-b9f0-698f50e3adfb\")) {                    Plotly.newPlot(                        \"9e06ca9a-2d76-454d-b9f0-698f50e3adfb\",                        [{\"alignmentgroup\":\"True\",\"hovertemplate\":\"Artist=%{x}<br>Streams (Billions)=%{y}<br>mode=%{marker.color}<extra></extra>\",\"legendgroup\":\"\",\"marker\":{\"color\":[1,0,0,1,0,1,1,1,0,0,0,1,1,1,1,1,1,0,0,0,1,1,1,0,0,1,1,0,1,1,1,0,1,1,0,1,0,1,0,0,0,0,1,1,1,0,1,0,1,1,1,0,0,1,1,0,0,1,1,1,1,1,1,0,1,1,1,1,1,1,0,0,1,1,1,0,0,1,1,1,1,1,0,1,0,1,0,1,0,1,0,1,1,1,1,1,1,1,1,1],\"coloraxis\":\"coloraxis\",\"pattern\":{\"shape\":\"\"}},\"name\":\"\",\"offsetgroup\":\"\",\"orientation\":\"v\",\"showlegend\":false,\"textposition\":\"auto\",\"x\":[\"The Weeknd\",\"Ed Sheeran\",\"Tones And I\",\"Lewis Capaldi\",\"Post Malone\\u00a0featuring\\u00a021 Savage\",\"Post Malone\\u00a0and\\u00a0Swae Lee\",\"Drake\\u00a0featuring\\u00a0Wizkid\\u00a0and\\u00a0Kyla\",\"The Chainsmokers\\u00a0featuring\\u00a0Halsey\",\"The Kid Laroi\\u00a0and\\u00a0Justin Bieber\",\"Imagine Dragons\",\"Shawn Mendes\\u00a0and\\u00a0Camila Cabello\",\"Ed Sheeran\",\"Glass Animals\",\"James Arthur\",\"The Weeknd\\u00a0featuring\\u00a0Daft Punk\",\"Billie Eilish\",\"Ed Sheeran\",\"Juice WRLD\",\"Dua Lipa\",\"Billie Eilish\\u00a0and\\u00a0Khalid\",\"Harry Styles\",\"Drake\",\"Ed Sheeran\",\"Queen\",\"The Chainsmokers\\u00a0and\\u00a0Coldplay\",\"The Neighbourhood\",\"Lady Gaga\\u00a0and\\u00a0Bradley Cooper\",\"Harry Styles\",\"Justin Bieber\",\"Post Malone\",\"XXXTentacion\",\"Hozier\",\"John Legend\",\"Imagine Dragons\",\"Ariana Grande\",\"Travis Scott\\u00a0featuring\\u00a0Kendrick Lamar\",\"XXXTentacion\",\"Camila Cabello\\u00a0featuring\\u00a0Young Thug\",\"Twenty One Pilots\",\"Lil Uzi Vert\",\"OneRepublic\",\"Dua Lipa\",\"Avicii\",\"Vance Joy\",\"Marshmello\\u00a0and\\u00a0Bastille\",\"Kendrick Lamar\",\"Passenger\",\"The Weeknd\",\"Travis Scott\\u00a0featuring\\u00a0Drake\",\"Macklemore & Ryan Lewis\\u00a0featuring\\u00a0Ray Dalton\",\"Olivia Rodrigo\",\"Justin Bieber\",\"Calvin Harris\\u00a0and\\u00a0Dua Lipa\",\"DJ Snake\\u00a0featuring\\u00a0Justin Bieber\",\"Olivia Rodrigo\",\"Major Lazer\\u00a0and\\u00a0DJ Snake\\u00a0featuring\\u00a0M\\u00d8\",\"Shawn Mendes\",\"Saint Jhn\\u00a0with\\u00a0Imanbek\",\"Post Malone\",\"Sam Smith\",\"Post Malone\\u00a0featuring\\u00a0Quavo\",\"Alan Walker\",\"Halsey\",\"Lil Nas X\\u00a0featuring\\u00a0Jack Harlow\",\"Eminem\",\"Maroon 5\",\"Imagine Dragons\",\"The Killers\",\"Mark Ronson\\u00a0featuring\\u00a0Bruno Mars\",\"Sam Smith\",\"Dua Lipa\\u00a0featuring\\u00a0DaBaby\",\"Mike Posner\\u00a0and\\u00a0Seeb\",\"The Chainsmokers\\u00a0featuring\\u00a0Daya\",\"Ariana Grande\",\"Ed Sheeran\\u00a0and\\u00a0Justin Bieber\",\"Bad Bunny\\u00a0and\\u00a0Jhay Cortez\",\"Lil Nas X\",\"24kGoldn\\u00a0and\\u00a0Iann Dior\",\"Arctic Monkeys\",\"French Montana\\u00a0featuring\\u00a0Swae Lee\",\"BTS\",\"Luis Fonsi\\u00a0and\\u00a0Daddy Yankee\\u00a0featuring\\u00a0Justin Bieber\",\"XXXTentacion\",\"Oasis\",\"J. Cole\",\"Bruno Mars\",\"Roddy Ricch\",\"Eminem\\u00a0featuring\\u00a0Nate Dogg\",\"Shawn Mendes\",\"Shawn Mendes\",\"Sia\",\"Nirvana\",\"Wiz Khalifa\\u00a0featuring\\u00a0Charlie Puth\",\"Jason Mraz\",\"Lauv\",\"Lukas Graham\",\"Coldplay\",\"Maroon 5\",\"Luis Fonsi\\u00a0featuring\\u00a0Daddy Yankee\",\"Queen\"],\"xaxis\":\"x\",\"y\":[3.449,3.398,2.77,2.68,2.62,2.575,2.556,2.481,2.432,2.41,2.365,2.361,2.32,2.269,2.258,2.223,2.177,2.177,2.17,2.158,2.14,2.126,2.099,2.069,2.061,2.041,2.035,2.012,2.003,1.99,1.987,1.984,1.973,1.926,1.924,1.911,1.905,1.861,1.86,1.847,1.843,1.825,1.824,1.819,1.817,1.812,1.811,1.802,1.794,1.778,1.763,1.76,1.755,1.747,1.734,1.728,1.725,1.723,1.71,1.709,1.703,1.699,1.692,1.691,1.68,1.68,1.679,1.677,1.673,1.673,1.666,1.666,1.664,1.652,1.647,1.647,1.642,1.628,1.627,1.616,1.606,1.601,1.6,1.593,1.592,1.587,1.586,1.579,1.579,1.559,1.555,1.553,1.54,1.533,1.53,1.529,1.527,1.524,1.522,1.521],\"yaxis\":\"y\",\"type\":\"bar\"}],                        {\"template\":{\"data\":{\"histogram2dcontour\":[{\"type\":\"histogram2dcontour\",\"colorbar\":{\"outlinewidth\":0,\"ticks\":\"\"},\"colorscale\":[[0.0,\"#0d0887\"],[0.1111111111111111,\"#46039f\"],[0.2222222222222222,\"#7201a8\"],[0.3333333333333333,\"#9c179e\"],[0.4444444444444444,\"#bd3786\"],[0.5555555555555556,\"#d8576b\"],[0.6666666666666666,\"#ed7953\"],[0.7777777777777778,\"#fb9f3a\"],[0.8888888888888888,\"#fdca26\"],[1.0,\"#f0f921\"]]}],\"choropleth\":[{\"type\":\"choropleth\",\"colorbar\":{\"outlinewidth\":0,\"ticks\":\"\"}}],\"histogram2d\":[{\"type\":\"histogram2d\",\"colorbar\":{\"outlinewidth\":0,\"ticks\":\"\"},\"colorscale\":[[0.0,\"#0d0887\"],[0.1111111111111111,\"#46039f\"],[0.2222222222222222,\"#7201a8\"],[0.3333333333333333,\"#9c179e\"],[0.4444444444444444,\"#bd3786\"],[0.5555555555555556,\"#d8576b\"],[0.6666666666666666,\"#ed7953\"],[0.7777777777777778,\"#fb9f3a\"],[0.8888888888888888,\"#fdca26\"],[1.0,\"#f0f921\"]]}],\"heatmap\":[{\"type\":\"heatmap\",\"colorbar\":{\"outlinewidth\":0,\"ticks\":\"\"},\"colorscale\":[[0.0,\"#0d0887\"],[0.1111111111111111,\"#46039f\"],[0.2222222222222222,\"#7201a8\"],[0.3333333333333333,\"#9c179e\"],[0.4444444444444444,\"#bd3786\"],[0.5555555555555556,\"#d8576b\"],[0.6666666666666666,\"#ed7953\"],[0.7777777777777778,\"#fb9f3a\"],[0.8888888888888888,\"#fdca26\"],[1.0,\"#f0f921\"]]}],\"heatmapgl\":[{\"type\":\"heatmapgl\",\"colorbar\":{\"outlinewidth\":0,\"ticks\":\"\"},\"colorscale\":[[0.0,\"#0d0887\"],[0.1111111111111111,\"#46039f\"],[0.2222222222222222,\"#7201a8\"],[0.3333333333333333,\"#9c179e\"],[0.4444444444444444,\"#bd3786\"],[0.5555555555555556,\"#d8576b\"],[0.6666666666666666,\"#ed7953\"],[0.7777777777777778,\"#fb9f3a\"],[0.8888888888888888,\"#fdca26\"],[1.0,\"#f0f921\"]]}],\"contourcarpet\":[{\"type\":\"contourcarpet\",\"colorbar\":{\"outlinewidth\":0,\"ticks\":\"\"}}],\"contour\":[{\"type\":\"contour\",\"colorbar\":{\"outlinewidth\":0,\"ticks\":\"\"},\"colorscale\":[[0.0,\"#0d0887\"],[0.1111111111111111,\"#46039f\"],[0.2222222222222222,\"#7201a8\"],[0.3333333333333333,\"#9c179e\"],[0.4444444444444444,\"#bd3786\"],[0.5555555555555556,\"#d8576b\"],[0.6666666666666666,\"#ed7953\"],[0.7777777777777778,\"#fb9f3a\"],[0.8888888888888888,\"#fdca26\"],[1.0,\"#f0f921\"]]}],\"surface\":[{\"type\":\"surface\",\"colorbar\":{\"outlinewidth\":0,\"ticks\":\"\"},\"colorscale\":[[0.0,\"#0d0887\"],[0.1111111111111111,\"#46039f\"],[0.2222222222222222,\"#7201a8\"],[0.3333333333333333,\"#9c179e\"],[0.4444444444444444,\"#bd3786\"],[0.5555555555555556,\"#d8576b\"],[0.6666666666666666,\"#ed7953\"],[0.7777777777777778,\"#fb9f3a\"],[0.8888888888888888,\"#fdca26\"],[1.0,\"#f0f921\"]]}],\"mesh3d\":[{\"type\":\"mesh3d\",\"colorbar\":{\"outlinewidth\":0,\"ticks\":\"\"}}],\"scatter\":[{\"fillpattern\":{\"fillmode\":\"overlay\",\"size\":10,\"solidity\":0.2},\"type\":\"scatter\"}],\"parcoords\":[{\"type\":\"parcoords\",\"line\":{\"colorbar\":{\"outlinewidth\":0,\"ticks\":\"\"}}}],\"scatterpolargl\":[{\"type\":\"scatterpolargl\",\"marker\":{\"colorbar\":{\"outlinewidth\":0,\"ticks\":\"\"}}}],\"bar\":[{\"error_x\":{\"color\":\"#2a3f5f\"},\"error_y\":{\"color\":\"#2a3f5f\"},\"marker\":{\"line\":{\"color\":\"#E5ECF6\",\"width\":0.5},\"pattern\":{\"fillmode\":\"overlay\",\"size\":10,\"solidity\":0.2}},\"type\":\"bar\"}],\"scattergeo\":[{\"type\":\"scattergeo\",\"marker\":{\"colorbar\":{\"outlinewidth\":0,\"ticks\":\"\"}}}],\"scatterpolar\":[{\"type\":\"scatterpolar\",\"marker\":{\"colorbar\":{\"outlinewidth\":0,\"ticks\":\"\"}}}],\"histogram\":[{\"marker\":{\"pattern\":{\"fillmode\":\"overlay\",\"size\":10,\"solidity\":0.2}},\"type\":\"histogram\"}],\"scattergl\":[{\"type\":\"scattergl\",\"marker\":{\"colorbar\":{\"outlinewidth\":0,\"ticks\":\"\"}}}],\"scatter3d\":[{\"type\":\"scatter3d\",\"line\":{\"colorbar\":{\"outlinewidth\":0,\"ticks\":\"\"}},\"marker\":{\"colorbar\":{\"outlinewidth\":0,\"ticks\":\"\"}}}],\"scattermapbox\":[{\"type\":\"scattermapbox\",\"marker\":{\"colorbar\":{\"outlinewidth\":0,\"ticks\":\"\"}}}],\"scatterternary\":[{\"type\":\"scatterternary\",\"marker\":{\"colorbar\":{\"outlinewidth\":0,\"ticks\":\"\"}}}],\"scattercarpet\":[{\"type\":\"scattercarpet\",\"marker\":{\"colorbar\":{\"outlinewidth\":0,\"ticks\":\"\"}}}],\"carpet\":[{\"aaxis\":{\"endlinecolor\":\"#2a3f5f\",\"gridcolor\":\"white\",\"linecolor\":\"white\",\"minorgridcolor\":\"white\",\"startlinecolor\":\"#2a3f5f\"},\"baxis\":{\"endlinecolor\":\"#2a3f5f\",\"gridcolor\":\"white\",\"linecolor\":\"white\",\"minorgridcolor\":\"white\",\"startlinecolor\":\"#2a3f5f\"},\"type\":\"carpet\"}],\"table\":[{\"cells\":{\"fill\":{\"color\":\"#EBF0F8\"},\"line\":{\"color\":\"white\"}},\"header\":{\"fill\":{\"color\":\"#C8D4E3\"},\"line\":{\"color\":\"white\"}},\"type\":\"table\"}],\"barpolar\":[{\"marker\":{\"line\":{\"color\":\"#E5ECF6\",\"width\":0.5},\"pattern\":{\"fillmode\":\"overlay\",\"size\":10,\"solidity\":0.2}},\"type\":\"barpolar\"}],\"pie\":[{\"automargin\":true,\"type\":\"pie\"}]},\"layout\":{\"autotypenumbers\":\"strict\",\"colorway\":[\"#636efa\",\"#EF553B\",\"#00cc96\",\"#ab63fa\",\"#FFA15A\",\"#19d3f3\",\"#FF6692\",\"#B6E880\",\"#FF97FF\",\"#FECB52\"],\"font\":{\"color\":\"#2a3f5f\"},\"hovermode\":\"closest\",\"hoverlabel\":{\"align\":\"left\"},\"paper_bgcolor\":\"white\",\"plot_bgcolor\":\"#E5ECF6\",\"polar\":{\"bgcolor\":\"#E5ECF6\",\"angularaxis\":{\"gridcolor\":\"white\",\"linecolor\":\"white\",\"ticks\":\"\"},\"radialaxis\":{\"gridcolor\":\"white\",\"linecolor\":\"white\",\"ticks\":\"\"}},\"ternary\":{\"bgcolor\":\"#E5ECF6\",\"aaxis\":{\"gridcolor\":\"white\",\"linecolor\":\"white\",\"ticks\":\"\"},\"baxis\":{\"gridcolor\":\"white\",\"linecolor\":\"white\",\"ticks\":\"\"},\"caxis\":{\"gridcolor\":\"white\",\"linecolor\":\"white\",\"ticks\":\"\"}},\"coloraxis\":{\"colorbar\":{\"outlinewidth\":0,\"ticks\":\"\"}},\"colorscale\":{\"sequential\":[[0.0,\"#0d0887\"],[0.1111111111111111,\"#46039f\"],[0.2222222222222222,\"#7201a8\"],[0.3333333333333333,\"#9c179e\"],[0.4444444444444444,\"#bd3786\"],[0.5555555555555556,\"#d8576b\"],[0.6666666666666666,\"#ed7953\"],[0.7777777777777778,\"#fb9f3a\"],[0.8888888888888888,\"#fdca26\"],[1.0,\"#f0f921\"]],\"sequentialminus\":[[0.0,\"#0d0887\"],[0.1111111111111111,\"#46039f\"],[0.2222222222222222,\"#7201a8\"],[0.3333333333333333,\"#9c179e\"],[0.4444444444444444,\"#bd3786\"],[0.5555555555555556,\"#d8576b\"],[0.6666666666666666,\"#ed7953\"],[0.7777777777777778,\"#fb9f3a\"],[0.8888888888888888,\"#fdca26\"],[1.0,\"#f0f921\"]],\"diverging\":[[0,\"#8e0152\"],[0.1,\"#c51b7d\"],[0.2,\"#de77ae\"],[0.3,\"#f1b6da\"],[0.4,\"#fde0ef\"],[0.5,\"#f7f7f7\"],[0.6,\"#e6f5d0\"],[0.7,\"#b8e186\"],[0.8,\"#7fbc41\"],[0.9,\"#4d9221\"],[1,\"#276419\"]]},\"xaxis\":{\"gridcolor\":\"white\",\"linecolor\":\"white\",\"ticks\":\"\",\"title\":{\"standoff\":15},\"zerolinecolor\":\"white\",\"automargin\":true,\"zerolinewidth\":2},\"yaxis\":{\"gridcolor\":\"white\",\"linecolor\":\"white\",\"ticks\":\"\",\"title\":{\"standoff\":15},\"zerolinecolor\":\"white\",\"automargin\":true,\"zerolinewidth\":2},\"scene\":{\"xaxis\":{\"backgroundcolor\":\"#E5ECF6\",\"gridcolor\":\"white\",\"linecolor\":\"white\",\"showbackground\":true,\"ticks\":\"\",\"zerolinecolor\":\"white\",\"gridwidth\":2},\"yaxis\":{\"backgroundcolor\":\"#E5ECF6\",\"gridcolor\":\"white\",\"linecolor\":\"white\",\"showbackground\":true,\"ticks\":\"\",\"zerolinecolor\":\"white\",\"gridwidth\":2},\"zaxis\":{\"backgroundcolor\":\"#E5ECF6\",\"gridcolor\":\"white\",\"linecolor\":\"white\",\"showbackground\":true,\"ticks\":\"\",\"zerolinecolor\":\"white\",\"gridwidth\":2}},\"shapedefaults\":{\"line\":{\"color\":\"#2a3f5f\"}},\"annotationdefaults\":{\"arrowcolor\":\"#2a3f5f\",\"arrowhead\":0,\"arrowwidth\":1},\"geo\":{\"bgcolor\":\"white\",\"landcolor\":\"#E5ECF6\",\"subunitcolor\":\"white\",\"showland\":true,\"showlakes\":true,\"lakecolor\":\"white\"},\"title\":{\"x\":0.05},\"mapbox\":{\"style\":\"light\"}}},\"xaxis\":{\"anchor\":\"y\",\"domain\":[0.0,1.0],\"title\":{\"text\":\"Artist\"}},\"yaxis\":{\"anchor\":\"x\",\"domain\":[0.0,1.0],\"title\":{\"text\":\"Streams (Billions)\"}},\"coloraxis\":{\"colorbar\":{\"title\":{\"text\":\"mode\"}},\"colorscale\":[[0.0,\"#0d0887\"],[0.1111111111111111,\"#46039f\"],[0.2222222222222222,\"#7201a8\"],[0.3333333333333333,\"#9c179e\"],[0.4444444444444444,\"#bd3786\"],[0.5555555555555556,\"#d8576b\"],[0.6666666666666666,\"#ed7953\"],[0.7777777777777778,\"#fb9f3a\"],[0.8888888888888888,\"#fdca26\"],[1.0,\"#f0f921\"]]},\"legend\":{\"tracegroupgap\":0},\"title\":{\"text\":\"Streams by Artist and Mode\"},\"barmode\":\"relative\"},                        {\"responsive\": true}                    ).then(function(){\n",
       "                            \n",
       "var gd = document.getElementById('9e06ca9a-2d76-454d-b9f0-698f50e3adfb');\n",
       "var x = new MutationObserver(function (mutations, observer) {{\n",
       "        var display = window.getComputedStyle(gd).display;\n",
       "        if (!display || display === 'none') {{\n",
       "            console.log([gd, 'removed!']);\n",
       "            Plotly.purge(gd);\n",
       "            observer.disconnect();\n",
       "        }}\n",
       "}});\n",
       "\n",
       "// Listen for the removal of the full notebook cells\n",
       "var notebookContainer = gd.closest('#notebook-container');\n",
       "if (notebookContainer) {{\n",
       "    x.observe(notebookContainer, {childList: true});\n",
       "}}\n",
       "\n",
       "// Listen for the clearing of the current output cell\n",
       "var outputEl = gd.closest('.output');\n",
       "if (outputEl) {{\n",
       "    x.observe(outputEl, {childList: true});\n",
       "}}\n",
       "\n",
       "                        })                };                });            </script>        </div>"
      ]
     },
     "metadata": {},
     "output_type": "display_data"
    }
   ],
   "source": [
    "fig = px.bar(df, x='Artist', y='Streams (Billions)', color='mode', title='Streams by Artist and Mode')\n",
    "fig.show()\n"
   ]
  },
  {
   "cell_type": "code",
   "execution_count": 17,
   "metadata": {
    "colab": {
     "base_uri": "https://localhost:8080/",
     "height": 542
    },
    "id": "nmXK3G503sc9",
    "outputId": "10148fcb-3609-43e1-e2f2-4e731d056fe4"
   },
   "outputs": [
    {
     "data": {
      "application/vnd.plotly.v1+json": {
       "config": {
        "plotlyServerURL": "https://plot.ly"
       },
       "data": [
        {
         "coloraxis": "coloraxis",
         "hovertemplate": "acousticness=%{x}<br>energy=%{y}<br>count=%{z}<extra></extra>",
         "name": "",
         "type": "histogram2d",
         "x": [
          0.00146,
          0.581,
          0.692,
          0.751,
          0.124,
          0.556,
          0.00776,
          0.414,
          0.945,
          0.0622,
          0.0392,
          0.433,
          0.44,
          0.695,
          0.141,
          0.328,
          0.474,
          0.349,
          0.876,
          0.934,
          0.122,
          0.0332,
          0.607,
          0.288,
          0.0498,
          0.0495,
          0.371,
          0.342,
          0.835,
          0.192,
          0.258,
          0.634,
          0.922,
          0.000147,
          0.592,
          0.0847,
          0.469,
          0.184,
          0.0462,
          0.00264,
          0.0654,
          0.00265,
          0.0038,
          0.431,
          0.121,
          0.000282,
          0.365,
          0.0671,
          0.00513,
          0.000744,
          0.335,
          8.47e-05,
          0.037,
          0.0863,
          0.768,
          0.00346,
          0.106,
          0.0143,
          0.331,
          0.588,
          0.215,
          0.0281,
          0.00286,
          0.0203,
          0.00868,
          0.00979,
          0.19,
          0.00121,
          0.00801,
          0.64,
          0.00883,
          0.0353,
          0.699,
          0.229,
          0.0902,
          0.401,
          0.293,
          0.696,
          0.186,
          0.0293,
          0.00379,
          0.228,
          0.556,
          0.000509,
          0.324,
          0.013,
          0.104,
          0.0622,
          0.38,
          0.0151,
          0.0472,
          2.55e-05,
          0.371,
          0.0886,
          0.534,
          0.287,
          0.00239,
          0.122,
          0.198,
          0.71
         ],
         "xaxis": "x",
         "xbingroup": "x",
         "y": [
          0.73,
          0.652,
          0.588,
          0.405,
          0.52,
          0.479,
          0.625,
          0.524,
          0.31,
          0.78,
          0.548,
          0.663,
          0.525,
          0.557,
          0.587,
          0.425,
          0.445,
          0.566,
          0.185,
          0.296,
          0.816,
          0.449,
          0.379,
          0.402,
          0.635,
          0.807,
          0.385,
          0.731,
          0.378,
          0.762,
          0.613,
          0.664,
          0.264,
          0.89,
          0.317,
          0.728,
          0.391,
          0.523,
          0.637,
          0.75,
          0.705,
          0.7,
          0.783,
          0.731,
          0.67,
          0.621,
          0.545,
          0.564,
          0.73,
          0.871,
          0.664,
          0.643,
          0.862,
          0.716,
          0.431,
          0.809,
          0.819,
          0.719,
          0.578,
          0.42,
          0.804,
          0.627,
          0.669,
          0.704,
          0.744,
          0.684,
          0.71,
          0.911,
          0.609,
          0.372,
          0.825,
          0.714,
          0.502,
          0.653,
          0.676,
          0.573,
          0.503,
          0.74,
          0.532,
          0.769,
          0.783,
          0.816,
          0.537,
          0.893,
          0.521,
          0.56,
          0.586,
          0.847,
          0.813,
          0.754,
          0.698,
          0.912,
          0.559,
          0.633,
          0.505,
          0.473,
          0.661,
          0.816,
          0.797,
          0.553
         ],
         "yaxis": "y",
         "ybingroup": "y"
        }
       ],
       "layout": {
        "coloraxis": {
         "colorbar": {
          "title": {
           "text": "count"
          }
         },
         "colorscale": [
          [
           0,
           "#0d0887"
          ],
          [
           0.1111111111111111,
           "#46039f"
          ],
          [
           0.2222222222222222,
           "#7201a8"
          ],
          [
           0.3333333333333333,
           "#9c179e"
          ],
          [
           0.4444444444444444,
           "#bd3786"
          ],
          [
           0.5555555555555556,
           "#d8576b"
          ],
          [
           0.6666666666666666,
           "#ed7953"
          ],
          [
           0.7777777777777778,
           "#fb9f3a"
          ],
          [
           0.8888888888888888,
           "#fdca26"
          ],
          [
           1,
           "#f0f921"
          ]
         ]
        },
        "legend": {
         "tracegroupgap": 0
        },
        "template": {
         "data": {
          "bar": [
           {
            "error_x": {
             "color": "#2a3f5f"
            },
            "error_y": {
             "color": "#2a3f5f"
            },
            "marker": {
             "line": {
              "color": "#E5ECF6",
              "width": 0.5
             },
             "pattern": {
              "fillmode": "overlay",
              "size": 10,
              "solidity": 0.2
             }
            },
            "type": "bar"
           }
          ],
          "barpolar": [
           {
            "marker": {
             "line": {
              "color": "#E5ECF6",
              "width": 0.5
             },
             "pattern": {
              "fillmode": "overlay",
              "size": 10,
              "solidity": 0.2
             }
            },
            "type": "barpolar"
           }
          ],
          "carpet": [
           {
            "aaxis": {
             "endlinecolor": "#2a3f5f",
             "gridcolor": "white",
             "linecolor": "white",
             "minorgridcolor": "white",
             "startlinecolor": "#2a3f5f"
            },
            "baxis": {
             "endlinecolor": "#2a3f5f",
             "gridcolor": "white",
             "linecolor": "white",
             "minorgridcolor": "white",
             "startlinecolor": "#2a3f5f"
            },
            "type": "carpet"
           }
          ],
          "choropleth": [
           {
            "colorbar": {
             "outlinewidth": 0,
             "ticks": ""
            },
            "type": "choropleth"
           }
          ],
          "contour": [
           {
            "colorbar": {
             "outlinewidth": 0,
             "ticks": ""
            },
            "colorscale": [
             [
              0,
              "#0d0887"
             ],
             [
              0.1111111111111111,
              "#46039f"
             ],
             [
              0.2222222222222222,
              "#7201a8"
             ],
             [
              0.3333333333333333,
              "#9c179e"
             ],
             [
              0.4444444444444444,
              "#bd3786"
             ],
             [
              0.5555555555555556,
              "#d8576b"
             ],
             [
              0.6666666666666666,
              "#ed7953"
             ],
             [
              0.7777777777777778,
              "#fb9f3a"
             ],
             [
              0.8888888888888888,
              "#fdca26"
             ],
             [
              1,
              "#f0f921"
             ]
            ],
            "type": "contour"
           }
          ],
          "contourcarpet": [
           {
            "colorbar": {
             "outlinewidth": 0,
             "ticks": ""
            },
            "type": "contourcarpet"
           }
          ],
          "heatmap": [
           {
            "colorbar": {
             "outlinewidth": 0,
             "ticks": ""
            },
            "colorscale": [
             [
              0,
              "#0d0887"
             ],
             [
              0.1111111111111111,
              "#46039f"
             ],
             [
              0.2222222222222222,
              "#7201a8"
             ],
             [
              0.3333333333333333,
              "#9c179e"
             ],
             [
              0.4444444444444444,
              "#bd3786"
             ],
             [
              0.5555555555555556,
              "#d8576b"
             ],
             [
              0.6666666666666666,
              "#ed7953"
             ],
             [
              0.7777777777777778,
              "#fb9f3a"
             ],
             [
              0.8888888888888888,
              "#fdca26"
             ],
             [
              1,
              "#f0f921"
             ]
            ],
            "type": "heatmap"
           }
          ],
          "heatmapgl": [
           {
            "colorbar": {
             "outlinewidth": 0,
             "ticks": ""
            },
            "colorscale": [
             [
              0,
              "#0d0887"
             ],
             [
              0.1111111111111111,
              "#46039f"
             ],
             [
              0.2222222222222222,
              "#7201a8"
             ],
             [
              0.3333333333333333,
              "#9c179e"
             ],
             [
              0.4444444444444444,
              "#bd3786"
             ],
             [
              0.5555555555555556,
              "#d8576b"
             ],
             [
              0.6666666666666666,
              "#ed7953"
             ],
             [
              0.7777777777777778,
              "#fb9f3a"
             ],
             [
              0.8888888888888888,
              "#fdca26"
             ],
             [
              1,
              "#f0f921"
             ]
            ],
            "type": "heatmapgl"
           }
          ],
          "histogram": [
           {
            "marker": {
             "pattern": {
              "fillmode": "overlay",
              "size": 10,
              "solidity": 0.2
             }
            },
            "type": "histogram"
           }
          ],
          "histogram2d": [
           {
            "colorbar": {
             "outlinewidth": 0,
             "ticks": ""
            },
            "colorscale": [
             [
              0,
              "#0d0887"
             ],
             [
              0.1111111111111111,
              "#46039f"
             ],
             [
              0.2222222222222222,
              "#7201a8"
             ],
             [
              0.3333333333333333,
              "#9c179e"
             ],
             [
              0.4444444444444444,
              "#bd3786"
             ],
             [
              0.5555555555555556,
              "#d8576b"
             ],
             [
              0.6666666666666666,
              "#ed7953"
             ],
             [
              0.7777777777777778,
              "#fb9f3a"
             ],
             [
              0.8888888888888888,
              "#fdca26"
             ],
             [
              1,
              "#f0f921"
             ]
            ],
            "type": "histogram2d"
           }
          ],
          "histogram2dcontour": [
           {
            "colorbar": {
             "outlinewidth": 0,
             "ticks": ""
            },
            "colorscale": [
             [
              0,
              "#0d0887"
             ],
             [
              0.1111111111111111,
              "#46039f"
             ],
             [
              0.2222222222222222,
              "#7201a8"
             ],
             [
              0.3333333333333333,
              "#9c179e"
             ],
             [
              0.4444444444444444,
              "#bd3786"
             ],
             [
              0.5555555555555556,
              "#d8576b"
             ],
             [
              0.6666666666666666,
              "#ed7953"
             ],
             [
              0.7777777777777778,
              "#fb9f3a"
             ],
             [
              0.8888888888888888,
              "#fdca26"
             ],
             [
              1,
              "#f0f921"
             ]
            ],
            "type": "histogram2dcontour"
           }
          ],
          "mesh3d": [
           {
            "colorbar": {
             "outlinewidth": 0,
             "ticks": ""
            },
            "type": "mesh3d"
           }
          ],
          "parcoords": [
           {
            "line": {
             "colorbar": {
              "outlinewidth": 0,
              "ticks": ""
             }
            },
            "type": "parcoords"
           }
          ],
          "pie": [
           {
            "automargin": true,
            "type": "pie"
           }
          ],
          "scatter": [
           {
            "fillpattern": {
             "fillmode": "overlay",
             "size": 10,
             "solidity": 0.2
            },
            "type": "scatter"
           }
          ],
          "scatter3d": [
           {
            "line": {
             "colorbar": {
              "outlinewidth": 0,
              "ticks": ""
             }
            },
            "marker": {
             "colorbar": {
              "outlinewidth": 0,
              "ticks": ""
             }
            },
            "type": "scatter3d"
           }
          ],
          "scattercarpet": [
           {
            "marker": {
             "colorbar": {
              "outlinewidth": 0,
              "ticks": ""
             }
            },
            "type": "scattercarpet"
           }
          ],
          "scattergeo": [
           {
            "marker": {
             "colorbar": {
              "outlinewidth": 0,
              "ticks": ""
             }
            },
            "type": "scattergeo"
           }
          ],
          "scattergl": [
           {
            "marker": {
             "colorbar": {
              "outlinewidth": 0,
              "ticks": ""
             }
            },
            "type": "scattergl"
           }
          ],
          "scattermapbox": [
           {
            "marker": {
             "colorbar": {
              "outlinewidth": 0,
              "ticks": ""
             }
            },
            "type": "scattermapbox"
           }
          ],
          "scatterpolar": [
           {
            "marker": {
             "colorbar": {
              "outlinewidth": 0,
              "ticks": ""
             }
            },
            "type": "scatterpolar"
           }
          ],
          "scatterpolargl": [
           {
            "marker": {
             "colorbar": {
              "outlinewidth": 0,
              "ticks": ""
             }
            },
            "type": "scatterpolargl"
           }
          ],
          "scatterternary": [
           {
            "marker": {
             "colorbar": {
              "outlinewidth": 0,
              "ticks": ""
             }
            },
            "type": "scatterternary"
           }
          ],
          "surface": [
           {
            "colorbar": {
             "outlinewidth": 0,
             "ticks": ""
            },
            "colorscale": [
             [
              0,
              "#0d0887"
             ],
             [
              0.1111111111111111,
              "#46039f"
             ],
             [
              0.2222222222222222,
              "#7201a8"
             ],
             [
              0.3333333333333333,
              "#9c179e"
             ],
             [
              0.4444444444444444,
              "#bd3786"
             ],
             [
              0.5555555555555556,
              "#d8576b"
             ],
             [
              0.6666666666666666,
              "#ed7953"
             ],
             [
              0.7777777777777778,
              "#fb9f3a"
             ],
             [
              0.8888888888888888,
              "#fdca26"
             ],
             [
              1,
              "#f0f921"
             ]
            ],
            "type": "surface"
           }
          ],
          "table": [
           {
            "cells": {
             "fill": {
              "color": "#EBF0F8"
             },
             "line": {
              "color": "white"
             }
            },
            "header": {
             "fill": {
              "color": "#C8D4E3"
             },
             "line": {
              "color": "white"
             }
            },
            "type": "table"
           }
          ]
         },
         "layout": {
          "annotationdefaults": {
           "arrowcolor": "#2a3f5f",
           "arrowhead": 0,
           "arrowwidth": 1
          },
          "autotypenumbers": "strict",
          "coloraxis": {
           "colorbar": {
            "outlinewidth": 0,
            "ticks": ""
           }
          },
          "colorscale": {
           "diverging": [
            [
             0,
             "#8e0152"
            ],
            [
             0.1,
             "#c51b7d"
            ],
            [
             0.2,
             "#de77ae"
            ],
            [
             0.3,
             "#f1b6da"
            ],
            [
             0.4,
             "#fde0ef"
            ],
            [
             0.5,
             "#f7f7f7"
            ],
            [
             0.6,
             "#e6f5d0"
            ],
            [
             0.7,
             "#b8e186"
            ],
            [
             0.8,
             "#7fbc41"
            ],
            [
             0.9,
             "#4d9221"
            ],
            [
             1,
             "#276419"
            ]
           ],
           "sequential": [
            [
             0,
             "#0d0887"
            ],
            [
             0.1111111111111111,
             "#46039f"
            ],
            [
             0.2222222222222222,
             "#7201a8"
            ],
            [
             0.3333333333333333,
             "#9c179e"
            ],
            [
             0.4444444444444444,
             "#bd3786"
            ],
            [
             0.5555555555555556,
             "#d8576b"
            ],
            [
             0.6666666666666666,
             "#ed7953"
            ],
            [
             0.7777777777777778,
             "#fb9f3a"
            ],
            [
             0.8888888888888888,
             "#fdca26"
            ],
            [
             1,
             "#f0f921"
            ]
           ],
           "sequentialminus": [
            [
             0,
             "#0d0887"
            ],
            [
             0.1111111111111111,
             "#46039f"
            ],
            [
             0.2222222222222222,
             "#7201a8"
            ],
            [
             0.3333333333333333,
             "#9c179e"
            ],
            [
             0.4444444444444444,
             "#bd3786"
            ],
            [
             0.5555555555555556,
             "#d8576b"
            ],
            [
             0.6666666666666666,
             "#ed7953"
            ],
            [
             0.7777777777777778,
             "#fb9f3a"
            ],
            [
             0.8888888888888888,
             "#fdca26"
            ],
            [
             1,
             "#f0f921"
            ]
           ]
          },
          "colorway": [
           "#636efa",
           "#EF553B",
           "#00cc96",
           "#ab63fa",
           "#FFA15A",
           "#19d3f3",
           "#FF6692",
           "#B6E880",
           "#FF97FF",
           "#FECB52"
          ],
          "font": {
           "color": "#2a3f5f"
          },
          "geo": {
           "bgcolor": "white",
           "lakecolor": "white",
           "landcolor": "#E5ECF6",
           "showlakes": true,
           "showland": true,
           "subunitcolor": "white"
          },
          "hoverlabel": {
           "align": "left"
          },
          "hovermode": "closest",
          "mapbox": {
           "style": "light"
          },
          "paper_bgcolor": "white",
          "plot_bgcolor": "#E5ECF6",
          "polar": {
           "angularaxis": {
            "gridcolor": "white",
            "linecolor": "white",
            "ticks": ""
           },
           "bgcolor": "#E5ECF6",
           "radialaxis": {
            "gridcolor": "white",
            "linecolor": "white",
            "ticks": ""
           }
          },
          "scene": {
           "xaxis": {
            "backgroundcolor": "#E5ECF6",
            "gridcolor": "white",
            "gridwidth": 2,
            "linecolor": "white",
            "showbackground": true,
            "ticks": "",
            "zerolinecolor": "white"
           },
           "yaxis": {
            "backgroundcolor": "#E5ECF6",
            "gridcolor": "white",
            "gridwidth": 2,
            "linecolor": "white",
            "showbackground": true,
            "ticks": "",
            "zerolinecolor": "white"
           },
           "zaxis": {
            "backgroundcolor": "#E5ECF6",
            "gridcolor": "white",
            "gridwidth": 2,
            "linecolor": "white",
            "showbackground": true,
            "ticks": "",
            "zerolinecolor": "white"
           }
          },
          "shapedefaults": {
           "line": {
            "color": "#2a3f5f"
           }
          },
          "ternary": {
           "aaxis": {
            "gridcolor": "white",
            "linecolor": "white",
            "ticks": ""
           },
           "baxis": {
            "gridcolor": "white",
            "linecolor": "white",
            "ticks": ""
           },
           "bgcolor": "#E5ECF6",
           "caxis": {
            "gridcolor": "white",
            "linecolor": "white",
            "ticks": ""
           }
          },
          "title": {
           "x": 0.05
          },
          "xaxis": {
           "automargin": true,
           "gridcolor": "white",
           "linecolor": "white",
           "ticks": "",
           "title": {
            "standoff": 15
           },
           "zerolinecolor": "white",
           "zerolinewidth": 2
          },
          "yaxis": {
           "automargin": true,
           "gridcolor": "white",
           "linecolor": "white",
           "ticks": "",
           "title": {
            "standoff": 15
           },
           "zerolinecolor": "white",
           "zerolinewidth": 2
          }
         }
        },
        "title": {
         "text": "Acousticness vs Energy Density"
        },
        "xaxis": {
         "anchor": "y",
         "domain": [
          0,
          1
         ],
         "title": {
          "text": "acousticness"
         }
        },
        "yaxis": {
         "anchor": "x",
         "domain": [
          0,
          1
         ],
         "title": {
          "text": "energy"
         }
        }
       }
      },
      "text/html": [
       "<div>                            <div id=\"9b0c5328-e37b-49c9-82c0-d2be591cec29\" class=\"plotly-graph-div\" style=\"height:525px; width:100%;\"></div>            <script type=\"text/javascript\">                require([\"plotly\"], function(Plotly) {                    window.PLOTLYENV=window.PLOTLYENV || {};                                    if (document.getElementById(\"9b0c5328-e37b-49c9-82c0-d2be591cec29\")) {                    Plotly.newPlot(                        \"9b0c5328-e37b-49c9-82c0-d2be591cec29\",                        [{\"coloraxis\":\"coloraxis\",\"hovertemplate\":\"acousticness=%{x}<br>energy=%{y}<br>count=%{z}<extra></extra>\",\"name\":\"\",\"x\":[0.00146,0.581,0.692,0.751,0.124,0.556,0.00776,0.414,0.945,0.0622,0.0392,0.433,0.44,0.695,0.141,0.328,0.474,0.349,0.876,0.934,0.122,0.0332,0.607,0.288,0.0498,0.0495,0.371,0.342,0.835,0.192,0.258,0.634,0.922,0.000147,0.592,0.0847,0.469,0.184,0.0462,0.00264,0.0654,0.00265,0.0038,0.431,0.121,0.000282,0.365,0.0671,0.00513,0.000744,0.335,8.47e-05,0.037,0.0863,0.768,0.00346,0.106,0.0143,0.331,0.588,0.215,0.0281,0.00286,0.0203,0.00868,0.00979,0.19,0.00121,0.00801,0.64,0.00883,0.0353,0.699,0.229,0.0902,0.401,0.293,0.696,0.186,0.0293,0.00379,0.228,0.556,0.000509,0.324,0.013,0.104,0.0622,0.38,0.0151,0.0472,2.55e-05,0.371,0.0886,0.534,0.287,0.00239,0.122,0.198,0.71],\"xaxis\":\"x\",\"xbingroup\":\"x\",\"y\":[0.73,0.652,0.588,0.405,0.52,0.479,0.625,0.524,0.31,0.78,0.548,0.663,0.525,0.557,0.587,0.425,0.445,0.566,0.185,0.296,0.816,0.449,0.379,0.402,0.635,0.807,0.385,0.731,0.378,0.762,0.613,0.664,0.264,0.89,0.317,0.728,0.391,0.523,0.637,0.75,0.705,0.7,0.783,0.731,0.67,0.621,0.545,0.564,0.73,0.871,0.664,0.643,0.862,0.716,0.431,0.809,0.819,0.719,0.578,0.42,0.804,0.627,0.669,0.704,0.744,0.684,0.71,0.911,0.609,0.372,0.825,0.714,0.502,0.653,0.676,0.573,0.503,0.74,0.532,0.769,0.783,0.816,0.537,0.893,0.521,0.56,0.586,0.847,0.813,0.754,0.698,0.912,0.559,0.633,0.505,0.473,0.661,0.816,0.797,0.553],\"yaxis\":\"y\",\"ybingroup\":\"y\",\"type\":\"histogram2d\"}],                        {\"template\":{\"data\":{\"histogram2dcontour\":[{\"type\":\"histogram2dcontour\",\"colorbar\":{\"outlinewidth\":0,\"ticks\":\"\"},\"colorscale\":[[0.0,\"#0d0887\"],[0.1111111111111111,\"#46039f\"],[0.2222222222222222,\"#7201a8\"],[0.3333333333333333,\"#9c179e\"],[0.4444444444444444,\"#bd3786\"],[0.5555555555555556,\"#d8576b\"],[0.6666666666666666,\"#ed7953\"],[0.7777777777777778,\"#fb9f3a\"],[0.8888888888888888,\"#fdca26\"],[1.0,\"#f0f921\"]]}],\"choropleth\":[{\"type\":\"choropleth\",\"colorbar\":{\"outlinewidth\":0,\"ticks\":\"\"}}],\"histogram2d\":[{\"type\":\"histogram2d\",\"colorbar\":{\"outlinewidth\":0,\"ticks\":\"\"},\"colorscale\":[[0.0,\"#0d0887\"],[0.1111111111111111,\"#46039f\"],[0.2222222222222222,\"#7201a8\"],[0.3333333333333333,\"#9c179e\"],[0.4444444444444444,\"#bd3786\"],[0.5555555555555556,\"#d8576b\"],[0.6666666666666666,\"#ed7953\"],[0.7777777777777778,\"#fb9f3a\"],[0.8888888888888888,\"#fdca26\"],[1.0,\"#f0f921\"]]}],\"heatmap\":[{\"type\":\"heatmap\",\"colorbar\":{\"outlinewidth\":0,\"ticks\":\"\"},\"colorscale\":[[0.0,\"#0d0887\"],[0.1111111111111111,\"#46039f\"],[0.2222222222222222,\"#7201a8\"],[0.3333333333333333,\"#9c179e\"],[0.4444444444444444,\"#bd3786\"],[0.5555555555555556,\"#d8576b\"],[0.6666666666666666,\"#ed7953\"],[0.7777777777777778,\"#fb9f3a\"],[0.8888888888888888,\"#fdca26\"],[1.0,\"#f0f921\"]]}],\"heatmapgl\":[{\"type\":\"heatmapgl\",\"colorbar\":{\"outlinewidth\":0,\"ticks\":\"\"},\"colorscale\":[[0.0,\"#0d0887\"],[0.1111111111111111,\"#46039f\"],[0.2222222222222222,\"#7201a8\"],[0.3333333333333333,\"#9c179e\"],[0.4444444444444444,\"#bd3786\"],[0.5555555555555556,\"#d8576b\"],[0.6666666666666666,\"#ed7953\"],[0.7777777777777778,\"#fb9f3a\"],[0.8888888888888888,\"#fdca26\"],[1.0,\"#f0f921\"]]}],\"contourcarpet\":[{\"type\":\"contourcarpet\",\"colorbar\":{\"outlinewidth\":0,\"ticks\":\"\"}}],\"contour\":[{\"type\":\"contour\",\"colorbar\":{\"outlinewidth\":0,\"ticks\":\"\"},\"colorscale\":[[0.0,\"#0d0887\"],[0.1111111111111111,\"#46039f\"],[0.2222222222222222,\"#7201a8\"],[0.3333333333333333,\"#9c179e\"],[0.4444444444444444,\"#bd3786\"],[0.5555555555555556,\"#d8576b\"],[0.6666666666666666,\"#ed7953\"],[0.7777777777777778,\"#fb9f3a\"],[0.8888888888888888,\"#fdca26\"],[1.0,\"#f0f921\"]]}],\"surface\":[{\"type\":\"surface\",\"colorbar\":{\"outlinewidth\":0,\"ticks\":\"\"},\"colorscale\":[[0.0,\"#0d0887\"],[0.1111111111111111,\"#46039f\"],[0.2222222222222222,\"#7201a8\"],[0.3333333333333333,\"#9c179e\"],[0.4444444444444444,\"#bd3786\"],[0.5555555555555556,\"#d8576b\"],[0.6666666666666666,\"#ed7953\"],[0.7777777777777778,\"#fb9f3a\"],[0.8888888888888888,\"#fdca26\"],[1.0,\"#f0f921\"]]}],\"mesh3d\":[{\"type\":\"mesh3d\",\"colorbar\":{\"outlinewidth\":0,\"ticks\":\"\"}}],\"scatter\":[{\"fillpattern\":{\"fillmode\":\"overlay\",\"size\":10,\"solidity\":0.2},\"type\":\"scatter\"}],\"parcoords\":[{\"type\":\"parcoords\",\"line\":{\"colorbar\":{\"outlinewidth\":0,\"ticks\":\"\"}}}],\"scatterpolargl\":[{\"type\":\"scatterpolargl\",\"marker\":{\"colorbar\":{\"outlinewidth\":0,\"ticks\":\"\"}}}],\"bar\":[{\"error_x\":{\"color\":\"#2a3f5f\"},\"error_y\":{\"color\":\"#2a3f5f\"},\"marker\":{\"line\":{\"color\":\"#E5ECF6\",\"width\":0.5},\"pattern\":{\"fillmode\":\"overlay\",\"size\":10,\"solidity\":0.2}},\"type\":\"bar\"}],\"scattergeo\":[{\"type\":\"scattergeo\",\"marker\":{\"colorbar\":{\"outlinewidth\":0,\"ticks\":\"\"}}}],\"scatterpolar\":[{\"type\":\"scatterpolar\",\"marker\":{\"colorbar\":{\"outlinewidth\":0,\"ticks\":\"\"}}}],\"histogram\":[{\"marker\":{\"pattern\":{\"fillmode\":\"overlay\",\"size\":10,\"solidity\":0.2}},\"type\":\"histogram\"}],\"scattergl\":[{\"type\":\"scattergl\",\"marker\":{\"colorbar\":{\"outlinewidth\":0,\"ticks\":\"\"}}}],\"scatter3d\":[{\"type\":\"scatter3d\",\"line\":{\"colorbar\":{\"outlinewidth\":0,\"ticks\":\"\"}},\"marker\":{\"colorbar\":{\"outlinewidth\":0,\"ticks\":\"\"}}}],\"scattermapbox\":[{\"type\":\"scattermapbox\",\"marker\":{\"colorbar\":{\"outlinewidth\":0,\"ticks\":\"\"}}}],\"scatterternary\":[{\"type\":\"scatterternary\",\"marker\":{\"colorbar\":{\"outlinewidth\":0,\"ticks\":\"\"}}}],\"scattercarpet\":[{\"type\":\"scattercarpet\",\"marker\":{\"colorbar\":{\"outlinewidth\":0,\"ticks\":\"\"}}}],\"carpet\":[{\"aaxis\":{\"endlinecolor\":\"#2a3f5f\",\"gridcolor\":\"white\",\"linecolor\":\"white\",\"minorgridcolor\":\"white\",\"startlinecolor\":\"#2a3f5f\"},\"baxis\":{\"endlinecolor\":\"#2a3f5f\",\"gridcolor\":\"white\",\"linecolor\":\"white\",\"minorgridcolor\":\"white\",\"startlinecolor\":\"#2a3f5f\"},\"type\":\"carpet\"}],\"table\":[{\"cells\":{\"fill\":{\"color\":\"#EBF0F8\"},\"line\":{\"color\":\"white\"}},\"header\":{\"fill\":{\"color\":\"#C8D4E3\"},\"line\":{\"color\":\"white\"}},\"type\":\"table\"}],\"barpolar\":[{\"marker\":{\"line\":{\"color\":\"#E5ECF6\",\"width\":0.5},\"pattern\":{\"fillmode\":\"overlay\",\"size\":10,\"solidity\":0.2}},\"type\":\"barpolar\"}],\"pie\":[{\"automargin\":true,\"type\":\"pie\"}]},\"layout\":{\"autotypenumbers\":\"strict\",\"colorway\":[\"#636efa\",\"#EF553B\",\"#00cc96\",\"#ab63fa\",\"#FFA15A\",\"#19d3f3\",\"#FF6692\",\"#B6E880\",\"#FF97FF\",\"#FECB52\"],\"font\":{\"color\":\"#2a3f5f\"},\"hovermode\":\"closest\",\"hoverlabel\":{\"align\":\"left\"},\"paper_bgcolor\":\"white\",\"plot_bgcolor\":\"#E5ECF6\",\"polar\":{\"bgcolor\":\"#E5ECF6\",\"angularaxis\":{\"gridcolor\":\"white\",\"linecolor\":\"white\",\"ticks\":\"\"},\"radialaxis\":{\"gridcolor\":\"white\",\"linecolor\":\"white\",\"ticks\":\"\"}},\"ternary\":{\"bgcolor\":\"#E5ECF6\",\"aaxis\":{\"gridcolor\":\"white\",\"linecolor\":\"white\",\"ticks\":\"\"},\"baxis\":{\"gridcolor\":\"white\",\"linecolor\":\"white\",\"ticks\":\"\"},\"caxis\":{\"gridcolor\":\"white\",\"linecolor\":\"white\",\"ticks\":\"\"}},\"coloraxis\":{\"colorbar\":{\"outlinewidth\":0,\"ticks\":\"\"}},\"colorscale\":{\"sequential\":[[0.0,\"#0d0887\"],[0.1111111111111111,\"#46039f\"],[0.2222222222222222,\"#7201a8\"],[0.3333333333333333,\"#9c179e\"],[0.4444444444444444,\"#bd3786\"],[0.5555555555555556,\"#d8576b\"],[0.6666666666666666,\"#ed7953\"],[0.7777777777777778,\"#fb9f3a\"],[0.8888888888888888,\"#fdca26\"],[1.0,\"#f0f921\"]],\"sequentialminus\":[[0.0,\"#0d0887\"],[0.1111111111111111,\"#46039f\"],[0.2222222222222222,\"#7201a8\"],[0.3333333333333333,\"#9c179e\"],[0.4444444444444444,\"#bd3786\"],[0.5555555555555556,\"#d8576b\"],[0.6666666666666666,\"#ed7953\"],[0.7777777777777778,\"#fb9f3a\"],[0.8888888888888888,\"#fdca26\"],[1.0,\"#f0f921\"]],\"diverging\":[[0,\"#8e0152\"],[0.1,\"#c51b7d\"],[0.2,\"#de77ae\"],[0.3,\"#f1b6da\"],[0.4,\"#fde0ef\"],[0.5,\"#f7f7f7\"],[0.6,\"#e6f5d0\"],[0.7,\"#b8e186\"],[0.8,\"#7fbc41\"],[0.9,\"#4d9221\"],[1,\"#276419\"]]},\"xaxis\":{\"gridcolor\":\"white\",\"linecolor\":\"white\",\"ticks\":\"\",\"title\":{\"standoff\":15},\"zerolinecolor\":\"white\",\"automargin\":true,\"zerolinewidth\":2},\"yaxis\":{\"gridcolor\":\"white\",\"linecolor\":\"white\",\"ticks\":\"\",\"title\":{\"standoff\":15},\"zerolinecolor\":\"white\",\"automargin\":true,\"zerolinewidth\":2},\"scene\":{\"xaxis\":{\"backgroundcolor\":\"#E5ECF6\",\"gridcolor\":\"white\",\"linecolor\":\"white\",\"showbackground\":true,\"ticks\":\"\",\"zerolinecolor\":\"white\",\"gridwidth\":2},\"yaxis\":{\"backgroundcolor\":\"#E5ECF6\",\"gridcolor\":\"white\",\"linecolor\":\"white\",\"showbackground\":true,\"ticks\":\"\",\"zerolinecolor\":\"white\",\"gridwidth\":2},\"zaxis\":{\"backgroundcolor\":\"#E5ECF6\",\"gridcolor\":\"white\",\"linecolor\":\"white\",\"showbackground\":true,\"ticks\":\"\",\"zerolinecolor\":\"white\",\"gridwidth\":2}},\"shapedefaults\":{\"line\":{\"color\":\"#2a3f5f\"}},\"annotationdefaults\":{\"arrowcolor\":\"#2a3f5f\",\"arrowhead\":0,\"arrowwidth\":1},\"geo\":{\"bgcolor\":\"white\",\"landcolor\":\"#E5ECF6\",\"subunitcolor\":\"white\",\"showland\":true,\"showlakes\":true,\"lakecolor\":\"white\"},\"title\":{\"x\":0.05},\"mapbox\":{\"style\":\"light\"}}},\"xaxis\":{\"anchor\":\"y\",\"domain\":[0.0,1.0],\"title\":{\"text\":\"acousticness\"}},\"yaxis\":{\"anchor\":\"x\",\"domain\":[0.0,1.0],\"title\":{\"text\":\"energy\"}},\"coloraxis\":{\"colorbar\":{\"title\":{\"text\":\"count\"}},\"colorscale\":[[0.0,\"#0d0887\"],[0.1111111111111111,\"#46039f\"],[0.2222222222222222,\"#7201a8\"],[0.3333333333333333,\"#9c179e\"],[0.4444444444444444,\"#bd3786\"],[0.5555555555555556,\"#d8576b\"],[0.6666666666666666,\"#ed7953\"],[0.7777777777777778,\"#fb9f3a\"],[0.8888888888888888,\"#fdca26\"],[1.0,\"#f0f921\"]]},\"legend\":{\"tracegroupgap\":0},\"title\":{\"text\":\"Acousticness vs Energy Density\"}},                        {\"responsive\": true}                    ).then(function(){\n",
       "                            \n",
       "var gd = document.getElementById('9b0c5328-e37b-49c9-82c0-d2be591cec29');\n",
       "var x = new MutationObserver(function (mutations, observer) {{\n",
       "        var display = window.getComputedStyle(gd).display;\n",
       "        if (!display || display === 'none') {{\n",
       "            console.log([gd, 'removed!']);\n",
       "            Plotly.purge(gd);\n",
       "            observer.disconnect();\n",
       "        }}\n",
       "}});\n",
       "\n",
       "// Listen for the removal of the full notebook cells\n",
       "var notebookContainer = gd.closest('#notebook-container');\n",
       "if (notebookContainer) {{\n",
       "    x.observe(notebookContainer, {childList: true});\n",
       "}}\n",
       "\n",
       "// Listen for the clearing of the current output cell\n",
       "var outputEl = gd.closest('.output');\n",
       "if (outputEl) {{\n",
       "    x.observe(outputEl, {childList: true});\n",
       "}}\n",
       "\n",
       "                        })                };                });            </script>        </div>"
      ]
     },
     "metadata": {},
     "output_type": "display_data"
    }
   ],
   "source": [
    "fig = px.density_heatmap(df, x='acousticness', y='energy', title='Acousticness vs Energy Density')\n",
    "fig.show()"
   ]
  },
  {
   "cell_type": "code",
   "execution_count": 18,
   "metadata": {
    "colab": {
     "base_uri": "https://localhost:8080/",
     "height": 542
    },
    "id": "7zHZCBwG3uO5",
    "outputId": "99479765-f2c4-436c-eca9-e530093f87b4"
   },
   "outputs": [
    {
     "data": {
      "application/vnd.plotly.v1+json": {
       "config": {
        "plotlyServerURL": "https://plot.ly"
       },
       "data": [
        {
         "alignmentgroup": "True",
         "hovertemplate": "duration=%{y}<extra></extra>",
         "legendgroup": "",
         "marker": {
          "color": "#636efa"
         },
         "name": "",
         "notched": false,
         "offsetgroup": "",
         "orientation": "v",
         "showlegend": false,
         "type": "box",
         "x0": " ",
         "xaxis": "x",
         "y": [
          3.33,
          3.9,
          3.49,
          3.04,
          3.64,
          2.63,
          2.9,
          4.08,
          4.01,
          3.41,
          3.18,
          2.96,
          3.98,
          3.52,
          3.84,
          3.23,
          4.69,
          4,
          3.02,
          3.34,
          2.9,
          3.32,
          4.32,
          5.91,
          4.12,
          4.01,
          3.6,
          2.79,
          3.9,
          3.59,
          2.78,
          4.03,
          4.49,
          4.88,
          2.98,
          4.06,
          1.99,
          3.62,
          3.37,
          3.05,
          4.3,
          3.49,
          4.12,
          3.4,
          3.21,
          2.95,
          4.21,
          4.04,
          5.21,
          1.52,
          2.97,
          3.1,
          3.58,
          3.43,
          4.03,
          2.94,
          3.13,
          2.95,
          3.85,
          2.88,
          3.67,
          3.54,
          4.84,
          3.53,
          5.44,
          4.15,
          2.92,
          3.72,
          4.49,
          3.35,
          3.38,
          3.3,
          3.49,
          3.46,
          3.67,
          3.42,
          2.3,
          2.16,
          4.54,
          3.9,
          3.38,
          3.81,
          2.25,
          4.31,
          4.88,
          3.44,
          3.28,
          4.96,
          3.32,
          3.45,
          3.53,
          5.03,
          3.01,
          2.93,
          3.29,
          3.96,
          4.45,
          2.9,
          3.82,
          7.05
         ],
         "y0": " ",
         "yaxis": "y"
        }
       ],
       "layout": {
        "boxmode": "group",
        "legend": {
         "tracegroupgap": 0
        },
        "template": {
         "data": {
          "bar": [
           {
            "error_x": {
             "color": "#2a3f5f"
            },
            "error_y": {
             "color": "#2a3f5f"
            },
            "marker": {
             "line": {
              "color": "#E5ECF6",
              "width": 0.5
             },
             "pattern": {
              "fillmode": "overlay",
              "size": 10,
              "solidity": 0.2
             }
            },
            "type": "bar"
           }
          ],
          "barpolar": [
           {
            "marker": {
             "line": {
              "color": "#E5ECF6",
              "width": 0.5
             },
             "pattern": {
              "fillmode": "overlay",
              "size": 10,
              "solidity": 0.2
             }
            },
            "type": "barpolar"
           }
          ],
          "carpet": [
           {
            "aaxis": {
             "endlinecolor": "#2a3f5f",
             "gridcolor": "white",
             "linecolor": "white",
             "minorgridcolor": "white",
             "startlinecolor": "#2a3f5f"
            },
            "baxis": {
             "endlinecolor": "#2a3f5f",
             "gridcolor": "white",
             "linecolor": "white",
             "minorgridcolor": "white",
             "startlinecolor": "#2a3f5f"
            },
            "type": "carpet"
           }
          ],
          "choropleth": [
           {
            "colorbar": {
             "outlinewidth": 0,
             "ticks": ""
            },
            "type": "choropleth"
           }
          ],
          "contour": [
           {
            "colorbar": {
             "outlinewidth": 0,
             "ticks": ""
            },
            "colorscale": [
             [
              0,
              "#0d0887"
             ],
             [
              0.1111111111111111,
              "#46039f"
             ],
             [
              0.2222222222222222,
              "#7201a8"
             ],
             [
              0.3333333333333333,
              "#9c179e"
             ],
             [
              0.4444444444444444,
              "#bd3786"
             ],
             [
              0.5555555555555556,
              "#d8576b"
             ],
             [
              0.6666666666666666,
              "#ed7953"
             ],
             [
              0.7777777777777778,
              "#fb9f3a"
             ],
             [
              0.8888888888888888,
              "#fdca26"
             ],
             [
              1,
              "#f0f921"
             ]
            ],
            "type": "contour"
           }
          ],
          "contourcarpet": [
           {
            "colorbar": {
             "outlinewidth": 0,
             "ticks": ""
            },
            "type": "contourcarpet"
           }
          ],
          "heatmap": [
           {
            "colorbar": {
             "outlinewidth": 0,
             "ticks": ""
            },
            "colorscale": [
             [
              0,
              "#0d0887"
             ],
             [
              0.1111111111111111,
              "#46039f"
             ],
             [
              0.2222222222222222,
              "#7201a8"
             ],
             [
              0.3333333333333333,
              "#9c179e"
             ],
             [
              0.4444444444444444,
              "#bd3786"
             ],
             [
              0.5555555555555556,
              "#d8576b"
             ],
             [
              0.6666666666666666,
              "#ed7953"
             ],
             [
              0.7777777777777778,
              "#fb9f3a"
             ],
             [
              0.8888888888888888,
              "#fdca26"
             ],
             [
              1,
              "#f0f921"
             ]
            ],
            "type": "heatmap"
           }
          ],
          "heatmapgl": [
           {
            "colorbar": {
             "outlinewidth": 0,
             "ticks": ""
            },
            "colorscale": [
             [
              0,
              "#0d0887"
             ],
             [
              0.1111111111111111,
              "#46039f"
             ],
             [
              0.2222222222222222,
              "#7201a8"
             ],
             [
              0.3333333333333333,
              "#9c179e"
             ],
             [
              0.4444444444444444,
              "#bd3786"
             ],
             [
              0.5555555555555556,
              "#d8576b"
             ],
             [
              0.6666666666666666,
              "#ed7953"
             ],
             [
              0.7777777777777778,
              "#fb9f3a"
             ],
             [
              0.8888888888888888,
              "#fdca26"
             ],
             [
              1,
              "#f0f921"
             ]
            ],
            "type": "heatmapgl"
           }
          ],
          "histogram": [
           {
            "marker": {
             "pattern": {
              "fillmode": "overlay",
              "size": 10,
              "solidity": 0.2
             }
            },
            "type": "histogram"
           }
          ],
          "histogram2d": [
           {
            "colorbar": {
             "outlinewidth": 0,
             "ticks": ""
            },
            "colorscale": [
             [
              0,
              "#0d0887"
             ],
             [
              0.1111111111111111,
              "#46039f"
             ],
             [
              0.2222222222222222,
              "#7201a8"
             ],
             [
              0.3333333333333333,
              "#9c179e"
             ],
             [
              0.4444444444444444,
              "#bd3786"
             ],
             [
              0.5555555555555556,
              "#d8576b"
             ],
             [
              0.6666666666666666,
              "#ed7953"
             ],
             [
              0.7777777777777778,
              "#fb9f3a"
             ],
             [
              0.8888888888888888,
              "#fdca26"
             ],
             [
              1,
              "#f0f921"
             ]
            ],
            "type": "histogram2d"
           }
          ],
          "histogram2dcontour": [
           {
            "colorbar": {
             "outlinewidth": 0,
             "ticks": ""
            },
            "colorscale": [
             [
              0,
              "#0d0887"
             ],
             [
              0.1111111111111111,
              "#46039f"
             ],
             [
              0.2222222222222222,
              "#7201a8"
             ],
             [
              0.3333333333333333,
              "#9c179e"
             ],
             [
              0.4444444444444444,
              "#bd3786"
             ],
             [
              0.5555555555555556,
              "#d8576b"
             ],
             [
              0.6666666666666666,
              "#ed7953"
             ],
             [
              0.7777777777777778,
              "#fb9f3a"
             ],
             [
              0.8888888888888888,
              "#fdca26"
             ],
             [
              1,
              "#f0f921"
             ]
            ],
            "type": "histogram2dcontour"
           }
          ],
          "mesh3d": [
           {
            "colorbar": {
             "outlinewidth": 0,
             "ticks": ""
            },
            "type": "mesh3d"
           }
          ],
          "parcoords": [
           {
            "line": {
             "colorbar": {
              "outlinewidth": 0,
              "ticks": ""
             }
            },
            "type": "parcoords"
           }
          ],
          "pie": [
           {
            "automargin": true,
            "type": "pie"
           }
          ],
          "scatter": [
           {
            "fillpattern": {
             "fillmode": "overlay",
             "size": 10,
             "solidity": 0.2
            },
            "type": "scatter"
           }
          ],
          "scatter3d": [
           {
            "line": {
             "colorbar": {
              "outlinewidth": 0,
              "ticks": ""
             }
            },
            "marker": {
             "colorbar": {
              "outlinewidth": 0,
              "ticks": ""
             }
            },
            "type": "scatter3d"
           }
          ],
          "scattercarpet": [
           {
            "marker": {
             "colorbar": {
              "outlinewidth": 0,
              "ticks": ""
             }
            },
            "type": "scattercarpet"
           }
          ],
          "scattergeo": [
           {
            "marker": {
             "colorbar": {
              "outlinewidth": 0,
              "ticks": ""
             }
            },
            "type": "scattergeo"
           }
          ],
          "scattergl": [
           {
            "marker": {
             "colorbar": {
              "outlinewidth": 0,
              "ticks": ""
             }
            },
            "type": "scattergl"
           }
          ],
          "scattermapbox": [
           {
            "marker": {
             "colorbar": {
              "outlinewidth": 0,
              "ticks": ""
             }
            },
            "type": "scattermapbox"
           }
          ],
          "scatterpolar": [
           {
            "marker": {
             "colorbar": {
              "outlinewidth": 0,
              "ticks": ""
             }
            },
            "type": "scatterpolar"
           }
          ],
          "scatterpolargl": [
           {
            "marker": {
             "colorbar": {
              "outlinewidth": 0,
              "ticks": ""
             }
            },
            "type": "scatterpolargl"
           }
          ],
          "scatterternary": [
           {
            "marker": {
             "colorbar": {
              "outlinewidth": 0,
              "ticks": ""
             }
            },
            "type": "scatterternary"
           }
          ],
          "surface": [
           {
            "colorbar": {
             "outlinewidth": 0,
             "ticks": ""
            },
            "colorscale": [
             [
              0,
              "#0d0887"
             ],
             [
              0.1111111111111111,
              "#46039f"
             ],
             [
              0.2222222222222222,
              "#7201a8"
             ],
             [
              0.3333333333333333,
              "#9c179e"
             ],
             [
              0.4444444444444444,
              "#bd3786"
             ],
             [
              0.5555555555555556,
              "#d8576b"
             ],
             [
              0.6666666666666666,
              "#ed7953"
             ],
             [
              0.7777777777777778,
              "#fb9f3a"
             ],
             [
              0.8888888888888888,
              "#fdca26"
             ],
             [
              1,
              "#f0f921"
             ]
            ],
            "type": "surface"
           }
          ],
          "table": [
           {
            "cells": {
             "fill": {
              "color": "#EBF0F8"
             },
             "line": {
              "color": "white"
             }
            },
            "header": {
             "fill": {
              "color": "#C8D4E3"
             },
             "line": {
              "color": "white"
             }
            },
            "type": "table"
           }
          ]
         },
         "layout": {
          "annotationdefaults": {
           "arrowcolor": "#2a3f5f",
           "arrowhead": 0,
           "arrowwidth": 1
          },
          "autotypenumbers": "strict",
          "coloraxis": {
           "colorbar": {
            "outlinewidth": 0,
            "ticks": ""
           }
          },
          "colorscale": {
           "diverging": [
            [
             0,
             "#8e0152"
            ],
            [
             0.1,
             "#c51b7d"
            ],
            [
             0.2,
             "#de77ae"
            ],
            [
             0.3,
             "#f1b6da"
            ],
            [
             0.4,
             "#fde0ef"
            ],
            [
             0.5,
             "#f7f7f7"
            ],
            [
             0.6,
             "#e6f5d0"
            ],
            [
             0.7,
             "#b8e186"
            ],
            [
             0.8,
             "#7fbc41"
            ],
            [
             0.9,
             "#4d9221"
            ],
            [
             1,
             "#276419"
            ]
           ],
           "sequential": [
            [
             0,
             "#0d0887"
            ],
            [
             0.1111111111111111,
             "#46039f"
            ],
            [
             0.2222222222222222,
             "#7201a8"
            ],
            [
             0.3333333333333333,
             "#9c179e"
            ],
            [
             0.4444444444444444,
             "#bd3786"
            ],
            [
             0.5555555555555556,
             "#d8576b"
            ],
            [
             0.6666666666666666,
             "#ed7953"
            ],
            [
             0.7777777777777778,
             "#fb9f3a"
            ],
            [
             0.8888888888888888,
             "#fdca26"
            ],
            [
             1,
             "#f0f921"
            ]
           ],
           "sequentialminus": [
            [
             0,
             "#0d0887"
            ],
            [
             0.1111111111111111,
             "#46039f"
            ],
            [
             0.2222222222222222,
             "#7201a8"
            ],
            [
             0.3333333333333333,
             "#9c179e"
            ],
            [
             0.4444444444444444,
             "#bd3786"
            ],
            [
             0.5555555555555556,
             "#d8576b"
            ],
            [
             0.6666666666666666,
             "#ed7953"
            ],
            [
             0.7777777777777778,
             "#fb9f3a"
            ],
            [
             0.8888888888888888,
             "#fdca26"
            ],
            [
             1,
             "#f0f921"
            ]
           ]
          },
          "colorway": [
           "#636efa",
           "#EF553B",
           "#00cc96",
           "#ab63fa",
           "#FFA15A",
           "#19d3f3",
           "#FF6692",
           "#B6E880",
           "#FF97FF",
           "#FECB52"
          ],
          "font": {
           "color": "#2a3f5f"
          },
          "geo": {
           "bgcolor": "white",
           "lakecolor": "white",
           "landcolor": "#E5ECF6",
           "showlakes": true,
           "showland": true,
           "subunitcolor": "white"
          },
          "hoverlabel": {
           "align": "left"
          },
          "hovermode": "closest",
          "mapbox": {
           "style": "light"
          },
          "paper_bgcolor": "white",
          "plot_bgcolor": "#E5ECF6",
          "polar": {
           "angularaxis": {
            "gridcolor": "white",
            "linecolor": "white",
            "ticks": ""
           },
           "bgcolor": "#E5ECF6",
           "radialaxis": {
            "gridcolor": "white",
            "linecolor": "white",
            "ticks": ""
           }
          },
          "scene": {
           "xaxis": {
            "backgroundcolor": "#E5ECF6",
            "gridcolor": "white",
            "gridwidth": 2,
            "linecolor": "white",
            "showbackground": true,
            "ticks": "",
            "zerolinecolor": "white"
           },
           "yaxis": {
            "backgroundcolor": "#E5ECF6",
            "gridcolor": "white",
            "gridwidth": 2,
            "linecolor": "white",
            "showbackground": true,
            "ticks": "",
            "zerolinecolor": "white"
           },
           "zaxis": {
            "backgroundcolor": "#E5ECF6",
            "gridcolor": "white",
            "gridwidth": 2,
            "linecolor": "white",
            "showbackground": true,
            "ticks": "",
            "zerolinecolor": "white"
           }
          },
          "shapedefaults": {
           "line": {
            "color": "#2a3f5f"
           }
          },
          "ternary": {
           "aaxis": {
            "gridcolor": "white",
            "linecolor": "white",
            "ticks": ""
           },
           "baxis": {
            "gridcolor": "white",
            "linecolor": "white",
            "ticks": ""
           },
           "bgcolor": "#E5ECF6",
           "caxis": {
            "gridcolor": "white",
            "linecolor": "white",
            "ticks": ""
           }
          },
          "title": {
           "x": 0.05
          },
          "xaxis": {
           "automargin": true,
           "gridcolor": "white",
           "linecolor": "white",
           "ticks": "",
           "title": {
            "standoff": 15
           },
           "zerolinecolor": "white",
           "zerolinewidth": 2
          },
          "yaxis": {
           "automargin": true,
           "gridcolor": "white",
           "linecolor": "white",
           "ticks": "",
           "title": {
            "standoff": 15
           },
           "zerolinecolor": "white",
           "zerolinewidth": 2
          }
         }
        },
        "title": {
         "text": "Box plot of Song Durations"
        },
        "xaxis": {
         "anchor": "y",
         "domain": [
          0,
          1
         ]
        },
        "yaxis": {
         "anchor": "x",
         "domain": [
          0,
          1
         ],
         "title": {
          "text": "duration"
         }
        }
       }
      },
      "text/html": [
       "<div>                            <div id=\"8f35318f-0255-49cc-9f1f-a4594e20c54d\" class=\"plotly-graph-div\" style=\"height:525px; width:100%;\"></div>            <script type=\"text/javascript\">                require([\"plotly\"], function(Plotly) {                    window.PLOTLYENV=window.PLOTLYENV || {};                                    if (document.getElementById(\"8f35318f-0255-49cc-9f1f-a4594e20c54d\")) {                    Plotly.newPlot(                        \"8f35318f-0255-49cc-9f1f-a4594e20c54d\",                        [{\"alignmentgroup\":\"True\",\"hovertemplate\":\"duration=%{y}<extra></extra>\",\"legendgroup\":\"\",\"marker\":{\"color\":\"#636efa\"},\"name\":\"\",\"notched\":false,\"offsetgroup\":\"\",\"orientation\":\"v\",\"showlegend\":false,\"x0\":\" \",\"xaxis\":\"x\",\"y\":[3.33,3.9,3.49,3.04,3.64,2.63,2.9,4.08,4.01,3.41,3.18,2.96,3.98,3.52,3.84,3.23,4.69,4.0,3.02,3.34,2.9,3.32,4.32,5.91,4.12,4.01,3.6,2.79,3.9,3.59,2.78,4.03,4.49,4.88,2.98,4.06,1.99,3.62,3.37,3.05,4.3,3.49,4.12,3.4,3.21,2.95,4.21,4.04,5.21,1.52,2.97,3.1,3.58,3.43,4.03,2.94,3.13,2.95,3.85,2.88,3.67,3.54,4.84,3.53,5.44,4.15,2.92,3.72,4.49,3.35,3.38,3.3,3.49,3.46,3.67,3.42,2.3,2.16,4.54,3.9,3.38,3.81,2.25,4.31,4.88,3.44,3.28,4.96,3.32,3.45,3.53,5.03,3.01,2.93,3.29,3.96,4.45,2.9,3.82,7.05],\"y0\":\" \",\"yaxis\":\"y\",\"type\":\"box\"}],                        {\"template\":{\"data\":{\"histogram2dcontour\":[{\"type\":\"histogram2dcontour\",\"colorbar\":{\"outlinewidth\":0,\"ticks\":\"\"},\"colorscale\":[[0.0,\"#0d0887\"],[0.1111111111111111,\"#46039f\"],[0.2222222222222222,\"#7201a8\"],[0.3333333333333333,\"#9c179e\"],[0.4444444444444444,\"#bd3786\"],[0.5555555555555556,\"#d8576b\"],[0.6666666666666666,\"#ed7953\"],[0.7777777777777778,\"#fb9f3a\"],[0.8888888888888888,\"#fdca26\"],[1.0,\"#f0f921\"]]}],\"choropleth\":[{\"type\":\"choropleth\",\"colorbar\":{\"outlinewidth\":0,\"ticks\":\"\"}}],\"histogram2d\":[{\"type\":\"histogram2d\",\"colorbar\":{\"outlinewidth\":0,\"ticks\":\"\"},\"colorscale\":[[0.0,\"#0d0887\"],[0.1111111111111111,\"#46039f\"],[0.2222222222222222,\"#7201a8\"],[0.3333333333333333,\"#9c179e\"],[0.4444444444444444,\"#bd3786\"],[0.5555555555555556,\"#d8576b\"],[0.6666666666666666,\"#ed7953\"],[0.7777777777777778,\"#fb9f3a\"],[0.8888888888888888,\"#fdca26\"],[1.0,\"#f0f921\"]]}],\"heatmap\":[{\"type\":\"heatmap\",\"colorbar\":{\"outlinewidth\":0,\"ticks\":\"\"},\"colorscale\":[[0.0,\"#0d0887\"],[0.1111111111111111,\"#46039f\"],[0.2222222222222222,\"#7201a8\"],[0.3333333333333333,\"#9c179e\"],[0.4444444444444444,\"#bd3786\"],[0.5555555555555556,\"#d8576b\"],[0.6666666666666666,\"#ed7953\"],[0.7777777777777778,\"#fb9f3a\"],[0.8888888888888888,\"#fdca26\"],[1.0,\"#f0f921\"]]}],\"heatmapgl\":[{\"type\":\"heatmapgl\",\"colorbar\":{\"outlinewidth\":0,\"ticks\":\"\"},\"colorscale\":[[0.0,\"#0d0887\"],[0.1111111111111111,\"#46039f\"],[0.2222222222222222,\"#7201a8\"],[0.3333333333333333,\"#9c179e\"],[0.4444444444444444,\"#bd3786\"],[0.5555555555555556,\"#d8576b\"],[0.6666666666666666,\"#ed7953\"],[0.7777777777777778,\"#fb9f3a\"],[0.8888888888888888,\"#fdca26\"],[1.0,\"#f0f921\"]]}],\"contourcarpet\":[{\"type\":\"contourcarpet\",\"colorbar\":{\"outlinewidth\":0,\"ticks\":\"\"}}],\"contour\":[{\"type\":\"contour\",\"colorbar\":{\"outlinewidth\":0,\"ticks\":\"\"},\"colorscale\":[[0.0,\"#0d0887\"],[0.1111111111111111,\"#46039f\"],[0.2222222222222222,\"#7201a8\"],[0.3333333333333333,\"#9c179e\"],[0.4444444444444444,\"#bd3786\"],[0.5555555555555556,\"#d8576b\"],[0.6666666666666666,\"#ed7953\"],[0.7777777777777778,\"#fb9f3a\"],[0.8888888888888888,\"#fdca26\"],[1.0,\"#f0f921\"]]}],\"surface\":[{\"type\":\"surface\",\"colorbar\":{\"outlinewidth\":0,\"ticks\":\"\"},\"colorscale\":[[0.0,\"#0d0887\"],[0.1111111111111111,\"#46039f\"],[0.2222222222222222,\"#7201a8\"],[0.3333333333333333,\"#9c179e\"],[0.4444444444444444,\"#bd3786\"],[0.5555555555555556,\"#d8576b\"],[0.6666666666666666,\"#ed7953\"],[0.7777777777777778,\"#fb9f3a\"],[0.8888888888888888,\"#fdca26\"],[1.0,\"#f0f921\"]]}],\"mesh3d\":[{\"type\":\"mesh3d\",\"colorbar\":{\"outlinewidth\":0,\"ticks\":\"\"}}],\"scatter\":[{\"fillpattern\":{\"fillmode\":\"overlay\",\"size\":10,\"solidity\":0.2},\"type\":\"scatter\"}],\"parcoords\":[{\"type\":\"parcoords\",\"line\":{\"colorbar\":{\"outlinewidth\":0,\"ticks\":\"\"}}}],\"scatterpolargl\":[{\"type\":\"scatterpolargl\",\"marker\":{\"colorbar\":{\"outlinewidth\":0,\"ticks\":\"\"}}}],\"bar\":[{\"error_x\":{\"color\":\"#2a3f5f\"},\"error_y\":{\"color\":\"#2a3f5f\"},\"marker\":{\"line\":{\"color\":\"#E5ECF6\",\"width\":0.5},\"pattern\":{\"fillmode\":\"overlay\",\"size\":10,\"solidity\":0.2}},\"type\":\"bar\"}],\"scattergeo\":[{\"type\":\"scattergeo\",\"marker\":{\"colorbar\":{\"outlinewidth\":0,\"ticks\":\"\"}}}],\"scatterpolar\":[{\"type\":\"scatterpolar\",\"marker\":{\"colorbar\":{\"outlinewidth\":0,\"ticks\":\"\"}}}],\"histogram\":[{\"marker\":{\"pattern\":{\"fillmode\":\"overlay\",\"size\":10,\"solidity\":0.2}},\"type\":\"histogram\"}],\"scattergl\":[{\"type\":\"scattergl\",\"marker\":{\"colorbar\":{\"outlinewidth\":0,\"ticks\":\"\"}}}],\"scatter3d\":[{\"type\":\"scatter3d\",\"line\":{\"colorbar\":{\"outlinewidth\":0,\"ticks\":\"\"}},\"marker\":{\"colorbar\":{\"outlinewidth\":0,\"ticks\":\"\"}}}],\"scattermapbox\":[{\"type\":\"scattermapbox\",\"marker\":{\"colorbar\":{\"outlinewidth\":0,\"ticks\":\"\"}}}],\"scatterternary\":[{\"type\":\"scatterternary\",\"marker\":{\"colorbar\":{\"outlinewidth\":0,\"ticks\":\"\"}}}],\"scattercarpet\":[{\"type\":\"scattercarpet\",\"marker\":{\"colorbar\":{\"outlinewidth\":0,\"ticks\":\"\"}}}],\"carpet\":[{\"aaxis\":{\"endlinecolor\":\"#2a3f5f\",\"gridcolor\":\"white\",\"linecolor\":\"white\",\"minorgridcolor\":\"white\",\"startlinecolor\":\"#2a3f5f\"},\"baxis\":{\"endlinecolor\":\"#2a3f5f\",\"gridcolor\":\"white\",\"linecolor\":\"white\",\"minorgridcolor\":\"white\",\"startlinecolor\":\"#2a3f5f\"},\"type\":\"carpet\"}],\"table\":[{\"cells\":{\"fill\":{\"color\":\"#EBF0F8\"},\"line\":{\"color\":\"white\"}},\"header\":{\"fill\":{\"color\":\"#C8D4E3\"},\"line\":{\"color\":\"white\"}},\"type\":\"table\"}],\"barpolar\":[{\"marker\":{\"line\":{\"color\":\"#E5ECF6\",\"width\":0.5},\"pattern\":{\"fillmode\":\"overlay\",\"size\":10,\"solidity\":0.2}},\"type\":\"barpolar\"}],\"pie\":[{\"automargin\":true,\"type\":\"pie\"}]},\"layout\":{\"autotypenumbers\":\"strict\",\"colorway\":[\"#636efa\",\"#EF553B\",\"#00cc96\",\"#ab63fa\",\"#FFA15A\",\"#19d3f3\",\"#FF6692\",\"#B6E880\",\"#FF97FF\",\"#FECB52\"],\"font\":{\"color\":\"#2a3f5f\"},\"hovermode\":\"closest\",\"hoverlabel\":{\"align\":\"left\"},\"paper_bgcolor\":\"white\",\"plot_bgcolor\":\"#E5ECF6\",\"polar\":{\"bgcolor\":\"#E5ECF6\",\"angularaxis\":{\"gridcolor\":\"white\",\"linecolor\":\"white\",\"ticks\":\"\"},\"radialaxis\":{\"gridcolor\":\"white\",\"linecolor\":\"white\",\"ticks\":\"\"}},\"ternary\":{\"bgcolor\":\"#E5ECF6\",\"aaxis\":{\"gridcolor\":\"white\",\"linecolor\":\"white\",\"ticks\":\"\"},\"baxis\":{\"gridcolor\":\"white\",\"linecolor\":\"white\",\"ticks\":\"\"},\"caxis\":{\"gridcolor\":\"white\",\"linecolor\":\"white\",\"ticks\":\"\"}},\"coloraxis\":{\"colorbar\":{\"outlinewidth\":0,\"ticks\":\"\"}},\"colorscale\":{\"sequential\":[[0.0,\"#0d0887\"],[0.1111111111111111,\"#46039f\"],[0.2222222222222222,\"#7201a8\"],[0.3333333333333333,\"#9c179e\"],[0.4444444444444444,\"#bd3786\"],[0.5555555555555556,\"#d8576b\"],[0.6666666666666666,\"#ed7953\"],[0.7777777777777778,\"#fb9f3a\"],[0.8888888888888888,\"#fdca26\"],[1.0,\"#f0f921\"]],\"sequentialminus\":[[0.0,\"#0d0887\"],[0.1111111111111111,\"#46039f\"],[0.2222222222222222,\"#7201a8\"],[0.3333333333333333,\"#9c179e\"],[0.4444444444444444,\"#bd3786\"],[0.5555555555555556,\"#d8576b\"],[0.6666666666666666,\"#ed7953\"],[0.7777777777777778,\"#fb9f3a\"],[0.8888888888888888,\"#fdca26\"],[1.0,\"#f0f921\"]],\"diverging\":[[0,\"#8e0152\"],[0.1,\"#c51b7d\"],[0.2,\"#de77ae\"],[0.3,\"#f1b6da\"],[0.4,\"#fde0ef\"],[0.5,\"#f7f7f7\"],[0.6,\"#e6f5d0\"],[0.7,\"#b8e186\"],[0.8,\"#7fbc41\"],[0.9,\"#4d9221\"],[1,\"#276419\"]]},\"xaxis\":{\"gridcolor\":\"white\",\"linecolor\":\"white\",\"ticks\":\"\",\"title\":{\"standoff\":15},\"zerolinecolor\":\"white\",\"automargin\":true,\"zerolinewidth\":2},\"yaxis\":{\"gridcolor\":\"white\",\"linecolor\":\"white\",\"ticks\":\"\",\"title\":{\"standoff\":15},\"zerolinecolor\":\"white\",\"automargin\":true,\"zerolinewidth\":2},\"scene\":{\"xaxis\":{\"backgroundcolor\":\"#E5ECF6\",\"gridcolor\":\"white\",\"linecolor\":\"white\",\"showbackground\":true,\"ticks\":\"\",\"zerolinecolor\":\"white\",\"gridwidth\":2},\"yaxis\":{\"backgroundcolor\":\"#E5ECF6\",\"gridcolor\":\"white\",\"linecolor\":\"white\",\"showbackground\":true,\"ticks\":\"\",\"zerolinecolor\":\"white\",\"gridwidth\":2},\"zaxis\":{\"backgroundcolor\":\"#E5ECF6\",\"gridcolor\":\"white\",\"linecolor\":\"white\",\"showbackground\":true,\"ticks\":\"\",\"zerolinecolor\":\"white\",\"gridwidth\":2}},\"shapedefaults\":{\"line\":{\"color\":\"#2a3f5f\"}},\"annotationdefaults\":{\"arrowcolor\":\"#2a3f5f\",\"arrowhead\":0,\"arrowwidth\":1},\"geo\":{\"bgcolor\":\"white\",\"landcolor\":\"#E5ECF6\",\"subunitcolor\":\"white\",\"showland\":true,\"showlakes\":true,\"lakecolor\":\"white\"},\"title\":{\"x\":0.05},\"mapbox\":{\"style\":\"light\"}}},\"xaxis\":{\"anchor\":\"y\",\"domain\":[0.0,1.0]},\"yaxis\":{\"anchor\":\"x\",\"domain\":[0.0,1.0],\"title\":{\"text\":\"duration\"}},\"legend\":{\"tracegroupgap\":0},\"title\":{\"text\":\"Box plot of Song Durations\"},\"boxmode\":\"group\"},                        {\"responsive\": true}                    ).then(function(){\n",
       "                            \n",
       "var gd = document.getElementById('8f35318f-0255-49cc-9f1f-a4594e20c54d');\n",
       "var x = new MutationObserver(function (mutations, observer) {{\n",
       "        var display = window.getComputedStyle(gd).display;\n",
       "        if (!display || display === 'none') {{\n",
       "            console.log([gd, 'removed!']);\n",
       "            Plotly.purge(gd);\n",
       "            observer.disconnect();\n",
       "        }}\n",
       "}});\n",
       "\n",
       "// Listen for the removal of the full notebook cells\n",
       "var notebookContainer = gd.closest('#notebook-container');\n",
       "if (notebookContainer) {{\n",
       "    x.observe(notebookContainer, {childList: true});\n",
       "}}\n",
       "\n",
       "// Listen for the clearing of the current output cell\n",
       "var outputEl = gd.closest('.output');\n",
       "if (outputEl) {{\n",
       "    x.observe(outputEl, {childList: true});\n",
       "}}\n",
       "\n",
       "                        })                };                });            </script>        </div>"
      ]
     },
     "metadata": {},
     "output_type": "display_data"
    }
   ],
   "source": [
    "fig = px.box(features_df, y=\"duration\", title=\"Box plot of Song Durations\")\n",
    "fig.show()"
   ]
  },
  {
   "cell_type": "markdown",
   "metadata": {
    "id": "6V8e7OEs31CD"
   },
   "source": [
    "# **Building Prediction Models**\n",
    "# Linear Regression Analysis\n"
   ]
  },
  {
   "cell_type": "markdown",
   "metadata": {
    "id": "sFiLZUmP4G8L"
   },
   "source": [
    "Data preprocessing\n"
   ]
  },
  {
   "cell_type": "code",
   "execution_count": 25,
   "metadata": {
    "id": "S3ErPO4o4LbQ"
   },
   "outputs": [],
   "source": [
    "from sklearn.model_selection import train_test_split\n",
    "from sklearn.linear_model import LinearRegression\n",
    "from sklearn.metrics import mean_squared_error\n",
    "\n",
    "# Define the input and target variables\n",
    "X = df.drop([\"id\",\"mode\",\"name\", \"Artist\", \"Streams (Billions)\", \"Release Date\"], axis=1)\n",
    "y = df[\"Streams (Billions)\"]\n"
   ]
  },
  {
   "cell_type": "code",
   "execution_count": 26,
   "metadata": {
    "id": "L8Bwn5o54Ob3"
   },
   "outputs": [],
   "source": [
    "# Split the data into training and test sets\n",
    "X_train, X_test, y_train, y_test = train_test_split(X, y, test_size=0.2, random_state=42)"
   ]
  },
  {
   "cell_type": "code",
   "execution_count": 27,
   "metadata": {
    "colab": {
     "base_uri": "https://localhost:8080/"
    },
    "id": "GUqE1Jgm4R_C",
    "outputId": "a95cf10f-8673-40c7-da91-6c6a6ad3770b"
   },
   "outputs": [
    {
     "name": "stdout",
     "output_type": "stream",
     "text": [
      "Mean Squared Error: 0.4081881758515456\n"
     ]
    }
   ],
   "source": [
    "# Train a linear regression model\n",
    "model = LinearRegression()\n",
    "model.fit(X_train, y_train)\n",
    "\n",
    "# Make predictions on the test set\n",
    "y_pred = model.predict(X_test)\n",
    "\n",
    "# Calculate the mean squared error\n",
    "mse = mean_squared_error(y_test, y_pred)\n",
    "print(\"Mean Squared Error:\", mse)"
   ]
  }
 ],
 "metadata": {
  "colab": {
   "provenance": []
  },
  "kernelspec": {
   "display_name": "Python 3 (ipykernel)",
   "language": "python",
   "name": "python3"
  },
  "language_info": {
   "codemirror_mode": {
    "name": "ipython",
    "version": 3
   },
   "file_extension": ".py",
   "mimetype": "text/x-python",
   "name": "python",
   "nbconvert_exporter": "python",
   "pygments_lexer": "ipython3",
   "version": "3.9.13"
  }
 },
 "nbformat": 4,
 "nbformat_minor": 1
}
